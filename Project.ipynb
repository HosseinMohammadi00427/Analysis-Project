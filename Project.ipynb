{
 "cells": [
  {
   "cell_type": "code",
   "execution_count": 46,
   "id": "f27dcbf6",
   "metadata": {},
   "outputs": [],
   "source": [
    "# Importing necessary files.\n",
    "import numpy as np\n",
    "import pandas as pd\n",
    "import seaborn as sns\n",
    "import glob, os\n",
    "\n",
    "# Added dask to accelerate data handling.\n",
    "import dask.dataframe as dd\n",
    "from dask.diagnostics import ProgressBar\n",
    "import warnings\n",
    "warnings.simplefilter(action='ignore')"
   ]
  },
  {
   "cell_type": "code",
   "execution_count": 6,
   "id": "8f885e42",
   "metadata": {},
   "outputs": [],
   "source": [
    "# Collect all dates in a tuple.\n",
    "dates_tuple = tuple([f'202402'+str(i) if i>=10 else '2024020'+str(i)  for i in range(1,30)] + \n",
    "                    [f'202403'+str(i) if i>=10 else '2024030'+str(i)  for i in range(1,32)])\n",
    "# Define subfolders shorthand.\n",
    "subfolders_dic = {'match':'raw_match_parquet',\n",
    "                  'odds':'raw_odds_parquet',\n",
    "                  'pbp':'raw_point_by_point_parquet',\n",
    "                  'stats':'raw_statistics_parquet',\n",
    "                  'power':'raw_tennis_power_parquet',\n",
    "                  'votes':'raw_votes_parquet'\n",
    "                  }\n",
    "# Define function to render addresses.\n",
    "def render_addresses(subfolder:str, date_arr = None, kind:str = \"\"):\n",
    "    \"\"\"\n",
    "    Function to render addresses.\n",
    "    It takes a subfolder, array of dates and kind of file as inputs.\n",
    "    \"\"\"\n",
    "    result = []\n",
    "    date_arr = dates_tuple if not date_arr else date_arr\n",
    "    if kind:\n",
    "        result = [file for dt in date_arr\n",
    "        for file in glob.glob(f\"Tennis Schema\\\\{dt}\\\\data\\\\raw\\\\{subfolders_dic[subfolder]}\\\\{kind}_[!s]*.parquet\")]\n",
    "    else:\n",
    "        result = [file for dt in date_arr\n",
    "        for file in glob.glob(f\"Tennis Schema\\\\{dt}\\\\data\\\\raw\\\\{subfolders_dic[subfolder]}\\\\*.parquet\")]\n",
    "    return result"
   ]
  },
  {
   "cell_type": "markdown",
   "id": "921ec1dc",
   "metadata": {},
   "source": [
    "### 1."
   ]
  },
  {
   "cell_type": "code",
   "execution_count": null,
   "id": "9c52d63c",
   "metadata": {},
   "outputs": [],
   "source": [
    "# How many players are there in the dataset?\n",
    "players_id_df = dd.read_parquet(render_addresses('match', kind='*_team'),columns=['player_id'])"
   ]
  },
  {
   "cell_type": "code",
   "execution_count": 207,
   "id": "bf8e4c58",
   "metadata": {},
   "outputs": [
    {
     "data": {
      "application/vnd.microsoft.datawrangler.viewer.v0+json": {
       "columns": [
        {
         "name": "index",
         "rawType": "int64",
         "type": "integer"
        },
        {
         "name": "player_id",
         "rawType": "int64",
         "type": "integer"
        }
       ],
       "ref": "a4fac212-925a-4b02-bcad-7cf225a37730",
       "rows": [
        [
         "0",
         "192013"
        ],
        [
         "0",
         "273680"
        ],
        [
         "0",
         "77223"
        ],
        [
         "0",
         "88992"
        ],
        [
         "0",
         "248846"
        ],
        [
         "0",
         "163480"
        ],
        [
         "0",
         "67154"
        ],
        [
         "0",
         "163480"
        ],
        [
         "0",
         "264358"
        ],
        [
         "0",
         "66874"
        ],
        [
         "0",
         "80665"
        ],
        [
         "0",
         "58369"
        ],
        [
         "0",
         "233126"
        ],
        [
         "0",
         "299481"
        ],
        [
         "0",
         "387400"
        ],
        [
         "0",
         "79467"
        ],
        [
         "0",
         "233126"
        ],
        [
         "0",
         "52276"
        ],
        [
         "0",
         "251784"
        ],
        [
         "0",
         "77007"
        ],
        [
         "0",
         "71950"
        ],
        [
         "0",
         "36595"
        ],
        [
         "0",
         "255993"
        ],
        [
         "0",
         "210490"
        ],
        [
         "0",
         "386194"
        ],
        [
         "0",
         "235576"
        ],
        [
         "0",
         "62404"
        ],
        [
         "0",
         "300293"
        ],
        [
         "0",
         "47767"
        ],
        [
         "0",
         "255449"
        ],
        [
         "0",
         "55067"
        ],
        [
         "0",
         "51345"
        ],
        [
         "0",
         "209103"
        ],
        [
         "0",
         "51345"
        ],
        [
         "0",
         "196122"
        ],
        [
         "0",
         "377489"
        ],
        [
         "0",
         "69500"
        ],
        [
         "0",
         "163528"
        ],
        [
         "0",
         "315774"
        ],
        [
         "0",
         "298057"
        ],
        [
         "0",
         "144102"
        ],
        [
         "0",
         "76515"
        ],
        [
         "0",
         "45584"
        ],
        [
         "0",
         "318574"
        ],
        [
         "0",
         "19520"
        ],
        [
         "0",
         "52025"
        ],
        [
         "0",
         "45545"
        ],
        [
         "0",
         "67759"
        ],
        [
         "0",
         "264980"
        ],
        [
         "0",
         "50641"
        ]
       ],
       "shape": {
        "columns": 1,
        "rows": 49813
       }
      },
      "text/html": [
       "<div>\n",
       "<style scoped>\n",
       "    .dataframe tbody tr th:only-of-type {\n",
       "        vertical-align: middle;\n",
       "    }\n",
       "\n",
       "    .dataframe tbody tr th {\n",
       "        vertical-align: top;\n",
       "    }\n",
       "\n",
       "    .dataframe thead th {\n",
       "        text-align: right;\n",
       "    }\n",
       "</style>\n",
       "<table border=\"1\" class=\"dataframe\">\n",
       "  <thead>\n",
       "    <tr style=\"text-align: right;\">\n",
       "      <th></th>\n",
       "      <th>player_id</th>\n",
       "    </tr>\n",
       "  </thead>\n",
       "  <tbody>\n",
       "    <tr>\n",
       "      <th>0</th>\n",
       "      <td>192013</td>\n",
       "    </tr>\n",
       "    <tr>\n",
       "      <th>0</th>\n",
       "      <td>273680</td>\n",
       "    </tr>\n",
       "    <tr>\n",
       "      <th>0</th>\n",
       "      <td>77223</td>\n",
       "    </tr>\n",
       "    <tr>\n",
       "      <th>0</th>\n",
       "      <td>88992</td>\n",
       "    </tr>\n",
       "    <tr>\n",
       "      <th>0</th>\n",
       "      <td>248846</td>\n",
       "    </tr>\n",
       "    <tr>\n",
       "      <th>...</th>\n",
       "      <td>...</td>\n",
       "    </tr>\n",
       "    <tr>\n",
       "      <th>0</th>\n",
       "      <td>375214</td>\n",
       "    </tr>\n",
       "    <tr>\n",
       "      <th>0</th>\n",
       "      <td>215205</td>\n",
       "    </tr>\n",
       "    <tr>\n",
       "      <th>0</th>\n",
       "      <td>398073</td>\n",
       "    </tr>\n",
       "    <tr>\n",
       "      <th>0</th>\n",
       "      <td>303293</td>\n",
       "    </tr>\n",
       "    <tr>\n",
       "      <th>0</th>\n",
       "      <td>243670</td>\n",
       "    </tr>\n",
       "  </tbody>\n",
       "</table>\n",
       "<p>49813 rows × 1 columns</p>\n",
       "</div>"
      ],
      "text/plain": [
       "    player_id\n",
       "0      192013\n",
       "0      273680\n",
       "0       77223\n",
       "0       88992\n",
       "0      248846\n",
       "..        ...\n",
       "0      375214\n",
       "0      215205\n",
       "0      398073\n",
       "0      303293\n",
       "0      243670\n",
       "\n",
       "[49813 rows x 1 columns]"
      ]
     },
     "execution_count": 207,
     "metadata": {},
     "output_type": "execute_result"
    }
   ],
   "source": [
    "players_id_df.compute()"
   ]
  },
  {
   "cell_type": "markdown",
   "id": "3d3984c7",
   "metadata": {},
   "source": [
    "### 2."
   ]
  },
  {
   "cell_type": "code",
   "execution_count": 217,
   "id": "03fdf222",
   "metadata": {},
   "outputs": [],
   "source": [
    "# The average height of players.\n",
    "players_height_df =dd.read_parquet(render_addresses('match', kind='*_team'),columns=['player_id','height'])"
   ]
  },
  {
   "cell_type": "code",
   "execution_count": 219,
   "id": "070cf908",
   "metadata": {},
   "outputs": [
    {
     "data": {
      "application/vnd.microsoft.datawrangler.viewer.v0+json": {
       "columns": [
        {
         "name": "index",
         "rawType": "int64",
         "type": "integer"
        },
        {
         "name": "player_id",
         "rawType": "int64",
         "type": "integer"
        },
        {
         "name": "height",
         "rawType": "float64",
         "type": "float"
        }
       ],
       "ref": "07d9e0ac-5aa8-4490-880e-c8a6da7bba99",
       "rows": [
        [
         "0",
         "197546",
         "1.85"
        ],
        [
         "0",
         "340741",
         "1.88"
        ],
        [
         "0",
         "17046",
         "1.8"
        ],
        [
         "0",
         "130690",
         null
        ],
        [
         "0",
         "156826",
         "1.85"
        ],
        [
         "0",
         "67322",
         "1.7"
        ],
        [
         "0",
         "318770",
         null
        ],
        [
         "0",
         "188493",
         null
        ],
        [
         "0",
         "377531",
         null
        ],
        [
         "0",
         "196903",
         "1.73"
        ],
        [
         "0",
         "268808",
         null
        ],
        [
         "0",
         "236916",
         null
        ],
        [
         "0",
         "419535",
         null
        ],
        [
         "0",
         "216457",
         null
        ],
        [
         "0",
         "405576",
         null
        ],
        [
         "0",
         "190440",
         null
        ],
        [
         "0",
         "187218",
         "1.83"
        ],
        [
         "0",
         "264982",
         null
        ],
        [
         "0",
         "53789",
         "1.75"
        ],
        [
         "0",
         "277707",
         null
        ],
        [
         "0",
         "96237",
         null
        ],
        [
         "0",
         "407873",
         null
        ],
        [
         "0",
         "411022",
         null
        ],
        [
         "0",
         "396966",
         null
        ],
        [
         "0",
         "166096",
         "1.88"
        ],
        [
         "0",
         "104847",
         "1.91"
        ],
        [
         "0",
         "103913",
         "1.8"
        ],
        [
         "0",
         "384985",
         null
        ],
        [
         "0",
         "37638",
         null
        ],
        [
         "0",
         "128638",
         null
        ],
        [
         "0",
         "207606",
         null
        ],
        [
         "0",
         "138792",
         null
        ],
        [
         "0",
         "275933",
         null
        ],
        [
         "0",
         "280123",
         null
        ],
        [
         "0",
         "51304",
         "1.83"
        ],
        [
         "0",
         "406261",
         null
        ],
        [
         "0",
         "355097",
         "1.83"
        ],
        [
         "0",
         "300296",
         "1.91"
        ],
        [
         "0",
         "401360",
         null
        ],
        [
         "0",
         "215773",
         "1.65"
        ],
        [
         "0",
         "54903",
         "1.91"
        ],
        [
         "0",
         "119496",
         null
        ],
        [
         "0",
         "119118",
         "1.75"
        ],
        [
         "0",
         "138966",
         "1.83"
        ],
        [
         "0",
         "302582",
         "1.88"
        ],
        [
         "0",
         "318257",
         null
        ],
        [
         "0",
         "243878",
         null
        ],
        [
         "0",
         "19704",
         "1.81"
        ],
        [
         "0",
         "289233",
         "1.85"
        ],
        [
         "0",
         "280163",
         null
        ]
       ],
       "shape": {
        "columns": 2,
        "rows": 2644
       }
      },
      "text/html": [
       "<div>\n",
       "<style scoped>\n",
       "    .dataframe tbody tr th:only-of-type {\n",
       "        vertical-align: middle;\n",
       "    }\n",
       "\n",
       "    .dataframe tbody tr th {\n",
       "        vertical-align: top;\n",
       "    }\n",
       "\n",
       "    .dataframe thead th {\n",
       "        text-align: right;\n",
       "    }\n",
       "</style>\n",
       "<table border=\"1\" class=\"dataframe\">\n",
       "  <thead>\n",
       "    <tr style=\"text-align: right;\">\n",
       "      <th></th>\n",
       "      <th>player_id</th>\n",
       "      <th>height</th>\n",
       "    </tr>\n",
       "  </thead>\n",
       "  <tbody>\n",
       "    <tr>\n",
       "      <th>0</th>\n",
       "      <td>197546</td>\n",
       "      <td>1.85</td>\n",
       "    </tr>\n",
       "    <tr>\n",
       "      <th>0</th>\n",
       "      <td>340741</td>\n",
       "      <td>1.88</td>\n",
       "    </tr>\n",
       "    <tr>\n",
       "      <th>0</th>\n",
       "      <td>17046</td>\n",
       "      <td>1.80</td>\n",
       "    </tr>\n",
       "    <tr>\n",
       "      <th>0</th>\n",
       "      <td>130690</td>\n",
       "      <td>NaN</td>\n",
       "    </tr>\n",
       "    <tr>\n",
       "      <th>0</th>\n",
       "      <td>156826</td>\n",
       "      <td>1.85</td>\n",
       "    </tr>\n",
       "    <tr>\n",
       "      <th>...</th>\n",
       "      <td>...</td>\n",
       "      <td>...</td>\n",
       "    </tr>\n",
       "    <tr>\n",
       "      <th>0</th>\n",
       "      <td>46651</td>\n",
       "      <td>1.73</td>\n",
       "    </tr>\n",
       "    <tr>\n",
       "      <th>0</th>\n",
       "      <td>265808</td>\n",
       "      <td>1.75</td>\n",
       "    </tr>\n",
       "    <tr>\n",
       "      <th>0</th>\n",
       "      <td>383458</td>\n",
       "      <td>NaN</td>\n",
       "    </tr>\n",
       "    <tr>\n",
       "      <th>0</th>\n",
       "      <td>383428</td>\n",
       "      <td>NaN</td>\n",
       "    </tr>\n",
       "    <tr>\n",
       "      <th>0</th>\n",
       "      <td>103415</td>\n",
       "      <td>1.80</td>\n",
       "    </tr>\n",
       "  </tbody>\n",
       "</table>\n",
       "<p>2644 rows × 2 columns</p>\n",
       "</div>"
      ],
      "text/plain": [
       "    player_id  height\n",
       "0      197546    1.85\n",
       "0      340741    1.88\n",
       "0       17046    1.80\n",
       "0      130690     NaN\n",
       "0      156826    1.85\n",
       "..        ...     ...\n",
       "0       46651    1.73\n",
       "0      265808    1.75\n",
       "0      383458     NaN\n",
       "0      383428     NaN\n",
       "0      103415    1.80\n",
       "\n",
       "[2644 rows x 2 columns]"
      ]
     },
     "execution_count": 219,
     "metadata": {},
     "output_type": "execute_result"
    }
   ],
   "source": [
    "players_height_df.drop_duplicates(subset='player_id', keep='first').compute()"
   ]
  },
  {
   "cell_type": "markdown",
   "id": "aac53582",
   "metadata": {},
   "source": [
    "### 3."
   ]
  },
  {
   "cell_type": "code",
   "execution_count": 54,
   "id": "d60dab76",
   "metadata": {},
   "outputs": [],
   "source": [
    "# Extracting the necessary coulumns for the player with highest number of wins.\n",
    "event_addresses = render_addresses('match', date_arr = dates_tuple,kind='event')\n",
    "home_addresses = render_addresses('match', date_arr = dates_tuple, kind='home_team')\n",
    "away_addresses = render_addresses('match', date_arr = dates_tuple, kind='away_team')\n",
    "\n",
    "match_df = dd.read_parquet(event_addresses, columns=['match_id','winner_code'])\n",
    "home_df = dd.read_parquet(home_addresses, columns=['match_id','player_id','full_name'])\n",
    "away_df = dd.read_parquet(away_addresses, columns=['match_id','player_id','full_name'])"
   ]
  },
  {
   "cell_type": "code",
   "execution_count": 61,
   "id": "e28c8bb0",
   "metadata": {},
   "outputs": [
    {
     "name": "stdout",
     "output_type": "stream",
     "text": [
      "[########################################] | 100% Completed | 78.32 s\n"
     ]
    }
   ],
   "source": [
    "# Extracting the results into csv for faster manipulation with pandas.\n",
    "with ProgressBar():\n",
    "    result = away_df.compute()"
   ]
  },
  {
   "cell_type": "code",
   "execution_count": 85,
   "id": "bebb5833",
   "metadata": {},
   "outputs": [],
   "source": [
    "# Opening folders and then dropping duplicates.\n",
    "match_df = pd.read_csv(\"CSVs\\\\3_match_df.csv\")\n",
    "home_df = pd.read_csv(\"CSVs\\\\3_home_df.csv\")\n",
    "away_df = pd.read_csv(\"CSVs\\\\3_away_df.csv\")\n",
    "match_df.drop_duplicates(subset='match_id', inplace=True)\n",
    "home_df.drop_duplicates(subset='match_id', inplace=True)\n",
    "away_df.drop_duplicates(subset='match_id', inplace=True)"
   ]
  },
  {
   "cell_type": "code",
   "execution_count": null,
   "id": "02901395",
   "metadata": {},
   "outputs": [],
   "source": [
    "# Data Wranglign with grouping and filtering.\n",
    "winner_home_df = match_df.query('winner_code == 1').merge(home_df, on='match_id', how='inner')\n",
    "winner_home_df = winner_home_df.drop(columns=['winner_code'])\n",
    "winner_away_df = match_df.query('winner_code == 2').merge(away_df, on='match_id', how='inner')\n",
    "winner_away_df = winner_away_df.drop(columns=['winner_code'])\n",
    "winners_df = pd.concat([winner_home_df,winner_away_df])\n",
    "winners_df = winners_df.dropna().drop_duplicates()\n",
    "winners_df.player_id = winners_df.player_id.astype(int)"
   ]
  },
  {
   "cell_type": "code",
   "execution_count": 97,
   "id": "db260063",
   "metadata": {},
   "outputs": [
    {
     "data": {
      "application/vnd.microsoft.datawrangler.viewer.v0+json": {
       "columns": [
        {
         "name": "player_id",
         "rawType": "int32",
         "type": "integer"
        },
        {
         "name": "matches_won",
         "rawType": "int64",
         "type": "integer"
        },
        {
         "name": "full_name",
         "rawType": "object",
         "type": "string"
        }
       ],
       "ref": "534a0f38-0e38-46c5-8586-c4c551f515a9",
       "rows": [
        [
         "50901",
         "29",
         "Popko, Dmitry"
        ],
        [
         "231620",
         "22",
         "Chidekh, Clement"
        ],
        [
         "202572",
         "21",
         "Gengel, Marek"
        ],
        [
         "230049",
         "21",
         "Jianu, Filip Cristian"
        ],
        [
         "82133",
         "20",
         "Dellien Velasco, Murkel Alejandro"
        ],
        [
         "58369",
         "19",
         "Bolt, Alex"
        ],
        [
         "238867",
         "19",
         "Ovcharenko, Oleksandr"
        ],
        [
         "205282",
         "19",
         "Kužmová, Katarína"
        ],
        [
         "186885",
         "18",
         "Hardt, Nick"
        ],
        [
         "302567",
         "18",
         "Sakellaridis, Stefanos"
        ],
        [
         "338890",
         "18",
         "Merida Aguilar, Daniel"
        ],
        [
         "100093",
         "18",
         "Ferrari, Francesco"
        ],
        [
         "197809",
         "18",
         "Clarke, Jay"
        ],
        [
         "341818",
         "18",
         "Faria, Jaime"
        ],
        [
         "58515",
         "18",
         "Collins, Danielle"
        ],
        [
         "53483",
         "18",
         "Masur, Daniel"
        ],
        [
         "152766",
         "17",
         "Helgo, Malene"
        ],
        [
         "111857",
         "17",
         "Ursu, Vadym"
        ],
        [
         "217447",
         "17",
         "Cekirge, Kuzey"
        ],
        [
         "168420",
         "17",
         "Andrade, Andres"
        ],
        [
         "228272",
         "16",
         "Swiatek, Iga"
        ],
        [
         "250934",
         "16",
         "Sakellaridi, Sapfo"
        ],
        [
         "196122",
         "16",
         "Ugo Carabelli, Camilo"
        ],
        [
         "231597",
         "16",
         "Imamura, Saki"
        ],
        [
         "275105",
         "16",
         "Bouzas Maneiro, Jessica"
        ],
        [
         "52533",
         "16",
         "Jakupovic, Dalila"
        ],
        [
         "16683",
         "16",
         "Kukushkin, Mikhail"
        ],
        [
         "217437",
         "16",
         "Soriano Barrera, Adria"
        ],
        [
         "111149",
         "16",
         "Samir, Sandra"
        ],
        [
         "165866",
         "16",
         "Miyazaki, Yuriko Lily"
        ],
        [
         "229218",
         "15",
         "Virtanen, Otto"
        ],
        [
         "94747",
         "15",
         "Hoang, Antoine"
        ],
        [
         "293708",
         "15",
         "Boisson, Loïs"
        ],
        [
         "337897",
         "15",
         "Crowther, Corban"
        ],
        [
         "108709",
         "15",
         "Majchrzak, Kamil"
        ],
        [
         "69964",
         "15",
         "Estable, Julieta"
        ],
        [
         "276310",
         "15",
         "Zelníčková, Radka"
        ],
        [
         "244423",
         "15",
         "Sato, Naho"
        ],
        [
         "296802",
         "15",
         "Visker, Niels"
        ],
        [
         "51839",
         "15",
         "Alves, Carolina"
        ],
        [
         "165234",
         "15",
         "Vasa, Eero"
        ],
        [
         "207654",
         "15",
         "Tubello, Alice"
        ],
        [
         "221806",
         "15",
         "Baez, Sebastian"
        ],
        [
         "168524",
         "15",
         "Tomescu, Dan Alexandru"
        ],
        [
         "372311",
         "15",
         "Nicod, Jakub"
        ],
        [
         "206570",
         "15",
         "Sinner, Jannik"
        ],
        [
         "217883",
         "15",
         "Decamps, Gabriel"
        ],
        [
         "207575",
         "14",
         "Walton, Adam"
        ],
        [
         "221793",
         "14",
         "Hennemann, Caijsa Wilda"
        ],
        [
         "51309",
         "14",
         "Cid Subervi, Roberto"
        ]
       ],
       "shape": {
        "columns": 2,
        "rows": 2319
       }
      },
      "text/html": [
       "<div>\n",
       "<style scoped>\n",
       "    .dataframe tbody tr th:only-of-type {\n",
       "        vertical-align: middle;\n",
       "    }\n",
       "\n",
       "    .dataframe tbody tr th {\n",
       "        vertical-align: top;\n",
       "    }\n",
       "\n",
       "    .dataframe thead th {\n",
       "        text-align: right;\n",
       "    }\n",
       "</style>\n",
       "<table border=\"1\" class=\"dataframe\">\n",
       "  <thead>\n",
       "    <tr style=\"text-align: right;\">\n",
       "      <th></th>\n",
       "      <th>matches_won</th>\n",
       "      <th>full_name</th>\n",
       "    </tr>\n",
       "    <tr>\n",
       "      <th>player_id</th>\n",
       "      <th></th>\n",
       "      <th></th>\n",
       "    </tr>\n",
       "  </thead>\n",
       "  <tbody>\n",
       "    <tr>\n",
       "      <th>50901</th>\n",
       "      <td>29</td>\n",
       "      <td>Popko, Dmitry</td>\n",
       "    </tr>\n",
       "    <tr>\n",
       "      <th>231620</th>\n",
       "      <td>22</td>\n",
       "      <td>Chidekh, Clement</td>\n",
       "    </tr>\n",
       "    <tr>\n",
       "      <th>202572</th>\n",
       "      <td>21</td>\n",
       "      <td>Gengel, Marek</td>\n",
       "    </tr>\n",
       "    <tr>\n",
       "      <th>230049</th>\n",
       "      <td>21</td>\n",
       "      <td>Jianu, Filip Cristian</td>\n",
       "    </tr>\n",
       "    <tr>\n",
       "      <th>82133</th>\n",
       "      <td>20</td>\n",
       "      <td>Dellien Velasco, Murkel Alejandro</td>\n",
       "    </tr>\n",
       "    <tr>\n",
       "      <th>...</th>\n",
       "      <td>...</td>\n",
       "      <td>...</td>\n",
       "    </tr>\n",
       "    <tr>\n",
       "      <th>175258</th>\n",
       "      <td>1</td>\n",
       "      <td>Benaissa, Amira</td>\n",
       "    </tr>\n",
       "    <tr>\n",
       "      <th>175160</th>\n",
       "      <td>1</td>\n",
       "      <td>Lavino, Irene</td>\n",
       "    </tr>\n",
       "    <tr>\n",
       "      <th>59213</th>\n",
       "      <td>1</td>\n",
       "      <td>Perez Garcia, Maria Paulina</td>\n",
       "    </tr>\n",
       "    <tr>\n",
       "      <th>383459</th>\n",
       "      <td>1</td>\n",
       "      <td>Jang, Gio</td>\n",
       "    </tr>\n",
       "    <tr>\n",
       "      <th>499834</th>\n",
       "      <td>1</td>\n",
       "      <td>Moeller, Elmer</td>\n",
       "    </tr>\n",
       "  </tbody>\n",
       "</table>\n",
       "<p>2319 rows × 2 columns</p>\n",
       "</div>"
      ],
      "text/plain": [
       "           matches_won                          full_name\n",
       "player_id                                                \n",
       "50901               29                      Popko, Dmitry\n",
       "231620              22                   Chidekh, Clement\n",
       "202572              21                      Gengel, Marek\n",
       "230049              21              Jianu, Filip Cristian\n",
       "82133               20  Dellien Velasco, Murkel Alejandro\n",
       "...                ...                                ...\n",
       "175258               1                    Benaissa, Amira\n",
       "175160               1                      Lavino, Irene\n",
       "59213                1        Perez Garcia, Maria Paulina\n",
       "383459               1                          Jang, Gio\n",
       "499834               1                     Moeller, Elmer\n",
       "\n",
       "[2319 rows x 2 columns]"
      ]
     },
     "execution_count": 97,
     "metadata": {},
     "output_type": "execute_result"
    }
   ],
   "source": [
    "winners_df.groupby('player_id').agg({'match_id':'count',\n",
    "                                    'full_name':'min'}).rename(\n",
    "                                    columns={'match_id':'matches_won'}).sort_values(\n",
    "                                    'matches_won',ascending=False)"
   ]
  },
  {
   "cell_type": "markdown",
   "id": "85cfb32d",
   "metadata": {},
   "source": [
    "### 4."
   ]
  },
  {
   "cell_type": "code",
   "execution_count": 108,
   "id": "19783f23",
   "metadata": {},
   "outputs": [
    {
     "name": "stdout",
     "output_type": "stream",
     "text": [
      "[########################################] | 100% Completed | 145.17 s\n"
     ]
    }
   ],
   "source": [
    "# Extracting the time results into csv for faster manipulation with pandas.\n",
    "time_df = dd.read_parquet(render_addresses('match', kind='time'))\n",
    "\n",
    "with ProgressBar():\n",
    "    result = time_df.compute()"
   ]
  },
  {
   "cell_type": "code",
   "execution_count": 158,
   "id": "b473d26f",
   "metadata": {},
   "outputs": [
    {
     "data": {
      "application/vnd.microsoft.datawrangler.viewer.v0+json": {
       "columns": [
        {
         "name": "index",
         "rawType": "int64",
         "type": "integer"
        },
        {
         "name": "match_id",
         "rawType": "int64",
         "type": "integer"
        },
        {
         "name": "period_1",
         "rawType": "float64",
         "type": "float"
        },
        {
         "name": "period_2",
         "rawType": "float64",
         "type": "float"
        },
        {
         "name": "period_3",
         "rawType": "float64",
         "type": "float"
        },
        {
         "name": "duration",
         "rawType": "float64",
         "type": "float"
        }
       ],
       "ref": "b91f313a-1222-42be-a6c9-57ef6853e6a8",
       "rows": [
        [
         "5799",
         "12063611",
         "167352.0",
         "169438.0",
         null,
         "5613.17"
        ],
        [
         "5795",
         "12063587",
         "159144.0",
         "161086.0",
         null,
         "5337.17"
        ],
        [
         "30980",
         "12185562",
         "4163.0",
         "84588.0",
         "88380.0",
         "2952.18"
        ],
        [
         "17230",
         "12121829",
         "172605.0",
         "810.0",
         null,
         "2890.25"
        ],
        [
         "3803",
         "12054403",
         "2170.0",
         "80162.0",
         "81551.0",
         "2731.38"
        ],
        [
         "5796",
         "12063588",
         "158918.0",
         "3061.0",
         "1054.0",
         "2717.22"
        ],
        [
         "5793",
         "12063582",
         "157690.0",
         "4654.0",
         null,
         "2705.73"
        ],
        [
         "5797",
         "12063589",
         "159242.0",
         "2155.0",
         "794.0",
         "2703.18"
        ],
        [
         "5800",
         "12063615",
         "158909.0",
         "2897.0",
         null,
         "2696.77"
        ],
        [
         "3791",
         "12053865",
         "76450.0",
         "2620.0",
         "81755.0",
         "2680.42"
        ],
        [
         "5794",
         "12063583",
         "158245.0",
         "2299.0",
         null,
         "2675.73"
        ],
        [
         "24425",
         "12151570",
         "2640.0",
         "78770.0",
         "77023.0",
         "2640.55"
        ],
        [
         "15474",
         "12110886",
         "3275.0",
         "75921.0",
         "77046.0",
         "2604.03"
        ],
        [
         "19971",
         "12130100",
         "5203.0",
         "66023.0",
         "68610.0",
         "2330.6"
        ],
        [
         "7843",
         "12075951",
         "2881.0",
         "130140.0",
         null,
         "2217.02"
        ],
        [
         "22303",
         "12149488",
         "64423.0",
         "63276.0",
         "1126.0",
         "2147.08"
        ],
        [
         "33609",
         "12195781",
         "2542.0",
         "125538.0",
         null,
         "2134.67"
        ],
        [
         "25552",
         "12158261",
         "57969.0",
         "3943.0",
         "65467.0",
         "2122.98"
        ],
        [
         "25554",
         "12158263",
         "4138.0",
         "57883.0",
         "58763.0",
         "2013.07"
        ],
        [
         "23133",
         "12149483",
         "2771.0",
         "83535.0",
         "4220.0",
         "1508.77"
        ],
        [
         "6945",
         "12069269",
         "3769.0",
         "86430.0",
         null,
         "1503.32"
        ],
        [
         "32742",
         "12189039",
         "88279.0",
         "1772.0",
         null,
         "1500.85"
        ],
        [
         "35486",
         "12211566",
         "4333.0",
         "2978.0",
         "81438.0",
         "1479.15"
        ],
        [
         "3799",
         "12054312",
         "86389.0",
         "2069.0",
         null,
         "1474.3"
        ],
        [
         "23132",
         "12149481",
         "1957.0",
         "3066.0",
         "82867.0",
         "1464.83"
        ],
        [
         "20573",
         "12139759",
         "2204.0",
         "85300.0",
         null,
         "1458.4"
        ],
        [
         "3831",
         "12017963",
         "9120.0",
         "1984.0",
         "75136.0",
         "1437.33"
        ],
        [
         "34453",
         "12174397",
         "3017.0",
         "83081.0",
         null,
         "1434.97"
        ],
        [
         "31004",
         "12187030",
         "1504.0",
         "84277.0",
         null,
         "1429.68"
        ],
        [
         "35584",
         "12211950",
         "82640.0",
         "3002.0",
         null,
         "1427.37"
        ],
        [
         "30972",
         "12184920",
         "3322.0",
         "78042.0",
         "3290.0",
         "1410.9"
        ],
        [
         "24427",
         "12151572",
         "4026.0",
         "77764.0",
         null,
         "1363.17"
        ],
        [
         "24485",
         "12152279",
         "2201.0",
         "78894.0",
         null,
         "1351.58"
        ],
        [
         "3800",
         "12054313",
         "1736.0",
         "76899.0",
         "2323.0",
         "1349.3"
        ],
        [
         "20028",
         "12131377",
         "3689.0",
         "76697.0",
         null,
         "1339.77"
        ],
        [
         "15482",
         "12111059",
         "2565.0",
         "76492.0",
         null,
         "1317.62"
        ],
        [
         "19900",
         "12128188",
         "4447.0",
         "74556.0",
         null,
         "1316.72"
        ],
        [
         "19884",
         "12128162",
         "3038.0",
         "75669.0",
         null,
         "1311.78"
        ],
        [
         "18680",
         "12126219",
         "2502.0",
         "3276.0",
         "71637.0",
         "1290.25"
        ],
        [
         "30855",
         "12156313",
         "3864.0",
         "72590.0",
         null,
         "1274.23"
        ],
        [
         "27899",
         "12166947",
         "3700.0",
         "4377.0",
         "67427.0",
         "1258.4"
        ],
        [
         "35278",
         "12209929",
         "2283.0",
         "72585.0",
         null,
         "1247.8"
        ],
        [
         "18461",
         "12121604",
         "2096.0",
         "72126.0",
         null,
         "1237.03"
        ],
        [
         "18681",
         "12126220",
         "2213.0",
         "71632.0",
         null,
         "1230.75"
        ],
        [
         "19998",
         "12130295",
         "4462.0",
         "65561.0",
         "3491.0",
         "1225.23"
        ],
        [
         "15597",
         "12088090",
         "2178.0",
         "70319.0",
         null,
         "1208.28"
        ],
        [
         "29125",
         "12171982",
         "2553.0",
         "11593.0",
         "58093.0",
         "1203.98"
        ],
        [
         "7696",
         "12074772",
         "4557.0",
         "4546.0",
         "62914.0",
         "1200.28"
        ],
        [
         "22308",
         "12149621",
         "5056.0",
         "64993.0",
         "1302.0",
         "1189.18"
        ],
        [
         "15878",
         "12111692",
         "6973.0",
         "63911.0",
         null,
         "1181.4"
        ]
       ],
       "shape": {
        "columns": 5,
        "rows": 10327
       }
      },
      "text/html": [
       "<div>\n",
       "<style scoped>\n",
       "    .dataframe tbody tr th:only-of-type {\n",
       "        vertical-align: middle;\n",
       "    }\n",
       "\n",
       "    .dataframe tbody tr th {\n",
       "        vertical-align: top;\n",
       "    }\n",
       "\n",
       "    .dataframe thead th {\n",
       "        text-align: right;\n",
       "    }\n",
       "</style>\n",
       "<table border=\"1\" class=\"dataframe\">\n",
       "  <thead>\n",
       "    <tr style=\"text-align: right;\">\n",
       "      <th></th>\n",
       "      <th>match_id</th>\n",
       "      <th>period_1</th>\n",
       "      <th>period_2</th>\n",
       "      <th>period_3</th>\n",
       "      <th>duration</th>\n",
       "    </tr>\n",
       "  </thead>\n",
       "  <tbody>\n",
       "    <tr>\n",
       "      <th>5799</th>\n",
       "      <td>12063611</td>\n",
       "      <td>167352.0</td>\n",
       "      <td>169438.0</td>\n",
       "      <td>NaN</td>\n",
       "      <td>5613.17</td>\n",
       "    </tr>\n",
       "    <tr>\n",
       "      <th>5795</th>\n",
       "      <td>12063587</td>\n",
       "      <td>159144.0</td>\n",
       "      <td>161086.0</td>\n",
       "      <td>NaN</td>\n",
       "      <td>5337.17</td>\n",
       "    </tr>\n",
       "    <tr>\n",
       "      <th>30980</th>\n",
       "      <td>12185562</td>\n",
       "      <td>4163.0</td>\n",
       "      <td>84588.0</td>\n",
       "      <td>88380.0</td>\n",
       "      <td>2952.18</td>\n",
       "    </tr>\n",
       "    <tr>\n",
       "      <th>17230</th>\n",
       "      <td>12121829</td>\n",
       "      <td>172605.0</td>\n",
       "      <td>810.0</td>\n",
       "      <td>NaN</td>\n",
       "      <td>2890.25</td>\n",
       "    </tr>\n",
       "    <tr>\n",
       "      <th>3803</th>\n",
       "      <td>12054403</td>\n",
       "      <td>2170.0</td>\n",
       "      <td>80162.0</td>\n",
       "      <td>81551.0</td>\n",
       "      <td>2731.38</td>\n",
       "    </tr>\n",
       "    <tr>\n",
       "      <th>...</th>\n",
       "      <td>...</td>\n",
       "      <td>...</td>\n",
       "      <td>...</td>\n",
       "      <td>...</td>\n",
       "      <td>...</td>\n",
       "    </tr>\n",
       "    <tr>\n",
       "      <th>1026</th>\n",
       "      <td>12039701</td>\n",
       "      <td>77.0</td>\n",
       "      <td>26.0</td>\n",
       "      <td>NaN</td>\n",
       "      <td>1.72</td>\n",
       "    </tr>\n",
       "    <tr>\n",
       "      <th>35668</th>\n",
       "      <td>12213484</td>\n",
       "      <td>3.0</td>\n",
       "      <td>5.0</td>\n",
       "      <td>NaN</td>\n",
       "      <td>0.13</td>\n",
       "    </tr>\n",
       "    <tr>\n",
       "      <th>6344</th>\n",
       "      <td>12064959</td>\n",
       "      <td>2.0</td>\n",
       "      <td>6.0</td>\n",
       "      <td>NaN</td>\n",
       "      <td>0.13</td>\n",
       "    </tr>\n",
       "    <tr>\n",
       "      <th>5853</th>\n",
       "      <td>12063889</td>\n",
       "      <td>4.0</td>\n",
       "      <td>4.0</td>\n",
       "      <td>NaN</td>\n",
       "      <td>0.13</td>\n",
       "    </tr>\n",
       "    <tr>\n",
       "      <th>6398</th>\n",
       "      <td>12066016</td>\n",
       "      <td>2.0</td>\n",
       "      <td>3.0</td>\n",
       "      <td>NaN</td>\n",
       "      <td>0.08</td>\n",
       "    </tr>\n",
       "  </tbody>\n",
       "</table>\n",
       "<p>10327 rows × 5 columns</p>\n",
       "</div>"
      ],
      "text/plain": [
       "       match_id  period_1  period_2  period_3  duration\n",
       "5799   12063611  167352.0  169438.0       NaN   5613.17\n",
       "5795   12063587  159144.0  161086.0       NaN   5337.17\n",
       "30980  12185562    4163.0   84588.0   88380.0   2952.18\n",
       "17230  12121829  172605.0     810.0       NaN   2890.25\n",
       "3803   12054403    2170.0   80162.0   81551.0   2731.38\n",
       "...         ...       ...       ...       ...       ...\n",
       "1026   12039701      77.0      26.0       NaN      1.72\n",
       "35668  12213484       3.0       5.0       NaN      0.13\n",
       "6344   12064959       2.0       6.0       NaN      0.13\n",
       "5853   12063889       4.0       4.0       NaN      0.13\n",
       "6398   12066016       2.0       3.0       NaN      0.08\n",
       "\n",
       "[10327 rows x 5 columns]"
      ]
     },
     "execution_count": 158,
     "metadata": {},
     "output_type": "execute_result"
    }
   ],
   "source": [
    "time_df = pd.read_csv(\"CSVs\\\\4_time_df.csv\")\n",
    "time_df.drop_duplicates(subset='match_id', inplace=True)\n",
    "time_df.dropna(subset=['period_1'], inplace=True)\n",
    "time_df.drop(columns=['period_4','period_5','current_period_start_timestamp'], inplace=True)\n",
    "time_df['duration'] = time_df[['period_1', 'period_2', 'period_3']].sum(axis=1, skipna=True).div(60).round(2)\n",
    "time_df.sort_values(by=['duration'],ascending=False)"
   ]
  },
  {
   "cell_type": "code",
   "execution_count": 146,
   "id": "f92045a7",
   "metadata": {},
   "outputs": [
    {
     "name": "stdout",
     "output_type": "stream",
     "text": [
      "[########################################] | 100% Completed | 170.04 s\n"
     ]
    }
   ],
   "source": [
    "with ProgressBar():\n",
    "    res = dd.read_parquet(render_addresses('match', kind='event')).compute()"
   ]
  },
  {
   "cell_type": "code",
   "execution_count": 163,
   "id": "df8f1dcd",
   "metadata": {},
   "outputs": [
    {
     "data": {
      "application/vnd.microsoft.datawrangler.viewer.v0+json": {
       "columns": [
        {
         "name": "index",
         "rawType": "int64",
         "type": "integer"
        },
        {
         "name": "match_id",
         "rawType": "int64",
         "type": "integer"
        },
        {
         "name": "first_to_serve",
         "rawType": "object",
         "type": "unknown"
        },
        {
         "name": "home_team_seed",
         "rawType": "string",
         "type": "string"
        },
        {
         "name": "away_team_seed",
         "rawType": "string",
         "type": "string"
        },
        {
         "name": "custom_id",
         "rawType": "string",
         "type": "string"
        },
        {
         "name": "winner_code",
         "rawType": "object",
         "type": "unknown"
        },
        {
         "name": "default_period_count",
         "rawType": "int64",
         "type": "integer"
        },
        {
         "name": "start_datetime",
         "rawType": "int64",
         "type": "integer"
        },
        {
         "name": "match_slug",
         "rawType": "string",
         "type": "string"
        },
        {
         "name": "final_result_only",
         "rawType": "bool",
         "type": "boolean"
        }
       ],
       "ref": "c6608e1a-7cc2-4ff6-92c3-8b44a2393fe9",
       "rows": [
        [
         "0",
         "12177252",
         "1",
         null,
         null,
         "kLysfnxc",
         "1",
         "3",
         "1711017000",
         "beckley-caruso",
         "False"
        ],
        [
         "0",
         "12177252",
         "1",
         null,
         null,
         "kLysfnxc",
         "1",
         "3",
         "1711017000",
         "beckley-caruso",
         "False"
        ],
        [
         "0",
         "12177252",
         "1",
         null,
         null,
         "kLysfnxc",
         "1",
         "3",
         "1711017000",
         "beckley-caruso",
         "False"
        ]
       ],
       "shape": {
        "columns": 10,
        "rows": 3
       }
      },
      "text/html": [
       "<div>\n",
       "<style scoped>\n",
       "    .dataframe tbody tr th:only-of-type {\n",
       "        vertical-align: middle;\n",
       "    }\n",
       "\n",
       "    .dataframe tbody tr th {\n",
       "        vertical-align: top;\n",
       "    }\n",
       "\n",
       "    .dataframe thead th {\n",
       "        text-align: right;\n",
       "    }\n",
       "</style>\n",
       "<table border=\"1\" class=\"dataframe\">\n",
       "  <thead>\n",
       "    <tr style=\"text-align: right;\">\n",
       "      <th></th>\n",
       "      <th>match_id</th>\n",
       "      <th>first_to_serve</th>\n",
       "      <th>home_team_seed</th>\n",
       "      <th>away_team_seed</th>\n",
       "      <th>custom_id</th>\n",
       "      <th>winner_code</th>\n",
       "      <th>default_period_count</th>\n",
       "      <th>start_datetime</th>\n",
       "      <th>match_slug</th>\n",
       "      <th>final_result_only</th>\n",
       "    </tr>\n",
       "  </thead>\n",
       "  <tbody>\n",
       "    <tr>\n",
       "      <th>0</th>\n",
       "      <td>12177252</td>\n",
       "      <td>1</td>\n",
       "      <td>&lt;NA&gt;</td>\n",
       "      <td>&lt;NA&gt;</td>\n",
       "      <td>kLysfnxc</td>\n",
       "      <td>1</td>\n",
       "      <td>3</td>\n",
       "      <td>1711017000</td>\n",
       "      <td>beckley-caruso</td>\n",
       "      <td>False</td>\n",
       "    </tr>\n",
       "    <tr>\n",
       "      <th>0</th>\n",
       "      <td>12177252</td>\n",
       "      <td>1</td>\n",
       "      <td>&lt;NA&gt;</td>\n",
       "      <td>&lt;NA&gt;</td>\n",
       "      <td>kLysfnxc</td>\n",
       "      <td>1</td>\n",
       "      <td>3</td>\n",
       "      <td>1711017000</td>\n",
       "      <td>beckley-caruso</td>\n",
       "      <td>False</td>\n",
       "    </tr>\n",
       "    <tr>\n",
       "      <th>0</th>\n",
       "      <td>12177252</td>\n",
       "      <td>1</td>\n",
       "      <td>&lt;NA&gt;</td>\n",
       "      <td>&lt;NA&gt;</td>\n",
       "      <td>kLysfnxc</td>\n",
       "      <td>1</td>\n",
       "      <td>3</td>\n",
       "      <td>1711017000</td>\n",
       "      <td>beckley-caruso</td>\n",
       "      <td>False</td>\n",
       "    </tr>\n",
       "  </tbody>\n",
       "</table>\n",
       "</div>"
      ],
      "text/plain": [
       "   match_id first_to_serve home_team_seed away_team_seed custom_id  \\\n",
       "0  12177252              1           <NA>           <NA>  kLysfnxc   \n",
       "0  12177252              1           <NA>           <NA>  kLysfnxc   \n",
       "0  12177252              1           <NA>           <NA>  kLysfnxc   \n",
       "\n",
       "  winner_code  default_period_count  start_datetime      match_slug  \\\n",
       "0           1                     3      1711017000  beckley-caruso   \n",
       "0           1                     3      1711017000  beckley-caruso   \n",
       "0           1                     3      1711017000  beckley-caruso   \n",
       "\n",
       "   final_result_only  \n",
       "0              False  \n",
       "0              False  \n",
       "0              False  "
      ]
     },
     "execution_count": 163,
     "metadata": {},
     "output_type": "execute_result"
    }
   ],
   "source": [
    "# Data entry might be wrong!\n",
    "# Look at https://www.sofascore.com/fr/tennis/match/o-gavrila-carolina-alves/OLvsnbR\n",
    "res[res.match_id == 12177252]"
   ]
  },
  {
   "cell_type": "markdown",
   "id": "341ba915",
   "metadata": {},
   "source": [
    "### 5."
   ]
  },
  {
   "cell_type": "code",
   "execution_count": 10,
   "id": "e93c6515",
   "metadata": {},
   "outputs": [
    {
     "name": "stdout",
     "output_type": "stream",
     "text": [
      "[########################################] | 100% Completed | 89.88 s\n"
     ]
    }
   ],
   "source": [
    "with ProgressBar():\n",
    "    res = dd.read_parquet(render_addresses('match', kind=\"event\"), columns = ['default_period_count']).compute()"
   ]
  },
  {
   "cell_type": "code",
   "execution_count": 12,
   "id": "7a581829",
   "metadata": {},
   "outputs": [
    {
     "data": {
      "application/vnd.microsoft.datawrangler.viewer.v0+json": {
       "columns": [
        {
         "name": "index",
         "rawType": "object",
         "type": "unknown"
        },
        {
         "name": "count",
         "rawType": "int64",
         "type": "integer"
        }
       ],
       "ref": "47204f50-0bb3-4e63-8ef4-85a974c8cfb3",
       "rows": [
        [
         "(3,)",
         "35053"
        ]
       ],
       "shape": {
        "columns": 1,
        "rows": 1
       }
      },
      "text/plain": [
       "default_period_count\n",
       "3                       35053\n",
       "Name: count, dtype: int64"
      ]
     },
     "execution_count": 12,
     "metadata": {},
     "output_type": "execute_result"
    }
   ],
   "source": [
    "res.value_counts()"
   ]
  },
  {
   "cell_type": "markdown",
   "id": "9faf700b",
   "metadata": {},
   "source": [
    "### 6."
   ]
  },
  {
   "cell_type": "code",
   "execution_count": null,
   "id": "eed9225f",
   "metadata": {},
   "outputs": [
    {
     "name": "stdout",
     "output_type": "stream",
     "text": [
      "[########################################] | 100% Completed | 731.59 ms\n"
     ]
    }
   ],
   "source": [
    "# Opening folders and then dropping duplicates.\n",
    "match_df = pd.read_csv(\"CSVs\\\\3_match_df.csv\")\n",
    "home_df = pd.read_csv(\"CSVs\\\\3_home_df.csv\")\n",
    "away_df = pd.read_csv(\"CSVs\\\\3_away_df.csv\")\n",
    "match_df.drop_duplicates(subset='match_id', inplace=True)\n",
    "home_df.drop_duplicates(subset='match_id', inplace=True)\n",
    "away_df.drop_duplicates(subset='match_id', inplace=True)"
   ]
  },
  {
   "cell_type": "code",
   "execution_count": 48,
   "id": "79984f73",
   "metadata": {},
   "outputs": [],
   "source": [
    "# Extracting the necessary coulumns for the player with highest number of wins.\n",
    "home_addresses = render_addresses('match', date_arr = dates_tuple, kind='home_team')\n",
    "away_addresses = render_addresses('match', date_arr = dates_tuple, kind='away_team')\n",
    "\n",
    "home_df = dd.read_parquet(home_addresses, columns=['player_id','full_name', 'current_rank', 'total_prize','country'])\n",
    "away_df = dd.read_parquet(away_addresses, columns=['player_id','full_name', 'current_rank', 'total_prize','country'])"
   ]
  },
  {
   "cell_type": "code",
   "execution_count": 52,
   "id": "ec53552e",
   "metadata": {},
   "outputs": [
    {
     "name": "stdout",
     "output_type": "stream",
     "text": [
      "[########################################] | 100% Completed | 71.24 s\n"
     ]
    }
   ],
   "source": [
    "with ProgressBar():\n",
    "    res = away_df.compute()"
   ]
  },
  {
   "cell_type": "code",
   "execution_count": 53,
   "id": "bb245627",
   "metadata": {},
   "outputs": [
    {
     "data": {
      "application/vnd.microsoft.datawrangler.viewer.v0+json": {
       "columns": [
        {
         "name": "index",
         "rawType": "int64",
         "type": "integer"
        },
        {
         "name": "player_id",
         "rawType": "int64",
         "type": "integer"
        },
        {
         "name": "full_name",
         "rawType": "string",
         "type": "string"
        },
        {
         "name": "current_rank",
         "rawType": "object",
         "type": "unknown"
        },
        {
         "name": "total_prize",
         "rawType": "object",
         "type": "unknown"
        },
        {
         "name": "country",
         "rawType": "string",
         "type": "string"
        }
       ],
       "ref": "11b30bd2-0796-4974-a1bb-29e4064eef62",
       "rows": [
        [
         "0",
         "192013",
         "Auger-Aliassime, Felix",
         "30",
         "10166964",
         "Canada"
        ],
        [
         "0",
         "273680",
         "Flavio Cobolli",
         "69",
         "808536",
         "Italy"
        ],
        [
         "0",
         "77223",
         "Martinez, Pedro",
         "101",
         "2732689",
         "Spain"
        ],
        [
         "0",
         "88992",
         "Muller, Alexandre",
         "81",
         "1178035",
         "France"
        ],
        [
         "0",
         "248846",
         "Mayot, Harold",
         "132",
         "424547",
         "France"
        ],
        [
         "0",
         "163480",
         "Bublik, Alexander",
         "23",
         "5125443",
         "Kazakhstan"
        ],
        [
         "0",
         "67154",
         "Barrere, Gregoire",
         "124",
         "2251135",
         "France"
        ],
        [
         "0",
         "163480",
         "Bublik, Alexander",
         "23",
         "5125443",
         "Kazakhstan"
        ],
        [
         "0",
         "264358",
         "Llamas Ruiz, Pablo",
         "151",
         "187139",
         "Spain"
        ],
        [
         "0",
         "66874",
         "Imai, Shintaro",
         "644",
         "116542",
         "Japan"
        ],
        [
         "0",
         "80665",
         "Polmans, Marc",
         "168",
         "1367548",
         "Australia"
        ],
        [
         "0",
         "58369",
         "Bolt, Alex",
         "262",
         "1317097",
         "Australia"
        ],
        [
         "0",
         "233126",
         "Sweeny, Dane",
         "202",
         "349103",
         "Australia"
        ],
        [
         "0",
         "299481",
         "Sekulic, Philip",
         "265",
         "135028",
         "Australia"
        ],
        [
         "0",
         "387400",
         "Jones, Hayden",
         "1057",
         "22671",
         "Australia"
        ],
        [
         "0",
         "79467",
         "Jasika, Omar",
         "225",
         "368436",
         "Australia"
        ],
        [
         "0",
         "233126",
         "Sweeny, Dane",
         "202",
         "349103",
         "Australia"
        ],
        [
         "0",
         "52276",
         "Krueger, Mitchell",
         "293",
         "1035498",
         "USA"
        ],
        [
         "0",
         "251784",
         "Maloney, Patrick",
         "841",
         "9365",
         "USA"
        ],
        [
         "0",
         "77007",
         "Kozlov, Stefan",
         "816",
         "834132",
         "USA"
        ],
        [
         "0",
         "71950",
         "Fanselow, Sebastian",
         "315",
         "158435",
         "Germany"
        ],
        [
         "0",
         "36595",
         "Kudla, Denis",
         "178",
         "3780958",
         "USA"
        ],
        [
         "0",
         "255993",
         "Trotter, James Kent",
         "393",
         "41194",
         "Japan"
        ],
        [
         "0",
         "210490",
         "Kypson, Patrick",
         "150",
         "322030",
         "USA"
        ],
        [
         "0",
         "386194",
         "Brady, Patrick",
         "730",
         "14913",
         "United Kingdom"
        ],
        [
         "0",
         "235576",
         "Nakashima, Brandon",
         "89",
         "2707274",
         "USA"
        ],
        [
         "0",
         "62404",
         "Otte, Oscar",
         "286",
         "2039566",
         "Germany"
        ],
        [
         "0",
         "300293",
         "Rehberg, Max Hans",
         "468",
         "69813",
         "Germany"
        ],
        [
         "0",
         "47767",
         "Lamasine, Tristan",
         "285",
         "493452",
         "France"
        ],
        [
         "0",
         "255449",
         "Royer, Valentin",
         "269",
         "79589",
         "France"
        ],
        [
         "0",
         "55067",
         "Marie, Jules",
         "205",
         "162857",
         "France"
        ],
        [
         "0",
         "51345",
         "Damm Jr, Martin",
         "209",
         "164618",
         "USA"
        ],
        [
         "0",
         "209103",
         "Molleker, Rudolf",
         "187",
         "477749",
         "Germany"
        ],
        [
         "0",
         "51345",
         "Damm Jr, Martin",
         "209",
         "162535",
         "USA"
        ],
        [
         "0",
         "196122",
         "Ugo Carabelli, Camilo",
         "127",
         "449872",
         "Argentina"
        ],
        [
         "0",
         "377489",
         "Feldbausch, Kilian",
         "410",
         "26377",
         "Switzerland"
        ],
        [
         "0",
         "69500",
         "Mager, Gianluca",
         "257",
         "1332329",
         "Italy"
        ],
        [
         "0",
         "163528",
         "Lavagno, Edoardo",
         "239",
         "104189",
         "Italy"
        ],
        [
         "0",
         "315774",
         "Torres, Juan Bautista",
         "412",
         "92810",
         "Argentina"
        ],
        [
         "0",
         "298057",
         "Gill, Felix",
         "334",
         "92683",
         "United Kingdom"
        ],
        [
         "0",
         "144102",
         "Weis, Alexander",
         "301",
         "105420",
         "Italy"
        ],
        [
         "0",
         "76515",
         "Gakhov, Ivan",
         "176",
         "325313",
         "Russia"
        ],
        [
         "0",
         "45584",
         "Zhu, Lin",
         "58",
         "2606738",
         "China"
        ],
        [
         "0",
         "318574",
         "Bai, Zhuoxuan",
         "84",
         "296338",
         "China"
        ],
        [
         "0",
         "19520",
         "Maria, Tatjana",
         "47",
         "4322089",
         "Germany"
        ],
        [
         "0",
         "52025",
         "Wang, Yafan",
         "69",
         "2139419",
         "China"
        ],
        [
         "0",
         "45545",
         "Putintseva, Yulia",
         "80",
         "5849846",
         "Kazakhstan"
        ],
        [
         "0",
         "67759",
         "Alexandrova, Ekaterina",
         "16",
         "4928632",
         "Russia"
        ],
        [
         "0",
         "264980",
         "Cocciaretto, Elisabetta",
         "56",
         "1372077",
         "Italy"
        ],
        [
         "0",
         "50641",
         "Vekić, Donna",
         "28",
         "5972094",
         "Croatia"
        ]
       ],
       "shape": {
        "columns": 5,
        "rows": 24203
       }
      },
      "text/html": [
       "<div>\n",
       "<style scoped>\n",
       "    .dataframe tbody tr th:only-of-type {\n",
       "        vertical-align: middle;\n",
       "    }\n",
       "\n",
       "    .dataframe tbody tr th {\n",
       "        vertical-align: top;\n",
       "    }\n",
       "\n",
       "    .dataframe thead th {\n",
       "        text-align: right;\n",
       "    }\n",
       "</style>\n",
       "<table border=\"1\" class=\"dataframe\">\n",
       "  <thead>\n",
       "    <tr style=\"text-align: right;\">\n",
       "      <th></th>\n",
       "      <th>player_id</th>\n",
       "      <th>full_name</th>\n",
       "      <th>current_rank</th>\n",
       "      <th>total_prize</th>\n",
       "      <th>country</th>\n",
       "    </tr>\n",
       "  </thead>\n",
       "  <tbody>\n",
       "    <tr>\n",
       "      <th>0</th>\n",
       "      <td>192013</td>\n",
       "      <td>Auger-Aliassime, Felix</td>\n",
       "      <td>30</td>\n",
       "      <td>10166964</td>\n",
       "      <td>Canada</td>\n",
       "    </tr>\n",
       "    <tr>\n",
       "      <th>0</th>\n",
       "      <td>273680</td>\n",
       "      <td>Flavio Cobolli</td>\n",
       "      <td>69</td>\n",
       "      <td>808536</td>\n",
       "      <td>Italy</td>\n",
       "    </tr>\n",
       "    <tr>\n",
       "      <th>0</th>\n",
       "      <td>77223</td>\n",
       "      <td>Martinez, Pedro</td>\n",
       "      <td>101</td>\n",
       "      <td>2732689</td>\n",
       "      <td>Spain</td>\n",
       "    </tr>\n",
       "    <tr>\n",
       "      <th>0</th>\n",
       "      <td>88992</td>\n",
       "      <td>Muller, Alexandre</td>\n",
       "      <td>81</td>\n",
       "      <td>1178035</td>\n",
       "      <td>France</td>\n",
       "    </tr>\n",
       "    <tr>\n",
       "      <th>0</th>\n",
       "      <td>248846</td>\n",
       "      <td>Mayot, Harold</td>\n",
       "      <td>132</td>\n",
       "      <td>424547</td>\n",
       "      <td>France</td>\n",
       "    </tr>\n",
       "    <tr>\n",
       "      <th>...</th>\n",
       "      <td>...</td>\n",
       "      <td>...</td>\n",
       "      <td>...</td>\n",
       "      <td>...</td>\n",
       "      <td>...</td>\n",
       "    </tr>\n",
       "    <tr>\n",
       "      <th>0</th>\n",
       "      <td>72324</td>\n",
       "      <td>Doria, Luciano</td>\n",
       "      <td>1442</td>\n",
       "      <td>18936</td>\n",
       "      <td>Argentina</td>\n",
       "    </tr>\n",
       "    <tr>\n",
       "      <th>0</th>\n",
       "      <td>217437</td>\n",
       "      <td>Soriano Barrera, Adria</td>\n",
       "      <td>465</td>\n",
       "      <td>41592</td>\n",
       "      <td>Colombia</td>\n",
       "    </tr>\n",
       "    <tr>\n",
       "      <th>0</th>\n",
       "      <td>108559</td>\n",
       "      <td>Taberner, Carlos</td>\n",
       "      <td>358</td>\n",
       "      <td>902241</td>\n",
       "      <td>Spain</td>\n",
       "    </tr>\n",
       "    <tr>\n",
       "      <th>0</th>\n",
       "      <td>74679</td>\n",
       "      <td>Simonsson, Fred</td>\n",
       "      <td>None</td>\n",
       "      <td>52868</td>\n",
       "      <td>Sweden</td>\n",
       "    </tr>\n",
       "    <tr>\n",
       "      <th>0</th>\n",
       "      <td>220540</td>\n",
       "      <td>Lumsden, Ewen</td>\n",
       "      <td>1281</td>\n",
       "      <td>5226</td>\n",
       "      <td>United Kingdom</td>\n",
       "    </tr>\n",
       "  </tbody>\n",
       "</table>\n",
       "<p>24203 rows × 5 columns</p>\n",
       "</div>"
      ],
      "text/plain": [
       "    player_id               full_name current_rank total_prize         country\n",
       "0      192013  Auger-Aliassime, Felix           30    10166964          Canada\n",
       "0      273680          Flavio Cobolli           69      808536           Italy\n",
       "0       77223         Martinez, Pedro          101     2732689           Spain\n",
       "0       88992       Muller, Alexandre           81     1178035          France\n",
       "0      248846           Mayot, Harold          132      424547          France\n",
       "..        ...                     ...          ...         ...             ...\n",
       "0       72324          Doria, Luciano         1442       18936       Argentina\n",
       "0      217437  Soriano Barrera, Adria          465       41592        Colombia\n",
       "0      108559        Taberner, Carlos          358      902241           Spain\n",
       "0       74679         Simonsson, Fred         None       52868          Sweden\n",
       "0      220540           Lumsden, Ewen         1281        5226  United Kingdom\n",
       "\n",
       "[24203 rows x 5 columns]"
      ]
     },
     "execution_count": 53,
     "metadata": {},
     "output_type": "execute_result"
    }
   ],
   "source": [
    "res"
   ]
  },
  {
   "cell_type": "code",
   "execution_count": 54,
   "id": "a1e5674e",
   "metadata": {},
   "outputs": [],
   "source": [
    "# Opening folders and then dropping duplicates.\n",
    "home_df = pd.read_csv(\"CSVs\\\\6_home_df.csv\")\n",
    "away_df = pd.read_csv(\"CSVs\\\\6_away_df.csv\")\n",
    "players_df = pd.concat([home_df, away_df])\n",
    "players_df.drop_duplicates(subset='player_id', inplace=True)"
   ]
  },
  {
   "cell_type": "code",
   "execution_count": 78,
   "id": "bdc97e44",
   "metadata": {},
   "outputs": [
    {
     "data": {
      "application/vnd.microsoft.datawrangler.viewer.v0+json": {
       "columns": [
        {
         "name": "country",
         "rawType": "object",
         "type": "string"
        },
        {
         "name": "success_score",
         "rawType": "float64",
         "type": "float"
        }
       ],
       "ref": "6c05e974-179c-4514-92e6-6b7e8ff227ce",
       "rows": [
        [
         "USA",
         "4.797982113769562"
        ],
        [
         "France",
         "4.032479663317157"
        ],
        [
         "Russia",
         "3.9505845476664727"
        ],
        [
         "Spain",
         "2.360521239563833"
        ],
        [
         "Italy",
         "2.132062395962469"
        ],
        [
         "Serbia",
         "1.7672802430358794"
        ],
        [
         "Poland",
         "1.7641423105876246"
        ],
        [
         "Czech Republic",
         "1.7185077830102844"
        ],
        [
         "Croatia",
         "1.6204529923680782"
        ],
        [
         "Germany",
         "1.3616285896505274"
        ],
        [
         "Kazakhstan",
         "1.2895726848032543"
        ],
        [
         "United Kingdom",
         "1.268508829605865"
        ],
        [
         "Romania",
         "1.2281863832444828"
        ],
        [
         "Canada",
         "1.222682749979241"
        ],
        [
         "Belarus",
         "1.124490694418816"
        ],
        [
         "Greece",
         "0.9097858115319462"
        ],
        [
         "Denmark",
         "0.8886854264929867"
        ],
        [
         "Japan",
         "0.8416588694584478"
        ],
        [
         "Ukraine",
         "0.8324362091973432"
        ],
        [
         "Latvia",
         "0.8312425237371219"
        ],
        [
         "Belgium",
         "0.8279227850581874"
        ],
        [
         "China",
         "0.8098007603629169"
        ],
        [
         "Argentina",
         "0.7807747348808112"
        ],
        [
         "Hungary",
         "0.7602913078545723"
        ],
        [
         "Tunisia",
         "0.4786125616578451"
        ],
        [
         "Bulgaria",
         "0.46145217046782844"
        ],
        [
         "Norway",
         "0.4527757313619516"
        ],
        [
         "Switzerland",
         "0.44551573422183277"
        ],
        [
         "Australia",
         "0.43847150799995227"
        ],
        [
         "Austria",
         "0.43511202853953074"
        ],
        [
         "Brazil",
         "0.4004962104103189"
        ],
        [
         "Chinese Taipei",
         "0.39309190200134525"
        ],
        [
         "Chile",
         "0.383429759957644"
        ],
        [
         "Georgia",
         "0.38178932796034726"
        ],
        [
         "Portugal",
         "0.38108868843739985"
        ]
       ],
       "shape": {
        "columns": 1,
        "rows": 35
       }
      },
      "text/plain": [
       "country\n",
       "USA               4.797982\n",
       "France            4.032480\n",
       "Russia            3.950585\n",
       "Spain             2.360521\n",
       "Italy             2.132062\n",
       "Serbia            1.767280\n",
       "Poland            1.764142\n",
       "Czech Republic    1.718508\n",
       "Croatia           1.620453\n",
       "Germany           1.361629\n",
       "Kazakhstan        1.289573\n",
       "United Kingdom    1.268509\n",
       "Romania           1.228186\n",
       "Canada            1.222683\n",
       "Belarus           1.124491\n",
       "Greece            0.909786\n",
       "Denmark           0.888685\n",
       "Japan             0.841659\n",
       "Ukraine           0.832436\n",
       "Latvia            0.831243\n",
       "Belgium           0.827923\n",
       "China             0.809801\n",
       "Argentina         0.780775\n",
       "Hungary           0.760291\n",
       "Tunisia           0.478613\n",
       "Bulgaria          0.461452\n",
       "Norway            0.452776\n",
       "Switzerland       0.445516\n",
       "Australia         0.438472\n",
       "Austria           0.435112\n",
       "Brazil            0.400496\n",
       "Chinese Taipei    0.393092\n",
       "Chile             0.383430\n",
       "Georgia           0.381789\n",
       "Portugal          0.381089\n",
       "Name: success_score, dtype: float64"
      ]
     },
     "execution_count": 78,
     "metadata": {},
     "output_type": "execute_result"
    }
   ],
   "source": [
    "def compute_success_scores(players, w1=0.5, w2=0.5):\n",
    "    \"\"\"\n",
    "    players: DataFrame or list of dicts with columns/keys:\n",
    "      - 'current_rank'   (int, 1 = best)\n",
    "      - 'total_prize'    (float, in USD)\n",
    "    Returns a DataFrame with a new column 'success_score' in [0,1].\n",
    "    \"\"\"\n",
    "    df = pd.DataFrame(players).copy()\n",
    "\n",
    "    # 1) normalize rank: invert, then scale so best rank → 1.0, worst → 0.0\n",
    "    #    (we assume ranks start at 1)\n",
    "    inv_rank = 1.0 / df['current_rank']\n",
    "    df['norm_rank'] = (inv_rank - inv_rank.min()) / (inv_rank.max() - inv_rank.min())\n",
    "\n",
    "    # 2) normalize prize: log(1 + prize) to dampen skew, then min–max scale\n",
    "    log_prize = np.log1p(df['total_prize'])\n",
    "    df['norm_prize'] = (log_prize - log_prize.min()) / (log_prize.max() - log_prize.min())\n",
    "\n",
    "    # 3) weighted sum\n",
    "    df['success_score'] = w1 * df['norm_rank'] + w2 * df['norm_prize']\n",
    "\n",
    "    return df\n",
    "compute_success_scores(players_df,w1= 0.5, w2=0.5).sort_values(by='success_score',ascending=False).dropna().iloc[:100].groupby('country').sum()['success_score'].sort_values(ascending=False)\n",
    "\n",
    "# compute_success_scores(players_df,w1= 0.5, w2=0.5).sort_values(by='success_score',ascending=False).dropna().iloc[:100].query(\"country == 'France'\")"
   ]
  },
  {
   "cell_type": "markdown",
   "id": "f5a3a1ed",
   "metadata": {},
   "source": [
    "### 7."
   ]
  },
  {
   "cell_type": "code",
   "execution_count": 68,
   "id": "45e64d72",
   "metadata": {},
   "outputs": [
    {
     "name": "stdout",
     "output_type": "stream",
     "text": [
      "[########################################] | 100% Completed | 106.73 s\n"
     ]
    }
   ],
   "source": [
    "with ProgressBar():\n",
    "    res = dd.read_parquet(render_addresses('stats'), columns = ['match_id','period','statistic_name','home_stat','away_stat']).compute()"
   ]
  },
  {
   "cell_type": "code",
   "execution_count": 86,
   "id": "feb8f7e9",
   "metadata": {},
   "outputs": [
    {
     "data": {
      "application/vnd.microsoft.datawrangler.viewer.v0+json": {
       "columns": [
        {
         "name": "index",
         "rawType": "int64",
         "type": "integer"
        },
        {
         "name": "match_id",
         "rawType": "int64",
         "type": "integer"
        },
        {
         "name": "period",
         "rawType": "string",
         "type": "string"
        },
        {
         "name": "statistic_name",
         "rawType": "string",
         "type": "string"
        },
        {
         "name": "home_stat",
         "rawType": "string",
         "type": "string"
        },
        {
         "name": "away_stat",
         "rawType": "string",
         "type": "string"
        }
       ],
       "ref": "9cfda8df-7327-4a39-b192-a4eb5072632e",
       "rows": [
        [
         "0",
         "11998445",
         "ALL",
         "aces",
         "12",
         "6"
        ],
        [
         "1",
         "11998445",
         "ALL",
         "double_faults",
         "2",
         "7"
        ],
        [
         "2",
         "11998445",
         "ALL",
         "first_serve",
         "57/101 (56%)",
         "53/90 (59%)"
        ],
        [
         "3",
         "11998445",
         "ALL",
         "second_serve",
         "42/44 (95%)",
         "30/37 (81%)"
        ],
        [
         "4",
         "11998445",
         "ALL",
         "first_serve_points",
         "42/57 (74%)",
         "39/53 (74%)"
        ],
        [
         "5",
         "11998445",
         "ALL",
         "second_serve_points",
         "18/44 (41%)",
         "16/37 (43%)"
        ],
        [
         "6",
         "11998445",
         "ALL",
         "service_games_played",
         "16",
         "16"
        ],
        [
         "7",
         "11998445",
         "ALL",
         "break_points_saved",
         "6/10 (60%)",
         "1/6 (16%)"
        ],
        [
         "8",
         "11998445",
         "ALL",
         "total",
         "95",
         "96"
        ],
        [
         "9",
         "11998445",
         "ALL",
         "service_points_won",
         "60",
         "55"
        ],
        [
         "10",
         "11998445",
         "ALL",
         "receiver_points_won",
         "35",
         "41"
        ],
        [
         "11",
         "11998445",
         "ALL",
         "max_points_in_a_row",
         "7",
         "8"
        ],
        [
         "12",
         "11998445",
         "ALL",
         "total_won",
         "17",
         "14"
        ],
        [
         "13",
         "11998445",
         "ALL",
         "service_games_won",
         "12",
         "11"
        ],
        [
         "14",
         "11998445",
         "ALL",
         "max_games_in_a_row",
         "5",
         "3"
        ],
        [
         "15",
         "11998445",
         "ALL",
         "first_serve_return_points",
         "14/53 (26%)",
         "15/57 (26%)"
        ],
        [
         "16",
         "11998445",
         "ALL",
         "second_serve_return_points",
         "21/37 (56%)",
         "26/44 (59%)"
        ],
        [
         "17",
         "11998445",
         "ALL",
         "return_games_played",
         "16",
         "16"
        ],
        [
         "18",
         "11998445",
         "ALL",
         "break_points_converted",
         "5",
         "4"
        ],
        [
         "19",
         "11998445",
         "ALL",
         "tiebreaks",
         "0",
         "1"
        ],
        [
         "20",
         "11998445",
         "1ST",
         "aces",
         "2",
         "3"
        ],
        [
         "21",
         "11998445",
         "1ST",
         "double_faults",
         "1",
         "2"
        ],
        [
         "22",
         "11998445",
         "1ST",
         "first_serve",
         "16/33 (48%)",
         "18/30 (60%)"
        ],
        [
         "23",
         "11998445",
         "1ST",
         "second_serve",
         "16/17 (94%)",
         "10/12 (83%)"
        ],
        [
         "24",
         "11998445",
         "1ST",
         "first_serve_points",
         "13/16 (81%)",
         "17/18 (94%)"
        ],
        [
         "25",
         "11998445",
         "1ST",
         "second_serve_points",
         "7/17 (41%)",
         "5/12 (42%)"
        ],
        [
         "26",
         "11998445",
         "1ST",
         "service_games_played",
         "6",
         "6"
        ],
        [
         "27",
         "11998445",
         "1ST",
         "break_points_saved",
         "0/2 (0%)",
         "1/2 (50%)"
        ],
        [
         "28",
         "11998445",
         "1ST",
         "service_points_won",
         "20",
         "22"
        ],
        [
         "29",
         "11998445",
         "1ST",
         "receiver_points_won",
         "8",
         "13"
        ],
        [
         "30",
         "11998445",
         "1ST",
         "max_points_in_a_row",
         "4",
         "5"
        ],
        [
         "31",
         "11998445",
         "1ST",
         "max_games_in_a_row",
         "3",
         "3"
        ],
        [
         "32",
         "11998445",
         "1ST",
         "first_serve_return_points",
         "1/18 (5%)",
         "3/16 (18%)"
        ],
        [
         "33",
         "11998445",
         "1ST",
         "second_serve_return_points",
         "7/12 (58%)",
         "10/17 (58%)"
        ],
        [
         "34",
         "11998445",
         "1ST",
         "return_games_played",
         "6",
         "6"
        ],
        [
         "35",
         "11998445",
         "1ST",
         "break_points_converted",
         "1",
         "2"
        ],
        [
         "36",
         "11998445",
         "1ST",
         "tiebreaks",
         "0",
         "0"
        ],
        [
         "37",
         "11998445",
         "2ND",
         "aces",
         "6",
         "3"
        ],
        [
         "38",
         "11998445",
         "2ND",
         "double_faults",
         "1",
         "2"
        ],
        [
         "39",
         "11998445",
         "2ND",
         "first_serve",
         "15/26 (58%)",
         "12/22 (55%)"
        ],
        [
         "40",
         "11998445",
         "2ND",
         "second_serve",
         "10/11 (91%)",
         "8/10 (80%)"
        ],
        [
         "41",
         "11998445",
         "2ND",
         "first_serve_points",
         "12/15 (80%)",
         "7/12 (58%)"
        ],
        [
         "42",
         "11998445",
         "2ND",
         "second_serve_points",
         "6/11 (55%)",
         "3/10 (30%)"
        ],
        [
         "43",
         "11998445",
         "2ND",
         "service_games_played",
         "4",
         "4"
        ],
        [
         "44",
         "11998445",
         "2ND",
         "break_points_saved",
         "3/3 (100%)",
         "0/2 (0%)"
        ],
        [
         "45",
         "11998445",
         "2ND",
         "service_points_won",
         "18",
         "10"
        ],
        [
         "46",
         "11998445",
         "2ND",
         "receiver_points_won",
         "12",
         "8"
        ],
        [
         "47",
         "11998445",
         "2ND",
         "max_points_in_a_row",
         "7",
         "3"
        ],
        [
         "48",
         "11998445",
         "2ND",
         "max_games_in_a_row",
         "3",
         "1"
        ],
        [
         "49",
         "11998445",
         "2ND",
         "first_serve_return_points",
         "5/12 (41%)",
         "3/15 (20%)"
        ]
       ],
       "shape": {
        "columns": 5,
        "rows": 1358234
       }
      },
      "text/html": [
       "<div>\n",
       "<style scoped>\n",
       "    .dataframe tbody tr th:only-of-type {\n",
       "        vertical-align: middle;\n",
       "    }\n",
       "\n",
       "    .dataframe tbody tr th {\n",
       "        vertical-align: top;\n",
       "    }\n",
       "\n",
       "    .dataframe thead th {\n",
       "        text-align: right;\n",
       "    }\n",
       "</style>\n",
       "<table border=\"1\" class=\"dataframe\">\n",
       "  <thead>\n",
       "    <tr style=\"text-align: right;\">\n",
       "      <th></th>\n",
       "      <th>match_id</th>\n",
       "      <th>period</th>\n",
       "      <th>statistic_name</th>\n",
       "      <th>home_stat</th>\n",
       "      <th>away_stat</th>\n",
       "    </tr>\n",
       "  </thead>\n",
       "  <tbody>\n",
       "    <tr>\n",
       "      <th>0</th>\n",
       "      <td>11998445</td>\n",
       "      <td>ALL</td>\n",
       "      <td>aces</td>\n",
       "      <td>12</td>\n",
       "      <td>6</td>\n",
       "    </tr>\n",
       "    <tr>\n",
       "      <th>1</th>\n",
       "      <td>11998445</td>\n",
       "      <td>ALL</td>\n",
       "      <td>double_faults</td>\n",
       "      <td>2</td>\n",
       "      <td>7</td>\n",
       "    </tr>\n",
       "    <tr>\n",
       "      <th>2</th>\n",
       "      <td>11998445</td>\n",
       "      <td>ALL</td>\n",
       "      <td>first_serve</td>\n",
       "      <td>57/101 (56%)</td>\n",
       "      <td>53/90 (59%)</td>\n",
       "    </tr>\n",
       "    <tr>\n",
       "      <th>3</th>\n",
       "      <td>11998445</td>\n",
       "      <td>ALL</td>\n",
       "      <td>second_serve</td>\n",
       "      <td>42/44 (95%)</td>\n",
       "      <td>30/37 (81%)</td>\n",
       "    </tr>\n",
       "    <tr>\n",
       "      <th>4</th>\n",
       "      <td>11998445</td>\n",
       "      <td>ALL</td>\n",
       "      <td>first_serve_points</td>\n",
       "      <td>42/57 (74%)</td>\n",
       "      <td>39/53 (74%)</td>\n",
       "    </tr>\n",
       "    <tr>\n",
       "      <th>...</th>\n",
       "      <td>...</td>\n",
       "      <td>...</td>\n",
       "      <td>...</td>\n",
       "      <td>...</td>\n",
       "      <td>...</td>\n",
       "    </tr>\n",
       "    <tr>\n",
       "      <th>48</th>\n",
       "      <td>12213803</td>\n",
       "      <td>2ND</td>\n",
       "      <td>max_games_in_a_row</td>\n",
       "      <td>4</td>\n",
       "      <td>1</td>\n",
       "    </tr>\n",
       "    <tr>\n",
       "      <th>49</th>\n",
       "      <td>12213803</td>\n",
       "      <td>2ND</td>\n",
       "      <td>first_serve_return_points</td>\n",
       "      <td>10/16 (62%)</td>\n",
       "      <td>4/13 (30%)</td>\n",
       "    </tr>\n",
       "    <tr>\n",
       "      <th>50</th>\n",
       "      <td>12213803</td>\n",
       "      <td>2ND</td>\n",
       "      <td>second_serve_return_points</td>\n",
       "      <td>8/14 (57%)</td>\n",
       "      <td>6/13 (46%)</td>\n",
       "    </tr>\n",
       "    <tr>\n",
       "      <th>51</th>\n",
       "      <td>12213803</td>\n",
       "      <td>2ND</td>\n",
       "      <td>return_games_played</td>\n",
       "      <td>4</td>\n",
       "      <td>3</td>\n",
       "    </tr>\n",
       "    <tr>\n",
       "      <th>52</th>\n",
       "      <td>12213803</td>\n",
       "      <td>2ND</td>\n",
       "      <td>break_points_converted</td>\n",
       "      <td>3</td>\n",
       "      <td>0</td>\n",
       "    </tr>\n",
       "  </tbody>\n",
       "</table>\n",
       "<p>1358234 rows × 5 columns</p>\n",
       "</div>"
      ],
      "text/plain": [
       "    match_id period              statistic_name     home_stat    away_stat\n",
       "0   11998445    ALL                        aces            12            6\n",
       "1   11998445    ALL               double_faults             2            7\n",
       "2   11998445    ALL                 first_serve  57/101 (56%)  53/90 (59%)\n",
       "3   11998445    ALL                second_serve   42/44 (95%)  30/37 (81%)\n",
       "4   11998445    ALL          first_serve_points   42/57 (74%)  39/53 (74%)\n",
       "..       ...    ...                         ...           ...          ...\n",
       "48  12213803    2ND          max_games_in_a_row             4            1\n",
       "49  12213803    2ND   first_serve_return_points   10/16 (62%)   4/13 (30%)\n",
       "50  12213803    2ND  second_serve_return_points    8/14 (57%)   6/13 (46%)\n",
       "51  12213803    2ND         return_games_played             4            3\n",
       "52  12213803    2ND      break_points_converted             3            0\n",
       "\n",
       "[1358234 rows x 5 columns]"
      ]
     },
     "execution_count": 86,
     "metadata": {},
     "output_type": "execute_result"
    }
   ],
   "source": [
    "res"
   ]
  },
  {
   "cell_type": "code",
   "execution_count": 70,
   "id": "60b7fafa",
   "metadata": {},
   "outputs": [],
   "source": [
    "df = pd.read_csv(\"CSVs\\\\7_8_stats.csv\")\n",
    "filtered_df = df.query(\"statistic_name == 'aces' and period == 'ALL'\")\n",
    "filtered_df.drop_duplicates(inplace=True)\n",
    "filtered_df.drop(columns=['statistic_name','period'], inplace=True, errors='ignore')\n",
    "filtered_df.loc[:,\"home_stat\"] = filtered_df.loc[:,\"home_stat\"].astype(int)\n",
    "filtered_df.loc[:,\"away_stat\"] = filtered_df.loc[:,\"away_stat\"].astype(int)"
   ]
  },
  {
   "cell_type": "code",
   "execution_count": 71,
   "id": "1d96b05e",
   "metadata": {},
   "outputs": [
    {
     "data": {
      "text/plain": [
       "5.447715824214001"
      ]
     },
     "execution_count": 71,
     "metadata": {},
     "output_type": "execute_result"
    }
   ],
   "source": [
    "filtered_df.loc[:,'aces'] = filtered_df['home_stat'] + filtered_df['away_stat']\n",
    "filtered_df['aces'].mean()"
   ]
  },
  {
   "cell_type": "markdown",
   "id": "272d6d67",
   "metadata": {},
   "source": [
    "### 8."
   ]
  },
  {
   "cell_type": "code",
   "execution_count": 54,
   "id": "df24758b",
   "metadata": {},
   "outputs": [],
   "source": [
    "home_df = dd.read_parquet(render_addresses('match',kind='home_team'), columns=['match_id','player_id','gender'])\n",
    "away_df = dd.read_parquet(render_addresses('match',kind='away_team'), columns=['match_id','player_id','gender'])"
   ]
  },
  {
   "cell_type": "code",
   "execution_count": 57,
   "id": "6d7658f7",
   "metadata": {},
   "outputs": [
    {
     "name": "stdout",
     "output_type": "stream",
     "text": [
      "[########################################] | 100% Completed | 102.16 s\n"
     ]
    }
   ],
   "source": [
    "with ProgressBar():\n",
    "    result = away_df.compute()"
   ]
  },
  {
   "cell_type": "code",
   "execution_count": 104,
   "id": "9cc763e8",
   "metadata": {},
   "outputs": [],
   "source": [
    "stats_df = pd.read_csv(\"CSVs\\\\7_8_stats.csv\")\n",
    "home_df = pd.read_csv(\"CSVs\\\\8_home_df.csv\")\n",
    "away_df = pd.read_csv(\"CSVs\\\\8_away_df.csv\")\n",
    "filtered_stats = stats_df.query(\"statistic_name == 'double_faults' and period == 'ALL'\")\n",
    "filtered_stats.drop_duplicates(subset='match_id', inplace=True)\n",
    "filtered_stats.drop(columns=['statistic_name','period'], inplace=True, errors='ignore')\n",
    "filtered_stats.loc[:,\"home_stat\"] = filtered_stats.loc[:,\"home_stat\"].astype(int)\n",
    "filtered_stats.loc[:,\"away_stat\"] = filtered_stats.loc[:,\"away_stat\"].astype(int)\n",
    "home_df.drop_duplicates(subset='match_id', inplace=True)\n",
    "away_df.drop_duplicates(subset='match_id', inplace=True)"
   ]
  },
  {
   "cell_type": "code",
   "execution_count": 118,
   "id": "86e8fb47",
   "metadata": {},
   "outputs": [
    {
     "data": {
      "application/vnd.microsoft.datawrangler.viewer.v0+json": {
       "columns": [
        {
         "name": "gender",
         "rawType": "object",
         "type": "string"
        },
        {
         "name": "double_faults",
         "rawType": "object",
         "type": "unknown"
        }
       ],
       "ref": "c579554f-06b0-4bfa-8bff-a36287e84cfb",
       "rows": [
        [
         "F",
         "3.499885268471776"
        ],
        [
         "M",
         "2.696503999281028"
        ]
       ],
       "shape": {
        "columns": 1,
        "rows": 2
       }
      },
      "text/html": [
       "<div>\n",
       "<style scoped>\n",
       "    .dataframe tbody tr th:only-of-type {\n",
       "        vertical-align: middle;\n",
       "    }\n",
       "\n",
       "    .dataframe tbody tr th {\n",
       "        vertical-align: top;\n",
       "    }\n",
       "\n",
       "    .dataframe thead th {\n",
       "        text-align: right;\n",
       "    }\n",
       "</style>\n",
       "<table border=\"1\" class=\"dataframe\">\n",
       "  <thead>\n",
       "    <tr style=\"text-align: right;\">\n",
       "      <th></th>\n",
       "      <th>double_faults</th>\n",
       "    </tr>\n",
       "    <tr>\n",
       "      <th>gender</th>\n",
       "      <th></th>\n",
       "    </tr>\n",
       "  </thead>\n",
       "  <tbody>\n",
       "    <tr>\n",
       "      <th>F</th>\n",
       "      <td>3.499885</td>\n",
       "    </tr>\n",
       "    <tr>\n",
       "      <th>M</th>\n",
       "      <td>2.696504</td>\n",
       "    </tr>\n",
       "  </tbody>\n",
       "</table>\n",
       "</div>"
      ],
      "text/plain": [
       "       double_faults\n",
       "gender              \n",
       "F           3.499885\n",
       "M           2.696504"
      ]
     },
     "execution_count": 118,
     "metadata": {},
     "output_type": "execute_result"
    }
   ],
   "source": [
    "merged_home = filtered_stats.drop(columns = ['away_stat']).merge(home_df, on='match_id', how='inner').rename(columns={'home_stat':'double_faults'})\n",
    "merged_away = filtered_stats.drop(columns = ['home_stat']).merge(away_df, on='match_id', how='inner').rename(columns={'away_stat':'double_faults'})\n",
    "double_faults = pd.concat([merged_home, merged_away])\n",
    "double_faults.groupby('gender').agg({'double_faults':'mean'})"
   ]
  },
  {
   "cell_type": "markdown",
   "id": "3ef3f341",
   "metadata": {},
   "source": [
    "### 9."
   ]
  },
  {
   "cell_type": "code",
   "execution_count": 141,
   "id": "ae6e66b3",
   "metadata": {},
   "outputs": [],
   "source": [
    "round_df = dd.read_parquet(render_addresses('match',date_arr=dates_tuple[29:], kind='round'), columns=['match_id','slug'])\n",
    "# match_df = dd.read_parquet(event_addresses, columns=['match_id','winner_code'])\n",
    "# home_df = dd.read_parquet(home_addresses, columns=['match_id','player_id','full_name'])\n",
    "# away_df = dd.read_parquet(away_addresses, columns=['match_id','player_id','full_name'])"
   ]
  },
  {
   "cell_type": "code",
   "execution_count": 142,
   "id": "e975ae08",
   "metadata": {},
   "outputs": [
    {
     "name": "stdout",
     "output_type": "stream",
     "text": [
      "[########################################] | 100% Completed | 30.40 s\n"
     ]
    }
   ],
   "source": [
    "with ProgressBar():\n",
    "    result = round_df.compute()"
   ]
  },
  {
   "cell_type": "code",
   "execution_count": 144,
   "id": "4553fb3c",
   "metadata": {},
   "outputs": [
    {
     "data": {
      "application/vnd.microsoft.datawrangler.viewer.v0+json": {
       "columns": [
        {
         "name": "index",
         "rawType": "int64",
         "type": "integer"
        },
        {
         "name": "match_id",
         "rawType": "int64",
         "type": "integer"
        },
        {
         "name": "slug",
         "rawType": "string",
         "type": "string"
        }
       ],
       "ref": "dd4aed48-e28b-411e-8bbe-2e426ef1555c",
       "rows": [
        [
         "0",
         "12087266",
         "round-of-16"
        ],
        [
         "0",
         "12087267",
         "quarterfinals"
        ],
        [
         "0",
         "12087269",
         "quarterfinals"
        ],
        [
         "0",
         "12087270",
         "round-of-16"
        ],
        [
         "0",
         "12087271",
         "round-of-16"
        ],
        [
         "0",
         "12087277",
         "quarterfinals"
        ],
        [
         "0",
         "12087279",
         "quarterfinals"
        ],
        [
         "0",
         "12087282",
         "round-of-16"
        ],
        [
         "0",
         "12087303",
         "quarterfinals"
        ],
        [
         "0",
         "12087305",
         "round-of-16"
        ],
        [
         "0",
         "12087307",
         "round-of-16"
        ],
        [
         "0",
         "12087309",
         "quarterfinals"
        ],
        [
         "0",
         "12087310",
         "round-of-16"
        ],
        [
         "0",
         "12087311",
         "quarterfinals"
        ],
        [
         "0",
         "12087314",
         "quarterfinals"
        ],
        [
         "0",
         "12087318",
         "round-of-16"
        ],
        [
         "0",
         "12087889",
         "semifinals"
        ],
        [
         "0",
         "12087895",
         "quarterfinals"
        ],
        [
         "0",
         "12087900",
         "quarterfinals"
        ],
        [
         "0",
         "12087901",
         "semifinals"
        ],
        [
         "0",
         "12087917",
         "quarterfinals"
        ],
        [
         "0",
         "12087922",
         "semifinals"
        ],
        [
         "0",
         "12087923",
         "semifinals"
        ],
        [
         "0",
         "12087924",
         "quarterfinals"
        ],
        [
         "0",
         "12087925",
         "quarterfinals"
        ],
        [
         "0",
         "12087927",
         "quarterfinals"
        ],
        [
         "0",
         "12087936",
         "quarterfinals"
        ],
        [
         "0",
         "12087937",
         "round-of-16"
        ],
        [
         "0",
         "12087939",
         "quarterfinals"
        ],
        [
         "0",
         "12087941",
         "round-of-16"
        ],
        [
         "0",
         "12087942",
         "round-of-16"
        ],
        [
         "0",
         "12087946",
         "quarterfinals"
        ],
        [
         "0",
         "12087947",
         "quarterfinals"
        ],
        [
         "0",
         "12087949",
         "round-of-16"
        ],
        [
         "0",
         "12088016",
         "quarterfinals"
        ],
        [
         "0",
         "12088018",
         "quarterfinals"
        ],
        [
         "0",
         "12088019",
         "quarterfinals"
        ],
        [
         "0",
         "12088020",
         "round-of-16"
        ],
        [
         "0",
         "12088021",
         "quarterfinals"
        ],
        [
         "0",
         "12088025",
         "round-of-16"
        ],
        [
         "0",
         "12088027",
         "round-of-16"
        ],
        [
         "0",
         "12088038",
         "quarterfinals"
        ],
        [
         "0",
         "12088040",
         "semifinals"
        ],
        [
         "0",
         "12088046",
         "quarterfinals"
        ],
        [
         "0",
         "12088049",
         "quarterfinals"
        ],
        [
         "0",
         "12088050",
         "quarterfinals"
        ],
        [
         "0",
         "12088051",
         "semifinals"
        ],
        [
         "0",
         "12088056",
         "final"
        ],
        [
         "0",
         "12088057",
         "semifinals"
        ],
        [
         "0",
         "12088058",
         "semifinals"
        ]
       ],
       "shape": {
        "columns": 2,
        "rows": 10516
       }
      },
      "text/html": [
       "<div>\n",
       "<style scoped>\n",
       "    .dataframe tbody tr th:only-of-type {\n",
       "        vertical-align: middle;\n",
       "    }\n",
       "\n",
       "    .dataframe tbody tr th {\n",
       "        vertical-align: top;\n",
       "    }\n",
       "\n",
       "    .dataframe thead th {\n",
       "        text-align: right;\n",
       "    }\n",
       "</style>\n",
       "<table border=\"1\" class=\"dataframe\">\n",
       "  <thead>\n",
       "    <tr style=\"text-align: right;\">\n",
       "      <th></th>\n",
       "      <th>match_id</th>\n",
       "      <th>slug</th>\n",
       "    </tr>\n",
       "  </thead>\n",
       "  <tbody>\n",
       "    <tr>\n",
       "      <th>0</th>\n",
       "      <td>12087266</td>\n",
       "      <td>round-of-16</td>\n",
       "    </tr>\n",
       "    <tr>\n",
       "      <th>0</th>\n",
       "      <td>12087267</td>\n",
       "      <td>quarterfinals</td>\n",
       "    </tr>\n",
       "    <tr>\n",
       "      <th>0</th>\n",
       "      <td>12087269</td>\n",
       "      <td>quarterfinals</td>\n",
       "    </tr>\n",
       "    <tr>\n",
       "      <th>0</th>\n",
       "      <td>12087270</td>\n",
       "      <td>round-of-16</td>\n",
       "    </tr>\n",
       "    <tr>\n",
       "      <th>0</th>\n",
       "      <td>12087271</td>\n",
       "      <td>round-of-16</td>\n",
       "    </tr>\n",
       "    <tr>\n",
       "      <th>...</th>\n",
       "      <td>...</td>\n",
       "      <td>...</td>\n",
       "    </tr>\n",
       "    <tr>\n",
       "      <th>0</th>\n",
       "      <td>12212076</td>\n",
       "      <td>round-of-32</td>\n",
       "    </tr>\n",
       "    <tr>\n",
       "      <th>0</th>\n",
       "      <td>12212077</td>\n",
       "      <td>round-of-32</td>\n",
       "    </tr>\n",
       "    <tr>\n",
       "      <th>0</th>\n",
       "      <td>12212078</td>\n",
       "      <td>round-of-32</td>\n",
       "    </tr>\n",
       "    <tr>\n",
       "      <th>0</th>\n",
       "      <td>12212080</td>\n",
       "      <td>round-of-32</td>\n",
       "    </tr>\n",
       "    <tr>\n",
       "      <th>0</th>\n",
       "      <td>12212087</td>\n",
       "      <td>round-of-32</td>\n",
       "    </tr>\n",
       "  </tbody>\n",
       "</table>\n",
       "<p>10516 rows × 2 columns</p>\n",
       "</div>"
      ],
      "text/plain": [
       "    match_id           slug\n",
       "0   12087266    round-of-16\n",
       "0   12087267  quarterfinals\n",
       "0   12087269  quarterfinals\n",
       "0   12087270    round-of-16\n",
       "0   12087271    round-of-16\n",
       "..       ...            ...\n",
       "0   12212076    round-of-32\n",
       "0   12212077    round-of-32\n",
       "0   12212078    round-of-32\n",
       "0   12212080    round-of-32\n",
       "0   12212087    round-of-32\n",
       "\n",
       "[10516 rows x 2 columns]"
      ]
     },
     "execution_count": 144,
     "metadata": {},
     "output_type": "execute_result"
    }
   ],
   "source": [
    "result"
   ]
  },
  {
   "cell_type": "code",
   "execution_count": 145,
   "id": "68983567",
   "metadata": {},
   "outputs": [],
   "source": [
    "round_feb_df = pd.read_csv(\"CSVs\\\\9_round_feb.csv\")\n",
    "round_mar_df = pd.read_csv(\"CSVs\\\\9_round_mar.csv\")\n",
    "match_df = pd.read_csv(\"CSVs\\\\3_match_df.csv\")\n",
    "home_df = pd.read_csv(\"CSVs\\\\3_home_df.csv\")\n",
    "away_df = pd.read_csv(\"CSVs\\\\3_away_df.csv\")"
   ]
  },
  {
   "cell_type": "code",
   "execution_count": 165,
   "id": "a3124081",
   "metadata": {},
   "outputs": [
    {
     "data": {
      "application/vnd.microsoft.datawrangler.viewer.v0+json": {
       "columns": [
        {
         "name": "index",
         "rawType": "int64",
         "type": "integer"
        },
        {
         "name": "month",
         "rawType": "object",
         "type": "string"
        },
        {
         "name": "full_name",
         "rawType": "object",
         "type": "string"
        },
        {
         "name": "player_id",
         "rawType": "int64",
         "type": "integer"
        }
       ],
       "ref": "d1cba397-3e16-4aef-b067-bbd2d3dc9866",
       "rows": [
        [
         "26",
         "feb",
         "Gengel, Marek",
         "6"
        ],
        [
         "158",
         "mar",
         "Nicod, Jakub",
         "6"
        ],
        [
         "67",
         "feb",
         "Popko, Dmitry",
         "6"
        ],
        [
         "132",
         "mar",
         "Jianu, Filip Cristian",
         "6"
        ],
        [
         "13",
         "feb",
         "Chidekh, Clement",
         "5"
        ],
        [
         "18",
         "feb",
         "Dellien Velasco, Murkel Alejandro",
         "5"
        ],
        [
         "153",
         "mar",
         "Midon, Lautaro",
         "4"
        ],
        [
         "165",
         "mar",
         "Quevedo, Kaitlin",
         "4"
        ],
        [
         "176",
         "mar",
         "Shiraishi, Hikaru",
         "4"
        ],
        [
         "44",
         "feb",
         "Kužmová, Katarína",
         "4"
        ],
        [
         "144",
         "mar",
         "Kwiatkowski, Thai-Son",
         "4"
        ],
        [
         "36",
         "feb",
         "Jasika, Omar",
         "4"
        ],
        [
         "14",
         "feb",
         "Ciric Bagaric, Lucija",
         "4"
        ],
        [
         "39",
         "feb",
         "Kessler, McCartney",
         "4"
        ],
        [
         "96",
         "mar",
         "Bolt, Alex",
         "4"
        ],
        [
         "81",
         "feb",
         "Valentova, Tereza",
         "4"
        ],
        [
         "130",
         "mar",
         "Jakupovic, Dalila",
         "4"
        ],
        [
         "122",
         "mar",
         "Helgo, Malene",
         "4"
        ],
        [
         "120",
         "mar",
         "Harrison, Catherine",
         "4"
        ],
        [
         "110",
         "mar",
         "Faria, Jaime",
         "4"
        ],
        [
         "95",
         "mar",
         "Boisson, Loïs",
         "4"
        ],
        [
         "71",
         "feb",
         "Semenistaja, Darja",
         "3"
        ],
        [
         "114",
         "mar",
         "Gerch, Lucas",
         "3"
        ],
        [
         "1",
         "feb",
         "Avdeeva, Julia",
         "3"
        ],
        [
         "46",
         "feb",
         "Landaluce, Martin",
         "3"
        ],
        [
         "55",
         "feb",
         "Miyazaki, Yuriko Lily",
         "3"
        ],
        [
         "161",
         "mar",
         "Ovcharenko, Oleksandr",
         "3"
        ],
        [
         "69",
         "feb",
         "Rybakina, Elena",
         "3"
        ],
        [
         "148",
         "mar",
         "Majchrzak, Kamil",
         "3"
        ],
        [
         "60",
         "feb",
         "Napolitano, Stefano",
         "3"
        ],
        [
         "61",
         "feb",
         "Ostapenko, Jelena",
         "3"
        ],
        [
         "68",
         "feb",
         "Rodionov, Jurij",
         "3"
        ],
        [
         "0",
         "feb",
         "Agwi, Michael",
         "3"
        ],
        [
         "195",
         "mar",
         "Virtanen, Otto",
         "3"
        ],
        [
         "185",
         "mar",
         "Tan, Harmony",
         "3"
        ],
        [
         "27",
         "feb",
         "Gigante, Matteo",
         "3"
        ],
        [
         "172",
         "mar",
         "Salle, Fabien",
         "2"
        ],
        [
         "131",
         "mar",
         "Jamrichova, Renata",
         "2"
        ],
        [
         "126",
         "mar",
         "Humbert, Ugo",
         "2"
        ],
        [
         "127",
         "mar",
         "Hussey, Giles",
         "2"
        ],
        [
         "128",
         "mar",
         "Imamura, Saki",
         "2"
        ],
        [
         "129",
         "mar",
         "Inglis, Maddison",
         "2"
        ],
        [
         "192",
         "mar",
         "Ursu, Vadym",
         "2"
        ],
        [
         "191",
         "mar",
         "Ugo Carabelli, Camilo",
         "2"
        ],
        [
         "124",
         "mar",
         "Holt, Brandon",
         "2"
        ],
        [
         "190",
         "mar",
         "Tubello, Alice",
         "2"
        ],
        [
         "133",
         "mar",
         "Joint, Maya",
         "2"
        ],
        [
         "134",
         "mar",
         "Karlovskiy, Evgeny",
         "2"
        ],
        [
         "135",
         "mar",
         "Kirkin, Ergi",
         "2"
        ],
        [
         "136",
         "mar",
         "Klimovicova, Linda",
         "2"
        ]
       ],
       "shape": {
        "columns": 3,
        "rows": 202
       }
      },
      "text/html": [
       "<div>\n",
       "<style scoped>\n",
       "    .dataframe tbody tr th:only-of-type {\n",
       "        vertical-align: middle;\n",
       "    }\n",
       "\n",
       "    .dataframe tbody tr th {\n",
       "        vertical-align: top;\n",
       "    }\n",
       "\n",
       "    .dataframe thead th {\n",
       "        text-align: right;\n",
       "    }\n",
       "</style>\n",
       "<table border=\"1\" class=\"dataframe\">\n",
       "  <thead>\n",
       "    <tr style=\"text-align: right;\">\n",
       "      <th></th>\n",
       "      <th>month</th>\n",
       "      <th>full_name</th>\n",
       "      <th>player_id</th>\n",
       "    </tr>\n",
       "  </thead>\n",
       "  <tbody>\n",
       "    <tr>\n",
       "      <th>26</th>\n",
       "      <td>feb</td>\n",
       "      <td>Gengel, Marek</td>\n",
       "      <td>6</td>\n",
       "    </tr>\n",
       "    <tr>\n",
       "      <th>158</th>\n",
       "      <td>mar</td>\n",
       "      <td>Nicod, Jakub</td>\n",
       "      <td>6</td>\n",
       "    </tr>\n",
       "    <tr>\n",
       "      <th>67</th>\n",
       "      <td>feb</td>\n",
       "      <td>Popko, Dmitry</td>\n",
       "      <td>6</td>\n",
       "    </tr>\n",
       "    <tr>\n",
       "      <th>132</th>\n",
       "      <td>mar</td>\n",
       "      <td>Jianu, Filip Cristian</td>\n",
       "      <td>6</td>\n",
       "    </tr>\n",
       "    <tr>\n",
       "      <th>13</th>\n",
       "      <td>feb</td>\n",
       "      <td>Chidekh, Clement</td>\n",
       "      <td>5</td>\n",
       "    </tr>\n",
       "    <tr>\n",
       "      <th>...</th>\n",
       "      <td>...</td>\n",
       "      <td>...</td>\n",
       "      <td>...</td>\n",
       "    </tr>\n",
       "    <tr>\n",
       "      <th>152</th>\n",
       "      <td>mar</td>\n",
       "      <td>Mejia, Nicolas</td>\n",
       "      <td>1</td>\n",
       "    </tr>\n",
       "    <tr>\n",
       "      <th>163</th>\n",
       "      <td>mar</td>\n",
       "      <td>Podoroska, Nadia</td>\n",
       "      <td>1</td>\n",
       "    </tr>\n",
       "    <tr>\n",
       "      <th>193</th>\n",
       "      <td>mar</td>\n",
       "      <td>Vallejo Daniel</td>\n",
       "      <td>1</td>\n",
       "    </tr>\n",
       "    <tr>\n",
       "      <th>157</th>\n",
       "      <td>mar</td>\n",
       "      <td>Nardi, Luca</td>\n",
       "      <td>1</td>\n",
       "    </tr>\n",
       "    <tr>\n",
       "      <th>177</th>\n",
       "      <td>mar</td>\n",
       "      <td>Sinner, Jannik</td>\n",
       "      <td>1</td>\n",
       "    </tr>\n",
       "  </tbody>\n",
       "</table>\n",
       "<p>202 rows × 3 columns</p>\n",
       "</div>"
      ],
      "text/plain": [
       "    month              full_name  player_id\n",
       "26    feb          Gengel, Marek          6\n",
       "158   mar           Nicod, Jakub          6\n",
       "67    feb          Popko, Dmitry          6\n",
       "132   mar  Jianu, Filip Cristian          6\n",
       "13    feb       Chidekh, Clement          5\n",
       "..    ...                    ...        ...\n",
       "152   mar         Mejia, Nicolas          1\n",
       "163   mar       Podoroska, Nadia          1\n",
       "193   mar         Vallejo Daniel          1\n",
       "157   mar            Nardi, Luca          1\n",
       "177   mar         Sinner, Jannik          1\n",
       "\n",
       "[202 rows x 3 columns]"
      ]
     },
     "execution_count": 165,
     "metadata": {},
     "output_type": "execute_result"
    }
   ],
   "source": [
    "match_df.drop_duplicates(subset='match_id', inplace=True)\n",
    "home_df.drop_duplicates(subset='match_id', inplace=True)\n",
    "away_df.drop_duplicates(subset='match_id', inplace=True)\n",
    "finals_feb_df  = round_feb_df.query(\"slug == 'final'\")\n",
    "finals_mar_df  = round_mar_df.query(\"slug == 'final'\")\n",
    "finals_feb_df.rename(columns={'slug':'month'}, inplace=True)\n",
    "finals_mar_df.rename(columns={'slug':'month'}, inplace=True)\n",
    "finals_feb_df.month = 'feb'\n",
    "finals_mar_df.month = 'mar'\n",
    "finals_df = pd.concat([finals_feb_df, finals_mar_df])\n",
    "df_ = finals_df.merge(match_df, on='match_id', how='inner')\n",
    "main_df = pd.concat([\n",
    "df_.query('winner_code == 1').merge(home_df, on='match_id', how='inner'),\n",
    "df_.query('winner_code == 2').merge(away_df, on='match_id', how='inner')\n",
    "])\n",
    "main_df.groupby(['month','full_name']).agg({'player_id':'count'}).reset_index().sort_values(by='player_id',ascending=False)"
   ]
  },
  {
   "cell_type": "markdown",
   "id": "31d4c751",
   "metadata": {},
   "source": [
    "### 10."
   ]
  },
  {
   "cell_type": "code",
   "execution_count": null,
   "id": "4301a1c1",
   "metadata": {},
   "outputs": [],
   "source": []
  }
 ],
 "metadata": {
  "kernelspec": {
   "display_name": "base",
   "language": "python",
   "name": "python3"
  },
  "language_info": {
   "codemirror_mode": {
    "name": "ipython",
    "version": 3
   },
   "file_extension": ".py",
   "mimetype": "text/x-python",
   "name": "python",
   "nbconvert_exporter": "python",
   "pygments_lexer": "ipython3",
   "version": "3.12.3"
  }
 },
 "nbformat": 4,
 "nbformat_minor": 5
}
