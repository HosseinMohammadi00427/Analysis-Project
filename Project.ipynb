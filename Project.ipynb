{
 "cells": [
  {
   "cell_type": "code",
   "execution_count": 1,
   "id": "f27dcbf6",
   "metadata": {},
   "outputs": [],
   "source": [
    "# Importing necessary files.\n",
    "import numpy as np\n",
    "import matplotlib.pyplot as plt\n",
    "import pandas as pd\n",
    "import seaborn as sns\n",
    "import glob, os\n",
    "\n",
    "# Added dask to accelerate data handling.\n",
    "import dask.dataframe as dd\n",
    "from dask.diagnostics import ProgressBar\n",
    "\n",
    "# Turn off the pandas warnings and alerts.\n",
    "import warnings\n",
    "warnings.simplefilter(action='ignore')"
   ]
  },
  {
   "cell_type": "code",
   "execution_count": 3,
   "id": "8f885e42",
   "metadata": {},
   "outputs": [],
   "source": [
    "# Collect all dates in a tuple.\n",
    "dates_tuple = tuple([f'202402'+str(i) if i>=10 else '2024020'+str(i)  for i in range(1,30)] + \n",
    "                    [f'202403'+str(i) if i>=10 else '2024030'+str(i)  for i in range(1,32)])\n",
    "# Define subfolders shorthand for smoother manipulation.\n",
    "subfolders_dic = {'match':'raw_match_parquet',\n",
    "                  'odds':'raw_odds_parquet',\n",
    "                  'pbp':'raw_point_by_point_parquet',\n",
    "                  'stats':'raw_statistics_parquet',\n",
    "                  'power':'raw_tennis_power_parquet',\n",
    "                  'votes':'raw_votes_parquet'\n",
    "                  }\n",
    "# Define function to render addresses.\n",
    "def render_addresses(subfolder:str, date_arr = None, kind:str = \"\"):\n",
    "    \"\"\"\n",
    "    Function to render addresses.\n",
    "    It takes a subfolder, array of dates and kind of file as inputs.\n",
    "    \"\"\"\n",
    "    result = []\n",
    "    date_arr = dates_tuple if not date_arr else date_arr\n",
    "    if kind:\n",
    "        result = [file for dt in date_arr\n",
    "        for file in glob.glob(f\"Tennis Schema\\\\{dt}\\\\data\\\\raw\\\\{subfolders_dic[subfolder]}\\\\{kind}_[!s]*.parquet\")]\n",
    "    else:\n",
    "        result = [file for dt in date_arr\n",
    "        for file in glob.glob(f\"Tennis Schema\\\\{dt}\\\\data\\\\raw\\\\{subfolders_dic[subfolder]}\\\\*.parquet\")]\n",
    "    return result"
   ]
  },
  {
   "cell_type": "markdown",
   "id": "921ec1dc",
   "metadata": {},
   "source": [
    "### 1."
   ]
  },
  {
   "cell_type": "code",
   "execution_count": null,
   "id": "9c52d63c",
   "metadata": {},
   "outputs": [],
   "source": [
    "# How many players are there in the dataset?\n",
    "# Let me find all the data associated with players in the parquet files.\n",
    "# We just need ID of the players to distinguish them, no need to their name or other personal information.\n",
    "players_id_df = dd.read_parquet(render_addresses('match', kind='*_team'),columns=['player_id'])"
   ]
  },
  {
   "cell_type": "code",
   "execution_count": 167,
   "id": "84fd0d1b",
   "metadata": {},
   "outputs": [
    {
     "name": "stdout",
     "output_type": "stream",
     "text": [
      "[########################################] | 100% Completed | 119.58 s\n"
     ]
    }
   ],
   "source": [
    "# Extracting the results into csv for faster manipulation with pandas.\n",
    "with ProgressBar():\n",
    "    result = players_id_df.compute()"
   ]
  },
  {
   "cell_type": "code",
   "execution_count": null,
   "id": "54b252cc",
   "metadata": {},
   "outputs": [
    {
     "data": {
      "application/vnd.microsoft.datawrangler.viewer.v0+json": {
       "columns": [
        {
         "name": "index",
         "rawType": "int64",
         "type": "integer"
        },
        {
         "name": "player_id",
         "rawType": "int64",
         "type": "integer"
        }
       ],
       "ref": "66bdbb4d-f2ee-45ad-a107-7cc942a2b5eb",
       "rows": [
        [
         "0",
         "192013"
        ],
        [
         "0",
         "273680"
        ],
        [
         "0",
         "77223"
        ],
        [
         "0",
         "88992"
        ],
        [
         "0",
         "248846"
        ],
        [
         "0",
         "163480"
        ],
        [
         "0",
         "67154"
        ],
        [
         "0",
         "163480"
        ],
        [
         "0",
         "264358"
        ],
        [
         "0",
         "66874"
        ],
        [
         "0",
         "80665"
        ],
        [
         "0",
         "58369"
        ],
        [
         "0",
         "233126"
        ],
        [
         "0",
         "299481"
        ],
        [
         "0",
         "387400"
        ],
        [
         "0",
         "79467"
        ],
        [
         "0",
         "233126"
        ],
        [
         "0",
         "52276"
        ],
        [
         "0",
         "251784"
        ],
        [
         "0",
         "77007"
        ],
        [
         "0",
         "71950"
        ],
        [
         "0",
         "36595"
        ],
        [
         "0",
         "255993"
        ],
        [
         "0",
         "210490"
        ],
        [
         "0",
         "386194"
        ],
        [
         "0",
         "235576"
        ],
        [
         "0",
         "62404"
        ],
        [
         "0",
         "300293"
        ],
        [
         "0",
         "47767"
        ],
        [
         "0",
         "255449"
        ],
        [
         "0",
         "55067"
        ],
        [
         "0",
         "51345"
        ],
        [
         "0",
         "209103"
        ],
        [
         "0",
         "51345"
        ],
        [
         "0",
         "196122"
        ],
        [
         "0",
         "377489"
        ],
        [
         "0",
         "69500"
        ],
        [
         "0",
         "163528"
        ],
        [
         "0",
         "315774"
        ],
        [
         "0",
         "298057"
        ],
        [
         "0",
         "144102"
        ],
        [
         "0",
         "76515"
        ],
        [
         "0",
         "45584"
        ],
        [
         "0",
         "318574"
        ],
        [
         "0",
         "19520"
        ],
        [
         "0",
         "52025"
        ],
        [
         "0",
         "45545"
        ],
        [
         "0",
         "67759"
        ],
        [
         "0",
         "264980"
        ],
        [
         "0",
         "50641"
        ]
       ],
       "shape": {
        "columns": 1,
        "rows": 49813
       }
      },
      "text/html": [
       "<div>\n",
       "<style scoped>\n",
       "    .dataframe tbody tr th:only-of-type {\n",
       "        vertical-align: middle;\n",
       "    }\n",
       "\n",
       "    .dataframe tbody tr th {\n",
       "        vertical-align: top;\n",
       "    }\n",
       "\n",
       "    .dataframe thead th {\n",
       "        text-align: right;\n",
       "    }\n",
       "</style>\n",
       "<table border=\"1\" class=\"dataframe\">\n",
       "  <thead>\n",
       "    <tr style=\"text-align: right;\">\n",
       "      <th></th>\n",
       "      <th>player_id</th>\n",
       "    </tr>\n",
       "  </thead>\n",
       "  <tbody>\n",
       "    <tr>\n",
       "      <th>0</th>\n",
       "      <td>192013</td>\n",
       "    </tr>\n",
       "    <tr>\n",
       "      <th>0</th>\n",
       "      <td>273680</td>\n",
       "    </tr>\n",
       "    <tr>\n",
       "      <th>0</th>\n",
       "      <td>77223</td>\n",
       "    </tr>\n",
       "    <tr>\n",
       "      <th>0</th>\n",
       "      <td>88992</td>\n",
       "    </tr>\n",
       "    <tr>\n",
       "      <th>0</th>\n",
       "      <td>248846</td>\n",
       "    </tr>\n",
       "    <tr>\n",
       "      <th>...</th>\n",
       "      <td>...</td>\n",
       "    </tr>\n",
       "    <tr>\n",
       "      <th>0</th>\n",
       "      <td>375214</td>\n",
       "    </tr>\n",
       "    <tr>\n",
       "      <th>0</th>\n",
       "      <td>215205</td>\n",
       "    </tr>\n",
       "    <tr>\n",
       "      <th>0</th>\n",
       "      <td>398073</td>\n",
       "    </tr>\n",
       "    <tr>\n",
       "      <th>0</th>\n",
       "      <td>303293</td>\n",
       "    </tr>\n",
       "    <tr>\n",
       "      <th>0</th>\n",
       "      <td>243670</td>\n",
       "    </tr>\n",
       "  </tbody>\n",
       "</table>\n",
       "<p>49813 rows × 1 columns</p>\n",
       "</div>"
      ],
      "text/plain": [
       "    player_id\n",
       "0      192013\n",
       "0      273680\n",
       "0       77223\n",
       "0       88992\n",
       "0      248846\n",
       "..        ...\n",
       "0      375214\n",
       "0      215205\n",
       "0      398073\n",
       "0      303293\n",
       "0      243670\n",
       "\n",
       "[49813 rows x 1 columns]"
      ]
     },
     "execution_count": 168,
     "metadata": {},
     "output_type": "execute_result"
    }
   ],
   "source": [
    "# A first look at the fetched results.\n",
    "# I save this dataframe in a csv file, so as to access the retrieved data faster later on.\n",
    "result"
   ]
  },
  {
   "cell_type": "code",
   "execution_count": 5,
   "id": "bf8e4c58",
   "metadata": {},
   "outputs": [
    {
     "name": "stdout",
     "output_type": "stream",
     "text": [
      "There are 2644 distinct players in the dataset.\n"
     ]
    }
   ],
   "source": [
    "# Load the CSV, drop duplicates and count the unique players.\n",
    "players_df = pd.read_csv(\"CSVs\\\\1_players_id.csv\")\n",
    "\n",
    "# Drop repetitive players, to find the unique ones.\n",
    "players_df.drop_duplicates(subset='player_id', inplace=True)\n",
    "\n",
    "# You can check that there is no NULL record in `player_id` field.\n",
    "print(f\"There are {players_df.shape[0]} distinct players in the dataset.\")"
   ]
  },
  {
   "cell_type": "markdown",
   "id": "3d3984c7",
   "metadata": {},
   "source": [
    "### 2."
   ]
  },
  {
   "cell_type": "code",
   "execution_count": null,
   "id": "03fdf222",
   "metadata": {},
   "outputs": [],
   "source": [
    "# The average height of players.\n",
    "# Now, I just read the height information of players, along with their ID.\n",
    "players_height_df =dd.read_parquet(render_addresses('match', kind='*_team'),columns=['player_id','height'])"
   ]
  },
  {
   "cell_type": "code",
   "execution_count": 177,
   "id": "2480869d",
   "metadata": {},
   "outputs": [
    {
     "name": "stdout",
     "output_type": "stream",
     "text": [
      "[########################################] | 100% Completed | 121.35 s\n"
     ]
    }
   ],
   "source": [
    "# Extracting the results into csv for faster manipulation with pandas.\n",
    "with ProgressBar():\n",
    "    result = players_height_df.compute()"
   ]
  },
  {
   "cell_type": "code",
   "execution_count": null,
   "id": "841f6110",
   "metadata": {},
   "outputs": [
    {
     "data": {
      "application/vnd.microsoft.datawrangler.viewer.v0+json": {
       "columns": [
        {
         "name": "index",
         "rawType": "int64",
         "type": "integer"
        },
        {
         "name": "player_id",
         "rawType": "int64",
         "type": "integer"
        },
        {
         "name": "height",
         "rawType": "float64",
         "type": "float"
        }
       ],
       "ref": "036a930f-393d-4392-a101-4837b192b7ef",
       "rows": [
        [
         "0",
         "192013",
         "1.93"
        ],
        [
         "0",
         "273680",
         "1.83"
        ],
        [
         "0",
         "77223",
         "1.85"
        ],
        [
         "0",
         "88992",
         "1.83"
        ],
        [
         "0",
         "248846",
         "1.78"
        ],
        [
         "0",
         "163480",
         "1.96"
        ],
        [
         "0",
         "67154",
         "1.83"
        ],
        [
         "0",
         "163480",
         "1.96"
        ],
        [
         "0",
         "264358",
         "1.88"
        ],
        [
         "0",
         "66874",
         "1.78"
        ],
        [
         "0",
         "80665",
         "1.88"
        ],
        [
         "0",
         "58369",
         "1.83"
        ],
        [
         "0",
         "233126",
         "1.7"
        ],
        [
         "0",
         "299481",
         "1.91"
        ],
        [
         "0",
         "387400",
         "1.75"
        ],
        [
         "0",
         "79467",
         "1.83"
        ],
        [
         "0",
         "233126",
         "1.7"
        ],
        [
         "0",
         "52276",
         "1.88"
        ],
        [
         "0",
         "251784",
         "1.93"
        ],
        [
         "0",
         "77007",
         "1.83"
        ],
        [
         "0",
         "71950",
         null
        ],
        [
         "0",
         "36595",
         "1.8"
        ],
        [
         "0",
         "255993",
         "1.83"
        ],
        [
         "0",
         "210490",
         "1.88"
        ],
        [
         "0",
         "386194",
         "1.85"
        ],
        [
         "0",
         "235576",
         "1.88"
        ],
        [
         "0",
         "62404",
         "1.93"
        ],
        [
         "0",
         "300293",
         "1.83"
        ],
        [
         "0",
         "47767",
         "1.83"
        ],
        [
         "0",
         "255449",
         "1.88"
        ],
        [
         "0",
         "55067",
         "1.85"
        ],
        [
         "0",
         "51345",
         "2.03"
        ],
        [
         "0",
         "209103",
         "1.88"
        ],
        [
         "0",
         "51345",
         "2.03"
        ],
        [
         "0",
         "196122",
         "1.85"
        ],
        [
         "0",
         "377489",
         "1.91"
        ],
        [
         "0",
         "69500",
         "1.88"
        ],
        [
         "0",
         "163528",
         "1.85"
        ],
        [
         "0",
         "315774",
         "1.78"
        ],
        [
         "0",
         "298057",
         "1.75"
        ],
        [
         "0",
         "144102",
         "1.88"
        ],
        [
         "0",
         "76515",
         "1.91"
        ],
        [
         "0",
         "45584",
         "1.73"
        ],
        [
         "0",
         "318574",
         null
        ],
        [
         "0",
         "19520",
         "1.72"
        ],
        [
         "0",
         "52025",
         "1.7"
        ],
        [
         "0",
         "45545",
         "1.63"
        ],
        [
         "0",
         "67759",
         "1.75"
        ],
        [
         "0",
         "264980",
         "1.66"
        ],
        [
         "0",
         "50641",
         "1.79"
        ]
       ],
       "shape": {
        "columns": 2,
        "rows": 49813
       }
      },
      "text/html": [
       "<div>\n",
       "<style scoped>\n",
       "    .dataframe tbody tr th:only-of-type {\n",
       "        vertical-align: middle;\n",
       "    }\n",
       "\n",
       "    .dataframe tbody tr th {\n",
       "        vertical-align: top;\n",
       "    }\n",
       "\n",
       "    .dataframe thead th {\n",
       "        text-align: right;\n",
       "    }\n",
       "</style>\n",
       "<table border=\"1\" class=\"dataframe\">\n",
       "  <thead>\n",
       "    <tr style=\"text-align: right;\">\n",
       "      <th></th>\n",
       "      <th>player_id</th>\n",
       "      <th>height</th>\n",
       "    </tr>\n",
       "  </thead>\n",
       "  <tbody>\n",
       "    <tr>\n",
       "      <th>0</th>\n",
       "      <td>192013</td>\n",
       "      <td>1.93</td>\n",
       "    </tr>\n",
       "    <tr>\n",
       "      <th>0</th>\n",
       "      <td>273680</td>\n",
       "      <td>1.83</td>\n",
       "    </tr>\n",
       "    <tr>\n",
       "      <th>0</th>\n",
       "      <td>77223</td>\n",
       "      <td>1.85</td>\n",
       "    </tr>\n",
       "    <tr>\n",
       "      <th>0</th>\n",
       "      <td>88992</td>\n",
       "      <td>1.83</td>\n",
       "    </tr>\n",
       "    <tr>\n",
       "      <th>0</th>\n",
       "      <td>248846</td>\n",
       "      <td>1.78</td>\n",
       "    </tr>\n",
       "    <tr>\n",
       "      <th>...</th>\n",
       "      <td>...</td>\n",
       "      <td>...</td>\n",
       "    </tr>\n",
       "    <tr>\n",
       "      <th>0</th>\n",
       "      <td>375214</td>\n",
       "      <td>NaN</td>\n",
       "    </tr>\n",
       "    <tr>\n",
       "      <th>0</th>\n",
       "      <td>215205</td>\n",
       "      <td>1.75</td>\n",
       "    </tr>\n",
       "    <tr>\n",
       "      <th>0</th>\n",
       "      <td>398073</td>\n",
       "      <td>1.91</td>\n",
       "    </tr>\n",
       "    <tr>\n",
       "      <th>0</th>\n",
       "      <td>303293</td>\n",
       "      <td>NaN</td>\n",
       "    </tr>\n",
       "    <tr>\n",
       "      <th>0</th>\n",
       "      <td>243670</td>\n",
       "      <td>NaN</td>\n",
       "    </tr>\n",
       "  </tbody>\n",
       "</table>\n",
       "<p>49813 rows × 2 columns</p>\n",
       "</div>"
      ],
      "text/plain": [
       "    player_id  height\n",
       "0      192013    1.93\n",
       "0      273680    1.83\n",
       "0       77223    1.85\n",
       "0       88992    1.83\n",
       "0      248846    1.78\n",
       "..        ...     ...\n",
       "0      375214     NaN\n",
       "0      215205    1.75\n",
       "0      398073    1.91\n",
       "0      303293     NaN\n",
       "0      243670     NaN\n",
       "\n",
       "[49813 rows x 2 columns]"
      ]
     },
     "execution_count": 178,
     "metadata": {},
     "output_type": "execute_result"
    }
   ],
   "source": [
    "# A first look at the fetched results.\n",
    "# I save this dataframe in a csv file, so as to access the retrieved data faster later on.\n",
    "result"
   ]
  },
  {
   "cell_type": "code",
   "execution_count": 6,
   "id": "070cf908",
   "metadata": {},
   "outputs": [
    {
     "name": "stdout",
     "output_type": "stream",
     "text": [
      "Average height of players in the dataset is 1.821 m, or 182.1 cm.\n"
     ]
    }
   ],
   "source": [
    "# Load the CSV, drop duplicates and nan values, then find the average of height.\n",
    "heights_df = pd.read_csv(\"CSVs\\\\2_players_height.csv\")\n",
    "\n",
    "# Droping the duplicated players.\n",
    "heights_df.drop_duplicates(subset='player_id', keep='first',inplace=True)\n",
    "\n",
    "# Dropping the missing values.\n",
    "heights_df.dropna(subset=['height'], inplace=True)\n",
    "\n",
    "# Average height.\n",
    "avg_height = heights_df['height'].mean()\n",
    "\n",
    "print(f\"Average height of players in the dataset is {avg_height:.3f} m, or {avg_height*100:.1f} cm.\")"
   ]
  },
  {
   "cell_type": "markdown",
   "id": "aac53582",
   "metadata": {},
   "source": [
    "### 3."
   ]
  },
  {
   "cell_type": "code",
   "execution_count": 165,
   "id": "d60dab76",
   "metadata": {},
   "outputs": [],
   "source": [
    "# Extracting the necessary coulumns of tables for finding the player with highest number of wins.\n",
    "# I need to join matches, with players dataframe.\n",
    "event_addresses = render_addresses('match', date_arr = dates_tuple,kind='event')\n",
    "home_addresses = render_addresses('match', date_arr = dates_tuple, kind='home_team')\n",
    "away_addresses = render_addresses('match', date_arr = dates_tuple, kind='away_team')\n",
    "\n",
    "match_df = dd.read_parquet(event_addresses, columns=['match_id','winner_code'])\n",
    "home_df = dd.read_parquet(home_addresses, columns=['match_id','player_id','full_name'])\n",
    "away_df = dd.read_parquet(away_addresses, columns=['match_id','player_id','full_name'])"
   ]
  },
  {
   "cell_type": "code",
   "execution_count": 166,
   "id": "e28c8bb0",
   "metadata": {},
   "outputs": [
    {
     "name": "stdout",
     "output_type": "stream",
     "text": [
      "[########################################] | 100% Completed | 71.09 s\n"
     ]
    }
   ],
   "source": [
    "# Extracting the results into csv for faster manipulation with pandas.\n",
    "with ProgressBar():\n",
    "    result = away_df.compute()"
   ]
  },
  {
   "cell_type": "code",
   "execution_count": 167,
   "id": "9baa0b40",
   "metadata": {},
   "outputs": [
    {
     "data": {
      "application/vnd.microsoft.datawrangler.viewer.v0+json": {
       "columns": [
        {
         "name": "index",
         "rawType": "int64",
         "type": "integer"
        },
        {
         "name": "match_id",
         "rawType": "int64",
         "type": "integer"
        },
        {
         "name": "player_id",
         "rawType": "int64",
         "type": "integer"
        },
        {
         "name": "full_name",
         "rawType": "string",
         "type": "string"
        }
       ],
       "ref": "99f3ee11-972b-46f5-9f95-47d1d055c662",
       "rows": [
        [
         "0",
         "11998445",
         "192013",
         "Auger-Aliassime, Felix"
        ],
        [
         "0",
         "11998446",
         "273680",
         "Flavio Cobolli"
        ],
        [
         "0",
         "11998447",
         "77223",
         "Martinez, Pedro"
        ],
        [
         "0",
         "11998448",
         "88992",
         "Muller, Alexandre"
        ],
        [
         "0",
         "11998449",
         "248846",
         "Mayot, Harold"
        ],
        [
         "0",
         "11998450",
         "163480",
         "Bublik, Alexander"
        ],
        [
         "0",
         "11998451",
         "67154",
         "Barrere, Gregoire"
        ],
        [
         "0",
         "11998456",
         "163480",
         "Bublik, Alexander"
        ],
        [
         "0",
         "11998459",
         "264358",
         "Llamas Ruiz, Pablo"
        ],
        [
         "0",
         "11998666",
         "66874",
         "Imai, Shintaro"
        ],
        [
         "0",
         "11998667",
         "80665",
         "Polmans, Marc"
        ],
        [
         "0",
         "11998670",
         "58369",
         "Bolt, Alex"
        ],
        [
         "0",
         "11998671",
         "233126",
         "Sweeny, Dane"
        ],
        [
         "0",
         "11998672",
         "299481",
         "Sekulic, Philip"
        ],
        [
         "0",
         "11998674",
         "387400",
         "Jones, Hayden"
        ],
        [
         "0",
         "11998675",
         "79467",
         "Jasika, Omar"
        ],
        [
         "0",
         "11998676",
         "233126",
         "Sweeny, Dane"
        ],
        [
         "0",
         "11998772",
         "52276",
         "Krueger, Mitchell"
        ],
        [
         "0",
         "11998774",
         "251784",
         "Maloney, Patrick"
        ],
        [
         "0",
         "11998780",
         "77007",
         "Kozlov, Stefan"
        ],
        [
         "0",
         "11998782",
         "71950",
         "Fanselow, Sebastian"
        ],
        [
         "0",
         "11998783",
         "36595",
         "Kudla, Denis"
        ],
        [
         "0",
         "11998784",
         "255993",
         "Trotter, James Kent"
        ],
        [
         "0",
         "11998785",
         "210490",
         "Kypson, Patrick"
        ],
        [
         "0",
         "11998786",
         "386194",
         "Brady, Patrick"
        ],
        [
         "0",
         "11999004",
         "235576",
         "Nakashima, Brandon"
        ],
        [
         "0",
         "11999005",
         "62404",
         "Otte, Oscar"
        ],
        [
         "0",
         "11999007",
         "300293",
         "Rehberg, Max Hans"
        ],
        [
         "0",
         "11999009",
         "47767",
         "Lamasine, Tristan"
        ],
        [
         "0",
         "11999010",
         "255449",
         "Royer, Valentin"
        ],
        [
         "0",
         "11999011",
         "55067",
         "Marie, Jules"
        ],
        [
         "0",
         "11999012",
         "51345",
         "Damm Jr, Martin"
        ],
        [
         "0",
         "11999013",
         "209103",
         "Molleker, Rudolf"
        ],
        [
         "0",
         "11999014",
         "51345",
         "Damm Jr, Martin"
        ],
        [
         "0",
         "11999209",
         "196122",
         "Ugo Carabelli, Camilo"
        ],
        [
         "0",
         "11999210",
         "377489",
         "Feldbausch, Kilian"
        ],
        [
         "0",
         "11999211",
         "69500",
         "Mager, Gianluca"
        ],
        [
         "0",
         "11999212",
         "163528",
         "Lavagno, Edoardo"
        ],
        [
         "0",
         "11999213",
         "315774",
         "Torres, Juan Bautista"
        ],
        [
         "0",
         "11999215",
         "298057",
         "Gill, Felix"
        ],
        [
         "0",
         "11999219",
         "144102",
         "Weis, Alexander"
        ],
        [
         "0",
         "11999220",
         "76515",
         "Gakhov, Ivan"
        ],
        [
         "0",
         "12002040",
         "45584",
         "Zhu, Lin"
        ],
        [
         "0",
         "12002041",
         "318574",
         "Bai, Zhuoxuan"
        ],
        [
         "0",
         "12002042",
         "19520",
         "Maria, Tatjana"
        ],
        [
         "0",
         "12002043",
         "52025",
         "Wang, Yafan"
        ],
        [
         "0",
         "12002044",
         "45545",
         "Putintseva, Yulia"
        ],
        [
         "0",
         "12002048",
         "67759",
         "Alexandrova, Ekaterina"
        ],
        [
         "0",
         "12002049",
         "264980",
         "Cocciaretto, Elisabetta"
        ],
        [
         "0",
         "12002050",
         "50641",
         "Vekić, Donna"
        ]
       ],
       "shape": {
        "columns": 3,
        "rows": 24203
       }
      },
      "text/html": [
       "<div>\n",
       "<style scoped>\n",
       "    .dataframe tbody tr th:only-of-type {\n",
       "        vertical-align: middle;\n",
       "    }\n",
       "\n",
       "    .dataframe tbody tr th {\n",
       "        vertical-align: top;\n",
       "    }\n",
       "\n",
       "    .dataframe thead th {\n",
       "        text-align: right;\n",
       "    }\n",
       "</style>\n",
       "<table border=\"1\" class=\"dataframe\">\n",
       "  <thead>\n",
       "    <tr style=\"text-align: right;\">\n",
       "      <th></th>\n",
       "      <th>match_id</th>\n",
       "      <th>player_id</th>\n",
       "      <th>full_name</th>\n",
       "    </tr>\n",
       "  </thead>\n",
       "  <tbody>\n",
       "    <tr>\n",
       "      <th>0</th>\n",
       "      <td>11998445</td>\n",
       "      <td>192013</td>\n",
       "      <td>Auger-Aliassime, Felix</td>\n",
       "    </tr>\n",
       "    <tr>\n",
       "      <th>0</th>\n",
       "      <td>11998446</td>\n",
       "      <td>273680</td>\n",
       "      <td>Flavio Cobolli</td>\n",
       "    </tr>\n",
       "    <tr>\n",
       "      <th>0</th>\n",
       "      <td>11998447</td>\n",
       "      <td>77223</td>\n",
       "      <td>Martinez, Pedro</td>\n",
       "    </tr>\n",
       "    <tr>\n",
       "      <th>0</th>\n",
       "      <td>11998448</td>\n",
       "      <td>88992</td>\n",
       "      <td>Muller, Alexandre</td>\n",
       "    </tr>\n",
       "    <tr>\n",
       "      <th>0</th>\n",
       "      <td>11998449</td>\n",
       "      <td>248846</td>\n",
       "      <td>Mayot, Harold</td>\n",
       "    </tr>\n",
       "    <tr>\n",
       "      <th>...</th>\n",
       "      <td>...</td>\n",
       "      <td>...</td>\n",
       "      <td>...</td>\n",
       "    </tr>\n",
       "    <tr>\n",
       "      <th>0</th>\n",
       "      <td>12212216</td>\n",
       "      <td>72324</td>\n",
       "      <td>Doria, Luciano</td>\n",
       "    </tr>\n",
       "    <tr>\n",
       "      <th>0</th>\n",
       "      <td>12213156</td>\n",
       "      <td>217437</td>\n",
       "      <td>Soriano Barrera, Adria</td>\n",
       "    </tr>\n",
       "    <tr>\n",
       "      <th>0</th>\n",
       "      <td>12213412</td>\n",
       "      <td>108559</td>\n",
       "      <td>Taberner, Carlos</td>\n",
       "    </tr>\n",
       "    <tr>\n",
       "      <th>0</th>\n",
       "      <td>12213458</td>\n",
       "      <td>74679</td>\n",
       "      <td>Simonsson, Fred</td>\n",
       "    </tr>\n",
       "    <tr>\n",
       "      <th>0</th>\n",
       "      <td>12213459</td>\n",
       "      <td>220540</td>\n",
       "      <td>Lumsden, Ewen</td>\n",
       "    </tr>\n",
       "  </tbody>\n",
       "</table>\n",
       "<p>24203 rows × 3 columns</p>\n",
       "</div>"
      ],
      "text/plain": [
       "    match_id  player_id               full_name\n",
       "0   11998445     192013  Auger-Aliassime, Felix\n",
       "0   11998446     273680          Flavio Cobolli\n",
       "0   11998447      77223         Martinez, Pedro\n",
       "0   11998448      88992       Muller, Alexandre\n",
       "0   11998449     248846           Mayot, Harold\n",
       "..       ...        ...                     ...\n",
       "0   12212216      72324          Doria, Luciano\n",
       "0   12213156     217437  Soriano Barrera, Adria\n",
       "0   12213412     108559        Taberner, Carlos\n",
       "0   12213458      74679         Simonsson, Fred\n",
       "0   12213459     220540           Lumsden, Ewen\n",
       "\n",
       "[24203 rows x 3 columns]"
      ]
     },
     "execution_count": 167,
     "metadata": {},
     "output_type": "execute_result"
    }
   ],
   "source": [
    "# A first look at the fetched results.\n",
    "# I save this dataframe in a csv file, so as to access the retrieved data faster later on.\n",
    "result"
   ]
  },
  {
   "cell_type": "code",
   "execution_count": 7,
   "id": "bebb5833",
   "metadata": {},
   "outputs": [],
   "source": [
    "# Opening folders and then dropping duplicates.\n",
    "match_df = pd.read_csv(\"CSVs\\\\3_match_df.csv\")\n",
    "home_df = pd.read_csv(\"CSVs\\\\3_home_df.csv\")\n",
    "away_df = pd.read_csv(\"CSVs\\\\3_away_df.csv\")\n",
    "\n",
    "# Dropping duplicated records, with the logic that each of these three dataframes must contain unique `match_id`s.\n",
    "match_df.drop_duplicates(subset='match_id', inplace=True)\n",
    "home_df.drop_duplicates(subset='match_id', inplace=True)\n",
    "away_df.drop_duplicates(subset='match_id', inplace=True)"
   ]
  },
  {
   "cell_type": "code",
   "execution_count": 8,
   "id": "02901395",
   "metadata": {},
   "outputs": [],
   "source": [
    "# Joining tables and combining them.\n",
    "# In the match_df dataframe, `winner_code` indicates the winner. 1 for home and 2 for away.\n",
    "# So I join winner == 1 with home_df on match_id, and winner == 2 with away_df.\n",
    "winner_home_df = match_df.query('winner_code == 1').merge(home_df, on='match_id', how='inner')\n",
    "winner_home_df = winner_home_df.drop(columns=['winner_code'])\n",
    "winner_away_df = match_df.query('winner_code == 2').merge(away_df, on='match_id', how='inner')\n",
    "winner_away_df = winner_away_df.drop(columns=['winner_code'])\n",
    "\n",
    "# Concating the result, and dropping dropping possible duplicated results.\n",
    "winners_df = pd.concat([winner_home_df,winner_away_df])\n",
    "winners_df = winners_df.dropna().drop_duplicates()\n",
    "winners_df.player_id = winners_df.player_id.astype(int)"
   ]
  },
  {
   "cell_type": "code",
   "execution_count": 9,
   "id": "a176ef6f",
   "metadata": {},
   "outputs": [
    {
     "data": {
      "application/vnd.microsoft.datawrangler.viewer.v0+json": {
       "columns": [
        {
         "name": "index",
         "rawType": "int64",
         "type": "integer"
        },
        {
         "name": "match_id",
         "rawType": "int64",
         "type": "integer"
        },
        {
         "name": "player_id",
         "rawType": "int32",
         "type": "integer"
        },
        {
         "name": "full_name",
         "rawType": "object",
         "type": "string"
        }
       ],
       "ref": "566f2114-6b0b-433e-a168-e4952228f21e",
       "rows": [
        [
         "0",
         "11998447",
         "64580",
         "Ćorić, Borna"
        ],
        [
         "1",
         "11998448",
         "131442",
         "Mmoh, Michael"
        ],
        [
         "2",
         "11998451",
         "264344",
         "Shevchenko, Alexander"
        ],
        [
         "3",
         "11998459",
         "283070",
         "Rune, Holger"
        ],
        [
         "4",
         "11998667",
         "46390",
         "Uchiyama, Yasutaka"
        ],
        [
         "5",
         "11998671",
         "79467",
         "Jasika, Omar"
        ],
        [
         "6",
         "11998672",
         "66874",
         "Imai, Shintaro"
        ],
        [
         "7",
         "11998674",
         "39712",
         "Saville, Luke"
        ],
        [
         "8",
         "11998772",
         "290569",
         "Vandecasteele, Quinn"
        ],
        [
         "9",
         "11998774",
         "39711",
         "Duckworth, James"
        ],
        [
         "10",
         "11998780",
         "334293",
         "Quinn, Ethan"
        ],
        [
         "11",
         "11998782",
         "36678",
         "Sandgren, Tennys"
        ],
        [
         "12",
         "11998784",
         "63642",
         "Kwiatkowski, Thai-Son"
        ],
        [
         "13",
         "11998786",
         "232057",
         "Nava, Emilio"
        ],
        [
         "14",
         "11999005",
         "197446",
         "Naw, Hazem"
        ],
        [
         "15",
         "11999009",
         "132558",
         "Kolar, Zdenek"
        ],
        [
         "16",
         "11999010",
         "200159",
         "Rodionov, Jurij"
        ],
        [
         "17",
         "11999011",
         "36300",
         "Travaglia, Stefano"
        ],
        [
         "18",
         "11999014",
         "36300",
         "Travaglia, Stefano"
        ],
        [
         "19",
         "11999212",
         "264978",
         "Pucinelli de Almeida, Matheus"
        ],
        [
         "20",
         "11999213",
         "54573",
         "Coria, Federico"
        ],
        [
         "21",
         "12002041",
         "23082",
         "Rodionova, Arina"
        ],
        [
         "22",
         "12002042",
         "256104",
         "Volynets, Katie"
        ],
        [
         "23",
         "12002049",
         "210831",
         "Potapova, Anastasia"
        ],
        [
         "24",
         "12002052",
         "19546",
         "Pavlyuchenkova, Anastasia"
        ],
        [
         "25",
         "12002053",
         "78551",
         "Mertens, Elise"
        ],
        [
         "26",
         "12002055",
         "64496",
         "Ostapenko, Jelena"
        ],
        [
         "27",
         "12002057",
         "318575",
         "Shnaider, Diana"
        ],
        [
         "28",
         "12002058",
         "227431",
         "Wang, Xinyu"
        ],
        [
         "29",
         "12002060",
         "52025",
         "Wang, Yafan"
        ],
        [
         "30",
         "12010829",
         "273680",
         "Flavio Cobolli"
        ],
        [
         "31",
         "12011301",
         "62404",
         "Otte, Oscar"
        ],
        [
         "32",
         "12016976",
         "189986",
         "Yastremska, Dayana"
        ],
        [
         "33",
         "12017442",
         "277187",
         "Abbagnato, Anastasia"
        ],
        [
         "34",
         "12017453",
         "155556",
         "Bulgaru, Miriam Bianca"
        ],
        [
         "35",
         "12017458",
         "350691",
         "Szajrych, Jasza"
        ],
        [
         "36",
         "12017462",
         "268808",
         "Radišić, Nika"
        ],
        [
         "37",
         "12017463",
         "199378",
         "Giacomini, Luca"
        ],
        [
         "38",
         "12017465",
         "199408",
         "Jorge, Francisca"
        ],
        [
         "39",
         "12017468",
         "232459",
         "Hindova, Denisa"
        ],
        [
         "40",
         "12017477",
         "223563",
         "Hamaliy, Elizabet"
        ],
        [
         "41",
         "12017480",
         "78419",
         "Martinez Martinez, Jorge"
        ],
        [
         "42",
         "12017488",
         "217883",
         "Decamps, Gabriel"
        ],
        [
         "43",
         "12017504",
         "141892",
         "Carlé, María Lourdes"
        ],
        [
         "44",
         "12017506",
         "373201",
         "Alimli, Mikail"
        ],
        [
         "45",
         "12017510",
         "130628",
         "Miroshnichenko, Veronica"
        ],
        [
         "46",
         "12017522",
         "207654",
         "Tubello, Alice"
        ],
        [
         "47",
         "12017526",
         "165866",
         "Miyazaki, Yuriko Lily"
        ],
        [
         "48",
         "12017533",
         "64968",
         "Dodin, Océane"
        ],
        [
         "49",
         "12018836",
         "478938",
         "Samsonova, Laura"
        ]
       ],
       "shape": {
        "columns": 3,
        "rows": 11721
       }
      },
      "text/html": [
       "<div>\n",
       "<style scoped>\n",
       "    .dataframe tbody tr th:only-of-type {\n",
       "        vertical-align: middle;\n",
       "    }\n",
       "\n",
       "    .dataframe tbody tr th {\n",
       "        vertical-align: top;\n",
       "    }\n",
       "\n",
       "    .dataframe thead th {\n",
       "        text-align: right;\n",
       "    }\n",
       "</style>\n",
       "<table border=\"1\" class=\"dataframe\">\n",
       "  <thead>\n",
       "    <tr style=\"text-align: right;\">\n",
       "      <th></th>\n",
       "      <th>match_id</th>\n",
       "      <th>player_id</th>\n",
       "      <th>full_name</th>\n",
       "    </tr>\n",
       "  </thead>\n",
       "  <tbody>\n",
       "    <tr>\n",
       "      <th>0</th>\n",
       "      <td>11998447</td>\n",
       "      <td>64580</td>\n",
       "      <td>Ćorić, Borna</td>\n",
       "    </tr>\n",
       "    <tr>\n",
       "      <th>1</th>\n",
       "      <td>11998448</td>\n",
       "      <td>131442</td>\n",
       "      <td>Mmoh, Michael</td>\n",
       "    </tr>\n",
       "    <tr>\n",
       "      <th>2</th>\n",
       "      <td>11998451</td>\n",
       "      <td>264344</td>\n",
       "      <td>Shevchenko, Alexander</td>\n",
       "    </tr>\n",
       "    <tr>\n",
       "      <th>3</th>\n",
       "      <td>11998459</td>\n",
       "      <td>283070</td>\n",
       "      <td>Rune, Holger</td>\n",
       "    </tr>\n",
       "    <tr>\n",
       "      <th>4</th>\n",
       "      <td>11998667</td>\n",
       "      <td>46390</td>\n",
       "      <td>Uchiyama, Yasutaka</td>\n",
       "    </tr>\n",
       "    <tr>\n",
       "      <th>...</th>\n",
       "      <td>...</td>\n",
       "      <td>...</td>\n",
       "      <td>...</td>\n",
       "    </tr>\n",
       "    <tr>\n",
       "      <th>5493</th>\n",
       "      <td>12212205</td>\n",
       "      <td>405124</td>\n",
       "      <td>Ratti, Lucio</td>\n",
       "    </tr>\n",
       "    <tr>\n",
       "      <th>5494</th>\n",
       "      <td>12212207</td>\n",
       "      <td>170976</td>\n",
       "      <td>Ribero, Franco</td>\n",
       "    </tr>\n",
       "    <tr>\n",
       "      <th>5495</th>\n",
       "      <td>12212215</td>\n",
       "      <td>329576</td>\n",
       "      <td>Simonit, Ezequiel</td>\n",
       "    </tr>\n",
       "    <tr>\n",
       "      <th>5496</th>\n",
       "      <td>12213412</td>\n",
       "      <td>108559</td>\n",
       "      <td>Taberner, Carlos</td>\n",
       "    </tr>\n",
       "    <tr>\n",
       "      <th>5497</th>\n",
       "      <td>12213458</td>\n",
       "      <td>74679</td>\n",
       "      <td>Simonsson, Fred</td>\n",
       "    </tr>\n",
       "  </tbody>\n",
       "</table>\n",
       "<p>11721 rows × 3 columns</p>\n",
       "</div>"
      ],
      "text/plain": [
       "      match_id  player_id              full_name\n",
       "0     11998447      64580           Ćorić, Borna\n",
       "1     11998448     131442          Mmoh, Michael\n",
       "2     11998451     264344  Shevchenko, Alexander\n",
       "3     11998459     283070           Rune, Holger\n",
       "4     11998667      46390     Uchiyama, Yasutaka\n",
       "...        ...        ...                    ...\n",
       "5493  12212205     405124           Ratti, Lucio\n",
       "5494  12212207     170976         Ribero, Franco\n",
       "5495  12212215     329576      Simonit, Ezequiel\n",
       "5496  12213412     108559       Taberner, Carlos\n",
       "5497  12213458      74679        Simonsson, Fred\n",
       "\n",
       "[11721 rows x 3 columns]"
      ]
     },
     "execution_count": 9,
     "metadata": {},
     "output_type": "execute_result"
    }
   ],
   "source": [
    "winners_df"
   ]
  },
  {
   "cell_type": "code",
   "execution_count": 180,
   "id": "db260063",
   "metadata": {},
   "outputs": [
    {
     "name": "stdout",
     "output_type": "stream",
     "text": [
      "As you see Popko, Dmitry has has the hightst win numbers, with 29 wins.\n"
     ]
    },
    {
     "data": {
      "application/vnd.microsoft.datawrangler.viewer.v0+json": {
       "columns": [
        {
         "name": "player_id",
         "rawType": "int32",
         "type": "integer"
        },
        {
         "name": "matches_won",
         "rawType": "int64",
         "type": "integer"
        },
        {
         "name": "full_name",
         "rawType": "object",
         "type": "string"
        }
       ],
       "ref": "32956eb5-a92c-485a-8fd5-95a08150c79b",
       "rows": [
        [
         "50901",
         "29",
         "Popko, Dmitry"
        ],
        [
         "231620",
         "22",
         "Chidekh, Clement"
        ],
        [
         "202572",
         "21",
         "Gengel, Marek"
        ],
        [
         "230049",
         "21",
         "Jianu, Filip Cristian"
        ],
        [
         "82133",
         "20",
         "Dellien Velasco, Murkel Alejandro"
        ],
        [
         "58369",
         "19",
         "Bolt, Alex"
        ],
        [
         "238867",
         "19",
         "Ovcharenko, Oleksandr"
        ],
        [
         "205282",
         "19",
         "Kužmová, Katarína"
        ],
        [
         "186885",
         "18",
         "Hardt, Nick"
        ],
        [
         "302567",
         "18",
         "Sakellaridis, Stefanos"
        ],
        [
         "338890",
         "18",
         "Merida Aguilar, Daniel"
        ],
        [
         "100093",
         "18",
         "Ferrari, Francesco"
        ],
        [
         "197809",
         "18",
         "Clarke, Jay"
        ],
        [
         "341818",
         "18",
         "Faria, Jaime"
        ],
        [
         "58515",
         "18",
         "Collins, Danielle"
        ],
        [
         "53483",
         "18",
         "Masur, Daniel"
        ],
        [
         "152766",
         "17",
         "Helgo, Malene"
        ],
        [
         "111857",
         "17",
         "Ursu, Vadym"
        ],
        [
         "217447",
         "17",
         "Cekirge, Kuzey"
        ],
        [
         "168420",
         "17",
         "Andrade, Andres"
        ],
        [
         "228272",
         "16",
         "Swiatek, Iga"
        ],
        [
         "250934",
         "16",
         "Sakellaridi, Sapfo"
        ],
        [
         "196122",
         "16",
         "Ugo Carabelli, Camilo"
        ],
        [
         "231597",
         "16",
         "Imamura, Saki"
        ],
        [
         "275105",
         "16",
         "Bouzas Maneiro, Jessica"
        ],
        [
         "52533",
         "16",
         "Jakupovic, Dalila"
        ],
        [
         "16683",
         "16",
         "Kukushkin, Mikhail"
        ],
        [
         "217437",
         "16",
         "Soriano Barrera, Adria"
        ],
        [
         "111149",
         "16",
         "Samir, Sandra"
        ],
        [
         "165866",
         "16",
         "Miyazaki, Yuriko Lily"
        ],
        [
         "229218",
         "15",
         "Virtanen, Otto"
        ],
        [
         "94747",
         "15",
         "Hoang, Antoine"
        ],
        [
         "293708",
         "15",
         "Boisson, Loïs"
        ],
        [
         "337897",
         "15",
         "Crowther, Corban"
        ],
        [
         "108709",
         "15",
         "Majchrzak, Kamil"
        ],
        [
         "69964",
         "15",
         "Estable, Julieta"
        ],
        [
         "276310",
         "15",
         "Zelníčková, Radka"
        ],
        [
         "244423",
         "15",
         "Sato, Naho"
        ],
        [
         "296802",
         "15",
         "Visker, Niels"
        ],
        [
         "51839",
         "15",
         "Alves, Carolina"
        ],
        [
         "165234",
         "15",
         "Vasa, Eero"
        ],
        [
         "207654",
         "15",
         "Tubello, Alice"
        ],
        [
         "221806",
         "15",
         "Baez, Sebastian"
        ],
        [
         "168524",
         "15",
         "Tomescu, Dan Alexandru"
        ],
        [
         "372311",
         "15",
         "Nicod, Jakub"
        ],
        [
         "206570",
         "15",
         "Sinner, Jannik"
        ],
        [
         "217883",
         "15",
         "Decamps, Gabriel"
        ],
        [
         "207575",
         "14",
         "Walton, Adam"
        ],
        [
         "221793",
         "14",
         "Hennemann, Caijsa Wilda"
        ],
        [
         "51309",
         "14",
         "Cid Subervi, Roberto"
        ]
       ],
       "shape": {
        "columns": 2,
        "rows": 2319
       }
      },
      "text/html": [
       "<div>\n",
       "<style scoped>\n",
       "    .dataframe tbody tr th:only-of-type {\n",
       "        vertical-align: middle;\n",
       "    }\n",
       "\n",
       "    .dataframe tbody tr th {\n",
       "        vertical-align: top;\n",
       "    }\n",
       "\n",
       "    .dataframe thead th {\n",
       "        text-align: right;\n",
       "    }\n",
       "</style>\n",
       "<table border=\"1\" class=\"dataframe\">\n",
       "  <thead>\n",
       "    <tr style=\"text-align: right;\">\n",
       "      <th></th>\n",
       "      <th>matches_won</th>\n",
       "      <th>full_name</th>\n",
       "    </tr>\n",
       "    <tr>\n",
       "      <th>player_id</th>\n",
       "      <th></th>\n",
       "      <th></th>\n",
       "    </tr>\n",
       "  </thead>\n",
       "  <tbody>\n",
       "    <tr>\n",
       "      <th>50901</th>\n",
       "      <td>29</td>\n",
       "      <td>Popko, Dmitry</td>\n",
       "    </tr>\n",
       "    <tr>\n",
       "      <th>231620</th>\n",
       "      <td>22</td>\n",
       "      <td>Chidekh, Clement</td>\n",
       "    </tr>\n",
       "    <tr>\n",
       "      <th>202572</th>\n",
       "      <td>21</td>\n",
       "      <td>Gengel, Marek</td>\n",
       "    </tr>\n",
       "    <tr>\n",
       "      <th>230049</th>\n",
       "      <td>21</td>\n",
       "      <td>Jianu, Filip Cristian</td>\n",
       "    </tr>\n",
       "    <tr>\n",
       "      <th>82133</th>\n",
       "      <td>20</td>\n",
       "      <td>Dellien Velasco, Murkel Alejandro</td>\n",
       "    </tr>\n",
       "    <tr>\n",
       "      <th>...</th>\n",
       "      <td>...</td>\n",
       "      <td>...</td>\n",
       "    </tr>\n",
       "    <tr>\n",
       "      <th>175258</th>\n",
       "      <td>1</td>\n",
       "      <td>Benaissa, Amira</td>\n",
       "    </tr>\n",
       "    <tr>\n",
       "      <th>175160</th>\n",
       "      <td>1</td>\n",
       "      <td>Lavino, Irene</td>\n",
       "    </tr>\n",
       "    <tr>\n",
       "      <th>59213</th>\n",
       "      <td>1</td>\n",
       "      <td>Perez Garcia, Maria Paulina</td>\n",
       "    </tr>\n",
       "    <tr>\n",
       "      <th>383459</th>\n",
       "      <td>1</td>\n",
       "      <td>Jang, Gio</td>\n",
       "    </tr>\n",
       "    <tr>\n",
       "      <th>499834</th>\n",
       "      <td>1</td>\n",
       "      <td>Moeller, Elmer</td>\n",
       "    </tr>\n",
       "  </tbody>\n",
       "</table>\n",
       "<p>2319 rows × 2 columns</p>\n",
       "</div>"
      ],
      "text/plain": [
       "           matches_won                          full_name\n",
       "player_id                                                \n",
       "50901               29                      Popko, Dmitry\n",
       "231620              22                   Chidekh, Clement\n",
       "202572              21                      Gengel, Marek\n",
       "230049              21              Jianu, Filip Cristian\n",
       "82133               20  Dellien Velasco, Murkel Alejandro\n",
       "...                ...                                ...\n",
       "175258               1                    Benaissa, Amira\n",
       "175160               1                      Lavino, Irene\n",
       "59213                1        Perez Garcia, Maria Paulina\n",
       "383459               1                          Jang, Gio\n",
       "499834               1                     Moeller, Elmer\n",
       "\n",
       "[2319 rows x 2 columns]"
      ]
     },
     "execution_count": 180,
     "metadata": {},
     "output_type": "execute_result"
    }
   ],
   "source": [
    "# Group the winnder_df and aggregate the resulting groups.\n",
    "df_ = winners_df.groupby('player_id').agg({'match_id':'count',\n",
    "                                    'full_name':'min'}).rename(\n",
    "                                    columns={'match_id':'matches_won'}).sort_values(\n",
    "                                    'matches_won',ascending=False)\n",
    "\n",
    "print(f\"As you see {df_.iloc[0,1]} has has the hightst win numbers, with {df_.iloc[0,0]} wins.\")\n",
    "df_"
   ]
  },
  {
   "cell_type": "markdown",
   "id": "85cfb32d",
   "metadata": {},
   "source": [
    "### 4."
   ]
  },
  {
   "cell_type": "code",
   "execution_count": 181,
   "id": "19783f23",
   "metadata": {},
   "outputs": [
    {
     "name": "stdout",
     "output_type": "stream",
     "text": [
      "[########################################] | 100% Completed | 160.13 s\n"
     ]
    },
    {
     "data": {
      "application/vnd.microsoft.datawrangler.viewer.v0+json": {
       "columns": [
        {
         "name": "index",
         "rawType": "int64",
         "type": "integer"
        },
        {
         "name": "match_id",
         "rawType": "int64",
         "type": "integer"
        },
        {
         "name": "period_1",
         "rawType": "object",
         "type": "unknown"
        },
        {
         "name": "period_2",
         "rawType": "object",
         "type": "unknown"
        },
        {
         "name": "period_3",
         "rawType": "object",
         "type": "unknown"
        },
        {
         "name": "period_4",
         "rawType": "object",
         "type": "unknown"
        },
        {
         "name": "period_5",
         "rawType": "object",
         "type": "unknown"
        },
        {
         "name": "current_period_start_timestamp",
         "rawType": "object",
         "type": "unknown"
        }
       ],
       "ref": "69b2b341-f056-4d7d-8964-48acc9a09743",
       "rows": [
        [
         "0",
         "11974053",
         null,
         null,
         null,
         null,
         null,
         null
        ],
        [
         "0",
         "11974066",
         null,
         null,
         null,
         null,
         null,
         null
        ],
        [
         "0",
         "11998445",
         "3259",
         "2639",
         "4202",
         null,
         null,
         "1706816851"
        ],
        [
         "0",
         "11998446",
         "2488",
         "2375",
         null,
         null,
         null,
         "1706803981"
        ],
        [
         "0",
         "11998447",
         "3741",
         "1913",
         null,
         null,
         null,
         "1706798459"
        ],
        [
         "0",
         "11998448",
         "2639",
         "3090",
         null,
         null,
         null,
         "1706710960"
        ],
        [
         "0",
         "11998449",
         "1500",
         "2708",
         null,
         null,
         null,
         "1706727400"
        ],
        [
         "0",
         "11998450",
         "1606",
         "4771",
         "2051",
         null,
         null,
         "1706737869"
        ],
        [
         "0",
         "11998451",
         "3182",
         "1960",
         "2034",
         null,
         null,
         "1706792524"
        ],
        [
         "0",
         "11998456",
         "2218",
         "2419",
         "2975",
         null,
         null,
         "1706885719"
        ],
        [
         "0",
         "11998459",
         "3410",
         "1771",
         null,
         null,
         null,
         "1706825521"
        ],
        [
         "0",
         "11998666",
         "2266",
         "5163",
         null,
         null,
         null,
         "1706845650"
        ],
        [
         "0",
         "11998667",
         "2508",
         "2868",
         "2528",
         null,
         null,
         "1706839979"
        ],
        [
         "0",
         "11998670",
         "2034",
         "4025",
         "2265",
         null,
         null,
         "1706845643"
        ],
        [
         "0",
         "11998671",
         "2628",
         "2385",
         null,
         null,
         null,
         "1706851439"
        ],
        [
         "0",
         "11998672",
         "4604",
         "5172",
         "3700",
         null,
         null,
         "1706751953"
        ],
        [
         "0",
         "11998674",
         "3359",
         "7619",
         "3338",
         null,
         null,
         "1706762236"
        ],
        [
         "0",
         "11998675",
         "3446",
         "3268",
         "4263",
         null,
         null,
         "1706749125"
        ],
        [
         "0",
         "11998676",
         "2881",
         "3403",
         null,
         null,
         null,
         "1706759314"
        ],
        [
         "0",
         "11998772",
         "3390",
         "3964",
         "2897",
         null,
         null,
         "1706810881"
        ],
        [
         "0",
         "11998774",
         "2490",
         "2067",
         null,
         null,
         null,
         "1706741346"
        ],
        [
         "0",
         "11998780",
         "2377",
         "3552",
         "3386",
         null,
         null,
         "1706809894"
        ],
        [
         "0",
         "11998782",
         "1822",
         "3830",
         null,
         null,
         null,
         "1706719127"
        ],
        [
         "0",
         "11998783",
         "1317",
         "2174",
         null,
         null,
         null,
         "1706724893"
        ],
        [
         "0",
         "11998784",
         "2087",
         "3020",
         null,
         null,
         null,
         "1706816644"
        ],
        [
         "0",
         "11998785",
         "2437",
         "3616",
         null,
         null,
         null,
         "1706725370"
        ],
        [
         "0",
         "11998786",
         "1986",
         "2291",
         null,
         null,
         null,
         "1706833363"
        ],
        [
         "0",
         "11999004",
         "3385",
         "3086",
         null,
         null,
         null,
         "1706820143"
        ],
        [
         "0",
         "11999005",
         "2881",
         "3244",
         "2306",
         null,
         null,
         "1706813472"
        ],
        [
         "0",
         "11999007",
         "4014",
         "3007",
         null,
         null,
         null,
         "1706802394"
        ],
        [
         "0",
         "11999009",
         "2496",
         "4137",
         null,
         null,
         null,
         "1706799247"
        ],
        [
         "0",
         "11999010",
         "3523",
         "1572",
         null,
         null,
         null,
         "1706789188"
        ],
        [
         "0",
         "11999011",
         "1537",
         "1333",
         null,
         null,
         null,
         "1706794515"
        ],
        [
         "0",
         "11999012",
         "3417",
         "2780",
         "3292",
         null,
         null,
         "1706731730"
        ],
        [
         "0",
         "11999013",
         "1895",
         "1935",
         null,
         null,
         null,
         "1706713895"
        ],
        [
         "0",
         "11999014",
         "1856",
         "2256",
         "3427",
         null,
         null,
         "1706882058"
        ],
        [
         "0",
         "11999209",
         "12593",
         "14375",
         null,
         null,
         null,
         "1706730919"
        ],
        [
         "0",
         "11999210",
         "3423",
         "1830",
         null,
         null,
         null,
         "1706749727"
        ],
        [
         "0",
         "11999211",
         "1643",
         "2123",
         "3446",
         null,
         null,
         "1706801926"
        ],
        [
         "0",
         "11999212",
         "2159",
         "3193",
         null,
         null,
         null,
         "1706795201"
        ],
        [
         "0",
         "11999213",
         "1859",
         "1409",
         null,
         null,
         null,
         "1706801321"
        ],
        [
         "0",
         "11999215",
         "3783",
         "4593",
         null,
         null,
         null,
         "1706716163"
        ],
        [
         "0",
         "11999219",
         "1920",
         "2178",
         null,
         null,
         null,
         "1706794723"
        ],
        [
         "0",
         "11999220",
         "3124",
         "3823",
         null,
         null,
         null,
         "1706725162"
        ],
        [
         "0",
         "12001976",
         null,
         null,
         null,
         null,
         null,
         null
        ],
        [
         "0",
         "12002040",
         "2065",
         "2677",
         null,
         null,
         null,
         "1706791050"
        ],
        [
         "0",
         "12002041",
         "2715",
         "2672",
         "1653",
         null,
         null,
         "1706800212"
        ],
        [
         "0",
         "12002042",
         "4131",
         "2904",
         "2996",
         null,
         null,
         "1706778340"
        ],
        [
         "0",
         "12002043",
         "2603",
         "2929",
         null,
         null,
         null,
         "1706784909"
        ],
        [
         "0",
         "12002044",
         "3439",
         "4426",
         null,
         null,
         null,
         "1706711970"
        ]
       ],
       "shape": {
        "columns": 7,
        "rows": 35671
       }
      },
      "text/html": [
       "<div>\n",
       "<style scoped>\n",
       "    .dataframe tbody tr th:only-of-type {\n",
       "        vertical-align: middle;\n",
       "    }\n",
       "\n",
       "    .dataframe tbody tr th {\n",
       "        vertical-align: top;\n",
       "    }\n",
       "\n",
       "    .dataframe thead th {\n",
       "        text-align: right;\n",
       "    }\n",
       "</style>\n",
       "<table border=\"1\" class=\"dataframe\">\n",
       "  <thead>\n",
       "    <tr style=\"text-align: right;\">\n",
       "      <th></th>\n",
       "      <th>match_id</th>\n",
       "      <th>period_1</th>\n",
       "      <th>period_2</th>\n",
       "      <th>period_3</th>\n",
       "      <th>period_4</th>\n",
       "      <th>period_5</th>\n",
       "      <th>current_period_start_timestamp</th>\n",
       "    </tr>\n",
       "  </thead>\n",
       "  <tbody>\n",
       "    <tr>\n",
       "      <th>0</th>\n",
       "      <td>11974053</td>\n",
       "      <td>None</td>\n",
       "      <td>None</td>\n",
       "      <td>None</td>\n",
       "      <td>None</td>\n",
       "      <td>None</td>\n",
       "      <td>None</td>\n",
       "    </tr>\n",
       "    <tr>\n",
       "      <th>0</th>\n",
       "      <td>11974066</td>\n",
       "      <td>None</td>\n",
       "      <td>None</td>\n",
       "      <td>None</td>\n",
       "      <td>None</td>\n",
       "      <td>None</td>\n",
       "      <td>None</td>\n",
       "    </tr>\n",
       "    <tr>\n",
       "      <th>0</th>\n",
       "      <td>11998445</td>\n",
       "      <td>3259</td>\n",
       "      <td>2639</td>\n",
       "      <td>4202</td>\n",
       "      <td>None</td>\n",
       "      <td>None</td>\n",
       "      <td>1706816851</td>\n",
       "    </tr>\n",
       "    <tr>\n",
       "      <th>0</th>\n",
       "      <td>11998446</td>\n",
       "      <td>2488</td>\n",
       "      <td>2375</td>\n",
       "      <td>None</td>\n",
       "      <td>None</td>\n",
       "      <td>None</td>\n",
       "      <td>1706803981</td>\n",
       "    </tr>\n",
       "    <tr>\n",
       "      <th>0</th>\n",
       "      <td>11998447</td>\n",
       "      <td>3741</td>\n",
       "      <td>1913</td>\n",
       "      <td>None</td>\n",
       "      <td>None</td>\n",
       "      <td>None</td>\n",
       "      <td>1706798459</td>\n",
       "    </tr>\n",
       "    <tr>\n",
       "      <th>...</th>\n",
       "      <td>...</td>\n",
       "      <td>...</td>\n",
       "      <td>...</td>\n",
       "      <td>...</td>\n",
       "      <td>...</td>\n",
       "      <td>...</td>\n",
       "      <td>...</td>\n",
       "    </tr>\n",
       "    <tr>\n",
       "      <th>0</th>\n",
       "      <td>12213482</td>\n",
       "      <td>5</td>\n",
       "      <td>138</td>\n",
       "      <td>None</td>\n",
       "      <td>None</td>\n",
       "      <td>None</td>\n",
       "      <td>1711985032</td>\n",
       "    </tr>\n",
       "    <tr>\n",
       "      <th>0</th>\n",
       "      <td>12213483</td>\n",
       "      <td>3330</td>\n",
       "      <td>3574</td>\n",
       "      <td>None</td>\n",
       "      <td>None</td>\n",
       "      <td>None</td>\n",
       "      <td>1711982605</td>\n",
       "    </tr>\n",
       "    <tr>\n",
       "      <th>0</th>\n",
       "      <td>12213484</td>\n",
       "      <td>3</td>\n",
       "      <td>5</td>\n",
       "      <td>None</td>\n",
       "      <td>None</td>\n",
       "      <td>None</td>\n",
       "      <td>1711984742</td>\n",
       "    </tr>\n",
       "    <tr>\n",
       "      <th>0</th>\n",
       "      <td>12213486</td>\n",
       "      <td>1968</td>\n",
       "      <td>3697</td>\n",
       "      <td>None</td>\n",
       "      <td>None</td>\n",
       "      <td>None</td>\n",
       "      <td>1711980823</td>\n",
       "    </tr>\n",
       "    <tr>\n",
       "      <th>0</th>\n",
       "      <td>12213803</td>\n",
       "      <td>3185</td>\n",
       "      <td>2588</td>\n",
       "      <td>None</td>\n",
       "      <td>None</td>\n",
       "      <td>None</td>\n",
       "      <td>1711982489</td>\n",
       "    </tr>\n",
       "  </tbody>\n",
       "</table>\n",
       "<p>35671 rows × 7 columns</p>\n",
       "</div>"
      ],
      "text/plain": [
       "    match_id period_1 period_2 period_3 period_4 period_5  \\\n",
       "0   11974053     None     None     None     None     None   \n",
       "0   11974066     None     None     None     None     None   \n",
       "0   11998445     3259     2639     4202     None     None   \n",
       "0   11998446     2488     2375     None     None     None   \n",
       "0   11998447     3741     1913     None     None     None   \n",
       "..       ...      ...      ...      ...      ...      ...   \n",
       "0   12213482        5      138     None     None     None   \n",
       "0   12213483     3330     3574     None     None     None   \n",
       "0   12213484        3        5     None     None     None   \n",
       "0   12213486     1968     3697     None     None     None   \n",
       "0   12213803     3185     2588     None     None     None   \n",
       "\n",
       "   current_period_start_timestamp  \n",
       "0                            None  \n",
       "0                            None  \n",
       "0                      1706816851  \n",
       "0                      1706803981  \n",
       "0                      1706798459  \n",
       "..                            ...  \n",
       "0                      1711985032  \n",
       "0                      1711982605  \n",
       "0                      1711984742  \n",
       "0                      1711980823  \n",
       "0                      1711982489  \n",
       "\n",
       "[35671 rows x 7 columns]"
      ]
     },
     "execution_count": 181,
     "metadata": {},
     "output_type": "execute_result"
    }
   ],
   "source": [
    "# Extracting the time results into csv for faster manipulation with pandas.\n",
    "time_df = dd.read_parquet(render_addresses('match', kind='time'))\n",
    "\n",
    "# Extracting the results into csv for faster manipulation with pandas.\n",
    "with ProgressBar():\n",
    "    result = time_df.compute()\n",
    "\n",
    "# A first look at the fetched results.\n",
    "# I save this dataframe in a csv file, so as to access the retrieved data faster later on.\n",
    "result"
   ]
  },
  {
   "cell_type": "code",
   "execution_count": 182,
   "id": "b473d26f",
   "metadata": {},
   "outputs": [
    {
     "data": {
      "application/vnd.microsoft.datawrangler.viewer.v0+json": {
       "columns": [
        {
         "name": "index",
         "rawType": "int64",
         "type": "integer"
        },
        {
         "name": "match_id",
         "rawType": "int64",
         "type": "integer"
        },
        {
         "name": "period_1",
         "rawType": "float64",
         "type": "float"
        },
        {
         "name": "period_2",
         "rawType": "float64",
         "type": "float"
        },
        {
         "name": "period_3",
         "rawType": "float64",
         "type": "float"
        },
        {
         "name": "duration",
         "rawType": "float64",
         "type": "float"
        }
       ],
       "ref": "fcea3a30-6046-423a-b5a5-0e8370a9a6eb",
       "rows": [
        [
         "5799",
         "12063611",
         "167352.0",
         "169438.0",
         null,
         "5613.17"
        ],
        [
         "5795",
         "12063587",
         "159144.0",
         "161086.0",
         null,
         "5337.17"
        ],
        [
         "30980",
         "12185562",
         "4163.0",
         "84588.0",
         "88380.0",
         "2952.18"
        ],
        [
         "17230",
         "12121829",
         "172605.0",
         "810.0",
         null,
         "2890.25"
        ],
        [
         "3803",
         "12054403",
         "2170.0",
         "80162.0",
         "81551.0",
         "2731.38"
        ],
        [
         "5796",
         "12063588",
         "158918.0",
         "3061.0",
         "1054.0",
         "2717.22"
        ],
        [
         "5793",
         "12063582",
         "157690.0",
         "4654.0",
         null,
         "2705.73"
        ],
        [
         "5797",
         "12063589",
         "159242.0",
         "2155.0",
         "794.0",
         "2703.18"
        ],
        [
         "5800",
         "12063615",
         "158909.0",
         "2897.0",
         null,
         "2696.77"
        ],
        [
         "3791",
         "12053865",
         "76450.0",
         "2620.0",
         "81755.0",
         "2680.42"
        ],
        [
         "5794",
         "12063583",
         "158245.0",
         "2299.0",
         null,
         "2675.73"
        ],
        [
         "24425",
         "12151570",
         "2640.0",
         "78770.0",
         "77023.0",
         "2640.55"
        ],
        [
         "15474",
         "12110886",
         "3275.0",
         "75921.0",
         "77046.0",
         "2604.03"
        ],
        [
         "19971",
         "12130100",
         "5203.0",
         "66023.0",
         "68610.0",
         "2330.6"
        ],
        [
         "7843",
         "12075951",
         "2881.0",
         "130140.0",
         null,
         "2217.02"
        ],
        [
         "22303",
         "12149488",
         "64423.0",
         "63276.0",
         "1126.0",
         "2147.08"
        ],
        [
         "33609",
         "12195781",
         "2542.0",
         "125538.0",
         null,
         "2134.67"
        ],
        [
         "25552",
         "12158261",
         "57969.0",
         "3943.0",
         "65467.0",
         "2122.98"
        ],
        [
         "25554",
         "12158263",
         "4138.0",
         "57883.0",
         "58763.0",
         "2013.07"
        ],
        [
         "23133",
         "12149483",
         "2771.0",
         "83535.0",
         "4220.0",
         "1508.77"
        ],
        [
         "6945",
         "12069269",
         "3769.0",
         "86430.0",
         null,
         "1503.32"
        ],
        [
         "32742",
         "12189039",
         "88279.0",
         "1772.0",
         null,
         "1500.85"
        ],
        [
         "35486",
         "12211566",
         "4333.0",
         "2978.0",
         "81438.0",
         "1479.15"
        ],
        [
         "3799",
         "12054312",
         "86389.0",
         "2069.0",
         null,
         "1474.3"
        ],
        [
         "23132",
         "12149481",
         "1957.0",
         "3066.0",
         "82867.0",
         "1464.83"
        ],
        [
         "20573",
         "12139759",
         "2204.0",
         "85300.0",
         null,
         "1458.4"
        ],
        [
         "3831",
         "12017963",
         "9120.0",
         "1984.0",
         "75136.0",
         "1437.33"
        ],
        [
         "34453",
         "12174397",
         "3017.0",
         "83081.0",
         null,
         "1434.97"
        ],
        [
         "31004",
         "12187030",
         "1504.0",
         "84277.0",
         null,
         "1429.68"
        ],
        [
         "35584",
         "12211950",
         "82640.0",
         "3002.0",
         null,
         "1427.37"
        ],
        [
         "30972",
         "12184920",
         "3322.0",
         "78042.0",
         "3290.0",
         "1410.9"
        ],
        [
         "24427",
         "12151572",
         "4026.0",
         "77764.0",
         null,
         "1363.17"
        ],
        [
         "24485",
         "12152279",
         "2201.0",
         "78894.0",
         null,
         "1351.58"
        ],
        [
         "3800",
         "12054313",
         "1736.0",
         "76899.0",
         "2323.0",
         "1349.3"
        ],
        [
         "20028",
         "12131377",
         "3689.0",
         "76697.0",
         null,
         "1339.77"
        ],
        [
         "15482",
         "12111059",
         "2565.0",
         "76492.0",
         null,
         "1317.62"
        ],
        [
         "19900",
         "12128188",
         "4447.0",
         "74556.0",
         null,
         "1316.72"
        ],
        [
         "19884",
         "12128162",
         "3038.0",
         "75669.0",
         null,
         "1311.78"
        ],
        [
         "18680",
         "12126219",
         "2502.0",
         "3276.0",
         "71637.0",
         "1290.25"
        ],
        [
         "30855",
         "12156313",
         "3864.0",
         "72590.0",
         null,
         "1274.23"
        ],
        [
         "27899",
         "12166947",
         "3700.0",
         "4377.0",
         "67427.0",
         "1258.4"
        ],
        [
         "35278",
         "12209929",
         "2283.0",
         "72585.0",
         null,
         "1247.8"
        ],
        [
         "18461",
         "12121604",
         "2096.0",
         "72126.0",
         null,
         "1237.03"
        ],
        [
         "18681",
         "12126220",
         "2213.0",
         "71632.0",
         null,
         "1230.75"
        ],
        [
         "19998",
         "12130295",
         "4462.0",
         "65561.0",
         "3491.0",
         "1225.23"
        ],
        [
         "15597",
         "12088090",
         "2178.0",
         "70319.0",
         null,
         "1208.28"
        ],
        [
         "29125",
         "12171982",
         "2553.0",
         "11593.0",
         "58093.0",
         "1203.98"
        ],
        [
         "7696",
         "12074772",
         "4557.0",
         "4546.0",
         "62914.0",
         "1200.28"
        ],
        [
         "22308",
         "12149621",
         "5056.0",
         "64993.0",
         "1302.0",
         "1189.18"
        ],
        [
         "15878",
         "12111692",
         "6973.0",
         "63911.0",
         null,
         "1181.4"
        ]
       ],
       "shape": {
        "columns": 5,
        "rows": 10327
       }
      },
      "text/html": [
       "<div>\n",
       "<style scoped>\n",
       "    .dataframe tbody tr th:only-of-type {\n",
       "        vertical-align: middle;\n",
       "    }\n",
       "\n",
       "    .dataframe tbody tr th {\n",
       "        vertical-align: top;\n",
       "    }\n",
       "\n",
       "    .dataframe thead th {\n",
       "        text-align: right;\n",
       "    }\n",
       "</style>\n",
       "<table border=\"1\" class=\"dataframe\">\n",
       "  <thead>\n",
       "    <tr style=\"text-align: right;\">\n",
       "      <th></th>\n",
       "      <th>match_id</th>\n",
       "      <th>period_1</th>\n",
       "      <th>period_2</th>\n",
       "      <th>period_3</th>\n",
       "      <th>duration</th>\n",
       "    </tr>\n",
       "  </thead>\n",
       "  <tbody>\n",
       "    <tr>\n",
       "      <th>5799</th>\n",
       "      <td>12063611</td>\n",
       "      <td>167352.0</td>\n",
       "      <td>169438.0</td>\n",
       "      <td>NaN</td>\n",
       "      <td>5613.17</td>\n",
       "    </tr>\n",
       "    <tr>\n",
       "      <th>5795</th>\n",
       "      <td>12063587</td>\n",
       "      <td>159144.0</td>\n",
       "      <td>161086.0</td>\n",
       "      <td>NaN</td>\n",
       "      <td>5337.17</td>\n",
       "    </tr>\n",
       "    <tr>\n",
       "      <th>30980</th>\n",
       "      <td>12185562</td>\n",
       "      <td>4163.0</td>\n",
       "      <td>84588.0</td>\n",
       "      <td>88380.0</td>\n",
       "      <td>2952.18</td>\n",
       "    </tr>\n",
       "    <tr>\n",
       "      <th>17230</th>\n",
       "      <td>12121829</td>\n",
       "      <td>172605.0</td>\n",
       "      <td>810.0</td>\n",
       "      <td>NaN</td>\n",
       "      <td>2890.25</td>\n",
       "    </tr>\n",
       "    <tr>\n",
       "      <th>3803</th>\n",
       "      <td>12054403</td>\n",
       "      <td>2170.0</td>\n",
       "      <td>80162.0</td>\n",
       "      <td>81551.0</td>\n",
       "      <td>2731.38</td>\n",
       "    </tr>\n",
       "    <tr>\n",
       "      <th>...</th>\n",
       "      <td>...</td>\n",
       "      <td>...</td>\n",
       "      <td>...</td>\n",
       "      <td>...</td>\n",
       "      <td>...</td>\n",
       "    </tr>\n",
       "    <tr>\n",
       "      <th>1026</th>\n",
       "      <td>12039701</td>\n",
       "      <td>77.0</td>\n",
       "      <td>26.0</td>\n",
       "      <td>NaN</td>\n",
       "      <td>1.72</td>\n",
       "    </tr>\n",
       "    <tr>\n",
       "      <th>35668</th>\n",
       "      <td>12213484</td>\n",
       "      <td>3.0</td>\n",
       "      <td>5.0</td>\n",
       "      <td>NaN</td>\n",
       "      <td>0.13</td>\n",
       "    </tr>\n",
       "    <tr>\n",
       "      <th>6344</th>\n",
       "      <td>12064959</td>\n",
       "      <td>2.0</td>\n",
       "      <td>6.0</td>\n",
       "      <td>NaN</td>\n",
       "      <td>0.13</td>\n",
       "    </tr>\n",
       "    <tr>\n",
       "      <th>5853</th>\n",
       "      <td>12063889</td>\n",
       "      <td>4.0</td>\n",
       "      <td>4.0</td>\n",
       "      <td>NaN</td>\n",
       "      <td>0.13</td>\n",
       "    </tr>\n",
       "    <tr>\n",
       "      <th>6398</th>\n",
       "      <td>12066016</td>\n",
       "      <td>2.0</td>\n",
       "      <td>3.0</td>\n",
       "      <td>NaN</td>\n",
       "      <td>0.08</td>\n",
       "    </tr>\n",
       "  </tbody>\n",
       "</table>\n",
       "<p>10327 rows × 5 columns</p>\n",
       "</div>"
      ],
      "text/plain": [
       "       match_id  period_1  period_2  period_3  duration\n",
       "5799   12063611  167352.0  169438.0       NaN   5613.17\n",
       "5795   12063587  159144.0  161086.0       NaN   5337.17\n",
       "30980  12185562    4163.0   84588.0   88380.0   2952.18\n",
       "17230  12121829  172605.0     810.0       NaN   2890.25\n",
       "3803   12054403    2170.0   80162.0   81551.0   2731.38\n",
       "...         ...       ...       ...       ...       ...\n",
       "1026   12039701      77.0      26.0       NaN      1.72\n",
       "35668  12213484       3.0       5.0       NaN      0.13\n",
       "6344   12064959       2.0       6.0       NaN      0.13\n",
       "5853   12063889       4.0       4.0       NaN      0.13\n",
       "6398   12066016       2.0       3.0       NaN      0.08\n",
       "\n",
       "[10327 rows x 5 columns]"
      ]
     },
     "execution_count": 182,
     "metadata": {},
     "output_type": "execute_result"
    }
   ],
   "source": [
    "# Load the data.\n",
    "time_df = pd.read_csv(\"CSVs\\\\4_time_df.csv\")\n",
    "time_df.drop_duplicates(subset='match_id', inplace=True)\n",
    "# If period_1 is not recorded, all the other sets are not recorded and we do not have the data of duration of these matches.\n",
    "time_df.dropna(subset=['period_1'], inplace=True)\n",
    "# All the matches have 3 sets, so periods 4 and 5 are NULL. I drop the unnecessary columns.\n",
    "time_df.drop(columns=['period_4','period_5','current_period_start_timestamp'], inplace=True)\n",
    "# Find the total duration and turn into minutes.\n",
    "time_df['duration'] = time_df[['period_1', 'period_2', 'period_3']].sum(axis=1, skipna=True).div(60).round(2)\n",
    "# Sort the result.\n",
    "time_df.sort_values(by=['duration'],ascending=False)"
   ]
  },
  {
   "cell_type": "code",
   "execution_count": 183,
   "id": "e68a8efb",
   "metadata": {},
   "outputs": [
    {
     "data": {
      "image/png": "[encoded data removed]",
      "text/plain": [
       "<Figure size 640x480 with 1 Axes>"
      ]
     },
     "metadata": {},
     "output_type": "display_data"
    }
   ],
   "source": [
    "# The results seem very strange, let me look at their distribution.\n",
    "time_df.query(\"duration < 800\").duration.plot.hist(bins=150)\n",
    "plt.xlabel('Duration')\n",
    "plt.ylabel('Frequency')\n",
    "plt.title('Duration of Tennis Matches')\n",
    "plt.show()"
   ]
  },
  {
   "cell_type": "code",
   "execution_count": 187,
   "id": "caec3f3d",
   "metadata": {},
   "outputs": [],
   "source": [
    "# About Only 1% of whole matches are longer than 295 minutes.\n",
    "time_cut = time_df.duration.quantile(0.99)"
   ]
  },
  {
   "cell_type": "code",
   "execution_count": 188,
   "id": "f92045a7",
   "metadata": {},
   "outputs": [],
   "source": [
    "# Outlier deleting\n",
    "time_df.drop(index = time_df.query(\"duration > @time_cut\").index, axis=1, inplace= True)"
   ]
  },
  {
   "cell_type": "code",
   "execution_count": null,
   "id": "d9c28e23",
   "metadata": {},
   "outputs": [
    {
     "data": {
      "application/vnd.microsoft.datawrangler.viewer.v0+json": {
       "columns": [
        {
         "name": "index",
         "rawType": "int64",
         "type": "integer"
        },
        {
         "name": "match_id",
         "rawType": "int64",
         "type": "integer"
        },
        {
         "name": "period_1",
         "rawType": "float64",
         "type": "float"
        },
        {
         "name": "period_2",
         "rawType": "float64",
         "type": "float"
        },
        {
         "name": "period_3",
         "rawType": "float64",
         "type": "float"
        },
        {
         "name": "duration",
         "rawType": "float64",
         "type": "float"
        }
       ],
       "ref": "cadef2b3-35bf-425c-906b-5cb691e7acc8",
       "rows": [
        [
         "28461",
         "12170628",
         "2821.0",
         "13335.0",
         "1535.0",
         "294.85"
        ],
        [
         "20031",
         "12131381",
         "1930.0",
         "15656.0",
         null,
         "293.1"
        ],
        [
         "20257",
         "12137174",
         "2320.0",
         "1230.0",
         "13849.0",
         "289.98"
        ],
        [
         "33738",
         "12197940",
         "13584.0",
         "3374.0",
         null,
         "282.63"
        ],
        [
         "29830",
         "12174579",
         "6033.0",
         "8100.0",
         "2226.0",
         "272.65"
        ],
        [
         "32674",
         "12194086",
         "4200.0",
         "2520.0",
         "9486.0",
         "270.1"
        ],
        [
         "29236",
         "12173290",
         "2555.0",
         "13559.0",
         null,
         "268.57"
        ],
        [
         "181",
         "12021558",
         "14085.0",
         "2025.0",
         null,
         "268.5"
        ],
        [
         "28466",
         "12170636",
         "4107.0",
         "11870.0",
         null,
         "266.28"
        ],
        [
         "34157",
         "12201395",
         "5072.0",
         "5010.0",
         "5847.0",
         "265.48"
        ],
        [
         "24640",
         "12152568",
         "3002.0",
         "4213.0",
         "8434.0",
         "260.82"
        ],
        [
         "26023",
         "12163362",
         "5123.0",
         "5119.0",
         "5263.0",
         "258.42"
        ],
        [
         "19906",
         "12128195",
         "13143.0",
         "2271.0",
         null,
         "256.9"
        ],
        [
         "32404",
         "12190853",
         "12858.0",
         "2418.0",
         null,
         "254.6"
        ],
        [
         "33141",
         "12194966",
         "4958.0",
         "4728.0",
         "5554.0",
         "254.0"
        ],
        [
         "15736",
         "12109297",
         "4216.0",
         "3012.0",
         "7968.0",
         "253.27"
        ],
        [
         "6611",
         "12063596",
         "7713.0",
         "3637.0",
         "3572.0",
         "248.7"
        ],
        [
         "29158",
         "12172227",
         "3627.0",
         "3008.0",
         "8131.0",
         "246.1"
        ],
        [
         "31384",
         "12159529",
         "3632.0",
         "6387.0",
         "4718.0",
         "245.62"
        ],
        [
         "6346",
         "12064963",
         "4294.0",
         "5062.0",
         "5352.0",
         "245.13"
        ],
        [
         "25667",
         "12160949",
         "8130.0",
         "6518.0",
         null,
         "244.13"
        ],
        [
         "20187",
         "12134836",
         "2785.0",
         "11839.0",
         null,
         "243.73"
        ],
        [
         "29131",
         "12171996",
         "2902.0",
         "11706.0",
         null,
         "243.47"
        ],
        [
         "20580",
         "12140777",
         "3897.0",
         "7064.0",
         "3616.0",
         "242.95"
        ],
        [
         "29911",
         "12176348",
         "3833.0",
         "5252.0",
         "5364.0",
         "240.82"
        ],
        [
         "4371",
         "12058890",
         "3676.0",
         "10737.0",
         null,
         "240.22"
        ],
        [
         "16",
         "11998674",
         "3359.0",
         "7619.0",
         "3338.0",
         "238.6"
        ],
        [
         "3807",
         "12054435",
         "5791.0",
         "8396.0",
         null,
         "236.45"
        ],
        [
         "29674",
         "12172807",
         "3766.0",
         "5629.0",
         "4700.0",
         "234.92"
        ],
        [
         "35416",
         "12211322",
         "9090.0",
         "2681.0",
         "2323.0",
         "234.9"
        ],
        [
         "9627",
         "12082586",
         "3980.0",
         "3476.0",
         "6467.0",
         "232.05"
        ],
        [
         "23986",
         "12152339",
         "3360.0",
         "4093.0",
         "6276.0",
         "228.82"
        ],
        [
         "33311",
         "12197936",
         "3707.0",
         "4433.0",
         "5538.0",
         "227.97"
        ],
        [
         "28467",
         "12170637",
         "10725.0",
         "2941.0",
         null,
         "227.77"
        ],
        [
         "3396",
         "12049515",
         "2788.0",
         "5394.0",
         "5398.0",
         "226.33"
        ],
        [
         "4240",
         "12058372",
         "3617.0",
         "2809.0",
         "7104.0",
         "225.5"
        ],
        [
         "4793",
         "12058884",
         "10791.0",
         "2730.0",
         null,
         "225.35"
        ],
        [
         "32717",
         "12156297",
         "8369.0",
         "1983.0",
         "3154.0",
         "225.1"
        ],
        [
         "23417",
         "12131575",
         "4093.0",
         "3028.0",
         "6382.0",
         "225.05"
        ],
        [
         "33204",
         "12195291",
         "2788.0",
         "4307.0",
         "6405.0",
         "225.0"
        ],
        [
         "30511",
         "12181080",
         "4314.0",
         "5349.0",
         "3834.0",
         "224.95"
        ],
        [
         "15",
         "11998672",
         "4604.0",
         "5172.0",
         "3700.0",
         "224.6"
        ],
        [
         "29328",
         "12174580",
         "3337.0",
         "6936.0",
         "3177.0",
         "224.17"
        ],
        [
         "16474",
         "12121119",
         "2177.0",
         "4637.0",
         "6566.0",
         "223.0"
        ],
        [
         "2566",
         "12018668",
         "5029.0",
         "4897.0",
         "3399.0",
         "222.08"
        ],
        [
         "34383",
         "12202800",
         "5126.0",
         "4641.0",
         "3517.0",
         "221.4"
        ],
        [
         "11464",
         "12067201",
         "4604.0",
         "3202.0",
         "5437.0",
         "220.72"
        ],
        [
         "421",
         "12024245",
         "4564.0",
         "3502.0",
         "5138.0",
         "220.07"
        ],
        [
         "32941",
         "12193296",
         "5559.0",
         "4228.0",
         "3350.0",
         "218.95"
        ],
        [
         "29833",
         "12174582",
         "10356.0",
         "2763.0",
         null,
         "218.65"
        ]
       ],
       "shape": {
        "columns": 5,
        "rows": 10223
       }
      },
      "text/html": [
       "<div>\n",
       "<style scoped>\n",
       "    .dataframe tbody tr th:only-of-type {\n",
       "        vertical-align: middle;\n",
       "    }\n",
       "\n",
       "    .dataframe tbody tr th {\n",
       "        vertical-align: top;\n",
       "    }\n",
       "\n",
       "    .dataframe thead th {\n",
       "        text-align: right;\n",
       "    }\n",
       "</style>\n",
       "<table border=\"1\" class=\"dataframe\">\n",
       "  <thead>\n",
       "    <tr style=\"text-align: right;\">\n",
       "      <th></th>\n",
       "      <th>match_id</th>\n",
       "      <th>period_1</th>\n",
       "      <th>period_2</th>\n",
       "      <th>period_3</th>\n",
       "      <th>duration</th>\n",
       "    </tr>\n",
       "  </thead>\n",
       "  <tbody>\n",
       "    <tr>\n",
       "      <th>28461</th>\n",
       "      <td>12170628</td>\n",
       "      <td>2821.0</td>\n",
       "      <td>13335.0</td>\n",
       "      <td>1535.0</td>\n",
       "      <td>294.85</td>\n",
       "    </tr>\n",
       "    <tr>\n",
       "      <th>20031</th>\n",
       "      <td>12131381</td>\n",
       "      <td>1930.0</td>\n",
       "      <td>15656.0</td>\n",
       "      <td>NaN</td>\n",
       "      <td>293.10</td>\n",
       "    </tr>\n",
       "    <tr>\n",
       "      <th>20257</th>\n",
       "      <td>12137174</td>\n",
       "      <td>2320.0</td>\n",
       "      <td>1230.0</td>\n",
       "      <td>13849.0</td>\n",
       "      <td>289.98</td>\n",
       "    </tr>\n",
       "    <tr>\n",
       "      <th>33738</th>\n",
       "      <td>12197940</td>\n",
       "      <td>13584.0</td>\n",
       "      <td>3374.0</td>\n",
       "      <td>NaN</td>\n",
       "      <td>282.63</td>\n",
       "    </tr>\n",
       "    <tr>\n",
       "      <th>29830</th>\n",
       "      <td>12174579</td>\n",
       "      <td>6033.0</td>\n",
       "      <td>8100.0</td>\n",
       "      <td>2226.0</td>\n",
       "      <td>272.65</td>\n",
       "    </tr>\n",
       "    <tr>\n",
       "      <th>...</th>\n",
       "      <td>...</td>\n",
       "      <td>...</td>\n",
       "      <td>...</td>\n",
       "      <td>...</td>\n",
       "      <td>...</td>\n",
       "    </tr>\n",
       "    <tr>\n",
       "      <th>1026</th>\n",
       "      <td>12039701</td>\n",
       "      <td>77.0</td>\n",
       "      <td>26.0</td>\n",
       "      <td>NaN</td>\n",
       "      <td>1.72</td>\n",
       "    </tr>\n",
       "    <tr>\n",
       "      <th>35668</th>\n",
       "      <td>12213484</td>\n",
       "      <td>3.0</td>\n",
       "      <td>5.0</td>\n",
       "      <td>NaN</td>\n",
       "      <td>0.13</td>\n",
       "    </tr>\n",
       "    <tr>\n",
       "      <th>6344</th>\n",
       "      <td>12064959</td>\n",
       "      <td>2.0</td>\n",
       "      <td>6.0</td>\n",
       "      <td>NaN</td>\n",
       "      <td>0.13</td>\n",
       "    </tr>\n",
       "    <tr>\n",
       "      <th>5853</th>\n",
       "      <td>12063889</td>\n",
       "      <td>4.0</td>\n",
       "      <td>4.0</td>\n",
       "      <td>NaN</td>\n",
       "      <td>0.13</td>\n",
       "    </tr>\n",
       "    <tr>\n",
       "      <th>6398</th>\n",
       "      <td>12066016</td>\n",
       "      <td>2.0</td>\n",
       "      <td>3.0</td>\n",
       "      <td>NaN</td>\n",
       "      <td>0.08</td>\n",
       "    </tr>\n",
       "  </tbody>\n",
       "</table>\n",
       "<p>10223 rows × 5 columns</p>\n",
       "</div>"
      ],
      "text/plain": [
       "       match_id  period_1  period_2  period_3  duration\n",
       "28461  12170628    2821.0   13335.0    1535.0    294.85\n",
       "20031  12131381    1930.0   15656.0       NaN    293.10\n",
       "20257  12137174    2320.0    1230.0   13849.0    289.98\n",
       "33738  12197940   13584.0    3374.0       NaN    282.63\n",
       "29830  12174579    6033.0    8100.0    2226.0    272.65\n",
       "...         ...       ...       ...       ...       ...\n",
       "1026   12039701      77.0      26.0       NaN      1.72\n",
       "35668  12213484       3.0       5.0       NaN      0.13\n",
       "6344   12064959       2.0       6.0       NaN      0.13\n",
       "5853   12063889       4.0       4.0       NaN      0.13\n",
       "6398   12066016       2.0       3.0       NaN      0.08\n",
       "\n",
       "[10223 rows x 5 columns]"
      ]
     },
     "metadata": {},
     "output_type": "display_data"
    }
   ],
   "source": [
    "time_df.sort_values(by='duration',ascending=False)"
   ]
  },
  {
   "cell_type": "code",
   "execution_count": null,
   "id": "df8f1dcd",
   "metadata": {},
   "outputs": [
    {
     "name": "stdout",
     "output_type": "stream",
     "text": [
      "The longest game has lasted 294.9 minutes.\n",
      "It is associated with match_id == 12170628\n"
     ]
    }
   ],
   "source": [
    "# There are possibly mistakes in entering data to the dataset, since a game could not last for 96 hours.\n",
    "# Look at https://www.sofascore.com/fr/tennis/match/o-gavrila-carolina-alves/OLvsnbR\n",
    "# This shows that indeed data entry has some flaws.\n",
    "# After deleting outliers and anomalies, we have\n",
    "print(f\"The longest game has lasted {time_df.duration.sort_values(ascending=False).iloc[0]:.1f} minutes.\")\n",
    "print(f\"It is associated with match_id == 12170628\")"
   ]
  },
  {
   "cell_type": "markdown",
   "id": "341ba915",
   "metadata": {},
   "source": [
    "### 5."
   ]
  },
  {
   "cell_type": "code",
   "execution_count": 202,
   "id": "e93c6515",
   "metadata": {},
   "outputs": [
    {
     "name": "stdout",
     "output_type": "stream",
     "text": [
      "[########################################] | 100% Completed | 118.87 s\n"
     ]
    },
    {
     "data": {
      "application/vnd.microsoft.datawrangler.viewer.v0+json": {
       "columns": [
        {
         "name": "index",
         "rawType": "int64",
         "type": "integer"
        },
        {
         "name": "default_period_count",
         "rawType": "int64",
         "type": "integer"
        }
       ],
       "ref": "fc03e07d-4746-4dd7-98f8-7591638d1a93",
       "rows": [
        [
         "0",
         "3"
        ],
        [
         "0",
         "3"
        ],
        [
         "0",
         "3"
        ],
        [
         "0",
         "3"
        ],
        [
         "0",
         "3"
        ],
        [
         "0",
         "3"
        ],
        [
         "0",
         "3"
        ],
        [
         "0",
         "3"
        ],
        [
         "0",
         "3"
        ],
        [
         "0",
         "3"
        ],
        [
         "0",
         "3"
        ],
        [
         "0",
         "3"
        ],
        [
         "0",
         "3"
        ],
        [
         "0",
         "3"
        ],
        [
         "0",
         "3"
        ],
        [
         "0",
         "3"
        ],
        [
         "0",
         "3"
        ],
        [
         "0",
         "3"
        ],
        [
         "0",
         "3"
        ],
        [
         "0",
         "3"
        ],
        [
         "0",
         "3"
        ],
        [
         "0",
         "3"
        ],
        [
         "0",
         "3"
        ],
        [
         "0",
         "3"
        ],
        [
         "0",
         "3"
        ],
        [
         "0",
         "3"
        ],
        [
         "0",
         "3"
        ],
        [
         "0",
         "3"
        ],
        [
         "0",
         "3"
        ],
        [
         "0",
         "3"
        ],
        [
         "0",
         "3"
        ],
        [
         "0",
         "3"
        ],
        [
         "0",
         "3"
        ],
        [
         "0",
         "3"
        ],
        [
         "0",
         "3"
        ],
        [
         "0",
         "3"
        ],
        [
         "0",
         "3"
        ],
        [
         "0",
         "3"
        ],
        [
         "0",
         "3"
        ],
        [
         "0",
         "3"
        ],
        [
         "0",
         "3"
        ],
        [
         "0",
         "3"
        ],
        [
         "0",
         "3"
        ],
        [
         "0",
         "3"
        ],
        [
         "0",
         "3"
        ],
        [
         "0",
         "3"
        ],
        [
         "0",
         "3"
        ],
        [
         "0",
         "3"
        ],
        [
         "0",
         "3"
        ],
        [
         "0",
         "3"
        ]
       ],
       "shape": {
        "columns": 1,
        "rows": 35053
       }
      },
      "text/html": [
       "<div>\n",
       "<style scoped>\n",
       "    .dataframe tbody tr th:only-of-type {\n",
       "        vertical-align: middle;\n",
       "    }\n",
       "\n",
       "    .dataframe tbody tr th {\n",
       "        vertical-align: top;\n",
       "    }\n",
       "\n",
       "    .dataframe thead th {\n",
       "        text-align: right;\n",
       "    }\n",
       "</style>\n",
       "<table border=\"1\" class=\"dataframe\">\n",
       "  <thead>\n",
       "    <tr style=\"text-align: right;\">\n",
       "      <th></th>\n",
       "      <th>default_period_count</th>\n",
       "    </tr>\n",
       "  </thead>\n",
       "  <tbody>\n",
       "    <tr>\n",
       "      <th>0</th>\n",
       "      <td>3</td>\n",
       "    </tr>\n",
       "    <tr>\n",
       "      <th>0</th>\n",
       "      <td>3</td>\n",
       "    </tr>\n",
       "    <tr>\n",
       "      <th>0</th>\n",
       "      <td>3</td>\n",
       "    </tr>\n",
       "    <tr>\n",
       "      <th>0</th>\n",
       "      <td>3</td>\n",
       "    </tr>\n",
       "    <tr>\n",
       "      <th>0</th>\n",
       "      <td>3</td>\n",
       "    </tr>\n",
       "    <tr>\n",
       "      <th>...</th>\n",
       "      <td>...</td>\n",
       "    </tr>\n",
       "    <tr>\n",
       "      <th>0</th>\n",
       "      <td>3</td>\n",
       "    </tr>\n",
       "    <tr>\n",
       "      <th>0</th>\n",
       "      <td>3</td>\n",
       "    </tr>\n",
       "    <tr>\n",
       "      <th>0</th>\n",
       "      <td>3</td>\n",
       "    </tr>\n",
       "    <tr>\n",
       "      <th>0</th>\n",
       "      <td>3</td>\n",
       "    </tr>\n",
       "    <tr>\n",
       "      <th>0</th>\n",
       "      <td>3</td>\n",
       "    </tr>\n",
       "  </tbody>\n",
       "</table>\n",
       "<p>35053 rows × 1 columns</p>\n",
       "</div>"
      ],
      "text/plain": [
       "    default_period_count\n",
       "0                      3\n",
       "0                      3\n",
       "0                      3\n",
       "0                      3\n",
       "0                      3\n",
       "..                   ...\n",
       "0                      3\n",
       "0                      3\n",
       "0                      3\n",
       "0                      3\n",
       "0                      3\n",
       "\n",
       "[35053 rows x 1 columns]"
      ]
     },
     "execution_count": 202,
     "metadata": {},
     "output_type": "execute_result"
    }
   ],
   "source": [
    "# Extracting the results into csv for faster manipulation with pandas.\n",
    "with ProgressBar():\n",
    "    result = dd.read_parquet(render_addresses('match', kind=\"event\"), columns = ['default_period_count']).compute()\n",
    "\n",
    "# A first look at the fetched results.\n",
    "# I save this dataframe in a csv file, so as to access the retrieved data faster later on.\n",
    "result"
   ]
  },
  {
   "cell_type": "code",
   "execution_count": null,
   "id": "7a581829",
   "metadata": {},
   "outputs": [
    {
     "data": {
      "application/vnd.microsoft.datawrangler.viewer.v0+json": {
       "columns": [
        {
         "name": "index",
         "rawType": "int64",
         "type": "integer"
        },
        {
         "name": "default_period_count",
         "rawType": "int64",
         "type": "integer"
        },
        {
         "name": "count",
         "rawType": "int64",
         "type": "integer"
        }
       ],
       "ref": "503c39cd-d09b-489b-95c7-0857149a69d6",
       "rows": [
        [
         "0",
         "3",
         "35053"
        ]
       ],
       "shape": {
        "columns": 2,
        "rows": 1
       }
      },
      "text/html": [
       "<div>\n",
       "<style scoped>\n",
       "    .dataframe tbody tr th:only-of-type {\n",
       "        vertical-align: middle;\n",
       "    }\n",
       "\n",
       "    .dataframe tbody tr th {\n",
       "        vertical-align: top;\n",
       "    }\n",
       "\n",
       "    .dataframe thead th {\n",
       "        text-align: right;\n",
       "    }\n",
       "</style>\n",
       "<table border=\"1\" class=\"dataframe\">\n",
       "  <thead>\n",
       "    <tr style=\"text-align: right;\">\n",
       "      <th></th>\n",
       "      <th>default_period_count</th>\n",
       "      <th>count</th>\n",
       "    </tr>\n",
       "  </thead>\n",
       "  <tbody>\n",
       "    <tr>\n",
       "      <th>0</th>\n",
       "      <td>3</td>\n",
       "      <td>35053</td>\n",
       "    </tr>\n",
       "  </tbody>\n",
       "</table>\n",
       "</div>"
      ],
      "text/plain": [
       "   default_period_count  count\n",
       "0                     3  35053"
      ]
     },
     "execution_count": 205,
     "metadata": {},
     "output_type": "execute_result"
    }
   ],
   "source": [
    "sets_df = pd.read_csv(\"CSVs\\\\5_sets.csv\")\n",
    "sets_df.value_counts().reset_index()"
   ]
  },
  {
   "cell_type": "code",
   "execution_count": null,
   "id": "60f2f983",
   "metadata": {},
   "outputs": [],
   "source": [
    "# As you see, all the recorded matches are played in 3 sets."
   ]
  },
  {
   "cell_type": "markdown",
   "id": "9faf700b",
   "metadata": {},
   "source": [
    "### 6."
   ]
  },
  {
   "cell_type": "code",
   "execution_count": 48,
   "id": "79984f73",
   "metadata": {},
   "outputs": [],
   "source": [
    "# Extracting the necessary coulumns for the player with highest number of wins.\n",
    "home_addresses = render_addresses('match', date_arr = dates_tuple, kind='home_team')\n",
    "away_addresses = render_addresses('match', date_arr = dates_tuple, kind='away_team')\n",
    "\n",
    "home_df = dd.read_parquet(home_addresses, columns=['player_id','full_name', 'current_rank', 'total_prize','country'])\n",
    "away_df = dd.read_parquet(away_addresses, columns=['player_id','full_name', 'current_rank', 'total_prize','country'])"
   ]
  },
  {
   "cell_type": "code",
   "execution_count": null,
   "id": "ec53552e",
   "metadata": {},
   "outputs": [
    {
     "name": "stdout",
     "output_type": "stream",
     "text": [
      "[########################################] | 100% Completed | 71.24 s\n"
     ]
    }
   ],
   "source": [
    "# A first look at the fetched results.\n",
    "with ProgressBar():\n",
    "    result = away_df.compute()"
   ]
  },
  {
   "cell_type": "code",
   "execution_count": null,
   "id": "bb245627",
   "metadata": {},
   "outputs": [
    {
     "data": {
      "application/vnd.microsoft.datawrangler.viewer.v0+json": {
       "columns": [
        {
         "name": "index",
         "rawType": "int64",
         "type": "integer"
        },
        {
         "name": "player_id",
         "rawType": "int64",
         "type": "integer"
        },
        {
         "name": "full_name",
         "rawType": "string",
         "type": "string"
        },
        {
         "name": "current_rank",
         "rawType": "object",
         "type": "unknown"
        },
        {
         "name": "total_prize",
         "rawType": "object",
         "type": "unknown"
        },
        {
         "name": "country",
         "rawType": "string",
         "type": "string"
        }
       ],
       "ref": "11b30bd2-0796-4974-a1bb-29e4064eef62",
       "rows": [
        [
         "0",
         "192013",
         "Auger-Aliassime, Felix",
         "30",
         "10166964",
         "Canada"
        ],
        [
         "0",
         "273680",
         "Flavio Cobolli",
         "69",
         "808536",
         "Italy"
        ],
        [
         "0",
         "77223",
         "Martinez, Pedro",
         "101",
         "2732689",
         "Spain"
        ],
        [
         "0",
         "88992",
         "Muller, Alexandre",
         "81",
         "1178035",
         "France"
        ],
        [
         "0",
         "248846",
         "Mayot, Harold",
         "132",
         "424547",
         "France"
        ],
        [
         "0",
         "163480",
         "Bublik, Alexander",
         "23",
         "5125443",
         "Kazakhstan"
        ],
        [
         "0",
         "67154",
         "Barrere, Gregoire",
         "124",
         "2251135",
         "France"
        ],
        [
         "0",
         "163480",
         "Bublik, Alexander",
         "23",
         "5125443",
         "Kazakhstan"
        ],
        [
         "0",
         "264358",
         "Llamas Ruiz, Pablo",
         "151",
         "187139",
         "Spain"
        ],
        [
         "0",
         "66874",
         "Imai, Shintaro",
         "644",
         "116542",
         "Japan"
        ],
        [
         "0",
         "80665",
         "Polmans, Marc",
         "168",
         "1367548",
         "Australia"
        ],
        [
         "0",
         "58369",
         "Bolt, Alex",
         "262",
         "1317097",
         "Australia"
        ],
        [
         "0",
         "233126",
         "Sweeny, Dane",
         "202",
         "349103",
         "Australia"
        ],
        [
         "0",
         "299481",
         "Sekulic, Philip",
         "265",
         "135028",
         "Australia"
        ],
        [
         "0",
         "387400",
         "Jones, Hayden",
         "1057",
         "22671",
         "Australia"
        ],
        [
         "0",
         "79467",
         "Jasika, Omar",
         "225",
         "368436",
         "Australia"
        ],
        [
         "0",
         "233126",
         "Sweeny, Dane",
         "202",
         "349103",
         "Australia"
        ],
        [
         "0",
         "52276",
         "Krueger, Mitchell",
         "293",
         "1035498",
         "USA"
        ],
        [
         "0",
         "251784",
         "Maloney, Patrick",
         "841",
         "9365",
         "USA"
        ],
        [
         "0",
         "77007",
         "Kozlov, Stefan",
         "816",
         "834132",
         "USA"
        ],
        [
         "0",
         "71950",
         "Fanselow, Sebastian",
         "315",
         "158435",
         "Germany"
        ],
        [
         "0",
         "36595",
         "Kudla, Denis",
         "178",
         "3780958",
         "USA"
        ],
        [
         "0",
         "255993",
         "Trotter, James Kent",
         "393",
         "41194",
         "Japan"
        ],
        [
         "0",
         "210490",
         "Kypson, Patrick",
         "150",
         "322030",
         "USA"
        ],
        [
         "0",
         "386194",
         "Brady, Patrick",
         "730",
         "14913",
         "United Kingdom"
        ],
        [
         "0",
         "235576",
         "Nakashima, Brandon",
         "89",
         "2707274",
         "USA"
        ],
        [
         "0",
         "62404",
         "Otte, Oscar",
         "286",
         "2039566",
         "Germany"
        ],
        [
         "0",
         "300293",
         "Rehberg, Max Hans",
         "468",
         "69813",
         "Germany"
        ],
        [
         "0",
         "47767",
         "Lamasine, Tristan",
         "285",
         "493452",
         "France"
        ],
        [
         "0",
         "255449",
         "Royer, Valentin",
         "269",
         "79589",
         "France"
        ],
        [
         "0",
         "55067",
         "Marie, Jules",
         "205",
         "162857",
         "France"
        ],
        [
         "0",
         "51345",
         "Damm Jr, Martin",
         "209",
         "164618",
         "USA"
        ],
        [
         "0",
         "209103",
         "Molleker, Rudolf",
         "187",
         "477749",
         "Germany"
        ],
        [
         "0",
         "51345",
         "Damm Jr, Martin",
         "209",
         "162535",
         "USA"
        ],
        [
         "0",
         "196122",
         "Ugo Carabelli, Camilo",
         "127",
         "449872",
         "Argentina"
        ],
        [
         "0",
         "377489",
         "Feldbausch, Kilian",
         "410",
         "26377",
         "Switzerland"
        ],
        [
         "0",
         "69500",
         "Mager, Gianluca",
         "257",
         "1332329",
         "Italy"
        ],
        [
         "0",
         "163528",
         "Lavagno, Edoardo",
         "239",
         "104189",
         "Italy"
        ],
        [
         "0",
         "315774",
         "Torres, Juan Bautista",
         "412",
         "92810",
         "Argentina"
        ],
        [
         "0",
         "298057",
         "Gill, Felix",
         "334",
         "92683",
         "United Kingdom"
        ],
        [
         "0",
         "144102",
         "Weis, Alexander",
         "301",
         "105420",
         "Italy"
        ],
        [
         "0",
         "76515",
         "Gakhov, Ivan",
         "176",
         "325313",
         "Russia"
        ],
        [
         "0",
         "45584",
         "Zhu, Lin",
         "58",
         "2606738",
         "China"
        ],
        [
         "0",
         "318574",
         "Bai, Zhuoxuan",
         "84",
         "296338",
         "China"
        ],
        [
         "0",
         "19520",
         "Maria, Tatjana",
         "47",
         "4322089",
         "Germany"
        ],
        [
         "0",
         "52025",
         "Wang, Yafan",
         "69",
         "2139419",
         "China"
        ],
        [
         "0",
         "45545",
         "Putintseva, Yulia",
         "80",
         "5849846",
         "Kazakhstan"
        ],
        [
         "0",
         "67759",
         "Alexandrova, Ekaterina",
         "16",
         "4928632",
         "Russia"
        ],
        [
         "0",
         "264980",
         "Cocciaretto, Elisabetta",
         "56",
         "1372077",
         "Italy"
        ],
        [
         "0",
         "50641",
         "Vekić, Donna",
         "28",
         "5972094",
         "Croatia"
        ]
       ],
       "shape": {
        "columns": 5,
        "rows": 24203
       }
      },
      "text/html": [
       "<div>\n",
       "<style scoped>\n",
       "    .dataframe tbody tr th:only-of-type {\n",
       "        vertical-align: middle;\n",
       "    }\n",
       "\n",
       "    .dataframe tbody tr th {\n",
       "        vertical-align: top;\n",
       "    }\n",
       "\n",
       "    .dataframe thead th {\n",
       "        text-align: right;\n",
       "    }\n",
       "</style>\n",
       "<table border=\"1\" class=\"dataframe\">\n",
       "  <thead>\n",
       "    <tr style=\"text-align: right;\">\n",
       "      <th></th>\n",
       "      <th>player_id</th>\n",
       "      <th>full_name</th>\n",
       "      <th>current_rank</th>\n",
       "      <th>total_prize</th>\n",
       "      <th>country</th>\n",
       "    </tr>\n",
       "  </thead>\n",
       "  <tbody>\n",
       "    <tr>\n",
       "      <th>0</th>\n",
       "      <td>192013</td>\n",
       "      <td>Auger-Aliassime, Felix</td>\n",
       "      <td>30</td>\n",
       "      <td>10166964</td>\n",
       "      <td>Canada</td>\n",
       "    </tr>\n",
       "    <tr>\n",
       "      <th>0</th>\n",
       "      <td>273680</td>\n",
       "      <td>Flavio Cobolli</td>\n",
       "      <td>69</td>\n",
       "      <td>808536</td>\n",
       "      <td>Italy</td>\n",
       "    </tr>\n",
       "    <tr>\n",
       "      <th>0</th>\n",
       "      <td>77223</td>\n",
       "      <td>Martinez, Pedro</td>\n",
       "      <td>101</td>\n",
       "      <td>2732689</td>\n",
       "      <td>Spain</td>\n",
       "    </tr>\n",
       "    <tr>\n",
       "      <th>0</th>\n",
       "      <td>88992</td>\n",
       "      <td>Muller, Alexandre</td>\n",
       "      <td>81</td>\n",
       "      <td>1178035</td>\n",
       "      <td>France</td>\n",
       "    </tr>\n",
       "    <tr>\n",
       "      <th>0</th>\n",
       "      <td>248846</td>\n",
       "      <td>Mayot, Harold</td>\n",
       "      <td>132</td>\n",
       "      <td>424547</td>\n",
       "      <td>France</td>\n",
       "    </tr>\n",
       "    <tr>\n",
       "      <th>...</th>\n",
       "      <td>...</td>\n",
       "      <td>...</td>\n",
       "      <td>...</td>\n",
       "      <td>...</td>\n",
       "      <td>...</td>\n",
       "    </tr>\n",
       "    <tr>\n",
       "      <th>0</th>\n",
       "      <td>72324</td>\n",
       "      <td>Doria, Luciano</td>\n",
       "      <td>1442</td>\n",
       "      <td>18936</td>\n",
       "      <td>Argentina</td>\n",
       "    </tr>\n",
       "    <tr>\n",
       "      <th>0</th>\n",
       "      <td>217437</td>\n",
       "      <td>Soriano Barrera, Adria</td>\n",
       "      <td>465</td>\n",
       "      <td>41592</td>\n",
       "      <td>Colombia</td>\n",
       "    </tr>\n",
       "    <tr>\n",
       "      <th>0</th>\n",
       "      <td>108559</td>\n",
       "      <td>Taberner, Carlos</td>\n",
       "      <td>358</td>\n",
       "      <td>902241</td>\n",
       "      <td>Spain</td>\n",
       "    </tr>\n",
       "    <tr>\n",
       "      <th>0</th>\n",
       "      <td>74679</td>\n",
       "      <td>Simonsson, Fred</td>\n",
       "      <td>None</td>\n",
       "      <td>52868</td>\n",
       "      <td>Sweden</td>\n",
       "    </tr>\n",
       "    <tr>\n",
       "      <th>0</th>\n",
       "      <td>220540</td>\n",
       "      <td>Lumsden, Ewen</td>\n",
       "      <td>1281</td>\n",
       "      <td>5226</td>\n",
       "      <td>United Kingdom</td>\n",
       "    </tr>\n",
       "  </tbody>\n",
       "</table>\n",
       "<p>24203 rows × 5 columns</p>\n",
       "</div>"
      ],
      "text/plain": [
       "    player_id               full_name current_rank total_prize         country\n",
       "0      192013  Auger-Aliassime, Felix           30    10166964          Canada\n",
       "0      273680          Flavio Cobolli           69      808536           Italy\n",
       "0       77223         Martinez, Pedro          101     2732689           Spain\n",
       "0       88992       Muller, Alexandre           81     1178035          France\n",
       "0      248846           Mayot, Harold          132      424547          France\n",
       "..        ...                     ...          ...         ...             ...\n",
       "0       72324          Doria, Luciano         1442       18936       Argentina\n",
       "0      217437  Soriano Barrera, Adria          465       41592        Colombia\n",
       "0      108559        Taberner, Carlos          358      902241           Spain\n",
       "0       74679         Simonsson, Fred         None       52868          Sweden\n",
       "0      220540           Lumsden, Ewen         1281        5226  United Kingdom\n",
       "\n",
       "[24203 rows x 5 columns]"
      ]
     },
     "execution_count": 53,
     "metadata": {},
     "output_type": "execute_result"
    }
   ],
   "source": [
    "# I save this dataframe in a csv file, so as to access the retrieved data faster later on.\n",
    "result"
   ]
  },
  {
   "cell_type": "code",
   "execution_count": 4,
   "id": "a1e5674e",
   "metadata": {},
   "outputs": [],
   "source": [
    "# Opening folders and then dropping duplicates.\n",
    "home_df = pd.read_csv(\"CSVs\\\\6_home_df.csv\")\n",
    "away_df = pd.read_csv(\"CSVs\\\\6_away_df.csv\")\n",
    "players_df = pd.concat([home_df, away_df])\n",
    "players_df.drop_duplicates(subset='player_id', inplace=True)"
   ]
  },
  {
   "cell_type": "code",
   "execution_count": null,
   "id": "bdc97e44",
   "metadata": {},
   "outputs": [
    {
     "data": {
      "application/vnd.microsoft.datawrangler.viewer.v0+json": {
       "columns": [
        {
         "name": "country",
         "rawType": "object",
         "type": "string"
        },
        {
         "name": "success_score",
         "rawType": "float64",
         "type": "float"
        }
       ],
       "ref": "ffd27774-2ab2-4bdf-a840-49d7f95d9427",
       "rows": [
        [
         "Serbia",
         "0.5890934143452932"
        ],
        [
         "Poland",
         "0.5880474368625416"
        ],
        [
         "Belarus",
         "0.562245347209408"
        ],
        [
         "Tunisia",
         "0.4786125616578451"
        ],
        [
         "Spain",
         "0.4721042479127666"
        ],
        [
         "Bulgaria",
         "0.46145217046782844"
        ],
        [
         "Greece",
         "0.4548929057659731"
        ],
        [
         "Germany",
         "0.4538761965501758"
        ],
        [
         "Norway",
         "0.4527757313619516"
        ],
        [
         "Switzerland",
         "0.44551573422183277"
        ],
        [
         "Denmark",
         "0.4443427132464933"
        ],
        [
         "Russia",
         "0.4389538386296081"
        ],
        [
         "Australia",
         "0.43847150799995227"
        ],
        [
         "USA",
         "0.4361801921608693"
        ],
        [
         "Austria",
         "0.43511202853953074"
        ],
        [
         "Kazakhstan",
         "0.42985756160108474"
        ],
        [
         "Czech Republic",
         "0.4296269457525711"
        ],
        [
         "Italy",
         "0.4264124791924938"
        ],
        [
         "United Kingdom",
         "0.4228362765352884"
        ],
        [
         "Japan",
         "0.4208294347292239"
        ],
        [
         "Ukraine",
         "0.4162181045986716"
        ],
        [
         "Latvia",
         "0.41562126186856096"
        ],
        [
         "Belgium",
         "0.4139613925290937"
        ],
        [
         "Romania",
         "0.40939546108149427"
        ],
        [
         "Canada",
         "0.407560916659747"
        ],
        [
         "Croatia",
         "0.40511324809201954"
        ],
        [
         "China",
         "0.40490038018145846"
        ],
        [
         "France",
         "0.4032479663317157"
        ],
        [
         "Brazil",
         "0.4004962104103189"
        ],
        [
         "Chinese Taipei",
         "0.39309190200134525"
        ],
        [
         "Argentina",
         "0.3903873674404056"
        ],
        [
         "Chile",
         "0.383429759957644"
        ],
        [
         "Georgia",
         "0.38178932796034726"
        ],
        [
         "Portugal",
         "0.38108868843739985"
        ],
        [
         "Hungary",
         "0.38014565392728616"
        ]
       ],
       "shape": {
        "columns": 1,
        "rows": 35
       }
      },
      "text/html": [
       "<div>\n",
       "<style scoped>\n",
       "    .dataframe tbody tr th:only-of-type {\n",
       "        vertical-align: middle;\n",
       "    }\n",
       "\n",
       "    .dataframe tbody tr th {\n",
       "        vertical-align: top;\n",
       "    }\n",
       "\n",
       "    .dataframe thead th {\n",
       "        text-align: right;\n",
       "    }\n",
       "</style>\n",
       "<table border=\"1\" class=\"dataframe\">\n",
       "  <thead>\n",
       "    <tr style=\"text-align: right;\">\n",
       "      <th></th>\n",
       "      <th>success_score</th>\n",
       "    </tr>\n",
       "    <tr>\n",
       "      <th>country</th>\n",
       "      <th></th>\n",
       "    </tr>\n",
       "  </thead>\n",
       "  <tbody>\n",
       "    <tr>\n",
       "      <th>Serbia</th>\n",
       "      <td>0.589093</td>\n",
       "    </tr>\n",
       "    <tr>\n",
       "      <th>Poland</th>\n",
       "      <td>0.588047</td>\n",
       "    </tr>\n",
       "    <tr>\n",
       "      <th>Belarus</th>\n",
       "      <td>0.562245</td>\n",
       "    </tr>\n",
       "    <tr>\n",
       "      <th>Tunisia</th>\n",
       "      <td>0.478613</td>\n",
       "    </tr>\n",
       "    <tr>\n",
       "      <th>Spain</th>\n",
       "      <td>0.472104</td>\n",
       "    </tr>\n",
       "    <tr>\n",
       "      <th>Bulgaria</th>\n",
       "      <td>0.461452</td>\n",
       "    </tr>\n",
       "    <tr>\n",
       "      <th>Greece</th>\n",
       "      <td>0.454893</td>\n",
       "    </tr>\n",
       "    <tr>\n",
       "      <th>Germany</th>\n",
       "      <td>0.453876</td>\n",
       "    </tr>\n",
       "    <tr>\n",
       "      <th>Norway</th>\n",
       "      <td>0.452776</td>\n",
       "    </tr>\n",
       "    <tr>\n",
       "      <th>Switzerland</th>\n",
       "      <td>0.445516</td>\n",
       "    </tr>\n",
       "    <tr>\n",
       "      <th>Denmark</th>\n",
       "      <td>0.444343</td>\n",
       "    </tr>\n",
       "    <tr>\n",
       "      <th>Russia</th>\n",
       "      <td>0.438954</td>\n",
       "    </tr>\n",
       "    <tr>\n",
       "      <th>Australia</th>\n",
       "      <td>0.438472</td>\n",
       "    </tr>\n",
       "    <tr>\n",
       "      <th>USA</th>\n",
       "      <td>0.436180</td>\n",
       "    </tr>\n",
       "    <tr>\n",
       "      <th>Austria</th>\n",
       "      <td>0.435112</td>\n",
       "    </tr>\n",
       "    <tr>\n",
       "      <th>Kazakhstan</th>\n",
       "      <td>0.429858</td>\n",
       "    </tr>\n",
       "    <tr>\n",
       "      <th>Czech Republic</th>\n",
       "      <td>0.429627</td>\n",
       "    </tr>\n",
       "    <tr>\n",
       "      <th>Italy</th>\n",
       "      <td>0.426412</td>\n",
       "    </tr>\n",
       "    <tr>\n",
       "      <th>United Kingdom</th>\n",
       "      <td>0.422836</td>\n",
       "    </tr>\n",
       "    <tr>\n",
       "      <th>Japan</th>\n",
       "      <td>0.420829</td>\n",
       "    </tr>\n",
       "    <tr>\n",
       "      <th>Ukraine</th>\n",
       "      <td>0.416218</td>\n",
       "    </tr>\n",
       "    <tr>\n",
       "      <th>Latvia</th>\n",
       "      <td>0.415621</td>\n",
       "    </tr>\n",
       "    <tr>\n",
       "      <th>Belgium</th>\n",
       "      <td>0.413961</td>\n",
       "    </tr>\n",
       "    <tr>\n",
       "      <th>Romania</th>\n",
       "      <td>0.409395</td>\n",
       "    </tr>\n",
       "    <tr>\n",
       "      <th>Canada</th>\n",
       "      <td>0.407561</td>\n",
       "    </tr>\n",
       "    <tr>\n",
       "      <th>Croatia</th>\n",
       "      <td>0.405113</td>\n",
       "    </tr>\n",
       "    <tr>\n",
       "      <th>China</th>\n",
       "      <td>0.404900</td>\n",
       "    </tr>\n",
       "    <tr>\n",
       "      <th>France</th>\n",
       "      <td>0.403248</td>\n",
       "    </tr>\n",
       "    <tr>\n",
       "      <th>Brazil</th>\n",
       "      <td>0.400496</td>\n",
       "    </tr>\n",
       "    <tr>\n",
       "      <th>Chinese Taipei</th>\n",
       "      <td>0.393092</td>\n",
       "    </tr>\n",
       "    <tr>\n",
       "      <th>Argentina</th>\n",
       "      <td>0.390387</td>\n",
       "    </tr>\n",
       "    <tr>\n",
       "      <th>Chile</th>\n",
       "      <td>0.383430</td>\n",
       "    </tr>\n",
       "    <tr>\n",
       "      <th>Georgia</th>\n",
       "      <td>0.381789</td>\n",
       "    </tr>\n",
       "    <tr>\n",
       "      <th>Portugal</th>\n",
       "      <td>0.381089</td>\n",
       "    </tr>\n",
       "    <tr>\n",
       "      <th>Hungary</th>\n",
       "      <td>0.380146</td>\n",
       "    </tr>\n",
       "  </tbody>\n",
       "</table>\n",
       "</div>"
      ],
      "text/plain": [
       "                success_score\n",
       "country                      \n",
       "Serbia               0.589093\n",
       "Poland               0.588047\n",
       "Belarus              0.562245\n",
       "Tunisia              0.478613\n",
       "Spain                0.472104\n",
       "Bulgaria             0.461452\n",
       "Greece               0.454893\n",
       "Germany              0.453876\n",
       "Norway               0.452776\n",
       "Switzerland          0.445516\n",
       "Denmark              0.444343\n",
       "Russia               0.438954\n",
       "Australia            0.438472\n",
       "USA                  0.436180\n",
       "Austria              0.435112\n",
       "Kazakhstan           0.429858\n",
       "Czech Republic       0.429627\n",
       "Italy                0.426412\n",
       "United Kingdom       0.422836\n",
       "Japan                0.420829\n",
       "Ukraine              0.416218\n",
       "Latvia               0.415621\n",
       "Belgium              0.413961\n",
       "Romania              0.409395\n",
       "Canada               0.407561\n",
       "Croatia              0.405113\n",
       "China                0.404900\n",
       "France               0.403248\n",
       "Brazil               0.400496\n",
       "Chinese Taipei       0.393092\n",
       "Argentina            0.390387\n",
       "Chile                0.383430\n",
       "Georgia              0.381789\n",
       "Portugal             0.381089\n",
       "Hungary              0.380146"
      ]
     },
     "execution_count": 11,
     "metadata": {},
     "output_type": "execute_result"
    }
   ],
   "source": [
    "# I need a mixed measure of success based on income and world ranking.\n",
    "def compute_success_scores(players, w1=0.5, w2=0.5):\n",
    "    \"\"\"\n",
    "    players: DataFrame or list of dicts with columns/keys:\n",
    "      - 'current_rank'   (int, 1 = best)\n",
    "      - 'total_prize'    (float, in USD)\n",
    "    Returns a DataFrame with a new column 'success_score' in [0,1].\n",
    "    \"\"\"\n",
    "    df = pd.DataFrame(players).copy()\n",
    "\n",
    "    # 1) normalize rank: invert, then scale so best rank → 1.0, worst → 0.0\n",
    "    #    (we assume ranks start at 1)\n",
    "    inv_rank = 1.0 / df['current_rank']\n",
    "    df['norm_rank'] = (inv_rank - inv_rank.min()) / (inv_rank.max() - inv_rank.min())\n",
    "\n",
    "    # 2) normalize prize: log(1 + prize) to dampen skew, then min–max scale\n",
    "    log_prize = np.log1p(df['total_prize'])\n",
    "    df['norm_prize'] = (log_prize - log_prize.min()) / (log_prize.max() - log_prize.min())\n",
    "\n",
    "    # 3) weighted sum\n",
    "    df['success_score'] = w1 * df['norm_rank'] + w2 * df['norm_prize']\n",
    "    df['success_score']  = df['success_score'].astype(float)\n",
    "    return df\n",
    "# I put equal weight of 0.5 and 0.5 on income and world ranking.\n",
    "compute_success_scores(players_df,w1= 0.5, w2=0.5).sort_values(by='success_score',ascending=False).dropna().iloc[:100].groupby('country').agg({'success_score':'mean'}).sort_values(by='success_score',ascending=False)"
   ]
  },
  {
   "cell_type": "code",
   "execution_count": 12,
   "id": "9968746e",
   "metadata": {},
   "outputs": [
    {
     "data": {
      "application/vnd.microsoft.datawrangler.viewer.v0+json": {
       "columns": [
        {
         "name": "country",
         "rawType": "object",
         "type": "string"
        },
        {
         "name": "success_score",
         "rawType": "float64",
         "type": "float"
        }
       ],
       "ref": "cd6585ed-17f1-4ba5-b228-45c4973ec086",
       "rows": [
        [
         "USA",
         "4.797982113769562"
        ],
        [
         "France",
         "4.032479663317157"
        ],
        [
         "Russia",
         "3.9505845476664727"
        ],
        [
         "Spain",
         "2.360521239563833"
        ],
        [
         "Italy",
         "2.132062395962469"
        ],
        [
         "Serbia",
         "1.7672802430358794"
        ],
        [
         "Poland",
         "1.7641423105876246"
        ],
        [
         "Czech Republic",
         "1.7185077830102844"
        ],
        [
         "Croatia",
         "1.6204529923680782"
        ],
        [
         "Germany",
         "1.3616285896505274"
        ],
        [
         "Kazakhstan",
         "1.2895726848032543"
        ],
        [
         "United Kingdom",
         "1.268508829605865"
        ],
        [
         "Romania",
         "1.2281863832444828"
        ],
        [
         "Canada",
         "1.222682749979241"
        ],
        [
         "Belarus",
         "1.124490694418816"
        ],
        [
         "Greece",
         "0.9097858115319462"
        ],
        [
         "Denmark",
         "0.8886854264929867"
        ],
        [
         "Japan",
         "0.8416588694584478"
        ],
        [
         "Ukraine",
         "0.8324362091973432"
        ],
        [
         "Latvia",
         "0.8312425237371219"
        ],
        [
         "Belgium",
         "0.8279227850581874"
        ],
        [
         "China",
         "0.8098007603629169"
        ],
        [
         "Argentina",
         "0.7807747348808112"
        ],
        [
         "Hungary",
         "0.7602913078545723"
        ],
        [
         "Tunisia",
         "0.4786125616578451"
        ],
        [
         "Bulgaria",
         "0.46145217046782844"
        ],
        [
         "Norway",
         "0.4527757313619516"
        ],
        [
         "Switzerland",
         "0.44551573422183277"
        ],
        [
         "Australia",
         "0.43847150799995227"
        ],
        [
         "Austria",
         "0.43511202853953074"
        ],
        [
         "Brazil",
         "0.4004962104103189"
        ],
        [
         "Chinese Taipei",
         "0.39309190200134525"
        ],
        [
         "Chile",
         "0.383429759957644"
        ],
        [
         "Georgia",
         "0.38178932796034726"
        ],
        [
         "Portugal",
         "0.38108868843739985"
        ]
       ],
       "shape": {
        "columns": 1,
        "rows": 35
       }
      },
      "text/html": [
       "<div>\n",
       "<style scoped>\n",
       "    .dataframe tbody tr th:only-of-type {\n",
       "        vertical-align: middle;\n",
       "    }\n",
       "\n",
       "    .dataframe tbody tr th {\n",
       "        vertical-align: top;\n",
       "    }\n",
       "\n",
       "    .dataframe thead th {\n",
       "        text-align: right;\n",
       "    }\n",
       "</style>\n",
       "<table border=\"1\" class=\"dataframe\">\n",
       "  <thead>\n",
       "    <tr style=\"text-align: right;\">\n",
       "      <th></th>\n",
       "      <th>success_score</th>\n",
       "    </tr>\n",
       "    <tr>\n",
       "      <th>country</th>\n",
       "      <th></th>\n",
       "    </tr>\n",
       "  </thead>\n",
       "  <tbody>\n",
       "    <tr>\n",
       "      <th>USA</th>\n",
       "      <td>4.797982</td>\n",
       "    </tr>\n",
       "    <tr>\n",
       "      <th>France</th>\n",
       "      <td>4.032480</td>\n",
       "    </tr>\n",
       "    <tr>\n",
       "      <th>Russia</th>\n",
       "      <td>3.950585</td>\n",
       "    </tr>\n",
       "    <tr>\n",
       "      <th>Spain</th>\n",
       "      <td>2.360521</td>\n",
       "    </tr>\n",
       "    <tr>\n",
       "      <th>Italy</th>\n",
       "      <td>2.132062</td>\n",
       "    </tr>\n",
       "    <tr>\n",
       "      <th>Serbia</th>\n",
       "      <td>1.767280</td>\n",
       "    </tr>\n",
       "    <tr>\n",
       "      <th>Poland</th>\n",
       "      <td>1.764142</td>\n",
       "    </tr>\n",
       "    <tr>\n",
       "      <th>Czech Republic</th>\n",
       "      <td>1.718508</td>\n",
       "    </tr>\n",
       "    <tr>\n",
       "      <th>Croatia</th>\n",
       "      <td>1.620453</td>\n",
       "    </tr>\n",
       "    <tr>\n",
       "      <th>Germany</th>\n",
       "      <td>1.361629</td>\n",
       "    </tr>\n",
       "    <tr>\n",
       "      <th>Kazakhstan</th>\n",
       "      <td>1.289573</td>\n",
       "    </tr>\n",
       "    <tr>\n",
       "      <th>United Kingdom</th>\n",
       "      <td>1.268509</td>\n",
       "    </tr>\n",
       "    <tr>\n",
       "      <th>Romania</th>\n",
       "      <td>1.228186</td>\n",
       "    </tr>\n",
       "    <tr>\n",
       "      <th>Canada</th>\n",
       "      <td>1.222683</td>\n",
       "    </tr>\n",
       "    <tr>\n",
       "      <th>Belarus</th>\n",
       "      <td>1.124491</td>\n",
       "    </tr>\n",
       "    <tr>\n",
       "      <th>Greece</th>\n",
       "      <td>0.909786</td>\n",
       "    </tr>\n",
       "    <tr>\n",
       "      <th>Denmark</th>\n",
       "      <td>0.888685</td>\n",
       "    </tr>\n",
       "    <tr>\n",
       "      <th>Japan</th>\n",
       "      <td>0.841659</td>\n",
       "    </tr>\n",
       "    <tr>\n",
       "      <th>Ukraine</th>\n",
       "      <td>0.832436</td>\n",
       "    </tr>\n",
       "    <tr>\n",
       "      <th>Latvia</th>\n",
       "      <td>0.831243</td>\n",
       "    </tr>\n",
       "    <tr>\n",
       "      <th>Belgium</th>\n",
       "      <td>0.827923</td>\n",
       "    </tr>\n",
       "    <tr>\n",
       "      <th>China</th>\n",
       "      <td>0.809801</td>\n",
       "    </tr>\n",
       "    <tr>\n",
       "      <th>Argentina</th>\n",
       "      <td>0.780775</td>\n",
       "    </tr>\n",
       "    <tr>\n",
       "      <th>Hungary</th>\n",
       "      <td>0.760291</td>\n",
       "    </tr>\n",
       "    <tr>\n",
       "      <th>Tunisia</th>\n",
       "      <td>0.478613</td>\n",
       "    </tr>\n",
       "    <tr>\n",
       "      <th>Bulgaria</th>\n",
       "      <td>0.461452</td>\n",
       "    </tr>\n",
       "    <tr>\n",
       "      <th>Norway</th>\n",
       "      <td>0.452776</td>\n",
       "    </tr>\n",
       "    <tr>\n",
       "      <th>Switzerland</th>\n",
       "      <td>0.445516</td>\n",
       "    </tr>\n",
       "    <tr>\n",
       "      <th>Australia</th>\n",
       "      <td>0.438472</td>\n",
       "    </tr>\n",
       "    <tr>\n",
       "      <th>Austria</th>\n",
       "      <td>0.435112</td>\n",
       "    </tr>\n",
       "    <tr>\n",
       "      <th>Brazil</th>\n",
       "      <td>0.400496</td>\n",
       "    </tr>\n",
       "    <tr>\n",
       "      <th>Chinese Taipei</th>\n",
       "      <td>0.393092</td>\n",
       "    </tr>\n",
       "    <tr>\n",
       "      <th>Chile</th>\n",
       "      <td>0.383430</td>\n",
       "    </tr>\n",
       "    <tr>\n",
       "      <th>Georgia</th>\n",
       "      <td>0.381789</td>\n",
       "    </tr>\n",
       "    <tr>\n",
       "      <th>Portugal</th>\n",
       "      <td>0.381089</td>\n",
       "    </tr>\n",
       "  </tbody>\n",
       "</table>\n",
       "</div>"
      ],
      "text/plain": [
       "                success_score\n",
       "country                      \n",
       "USA                  4.797982\n",
       "France               4.032480\n",
       "Russia               3.950585\n",
       "Spain                2.360521\n",
       "Italy                2.132062\n",
       "Serbia               1.767280\n",
       "Poland               1.764142\n",
       "Czech Republic       1.718508\n",
       "Croatia              1.620453\n",
       "Germany              1.361629\n",
       "Kazakhstan           1.289573\n",
       "United Kingdom       1.268509\n",
       "Romania              1.228186\n",
       "Canada               1.222683\n",
       "Belarus              1.124491\n",
       "Greece               0.909786\n",
       "Denmark              0.888685\n",
       "Japan                0.841659\n",
       "Ukraine              0.832436\n",
       "Latvia               0.831243\n",
       "Belgium              0.827923\n",
       "China                0.809801\n",
       "Argentina            0.780775\n",
       "Hungary              0.760291\n",
       "Tunisia              0.478613\n",
       "Bulgaria             0.461452\n",
       "Norway               0.452776\n",
       "Switzerland          0.445516\n",
       "Australia            0.438472\n",
       "Austria              0.435112\n",
       "Brazil               0.400496\n",
       "Chinese Taipei       0.393092\n",
       "Chile                0.383430\n",
       "Georgia              0.381789\n",
       "Portugal             0.381089"
      ]
     },
     "execution_count": 12,
     "metadata": {},
     "output_type": "execute_result"
    }
   ],
   "source": [
    "compute_success_scores(players_df,w1= 0.5, w2=0.5).sort_values(by='success_score',ascending=False).dropna().iloc[:100].groupby('country').agg({'success_score':'sum'}).sort_values(by='success_score',ascending=False)"
   ]
  },
  {
   "cell_type": "code",
   "execution_count": null,
   "id": "07106779",
   "metadata": {},
   "outputs": [],
   "source": [
    "# Although the United States tops the leaderboard by total score, \n",
    "# Serbia and Poland boast higher average player scores—highlighting their exceptional per‐player talent despite smaller rosters."
   ]
  },
  {
   "cell_type": "markdown",
   "id": "f5a3a1ed",
   "metadata": {},
   "source": [
    "### 7."
   ]
  },
  {
   "cell_type": "code",
   "execution_count": null,
   "id": "45e64d72",
   "metadata": {},
   "outputs": [
    {
     "name": "stdout",
     "output_type": "stream",
     "text": [
      "[########################################] | 100% Completed | 106.73 s\n"
     ]
    }
   ],
   "source": [
    "# Extracting the results into csv for faster manipulation with pandas.\n",
    "with ProgressBar():\n",
    "    result = dd.read_parquet(render_addresses('stats'), columns = ['match_id','period','statistic_name','home_stat','away_stat']).compute()"
   ]
  },
  {
   "cell_type": "code",
   "execution_count": null,
   "id": "feb8f7e9",
   "metadata": {},
   "outputs": [
    {
     "data": {
      "application/vnd.microsoft.datawrangler.viewer.v0+json": {
       "columns": [
        {
         "name": "index",
         "rawType": "int64",
         "type": "integer"
        },
        {
         "name": "match_id",
         "rawType": "int64",
         "type": "integer"
        },
        {
         "name": "period",
         "rawType": "string",
         "type": "string"
        },
        {
         "name": "statistic_name",
         "rawType": "string",
         "type": "string"
        },
        {
         "name": "home_stat",
         "rawType": "string",
         "type": "string"
        },
        {
         "name": "away_stat",
         "rawType": "string",
         "type": "string"
        }
       ],
       "ref": "9cfda8df-7327-4a39-b192-a4eb5072632e",
       "rows": [
        [
         "0",
         "11998445",
         "ALL",
         "aces",
         "12",
         "6"
        ],
        [
         "1",
         "11998445",
         "ALL",
         "double_faults",
         "2",
         "7"
        ],
        [
         "2",
         "11998445",
         "ALL",
         "first_serve",
         "57/101 (56%)",
         "53/90 (59%)"
        ],
        [
         "3",
         "11998445",
         "ALL",
         "second_serve",
         "42/44 (95%)",
         "30/37 (81%)"
        ],
        [
         "4",
         "11998445",
         "ALL",
         "first_serve_points",
         "42/57 (74%)",
         "39/53 (74%)"
        ],
        [
         "5",
         "11998445",
         "ALL",
         "second_serve_points",
         "18/44 (41%)",
         "16/37 (43%)"
        ],
        [
         "6",
         "11998445",
         "ALL",
         "service_games_played",
         "16",
         "16"
        ],
        [
         "7",
         "11998445",
         "ALL",
         "break_points_saved",
         "6/10 (60%)",
         "1/6 (16%)"
        ],
        [
         "8",
         "11998445",
         "ALL",
         "total",
         "95",
         "96"
        ],
        [
         "9",
         "11998445",
         "ALL",
         "service_points_won",
         "60",
         "55"
        ],
        [
         "10",
         "11998445",
         "ALL",
         "receiver_points_won",
         "35",
         "41"
        ],
        [
         "11",
         "11998445",
         "ALL",
         "max_points_in_a_row",
         "7",
         "8"
        ],
        [
         "12",
         "11998445",
         "ALL",
         "total_won",
         "17",
         "14"
        ],
        [
         "13",
         "11998445",
         "ALL",
         "service_games_won",
         "12",
         "11"
        ],
        [
         "14",
         "11998445",
         "ALL",
         "max_games_in_a_row",
         "5",
         "3"
        ],
        [
         "15",
         "11998445",
         "ALL",
         "first_serve_return_points",
         "14/53 (26%)",
         "15/57 (26%)"
        ],
        [
         "16",
         "11998445",
         "ALL",
         "second_serve_return_points",
         "21/37 (56%)",
         "26/44 (59%)"
        ],
        [
         "17",
         "11998445",
         "ALL",
         "return_games_played",
         "16",
         "16"
        ],
        [
         "18",
         "11998445",
         "ALL",
         "break_points_converted",
         "5",
         "4"
        ],
        [
         "19",
         "11998445",
         "ALL",
         "tiebreaks",
         "0",
         "1"
        ],
        [
         "20",
         "11998445",
         "1ST",
         "aces",
         "2",
         "3"
        ],
        [
         "21",
         "11998445",
         "1ST",
         "double_faults",
         "1",
         "2"
        ],
        [
         "22",
         "11998445",
         "1ST",
         "first_serve",
         "16/33 (48%)",
         "18/30 (60%)"
        ],
        [
         "23",
         "11998445",
         "1ST",
         "second_serve",
         "16/17 (94%)",
         "10/12 (83%)"
        ],
        [
         "24",
         "11998445",
         "1ST",
         "first_serve_points",
         "13/16 (81%)",
         "17/18 (94%)"
        ],
        [
         "25",
         "11998445",
         "1ST",
         "second_serve_points",
         "7/17 (41%)",
         "5/12 (42%)"
        ],
        [
         "26",
         "11998445",
         "1ST",
         "service_games_played",
         "6",
         "6"
        ],
        [
         "27",
         "11998445",
         "1ST",
         "break_points_saved",
         "0/2 (0%)",
         "1/2 (50%)"
        ],
        [
         "28",
         "11998445",
         "1ST",
         "service_points_won",
         "20",
         "22"
        ],
        [
         "29",
         "11998445",
         "1ST",
         "receiver_points_won",
         "8",
         "13"
        ],
        [
         "30",
         "11998445",
         "1ST",
         "max_points_in_a_row",
         "4",
         "5"
        ],
        [
         "31",
         "11998445",
         "1ST",
         "max_games_in_a_row",
         "3",
         "3"
        ],
        [
         "32",
         "11998445",
         "1ST",
         "first_serve_return_points",
         "1/18 (5%)",
         "3/16 (18%)"
        ],
        [
         "33",
         "11998445",
         "1ST",
         "second_serve_return_points",
         "7/12 (58%)",
         "10/17 (58%)"
        ],
        [
         "34",
         "11998445",
         "1ST",
         "return_games_played",
         "6",
         "6"
        ],
        [
         "35",
         "11998445",
         "1ST",
         "break_points_converted",
         "1",
         "2"
        ],
        [
         "36",
         "11998445",
         "1ST",
         "tiebreaks",
         "0",
         "0"
        ],
        [
         "37",
         "11998445",
         "2ND",
         "aces",
         "6",
         "3"
        ],
        [
         "38",
         "11998445",
         "2ND",
         "double_faults",
         "1",
         "2"
        ],
        [
         "39",
         "11998445",
         "2ND",
         "first_serve",
         "15/26 (58%)",
         "12/22 (55%)"
        ],
        [
         "40",
         "11998445",
         "2ND",
         "second_serve",
         "10/11 (91%)",
         "8/10 (80%)"
        ],
        [
         "41",
         "11998445",
         "2ND",
         "first_serve_points",
         "12/15 (80%)",
         "7/12 (58%)"
        ],
        [
         "42",
         "11998445",
         "2ND",
         "second_serve_points",
         "6/11 (55%)",
         "3/10 (30%)"
        ],
        [
         "43",
         "11998445",
         "2ND",
         "service_games_played",
         "4",
         "4"
        ],
        [
         "44",
         "11998445",
         "2ND",
         "break_points_saved",
         "3/3 (100%)",
         "0/2 (0%)"
        ],
        [
         "45",
         "11998445",
         "2ND",
         "service_points_won",
         "18",
         "10"
        ],
        [
         "46",
         "11998445",
         "2ND",
         "receiver_points_won",
         "12",
         "8"
        ],
        [
         "47",
         "11998445",
         "2ND",
         "max_points_in_a_row",
         "7",
         "3"
        ],
        [
         "48",
         "11998445",
         "2ND",
         "max_games_in_a_row",
         "3",
         "1"
        ],
        [
         "49",
         "11998445",
         "2ND",
         "first_serve_return_points",
         "5/12 (41%)",
         "3/15 (20%)"
        ]
       ],
       "shape": {
        "columns": 5,
        "rows": 1358234
       }
      },
      "text/html": [
       "<div>\n",
       "<style scoped>\n",
       "    .dataframe tbody tr th:only-of-type {\n",
       "        vertical-align: middle;\n",
       "    }\n",
       "\n",
       "    .dataframe tbody tr th {\n",
       "        vertical-align: top;\n",
       "    }\n",
       "\n",
       "    .dataframe thead th {\n",
       "        text-align: right;\n",
       "    }\n",
       "</style>\n",
       "<table border=\"1\" class=\"dataframe\">\n",
       "  <thead>\n",
       "    <tr style=\"text-align: right;\">\n",
       "      <th></th>\n",
       "      <th>match_id</th>\n",
       "      <th>period</th>\n",
       "      <th>statistic_name</th>\n",
       "      <th>home_stat</th>\n",
       "      <th>away_stat</th>\n",
       "    </tr>\n",
       "  </thead>\n",
       "  <tbody>\n",
       "    <tr>\n",
       "      <th>0</th>\n",
       "      <td>11998445</td>\n",
       "      <td>ALL</td>\n",
       "      <td>aces</td>\n",
       "      <td>12</td>\n",
       "      <td>6</td>\n",
       "    </tr>\n",
       "    <tr>\n",
       "      <th>1</th>\n",
       "      <td>11998445</td>\n",
       "      <td>ALL</td>\n",
       "      <td>double_faults</td>\n",
       "      <td>2</td>\n",
       "      <td>7</td>\n",
       "    </tr>\n",
       "    <tr>\n",
       "      <th>2</th>\n",
       "      <td>11998445</td>\n",
       "      <td>ALL</td>\n",
       "      <td>first_serve</td>\n",
       "      <td>57/101 (56%)</td>\n",
       "      <td>53/90 (59%)</td>\n",
       "    </tr>\n",
       "    <tr>\n",
       "      <th>3</th>\n",
       "      <td>11998445</td>\n",
       "      <td>ALL</td>\n",
       "      <td>second_serve</td>\n",
       "      <td>42/44 (95%)</td>\n",
       "      <td>30/37 (81%)</td>\n",
       "    </tr>\n",
       "    <tr>\n",
       "      <th>4</th>\n",
       "      <td>11998445</td>\n",
       "      <td>ALL</td>\n",
       "      <td>first_serve_points</td>\n",
       "      <td>42/57 (74%)</td>\n",
       "      <td>39/53 (74%)</td>\n",
       "    </tr>\n",
       "    <tr>\n",
       "      <th>...</th>\n",
       "      <td>...</td>\n",
       "      <td>...</td>\n",
       "      <td>...</td>\n",
       "      <td>...</td>\n",
       "      <td>...</td>\n",
       "    </tr>\n",
       "    <tr>\n",
       "      <th>48</th>\n",
       "      <td>12213803</td>\n",
       "      <td>2ND</td>\n",
       "      <td>max_games_in_a_row</td>\n",
       "      <td>4</td>\n",
       "      <td>1</td>\n",
       "    </tr>\n",
       "    <tr>\n",
       "      <th>49</th>\n",
       "      <td>12213803</td>\n",
       "      <td>2ND</td>\n",
       "      <td>first_serve_return_points</td>\n",
       "      <td>10/16 (62%)</td>\n",
       "      <td>4/13 (30%)</td>\n",
       "    </tr>\n",
       "    <tr>\n",
       "      <th>50</th>\n",
       "      <td>12213803</td>\n",
       "      <td>2ND</td>\n",
       "      <td>second_serve_return_points</td>\n",
       "      <td>8/14 (57%)</td>\n",
       "      <td>6/13 (46%)</td>\n",
       "    </tr>\n",
       "    <tr>\n",
       "      <th>51</th>\n",
       "      <td>12213803</td>\n",
       "      <td>2ND</td>\n",
       "      <td>return_games_played</td>\n",
       "      <td>4</td>\n",
       "      <td>3</td>\n",
       "    </tr>\n",
       "    <tr>\n",
       "      <th>52</th>\n",
       "      <td>12213803</td>\n",
       "      <td>2ND</td>\n",
       "      <td>break_points_converted</td>\n",
       "      <td>3</td>\n",
       "      <td>0</td>\n",
       "    </tr>\n",
       "  </tbody>\n",
       "</table>\n",
       "<p>1358234 rows × 5 columns</p>\n",
       "</div>"
      ],
      "text/plain": [
       "    match_id period              statistic_name     home_stat    away_stat\n",
       "0   11998445    ALL                        aces            12            6\n",
       "1   11998445    ALL               double_faults             2            7\n",
       "2   11998445    ALL                 first_serve  57/101 (56%)  53/90 (59%)\n",
       "3   11998445    ALL                second_serve   42/44 (95%)  30/37 (81%)\n",
       "4   11998445    ALL          first_serve_points   42/57 (74%)  39/53 (74%)\n",
       "..       ...    ...                         ...           ...          ...\n",
       "48  12213803    2ND          max_games_in_a_row             4            1\n",
       "49  12213803    2ND   first_serve_return_points   10/16 (62%)   4/13 (30%)\n",
       "50  12213803    2ND  second_serve_return_points    8/14 (57%)   6/13 (46%)\n",
       "51  12213803    2ND         return_games_played             4            3\n",
       "52  12213803    2ND      break_points_converted             3            0\n",
       "\n",
       "[1358234 rows x 5 columns]"
      ]
     },
     "execution_count": 86,
     "metadata": {},
     "output_type": "execute_result"
    }
   ],
   "source": [
    "# I save this dataframe in a csv file, so as to access the retrieved data faster later on.\n",
    "result"
   ]
  },
  {
   "cell_type": "code",
   "execution_count": 209,
   "id": "60b7fafa",
   "metadata": {},
   "outputs": [],
   "source": [
    "# Loading the stats dataframe.\n",
    "df = pd.read_csv(\"CSVs\\\\7_8_stats.csv\")\n",
    "\n",
    "# Look for aces in all sets.\n",
    "filtered_df = df.query(\"statistic_name == 'aces' and period == 'ALL'\")\n",
    "filtered_df.drop_duplicates(inplace=True)\n",
    "\n",
    "# Drop unnecessary columns.\n",
    "filtered_df.drop(columns=['statistic_name','period'], inplace=True, errors='ignore')\n",
    "\n",
    "# Type casting.\n",
    "filtered_df.loc[:,\"home_stat\"] = filtered_df.loc[:,\"home_stat\"].astype(int)\n",
    "filtered_df.loc[:,\"away_stat\"] = filtered_df.loc[:,\"away_stat\"].astype(int)"
   ]
  },
  {
   "cell_type": "code",
   "execution_count": 215,
   "id": "1d96b05e",
   "metadata": {},
   "outputs": [
    {
     "name": "stdout",
     "output_type": "stream",
     "text": [
      "The average number of aces per match is: 5.45.\n"
     ]
    }
   ],
   "source": [
    "filtered_df.loc[:,'aces'] = filtered_df['home_stat'] + filtered_df['away_stat']\n",
    "print(f\"The average number of aces per match is: {filtered_df['aces'].mean():.2f}.\")"
   ]
  },
  {
   "cell_type": "markdown",
   "id": "272d6d67",
   "metadata": {},
   "source": [
    "### 8."
   ]
  },
  {
   "cell_type": "code",
   "execution_count": null,
   "id": "df24758b",
   "metadata": {},
   "outputs": [],
   "source": [
    "# Loading the necessary columns by dask.\n",
    "home_df = dd.read_parquet(render_addresses('match',kind='home_team'), columns=['match_id','player_id','gender'])\n",
    "away_df = dd.read_parquet(render_addresses('match',kind='away_team'), columns=['match_id','player_id','gender'])"
   ]
  },
  {
   "cell_type": "code",
   "execution_count": null,
   "id": "6d7658f7",
   "metadata": {},
   "outputs": [
    {
     "name": "stdout",
     "output_type": "stream",
     "text": [
      "[########################################] | 100% Completed | 102.16 s\n"
     ]
    }
   ],
   "source": [
    "# Extracting the results into csv for faster manipulation with pandas.\n",
    "# I also have saved the result for future convenience.\n",
    "with ProgressBar():\n",
    "    result = away_df.compute()"
   ]
  },
  {
   "cell_type": "code",
   "execution_count": 216,
   "id": "9cc763e8",
   "metadata": {},
   "outputs": [],
   "source": [
    "# Loadin CSV datasets.\n",
    "stats_df = pd.read_csv(\"CSVs\\\\7_8_stats.csv\")\n",
    "home_df = pd.read_csv(\"CSVs\\\\8_home_df.csv\")\n",
    "away_df = pd.read_csv(\"CSVs\\\\8_away_df.csv\")\n",
    "\n",
    "# Filtering double faults.\n",
    "filtered_stats = stats_df.query(\"statistic_name == 'double_faults' and period == 'ALL'\")\n",
    "filtered_stats.drop_duplicates(subset='match_id', inplace=True)\n",
    "filtered_stats.drop(columns=['statistic_name','period'], inplace=True, errors='ignore')\n",
    "\n",
    "# Type conversions.\n",
    "filtered_stats.loc[:,\"home_stat\"] = filtered_stats.loc[:,\"home_stat\"].astype(int)\n",
    "filtered_stats.loc[:,\"away_stat\"] = filtered_stats.loc[:,\"away_stat\"].astype(int)\n",
    "\n",
    "# Droping duplicates.\n",
    "home_df.drop_duplicates(subset='match_id', inplace=True)\n",
    "away_df.drop_duplicates(subset='match_id', inplace=True)"
   ]
  },
  {
   "cell_type": "code",
   "execution_count": 218,
   "id": "86e8fb47",
   "metadata": {},
   "outputs": [
    {
     "data": {
      "application/vnd.microsoft.datawrangler.viewer.v0+json": {
       "columns": [
        {
         "name": "gender",
         "rawType": "object",
         "type": "string"
        },
        {
         "name": "double_faults",
         "rawType": "object",
         "type": "unknown"
        }
       ],
       "ref": "0252390a-1f1a-497f-86d0-3b7814b46828",
       "rows": [
        [
         "F",
         "3.499885268471776"
        ],
        [
         "M",
         "2.696503999281028"
        ]
       ],
       "shape": {
        "columns": 1,
        "rows": 2
       }
      },
      "text/html": [
       "<div>\n",
       "<style scoped>\n",
       "    .dataframe tbody tr th:only-of-type {\n",
       "        vertical-align: middle;\n",
       "    }\n",
       "\n",
       "    .dataframe tbody tr th {\n",
       "        vertical-align: top;\n",
       "    }\n",
       "\n",
       "    .dataframe thead th {\n",
       "        text-align: right;\n",
       "    }\n",
       "</style>\n",
       "<table border=\"1\" class=\"dataframe\">\n",
       "  <thead>\n",
       "    <tr style=\"text-align: right;\">\n",
       "      <th></th>\n",
       "      <th>double_faults</th>\n",
       "    </tr>\n",
       "    <tr>\n",
       "      <th>gender</th>\n",
       "      <th></th>\n",
       "    </tr>\n",
       "  </thead>\n",
       "  <tbody>\n",
       "    <tr>\n",
       "      <th>F</th>\n",
       "      <td>3.499885</td>\n",
       "    </tr>\n",
       "    <tr>\n",
       "      <th>M</th>\n",
       "      <td>2.696504</td>\n",
       "    </tr>\n",
       "  </tbody>\n",
       "</table>\n",
       "</div>"
      ],
      "text/plain": [
       "       double_faults\n",
       "gender              \n",
       "F           3.499885\n",
       "M           2.696504"
      ]
     },
     "execution_count": 218,
     "metadata": {},
     "output_type": "execute_result"
    }
   ],
   "source": [
    "# Merge with home and away dataframes to find genders.\n",
    "merged_home = filtered_stats.drop(columns = ['away_stat']).merge(home_df, on='match_id', how='inner').rename(columns={'home_stat':'double_faults'})\n",
    "merged_away = filtered_stats.drop(columns = ['home_stat']).merge(away_df, on='match_id', how='inner').rename(columns={'away_stat':'double_faults'})\n",
    "\n",
    "# Concat the results.\n",
    "double_faults = pd.concat([merged_home, merged_away])\n",
    "double_faults.groupby('gender').agg({'double_faults':'mean'})"
   ]
  },
  {
   "cell_type": "code",
   "execution_count": 220,
   "id": "83a8b811",
   "metadata": {},
   "outputs": [
    {
     "name": "stdout",
     "output_type": "stream",
     "text": [
      "As you see, women are more likely to have double faults in their games.\n"
     ]
    }
   ],
   "source": [
    "print(f\"As you see, women are more likely to have double faults in their games.\")"
   ]
  },
  {
   "cell_type": "markdown",
   "id": "3ef3f341",
   "metadata": {},
   "source": [
    "### 9."
   ]
  },
  {
   "cell_type": "code",
   "execution_count": null,
   "id": "ae6e66b3",
   "metadata": {},
   "outputs": [],
   "source": [
    "# Now, I isolate the round data filtered by month, to \n",
    "round_df = dd.read_parquet(render_addresses('match',date_arr=dates_tuple[29:], kind='round'), columns=['match_id','slug'])"
   ]
  },
  {
   "cell_type": "code",
   "execution_count": null,
   "id": "e975ae08",
   "metadata": {},
   "outputs": [
    {
     "name": "stdout",
     "output_type": "stream",
     "text": [
      "[########################################] | 100% Completed | 30.40 s\n"
     ]
    }
   ],
   "source": [
    "# Extracting the results into csv for faster manipulation with pandas.\n",
    "with ProgressBar():\n",
    "    result = round_df.compute()"
   ]
  },
  {
   "cell_type": "code",
   "execution_count": null,
   "id": "4553fb3c",
   "metadata": {},
   "outputs": [
    {
     "data": {
      "application/vnd.microsoft.datawrangler.viewer.v0+json": {
       "columns": [
        {
         "name": "index",
         "rawType": "int64",
         "type": "integer"
        },
        {
         "name": "match_id",
         "rawType": "int64",
         "type": "integer"
        },
        {
         "name": "slug",
         "rawType": "string",
         "type": "string"
        }
       ],
       "ref": "dd4aed48-e28b-411e-8bbe-2e426ef1555c",
       "rows": [
        [
         "0",
         "12087266",
         "round-of-16"
        ],
        [
         "0",
         "12087267",
         "quarterfinals"
        ],
        [
         "0",
         "12087269",
         "quarterfinals"
        ],
        [
         "0",
         "12087270",
         "round-of-16"
        ],
        [
         "0",
         "12087271",
         "round-of-16"
        ],
        [
         "0",
         "12087277",
         "quarterfinals"
        ],
        [
         "0",
         "12087279",
         "quarterfinals"
        ],
        [
         "0",
         "12087282",
         "round-of-16"
        ],
        [
         "0",
         "12087303",
         "quarterfinals"
        ],
        [
         "0",
         "12087305",
         "round-of-16"
        ],
        [
         "0",
         "12087307",
         "round-of-16"
        ],
        [
         "0",
         "12087309",
         "quarterfinals"
        ],
        [
         "0",
         "12087310",
         "round-of-16"
        ],
        [
         "0",
         "12087311",
         "quarterfinals"
        ],
        [
         "0",
         "12087314",
         "quarterfinals"
        ],
        [
         "0",
         "12087318",
         "round-of-16"
        ],
        [
         "0",
         "12087889",
         "semifinals"
        ],
        [
         "0",
         "12087895",
         "quarterfinals"
        ],
        [
         "0",
         "12087900",
         "quarterfinals"
        ],
        [
         "0",
         "12087901",
         "semifinals"
        ],
        [
         "0",
         "12087917",
         "quarterfinals"
        ],
        [
         "0",
         "12087922",
         "semifinals"
        ],
        [
         "0",
         "12087923",
         "semifinals"
        ],
        [
         "0",
         "12087924",
         "quarterfinals"
        ],
        [
         "0",
         "12087925",
         "quarterfinals"
        ],
        [
         "0",
         "12087927",
         "quarterfinals"
        ],
        [
         "0",
         "12087936",
         "quarterfinals"
        ],
        [
         "0",
         "12087937",
         "round-of-16"
        ],
        [
         "0",
         "12087939",
         "quarterfinals"
        ],
        [
         "0",
         "12087941",
         "round-of-16"
        ],
        [
         "0",
         "12087942",
         "round-of-16"
        ],
        [
         "0",
         "12087946",
         "quarterfinals"
        ],
        [
         "0",
         "12087947",
         "quarterfinals"
        ],
        [
         "0",
         "12087949",
         "round-of-16"
        ],
        [
         "0",
         "12088016",
         "quarterfinals"
        ],
        [
         "0",
         "12088018",
         "quarterfinals"
        ],
        [
         "0",
         "12088019",
         "quarterfinals"
        ],
        [
         "0",
         "12088020",
         "round-of-16"
        ],
        [
         "0",
         "12088021",
         "quarterfinals"
        ],
        [
         "0",
         "12088025",
         "round-of-16"
        ],
        [
         "0",
         "12088027",
         "round-of-16"
        ],
        [
         "0",
         "12088038",
         "quarterfinals"
        ],
        [
         "0",
         "12088040",
         "semifinals"
        ],
        [
         "0",
         "12088046",
         "quarterfinals"
        ],
        [
         "0",
         "12088049",
         "quarterfinals"
        ],
        [
         "0",
         "12088050",
         "quarterfinals"
        ],
        [
         "0",
         "12088051",
         "semifinals"
        ],
        [
         "0",
         "12088056",
         "final"
        ],
        [
         "0",
         "12088057",
         "semifinals"
        ],
        [
         "0",
         "12088058",
         "semifinals"
        ]
       ],
       "shape": {
        "columns": 2,
        "rows": 10516
       }
      },
      "text/html": [
       "<div>\n",
       "<style scoped>\n",
       "    .dataframe tbody tr th:only-of-type {\n",
       "        vertical-align: middle;\n",
       "    }\n",
       "\n",
       "    .dataframe tbody tr th {\n",
       "        vertical-align: top;\n",
       "    }\n",
       "\n",
       "    .dataframe thead th {\n",
       "        text-align: right;\n",
       "    }\n",
       "</style>\n",
       "<table border=\"1\" class=\"dataframe\">\n",
       "  <thead>\n",
       "    <tr style=\"text-align: right;\">\n",
       "      <th></th>\n",
       "      <th>match_id</th>\n",
       "      <th>slug</th>\n",
       "    </tr>\n",
       "  </thead>\n",
       "  <tbody>\n",
       "    <tr>\n",
       "      <th>0</th>\n",
       "      <td>12087266</td>\n",
       "      <td>round-of-16</td>\n",
       "    </tr>\n",
       "    <tr>\n",
       "      <th>0</th>\n",
       "      <td>12087267</td>\n",
       "      <td>quarterfinals</td>\n",
       "    </tr>\n",
       "    <tr>\n",
       "      <th>0</th>\n",
       "      <td>12087269</td>\n",
       "      <td>quarterfinals</td>\n",
       "    </tr>\n",
       "    <tr>\n",
       "      <th>0</th>\n",
       "      <td>12087270</td>\n",
       "      <td>round-of-16</td>\n",
       "    </tr>\n",
       "    <tr>\n",
       "      <th>0</th>\n",
       "      <td>12087271</td>\n",
       "      <td>round-of-16</td>\n",
       "    </tr>\n",
       "    <tr>\n",
       "      <th>...</th>\n",
       "      <td>...</td>\n",
       "      <td>...</td>\n",
       "    </tr>\n",
       "    <tr>\n",
       "      <th>0</th>\n",
       "      <td>12212076</td>\n",
       "      <td>round-of-32</td>\n",
       "    </tr>\n",
       "    <tr>\n",
       "      <th>0</th>\n",
       "      <td>12212077</td>\n",
       "      <td>round-of-32</td>\n",
       "    </tr>\n",
       "    <tr>\n",
       "      <th>0</th>\n",
       "      <td>12212078</td>\n",
       "      <td>round-of-32</td>\n",
       "    </tr>\n",
       "    <tr>\n",
       "      <th>0</th>\n",
       "      <td>12212080</td>\n",
       "      <td>round-of-32</td>\n",
       "    </tr>\n",
       "    <tr>\n",
       "      <th>0</th>\n",
       "      <td>12212087</td>\n",
       "      <td>round-of-32</td>\n",
       "    </tr>\n",
       "  </tbody>\n",
       "</table>\n",
       "<p>10516 rows × 2 columns</p>\n",
       "</div>"
      ],
      "text/plain": [
       "    match_id           slug\n",
       "0   12087266    round-of-16\n",
       "0   12087267  quarterfinals\n",
       "0   12087269  quarterfinals\n",
       "0   12087270    round-of-16\n",
       "0   12087271    round-of-16\n",
       "..       ...            ...\n",
       "0   12212076    round-of-32\n",
       "0   12212077    round-of-32\n",
       "0   12212078    round-of-32\n",
       "0   12212080    round-of-32\n",
       "0   12212087    round-of-32\n",
       "\n",
       "[10516 rows x 2 columns]"
      ]
     },
     "execution_count": 144,
     "metadata": {},
     "output_type": "execute_result"
    }
   ],
   "source": [
    "# I also have saved the result for future convenience.\n",
    "result"
   ]
  },
  {
   "cell_type": "code",
   "execution_count": 222,
   "id": "68983567",
   "metadata": {},
   "outputs": [],
   "source": [
    "# Loading the necessary datasets.\n",
    "# Since all the games are associated with tournaments, I just need to find the final round, and the winner of that match.\n",
    "round_feb_df = pd.read_csv(\"CSVs\\\\9_round_feb.csv\")\n",
    "round_mar_df = pd.read_csv(\"CSVs\\\\9_round_mar.csv\")\n",
    "match_df = pd.read_csv(\"CSVs\\\\3_match_df.csv\")\n",
    "home_df = pd.read_csv(\"CSVs\\\\3_home_df.csv\")\n",
    "away_df = pd.read_csv(\"CSVs\\\\3_away_df.csv\")"
   ]
  },
  {
   "cell_type": "code",
   "execution_count": 224,
   "id": "a3124081",
   "metadata": {},
   "outputs": [
    {
     "data": {
      "application/vnd.microsoft.datawrangler.viewer.v0+json": {
       "columns": [
        {
         "name": "index",
         "rawType": "int64",
         "type": "integer"
        },
        {
         "name": "month",
         "rawType": "object",
         "type": "string"
        },
        {
         "name": "full_name",
         "rawType": "object",
         "type": "string"
        },
        {
         "name": "player_id",
         "rawType": "int64",
         "type": "integer"
        }
       ],
       "ref": "1a932201-1ec7-4962-bfd3-aca6d52e63e1",
       "rows": [
        [
         "26",
         "feb",
         "Gengel, Marek",
         "6"
        ],
        [
         "158",
         "mar",
         "Nicod, Jakub",
         "6"
        ],
        [
         "67",
         "feb",
         "Popko, Dmitry",
         "6"
        ],
        [
         "132",
         "mar",
         "Jianu, Filip Cristian",
         "6"
        ],
        [
         "13",
         "feb",
         "Chidekh, Clement",
         "5"
        ],
        [
         "18",
         "feb",
         "Dellien Velasco, Murkel Alejandro",
         "5"
        ],
        [
         "153",
         "mar",
         "Midon, Lautaro",
         "4"
        ],
        [
         "165",
         "mar",
         "Quevedo, Kaitlin",
         "4"
        ],
        [
         "176",
         "mar",
         "Shiraishi, Hikaru",
         "4"
        ],
        [
         "44",
         "feb",
         "Kužmová, Katarína",
         "4"
        ],
        [
         "144",
         "mar",
         "Kwiatkowski, Thai-Son",
         "4"
        ],
        [
         "36",
         "feb",
         "Jasika, Omar",
         "4"
        ],
        [
         "14",
         "feb",
         "Ciric Bagaric, Lucija",
         "4"
        ],
        [
         "39",
         "feb",
         "Kessler, McCartney",
         "4"
        ],
        [
         "96",
         "mar",
         "Bolt, Alex",
         "4"
        ],
        [
         "81",
         "feb",
         "Valentova, Tereza",
         "4"
        ],
        [
         "130",
         "mar",
         "Jakupovic, Dalila",
         "4"
        ],
        [
         "122",
         "mar",
         "Helgo, Malene",
         "4"
        ],
        [
         "120",
         "mar",
         "Harrison, Catherine",
         "4"
        ],
        [
         "110",
         "mar",
         "Faria, Jaime",
         "4"
        ],
        [
         "95",
         "mar",
         "Boisson, Loïs",
         "4"
        ],
        [
         "71",
         "feb",
         "Semenistaja, Darja",
         "3"
        ],
        [
         "114",
         "mar",
         "Gerch, Lucas",
         "3"
        ],
        [
         "1",
         "feb",
         "Avdeeva, Julia",
         "3"
        ],
        [
         "46",
         "feb",
         "Landaluce, Martin",
         "3"
        ],
        [
         "55",
         "feb",
         "Miyazaki, Yuriko Lily",
         "3"
        ],
        [
         "161",
         "mar",
         "Ovcharenko, Oleksandr",
         "3"
        ],
        [
         "69",
         "feb",
         "Rybakina, Elena",
         "3"
        ],
        [
         "148",
         "mar",
         "Majchrzak, Kamil",
         "3"
        ],
        [
         "60",
         "feb",
         "Napolitano, Stefano",
         "3"
        ],
        [
         "61",
         "feb",
         "Ostapenko, Jelena",
         "3"
        ],
        [
         "68",
         "feb",
         "Rodionov, Jurij",
         "3"
        ],
        [
         "0",
         "feb",
         "Agwi, Michael",
         "3"
        ],
        [
         "195",
         "mar",
         "Virtanen, Otto",
         "3"
        ],
        [
         "185",
         "mar",
         "Tan, Harmony",
         "3"
        ],
        [
         "27",
         "feb",
         "Gigante, Matteo",
         "3"
        ],
        [
         "172",
         "mar",
         "Salle, Fabien",
         "2"
        ],
        [
         "131",
         "mar",
         "Jamrichova, Renata",
         "2"
        ],
        [
         "126",
         "mar",
         "Humbert, Ugo",
         "2"
        ],
        [
         "127",
         "mar",
         "Hussey, Giles",
         "2"
        ],
        [
         "128",
         "mar",
         "Imamura, Saki",
         "2"
        ],
        [
         "129",
         "mar",
         "Inglis, Maddison",
         "2"
        ],
        [
         "192",
         "mar",
         "Ursu, Vadym",
         "2"
        ],
        [
         "191",
         "mar",
         "Ugo Carabelli, Camilo",
         "2"
        ],
        [
         "124",
         "mar",
         "Holt, Brandon",
         "2"
        ],
        [
         "190",
         "mar",
         "Tubello, Alice",
         "2"
        ],
        [
         "133",
         "mar",
         "Joint, Maya",
         "2"
        ],
        [
         "134",
         "mar",
         "Karlovskiy, Evgeny",
         "2"
        ],
        [
         "135",
         "mar",
         "Kirkin, Ergi",
         "2"
        ],
        [
         "136",
         "mar",
         "Klimovicova, Linda",
         "2"
        ]
       ],
       "shape": {
        "columns": 3,
        "rows": 202
       }
      },
      "text/html": [
       "<div>\n",
       "<style scoped>\n",
       "    .dataframe tbody tr th:only-of-type {\n",
       "        vertical-align: middle;\n",
       "    }\n",
       "\n",
       "    .dataframe tbody tr th {\n",
       "        vertical-align: top;\n",
       "    }\n",
       "\n",
       "    .dataframe thead th {\n",
       "        text-align: right;\n",
       "    }\n",
       "</style>\n",
       "<table border=\"1\" class=\"dataframe\">\n",
       "  <thead>\n",
       "    <tr style=\"text-align: right;\">\n",
       "      <th></th>\n",
       "      <th>month</th>\n",
       "      <th>full_name</th>\n",
       "      <th>player_id</th>\n",
       "    </tr>\n",
       "  </thead>\n",
       "  <tbody>\n",
       "    <tr>\n",
       "      <th>26</th>\n",
       "      <td>feb</td>\n",
       "      <td>Gengel, Marek</td>\n",
       "      <td>6</td>\n",
       "    </tr>\n",
       "    <tr>\n",
       "      <th>158</th>\n",
       "      <td>mar</td>\n",
       "      <td>Nicod, Jakub</td>\n",
       "      <td>6</td>\n",
       "    </tr>\n",
       "    <tr>\n",
       "      <th>67</th>\n",
       "      <td>feb</td>\n",
       "      <td>Popko, Dmitry</td>\n",
       "      <td>6</td>\n",
       "    </tr>\n",
       "    <tr>\n",
       "      <th>132</th>\n",
       "      <td>mar</td>\n",
       "      <td>Jianu, Filip Cristian</td>\n",
       "      <td>6</td>\n",
       "    </tr>\n",
       "    <tr>\n",
       "      <th>13</th>\n",
       "      <td>feb</td>\n",
       "      <td>Chidekh, Clement</td>\n",
       "      <td>5</td>\n",
       "    </tr>\n",
       "    <tr>\n",
       "      <th>...</th>\n",
       "      <td>...</td>\n",
       "      <td>...</td>\n",
       "      <td>...</td>\n",
       "    </tr>\n",
       "    <tr>\n",
       "      <th>152</th>\n",
       "      <td>mar</td>\n",
       "      <td>Mejia, Nicolas</td>\n",
       "      <td>1</td>\n",
       "    </tr>\n",
       "    <tr>\n",
       "      <th>163</th>\n",
       "      <td>mar</td>\n",
       "      <td>Podoroska, Nadia</td>\n",
       "      <td>1</td>\n",
       "    </tr>\n",
       "    <tr>\n",
       "      <th>193</th>\n",
       "      <td>mar</td>\n",
       "      <td>Vallejo Daniel</td>\n",
       "      <td>1</td>\n",
       "    </tr>\n",
       "    <tr>\n",
       "      <th>157</th>\n",
       "      <td>mar</td>\n",
       "      <td>Nardi, Luca</td>\n",
       "      <td>1</td>\n",
       "    </tr>\n",
       "    <tr>\n",
       "      <th>177</th>\n",
       "      <td>mar</td>\n",
       "      <td>Sinner, Jannik</td>\n",
       "      <td>1</td>\n",
       "    </tr>\n",
       "  </tbody>\n",
       "</table>\n",
       "<p>202 rows × 3 columns</p>\n",
       "</div>"
      ],
      "text/plain": [
       "    month              full_name  player_id\n",
       "26    feb          Gengel, Marek          6\n",
       "158   mar           Nicod, Jakub          6\n",
       "67    feb          Popko, Dmitry          6\n",
       "132   mar  Jianu, Filip Cristian          6\n",
       "13    feb       Chidekh, Clement          5\n",
       "..    ...                    ...        ...\n",
       "152   mar         Mejia, Nicolas          1\n",
       "163   mar       Podoroska, Nadia          1\n",
       "193   mar         Vallejo Daniel          1\n",
       "157   mar            Nardi, Luca          1\n",
       "177   mar         Sinner, Jannik          1\n",
       "\n",
       "[202 rows x 3 columns]"
      ]
     },
     "execution_count": 224,
     "metadata": {},
     "output_type": "execute_result"
    }
   ],
   "source": [
    "# Dropping the duplicated recoeds.\n",
    "match_df.drop_duplicates(subset='match_id', inplace=True)\n",
    "home_df.drop_duplicates(subset='match_id', inplace=True)\n",
    "away_df.drop_duplicates(subset='match_id', inplace=True)\n",
    "\n",
    "# Filtering final matches.\n",
    "finals_feb_df  = round_feb_df.query(\"slug == 'final'\")\n",
    "finals_mar_df  = round_mar_df.query(\"slug == 'final'\")\n",
    "finals_feb_df.rename(columns={'slug':'month'}, inplace=True)\n",
    "finals_mar_df.rename(columns={'slug':'month'}, inplace=True)\n",
    "finals_feb_df.month = 'feb'\n",
    "finals_mar_df.month = 'mar'\n",
    "\n",
    "# Aggregating the result in finals_df dataframe.\n",
    "finals_df = pd.concat([finals_feb_df, finals_mar_df])\n",
    "\n",
    "# Join to matches to specify the winners.\n",
    "df_ = finals_df.merge(match_df, on='match_id', how='inner')\n",
    "\n",
    "# Join with players information in home_df and away_df.\n",
    "main_df = pd.concat([\n",
    "df_.query('winner_code == 1').merge(home_df, on='match_id', how='inner'),\n",
    "df_.query('winner_code == 2').merge(away_df, on='match_id', how='inner')\n",
    "])\n",
    "\n",
    "# Group by month and player's name to answer our question.\n",
    "main_df.groupby(['month','full_name']).agg({'player_id':'count'}).reset_index().sort_values(by='player_id',ascending=False)"
   ]
  },
  {
   "cell_type": "code",
   "execution_count": null,
   "id": "8a808da5",
   "metadata": {},
   "outputs": [
    {
     "name": "stdout",
     "output_type": "stream",
     "text": [
      "As we see,318575\n"
     ]
    }
   ],
   "source": [
    "# You see that Gengel, Marek - Nicod, Jakub - Popko, Dmitry - Jianu, Filip Cristian has won\n",
    "# has won most tournaments in a month. They have won 6 tournaments in a month."
   ]
  },
  {
   "cell_type": "markdown",
   "id": "31d4c751",
   "metadata": {},
   "source": [
    "### 10."
   ]
  },
  {
   "cell_type": "code",
   "execution_count": 10,
   "id": "4301a1c1",
   "metadata": {},
   "outputs": [],
   "source": [
    "# Extracting the necessary coulumns of tables for finding the player with highest number of wins.\n",
    "home_addresses = render_addresses('match', date_arr = dates_tuple, kind='home_team')\n",
    "away_addresses = render_addresses('match', date_arr = dates_tuple, kind='away_team')\n",
    "\n",
    "home_df = dd.read_parquet(home_addresses, columns=['player_id', 'height','current_rank'])\n",
    "away_df = dd.read_parquet(away_addresses, columns=['player_id','height','current_rank'])"
   ]
  },
  {
   "cell_type": "code",
   "execution_count": 13,
   "id": "4b70680f",
   "metadata": {},
   "outputs": [
    {
     "name": "stdout",
     "output_type": "stream",
     "text": [
      "[########################################] | 100% Completed | 61.70 s\n"
     ]
    }
   ],
   "source": [
    "# Extracting the results into csv for faster manipulation with pandas.\n",
    "with ProgressBar():\n",
    "    away_df = home_df.compute()"
   ]
  },
  {
   "cell_type": "code",
   "execution_count": null,
   "id": "77f4444b",
   "metadata": {},
   "outputs": [
    {
     "data": {
      "application/vnd.microsoft.datawrangler.viewer.v0+json": {
       "columns": [
        {
         "name": "index",
         "rawType": "int64",
         "type": "integer"
        },
        {
         "name": "player_id",
         "rawType": "int64",
         "type": "integer"
        },
        {
         "name": "height",
         "rawType": "object",
         "type": "unknown"
        },
        {
         "name": "current_rank",
         "rawType": "object",
         "type": "unknown"
        }
       ],
       "ref": "2d81949d-d356-4e07-8e51-3bec8061e2ad",
       "rows": [
        [
         "0",
         "287803",
         "1.83",
         "86"
        ],
        [
         "0",
         "62790",
         "1.8",
         "99"
        ],
        [
         "0",
         "64580",
         "1.88",
         "31"
        ],
        [
         "0",
         "131442",
         "1.88",
         "122"
        ],
        [
         "0",
         "22218",
         "1.96",
         "110"
        ],
        [
         "0",
         "117916",
         "1.85",
         "120"
        ],
        [
         "0",
         "264344",
         "1.85",
         "47"
        ],
        [
         "0",
         "264344",
         "1.85",
         "47"
        ],
        [
         "0",
         "283070",
         "1.88",
         "7"
        ],
        [
         "0",
         "39712",
         "1.88",
         "295"
        ],
        [
         "0",
         "46390",
         "1.83",
         "248"
        ],
        [
         "0",
         "32466",
         "1.68",
         "350"
        ],
        [
         "0",
         "79467",
         "1.83",
         "225"
        ],
        [
         "0",
         "66874",
         "1.78",
         "644"
        ],
        [
         "0",
         "39712",
         "1.88",
         "295"
        ],
        [
         "0",
         "237452",
         "1.78",
         "79"
        ],
        [
         "0",
         "217464",
         "1.68",
         "333"
        ],
        [
         "0",
         "290569",
         "1.91",
         "566"
        ],
        [
         "0",
         "39711",
         "1.83",
         "108"
        ],
        [
         "0",
         "334293",
         "1.91",
         "287"
        ],
        [
         "0",
         "36678",
         "1.88",
         "270"
        ],
        [
         "0",
         "65016",
         "1.75",
         "976"
        ],
        [
         "0",
         "63642",
         "1.88",
         "291"
        ],
        [
         "0",
         "333007",
         "1.88",
         "850"
        ],
        [
         "0",
         "232057",
         "1.85",
         "134"
        ],
        [
         "0",
         "22970",
         "1.85",
         "417"
        ],
        [
         "0",
         "197446",
         "1.83",
         "337"
        ],
        [
         "0",
         "57155",
         "1.98",
         "326"
        ],
        [
         "0",
         "132558",
         "1.83",
         "235"
        ],
        [
         "0",
         "200159",
         "1.91",
         "91"
        ],
        [
         "0",
         "36300",
         "1.85",
         "188"
        ],
        [
         "0",
         "16683",
         "1.83",
         "165"
        ],
        [
         "0",
         "390214",
         "1.91",
         "313"
        ],
        [
         "0",
         "36300",
         "1.85",
         "188"
        ],
        [
         "0",
         "204776",
         "1.93",
         "389"
        ],
        [
         "0",
         "166198",
         "1.8",
         "329"
        ],
        [
         "0",
         "54975",
         "1.78",
         "366"
        ],
        [
         "0",
         "264978",
         "1.83",
         "303"
        ],
        [
         "0",
         "54573",
         "1.8",
         "88"
        ],
        [
         "0",
         "44549",
         "1.85",
         "198"
        ],
        [
         "0",
         "48225",
         "1.73",
         "517"
        ],
        [
         "0",
         "380044",
         "1.8",
         "364"
        ],
        [
         "0",
         "306421",
         "1.72",
         "137"
        ],
        [
         "0",
         "23082",
         "1.68",
         "99"
        ],
        [
         "0",
         "256104",
         "1.7",
         "112"
        ],
        [
         "0",
         "46304",
         "1.76",
         "76"
        ],
        [
         "0",
         "48455",
         "1.69",
         "71"
        ],
        [
         "0",
         "220801",
         "1.78",
         "126"
        ],
        [
         "0",
         "210831",
         "1.75",
         "31"
        ],
        [
         "0",
         "189986",
         "1.75",
         "33"
        ]
       ],
       "shape": {
        "columns": 3,
        "rows": 25610
       }
      },
      "text/html": [
       "<div>\n",
       "<style scoped>\n",
       "    .dataframe tbody tr th:only-of-type {\n",
       "        vertical-align: middle;\n",
       "    }\n",
       "\n",
       "    .dataframe tbody tr th {\n",
       "        vertical-align: top;\n",
       "    }\n",
       "\n",
       "    .dataframe thead th {\n",
       "        text-align: right;\n",
       "    }\n",
       "</style>\n",
       "<table border=\"1\" class=\"dataframe\">\n",
       "  <thead>\n",
       "    <tr style=\"text-align: right;\">\n",
       "      <th></th>\n",
       "      <th>player_id</th>\n",
       "      <th>height</th>\n",
       "      <th>current_rank</th>\n",
       "    </tr>\n",
       "  </thead>\n",
       "  <tbody>\n",
       "    <tr>\n",
       "      <th>0</th>\n",
       "      <td>287803</td>\n",
       "      <td>1.83</td>\n",
       "      <td>86</td>\n",
       "    </tr>\n",
       "    <tr>\n",
       "      <th>0</th>\n",
       "      <td>62790</td>\n",
       "      <td>1.8</td>\n",
       "      <td>99</td>\n",
       "    </tr>\n",
       "    <tr>\n",
       "      <th>0</th>\n",
       "      <td>64580</td>\n",
       "      <td>1.88</td>\n",
       "      <td>31</td>\n",
       "    </tr>\n",
       "    <tr>\n",
       "      <th>0</th>\n",
       "      <td>131442</td>\n",
       "      <td>1.88</td>\n",
       "      <td>122</td>\n",
       "    </tr>\n",
       "    <tr>\n",
       "      <th>0</th>\n",
       "      <td>22218</td>\n",
       "      <td>1.96</td>\n",
       "      <td>110</td>\n",
       "    </tr>\n",
       "    <tr>\n",
       "      <th>...</th>\n",
       "      <td>...</td>\n",
       "      <td>...</td>\n",
       "      <td>...</td>\n",
       "    </tr>\n",
       "    <tr>\n",
       "      <th>0</th>\n",
       "      <td>375214</td>\n",
       "      <td>NaN</td>\n",
       "      <td>1091</td>\n",
       "    </tr>\n",
       "    <tr>\n",
       "      <th>0</th>\n",
       "      <td>215205</td>\n",
       "      <td>1.75</td>\n",
       "      <td>858</td>\n",
       "    </tr>\n",
       "    <tr>\n",
       "      <th>0</th>\n",
       "      <td>398073</td>\n",
       "      <td>1.91</td>\n",
       "      <td>882</td>\n",
       "    </tr>\n",
       "    <tr>\n",
       "      <th>0</th>\n",
       "      <td>303293</td>\n",
       "      <td>None</td>\n",
       "      <td>1446</td>\n",
       "    </tr>\n",
       "    <tr>\n",
       "      <th>0</th>\n",
       "      <td>243670</td>\n",
       "      <td>None</td>\n",
       "      <td>1423</td>\n",
       "    </tr>\n",
       "  </tbody>\n",
       "</table>\n",
       "<p>25610 rows × 3 columns</p>\n",
       "</div>"
      ],
      "text/plain": [
       "    player_id height current_rank\n",
       "0      287803   1.83           86\n",
       "0       62790    1.8           99\n",
       "0       64580   1.88           31\n",
       "0      131442   1.88          122\n",
       "0       22218   1.96          110\n",
       "..        ...    ...          ...\n",
       "0      375214    NaN         1091\n",
       "0      215205   1.75          858\n",
       "0      398073   1.91          882\n",
       "0      303293   None         1446\n",
       "0      243670   None         1423\n",
       "\n",
       "[25610 rows x 3 columns]"
      ]
     },
     "execution_count": 14,
     "metadata": {},
     "output_type": "execute_result"
    }
   ],
   "source": [
    "# Save the csv file of results for future convenience.\n",
    "result"
   ]
  },
  {
   "cell_type": "code",
   "execution_count": 228,
   "id": "c9bb6be6",
   "metadata": {},
   "outputs": [
    {
     "data": {
      "image/png": "[encoded data removed]",
      "text/plain": [
       "<Figure size 640x480 with 1 Axes>"
      ]
     },
     "metadata": {},
     "output_type": "display_data"
    }
   ],
   "source": [
    "# Load the data.\n",
    "home_df = pd.read_csv(\"CSVs\\\\10_home_df.csv\")\n",
    "away_df = pd.read_csv(\"CSVs\\\\10_away_df.csv\")\n",
    "players_df = pd.concat([home_df,away_df])\n",
    "\n",
    "# Dropping the duplicated players, and ignoring null heights.\n",
    "players_df.drop_duplicates(subset='player_id', inplace=True)\n",
    "players_df.dropna(inplace=True)\n",
    "\n",
    "# Data type conversion.\n",
    "players_df.current_rank = players_df.current_rank.astype(int)\n",
    "\n",
    "# Scatter plot to detect if there's any correlation pattern?\n",
    "sns.scatterplot(data = players_df, x='current_rank',y='height', alpha=0.5,color='r')\n",
    "plt.title(\"Scatter Plot of Height vs Rank\")\n",
    "plt.show()"
   ]
  },
  {
   "cell_type": "code",
   "execution_count": null,
   "id": "3d6eabe1",
   "metadata": {},
   "outputs": [
    {
     "data": {
      "image/png": "[encoded data removed]",
      "text/plain": [
       "<Figure size 640x480 with 2 Axes>"
      ]
     },
     "metadata": {},
     "output_type": "display_data"
    }
   ],
   "source": [
    "# Look at correlation matrix.\n",
    "corr_mat = players_df[['height','current_rank']].corr()\n",
    "sns.heatmap(corr_mat, annot=True, cmap='Reds')\n",
    "plt.show()"
   ]
  },
  {
   "cell_type": "code",
   "execution_count": null,
   "id": "399625ed",
   "metadata": {},
   "outputs": [],
   "source": [
    "# Both scatter plot and corrlation matrix indicate that there are no siginificat correlation between\n",
    "# player's height and ranking."
   ]
  },
  {
   "cell_type": "markdown",
   "id": "adf9beae",
   "metadata": {},
   "source": [
    "### 11."
   ]
  },
  {
   "cell_type": "code",
   "execution_count": 233,
   "id": "67d48c96",
   "metadata": {},
   "outputs": [
    {
     "name": "stdout",
     "output_type": "stream",
     "text": [
      "Average duration of matches is 102.88 minutes.\n"
     ]
    }
   ],
   "source": [
    "# Revert to Question 4, and run the cells to define time_df after outlier detection.\n",
    "avg_dur = time_df.duration.mean()\n",
    "print(f\"Average duration of matches is {avg_dur:.2f} minutes.\")"
   ]
  },
  {
   "cell_type": "markdown",
   "id": "9563a851",
   "metadata": {},
   "source": [
    "### 12."
   ]
  },
  {
   "cell_type": "code",
   "execution_count": null,
   "id": "873b347e",
   "metadata": {},
   "outputs": [],
   "source": [
    "# Loading the necessary data with dask.\n",
    "home_addresses = render_addresses('match', date_arr = dates_tuple, kind='home_team')\n",
    "away_addresses = render_addresses('match', date_arr = dates_tuple, kind='away_team')\n",
    "\n",
    "games_df = dd.read_parquet(render_addresses('power'))\n",
    "home_df = dd.read_parquet(home_addresses, columns=['match_id','player_id','gender'])\n",
    "away_df = dd.read_parquet(away_addresses, columns=['match_id','player_id','gender'])"
   ]
  },
  {
   "cell_type": "code",
   "execution_count": 41,
   "id": "f1c6f872",
   "metadata": {},
   "outputs": [
    {
     "name": "stdout",
     "output_type": "stream",
     "text": [
      "[########################################] | 100% Completed | 102.77 s\n"
     ]
    }
   ],
   "source": [
    "# Extracting the results into csv for faster manipulation with pandas.\n",
    "with ProgressBar():\n",
    "    result = away_df.compute()"
   ]
  },
  {
   "cell_type": "code",
   "execution_count": null,
   "id": "81b0efd1",
   "metadata": {},
   "outputs": [
    {
     "data": {
      "application/vnd.microsoft.datawrangler.viewer.v0+json": {
       "columns": [
        {
         "name": "index",
         "rawType": "int64",
         "type": "integer"
        },
        {
         "name": "match_id",
         "rawType": "int64",
         "type": "integer"
        },
        {
         "name": "player_id",
         "rawType": "int64",
         "type": "integer"
        },
        {
         "name": "gender",
         "rawType": "string",
         "type": "string"
        }
       ],
       "ref": "b6917810-e12a-4a61-aadd-455d1f2abb20",
       "rows": [
        [
         "0",
         "11998445",
         "192013",
         "M"
        ],
        [
         "0",
         "11998446",
         "273680",
         "M"
        ],
        [
         "0",
         "11998447",
         "77223",
         "M"
        ],
        [
         "0",
         "11998448",
         "88992",
         "M"
        ],
        [
         "0",
         "11998449",
         "248846",
         "M"
        ],
        [
         "0",
         "11998450",
         "163480",
         "M"
        ],
        [
         "0",
         "11998451",
         "67154",
         "M"
        ],
        [
         "0",
         "11998456",
         "163480",
         "M"
        ],
        [
         "0",
         "11998459",
         "264358",
         "M"
        ],
        [
         "0",
         "11998666",
         "66874",
         "M"
        ],
        [
         "0",
         "11998667",
         "80665",
         "M"
        ],
        [
         "0",
         "11998670",
         "58369",
         "M"
        ],
        [
         "0",
         "11998671",
         "233126",
         "M"
        ],
        [
         "0",
         "11998672",
         "299481",
         "M"
        ],
        [
         "0",
         "11998674",
         "387400",
         "M"
        ],
        [
         "0",
         "11998675",
         "79467",
         "M"
        ],
        [
         "0",
         "11998676",
         "233126",
         "M"
        ],
        [
         "0",
         "11998772",
         "52276",
         "M"
        ],
        [
         "0",
         "11998774",
         "251784",
         "M"
        ],
        [
         "0",
         "11998780",
         "77007",
         "M"
        ],
        [
         "0",
         "11998782",
         "71950",
         "M"
        ],
        [
         "0",
         "11998783",
         "36595",
         "M"
        ],
        [
         "0",
         "11998784",
         "255993",
         "M"
        ],
        [
         "0",
         "11998785",
         "210490",
         "M"
        ],
        [
         "0",
         "11998786",
         "386194",
         "M"
        ],
        [
         "0",
         "11999004",
         "235576",
         "M"
        ],
        [
         "0",
         "11999005",
         "62404",
         "M"
        ],
        [
         "0",
         "11999007",
         "300293",
         "M"
        ],
        [
         "0",
         "11999009",
         "47767",
         "M"
        ],
        [
         "0",
         "11999010",
         "255449",
         "M"
        ],
        [
         "0",
         "11999011",
         "55067",
         "M"
        ],
        [
         "0",
         "11999012",
         "51345",
         "M"
        ],
        [
         "0",
         "11999013",
         "209103",
         "M"
        ],
        [
         "0",
         "11999014",
         "51345",
         "M"
        ],
        [
         "0",
         "11999209",
         "196122",
         "M"
        ],
        [
         "0",
         "11999210",
         "377489",
         "M"
        ],
        [
         "0",
         "11999211",
         "69500",
         "M"
        ],
        [
         "0",
         "11999212",
         "163528",
         "M"
        ],
        [
         "0",
         "11999213",
         "315774",
         "M"
        ],
        [
         "0",
         "11999215",
         "298057",
         "M"
        ],
        [
         "0",
         "11999219",
         "144102",
         "M"
        ],
        [
         "0",
         "11999220",
         "76515",
         "M"
        ],
        [
         "0",
         "12002040",
         "45584",
         "F"
        ],
        [
         "0",
         "12002041",
         "318574",
         "F"
        ],
        [
         "0",
         "12002042",
         "19520",
         "F"
        ],
        [
         "0",
         "12002043",
         "52025",
         "F"
        ],
        [
         "0",
         "12002044",
         "45545",
         "F"
        ],
        [
         "0",
         "12002048",
         "67759",
         "F"
        ],
        [
         "0",
         "12002049",
         "264980",
         "F"
        ],
        [
         "0",
         "12002050",
         "50641",
         "F"
        ]
       ],
       "shape": {
        "columns": 3,
        "rows": 24203
       }
      },
      "text/html": [
       "<div>\n",
       "<style scoped>\n",
       "    .dataframe tbody tr th:only-of-type {\n",
       "        vertical-align: middle;\n",
       "    }\n",
       "\n",
       "    .dataframe tbody tr th {\n",
       "        vertical-align: top;\n",
       "    }\n",
       "\n",
       "    .dataframe thead th {\n",
       "        text-align: right;\n",
       "    }\n",
       "</style>\n",
       "<table border=\"1\" class=\"dataframe\">\n",
       "  <thead>\n",
       "    <tr style=\"text-align: right;\">\n",
       "      <th></th>\n",
       "      <th>match_id</th>\n",
       "      <th>player_id</th>\n",
       "      <th>gender</th>\n",
       "    </tr>\n",
       "  </thead>\n",
       "  <tbody>\n",
       "    <tr>\n",
       "      <th>0</th>\n",
       "      <td>11998445</td>\n",
       "      <td>192013</td>\n",
       "      <td>M</td>\n",
       "    </tr>\n",
       "    <tr>\n",
       "      <th>0</th>\n",
       "      <td>11998446</td>\n",
       "      <td>273680</td>\n",
       "      <td>M</td>\n",
       "    </tr>\n",
       "    <tr>\n",
       "      <th>0</th>\n",
       "      <td>11998447</td>\n",
       "      <td>77223</td>\n",
       "      <td>M</td>\n",
       "    </tr>\n",
       "    <tr>\n",
       "      <th>0</th>\n",
       "      <td>11998448</td>\n",
       "      <td>88992</td>\n",
       "      <td>M</td>\n",
       "    </tr>\n",
       "    <tr>\n",
       "      <th>0</th>\n",
       "      <td>11998449</td>\n",
       "      <td>248846</td>\n",
       "      <td>M</td>\n",
       "    </tr>\n",
       "    <tr>\n",
       "      <th>...</th>\n",
       "      <td>...</td>\n",
       "      <td>...</td>\n",
       "      <td>...</td>\n",
       "    </tr>\n",
       "    <tr>\n",
       "      <th>0</th>\n",
       "      <td>12212216</td>\n",
       "      <td>72324</td>\n",
       "      <td>M</td>\n",
       "    </tr>\n",
       "    <tr>\n",
       "      <th>0</th>\n",
       "      <td>12213156</td>\n",
       "      <td>217437</td>\n",
       "      <td>M</td>\n",
       "    </tr>\n",
       "    <tr>\n",
       "      <th>0</th>\n",
       "      <td>12213412</td>\n",
       "      <td>108559</td>\n",
       "      <td>M</td>\n",
       "    </tr>\n",
       "    <tr>\n",
       "      <th>0</th>\n",
       "      <td>12213458</td>\n",
       "      <td>74679</td>\n",
       "      <td>M</td>\n",
       "    </tr>\n",
       "    <tr>\n",
       "      <th>0</th>\n",
       "      <td>12213459</td>\n",
       "      <td>220540</td>\n",
       "      <td>M</td>\n",
       "    </tr>\n",
       "  </tbody>\n",
       "</table>\n",
       "<p>24203 rows × 3 columns</p>\n",
       "</div>"
      ],
      "text/plain": [
       "    match_id  player_id gender\n",
       "0   11998445     192013      M\n",
       "0   11998446     273680      M\n",
       "0   11998447      77223      M\n",
       "0   11998448      88992      M\n",
       "0   11998449     248846      M\n",
       "..       ...        ...    ...\n",
       "0   12212216      72324      M\n",
       "0   12213156     217437      M\n",
       "0   12213412     108559      M\n",
       "0   12213458      74679      M\n",
       "0   12213459     220540      M\n",
       "\n",
       "[24203 rows x 3 columns]"
      ]
     },
     "execution_count": 42,
     "metadata": {},
     "output_type": "execute_result"
    }
   ],
   "source": [
    "# Save the result for future convenience.\n",
    "result"
   ]
  },
  {
   "cell_type": "code",
   "execution_count": null,
   "id": "bcf86b85",
   "metadata": {},
   "outputs": [
    {
     "data": {
      "application/vnd.microsoft.datawrangler.viewer.v0+json": {
       "columns": [
        {
         "name": "gender",
         "rawType": "object",
         "type": "string"
        },
        {
         "name": "avg_games",
         "rawType": "float64",
         "type": "float"
        }
       ],
       "ref": "57890142-be3b-4abe-81d5-cade3c5bf0f4",
       "rows": [
        [
         "F",
         "8.974585827044844"
        ],
        [
         "M",
         "9.360345759049162"
        ]
       ],
       "shape": {
        "columns": 1,
        "rows": 2
       }
      },
      "text/html": [
       "<div>\n",
       "<style scoped>\n",
       "    .dataframe tbody tr th:only-of-type {\n",
       "        vertical-align: middle;\n",
       "    }\n",
       "\n",
       "    .dataframe tbody tr th {\n",
       "        vertical-align: top;\n",
       "    }\n",
       "\n",
       "    .dataframe thead th {\n",
       "        text-align: right;\n",
       "    }\n",
       "</style>\n",
       "<table border=\"1\" class=\"dataframe\">\n",
       "  <thead>\n",
       "    <tr style=\"text-align: right;\">\n",
       "      <th></th>\n",
       "      <th>avg_games</th>\n",
       "    </tr>\n",
       "    <tr>\n",
       "      <th>gender</th>\n",
       "      <th></th>\n",
       "    </tr>\n",
       "  </thead>\n",
       "  <tbody>\n",
       "    <tr>\n",
       "      <th>F</th>\n",
       "      <td>8.974586</td>\n",
       "    </tr>\n",
       "    <tr>\n",
       "      <th>M</th>\n",
       "      <td>9.360346</td>\n",
       "    </tr>\n",
       "  </tbody>\n",
       "</table>\n",
       "</div>"
      ],
      "text/plain": [
       "        avg_games\n",
       "gender           \n",
       "F        8.974586\n",
       "M        9.360346"
      ]
     },
     "execution_count": 85,
     "metadata": {},
     "output_type": "execute_result"
    }
   ],
   "source": [
    "# Opening folders and then dropping duplicates.\n",
    "games_df = pd.read_csv(\"CSVs\\\\12_games_df.csv\")\n",
    "home_df = pd.read_csv(\"CSVs\\\\12_home_df.csv\")\n",
    "away_df = pd.read_csv(\"CSVs\\\\12_away_df.csv\")\n",
    "\n",
    "# Dropping unnecessary columns and dropping duplicates.\n",
    "games_df.drop(columns=['value','break_occurred'], inplace=True)\n",
    "games_df.drop_duplicates(inplace=True)\n",
    "\n",
    "# Dropping duplicates.\n",
    "home_df.drop_duplicates(subset='match_id', inplace=True)\n",
    "away_df.drop_duplicates(subset='match_id', inplace=True)\n",
    "\n",
    "# Adding average number of games per set.\n",
    "average_games_df = games_df.groupby(['match_id']).agg({'set_num':'max','game_num':'count'}).reset_index()\n",
    "average_games_df['avg_games'] = average_games_df['game_num']/average_games_df['set_num']\n",
    "\n",
    "# Making a new dataframe for male and female matches, with average number of games per set.\n",
    "male_matches_df = home_df.query('gender == \"M\"').merge(away_df.query('gender == \"M\"'), on='match_id',how='inner')[['match_id','gender_x']]\n",
    "male_matches_df.rename(columns={'gender_x':'gender'}, inplace=True)\n",
    "female_matches_df = home_df.query('gender == \"F\"').merge(away_df.query('gender == \"F\"'), on='match_id',how='inner')[['match_id','gender_x']]\n",
    "female_matches_df.rename(columns={'gender_x':'gender'}, inplace=True)\n",
    "average_games_gender_df = average_games_df.merge(pd.concat([male_matches_df,female_matches_df]),on='match_id',how='inner')\n",
    "\n",
    "# Grouping by gender and finding average number of games per set.\n",
    "average_games_gender_df.groupby('gender').agg({'avg_games':'mean'})"
   ]
  },
  {
   "cell_type": "code",
   "execution_count": 1,
   "id": "68d9474b",
   "metadata": {},
   "outputs": [],
   "source": [
    "# As we see, the men's competition has more games, and the women's competition has less."
   ]
  },
  {
   "cell_type": "markdown",
   "id": "cdb200d0",
   "metadata": {},
   "source": [
    "### 13."
   ]
  },
  {
   "cell_type": "code",
   "execution_count": null,
   "id": "d2f4ef50",
   "metadata": {},
   "outputs": [],
   "source": [
    "# Loading the necessary data with dask.\n",
    "home_addresses = render_addresses('match', date_arr = dates_tuple, kind='home_team')\n",
    "away_addresses = render_addresses('match', date_arr = dates_tuple, kind='away_team')\n",
    "\n",
    "home_df = dd.read_parquet(home_addresses, columns=['player_id','plays'])\n",
    "away_df = dd.read_parquet(away_addresses, columns=['player_id','plays'])"
   ]
  },
  {
   "cell_type": "code",
   "execution_count": 96,
   "id": "008b98da",
   "metadata": {},
   "outputs": [
    {
     "name": "stdout",
     "output_type": "stream",
     "text": [
      "[########################################] | 100% Completed | 96.30 s\n"
     ]
    }
   ],
   "source": [
    "# Extracting the results into csv for faster manipulation with pandas.\n",
    "with ProgressBar():\n",
    "    result = away_df.compute()"
   ]
  },
  {
   "cell_type": "code",
   "execution_count": null,
   "id": "cd021a9e",
   "metadata": {},
   "outputs": [
    {
     "data": {
      "application/vnd.microsoft.datawrangler.viewer.v0+json": {
       "columns": [
        {
         "name": "index",
         "rawType": "int64",
         "type": "integer"
        },
        {
         "name": "player_id",
         "rawType": "int64",
         "type": "integer"
        },
        {
         "name": "plays",
         "rawType": "string",
         "type": "string"
        }
       ],
       "ref": "59c62a3a-767b-49a3-8711-3155aba6361c",
       "rows": [
        [
         "0",
         "192013",
         "right-handed"
        ],
        [
         "0",
         "273680",
         "right-handed"
        ],
        [
         "0",
         "77223",
         "right-handed"
        ],
        [
         "0",
         "88992",
         "right-handed"
        ],
        [
         "0",
         "248846",
         "right-handed"
        ],
        [
         "0",
         "163480",
         "right-handed"
        ],
        [
         "0",
         "67154",
         "right-handed"
        ],
        [
         "0",
         "163480",
         "right-handed"
        ],
        [
         "0",
         "264358",
         "right-handed"
        ],
        [
         "0",
         "66874",
         "right-handed"
        ],
        [
         "0",
         "80665",
         "right-handed"
        ],
        [
         "0",
         "58369",
         "left-handed"
        ],
        [
         "0",
         "233126",
         "right-handed"
        ],
        [
         "0",
         "299481",
         "right-handed"
        ],
        [
         "0",
         "387400",
         null
        ],
        [
         "0",
         "79467",
         "left-handed"
        ],
        [
         "0",
         "233126",
         "right-handed"
        ],
        [
         "0",
         "52276",
         "right-handed"
        ],
        [
         "0",
         "251784",
         null
        ],
        [
         "0",
         "77007",
         "right-handed"
        ],
        [
         "0",
         "71950",
         "right-handed"
        ],
        [
         "0",
         "36595",
         "right-handed"
        ],
        [
         "0",
         "255993",
         "right-handed"
        ],
        [
         "0",
         "210490",
         "right-handed"
        ],
        [
         "0",
         "386194",
         null
        ],
        [
         "0",
         "235576",
         "right-handed"
        ],
        [
         "0",
         "62404",
         "right-handed"
        ],
        [
         "0",
         "300293",
         "right-handed"
        ],
        [
         "0",
         "47767",
         "right-handed"
        ],
        [
         "0",
         "255449",
         "right-handed"
        ],
        [
         "0",
         "55067",
         "right-handed"
        ],
        [
         "0",
         "51345",
         "left-handed"
        ],
        [
         "0",
         "209103",
         "right-handed"
        ],
        [
         "0",
         "51345",
         "left-handed"
        ],
        [
         "0",
         "196122",
         "right-handed"
        ],
        [
         "0",
         "377489",
         null
        ],
        [
         "0",
         "69500",
         "right-handed"
        ],
        [
         "0",
         "163528",
         "left-handed"
        ],
        [
         "0",
         "315774",
         "right-handed"
        ],
        [
         "0",
         "298057",
         "left-handed"
        ],
        [
         "0",
         "144102",
         "right-handed"
        ],
        [
         "0",
         "76515",
         "left-handed"
        ],
        [
         "0",
         "45584",
         "right-handed"
        ],
        [
         "0",
         "318574",
         "right-handed"
        ],
        [
         "0",
         "19520",
         "right-handed"
        ],
        [
         "0",
         "52025",
         "right-handed"
        ],
        [
         "0",
         "45545",
         "right-handed"
        ],
        [
         "0",
         "67759",
         "right-handed"
        ],
        [
         "0",
         "264980",
         "right-handed"
        ],
        [
         "0",
         "50641",
         "right-handed"
        ]
       ],
       "shape": {
        "columns": 2,
        "rows": 24203
       }
      },
      "text/html": [
       "<div>\n",
       "<style scoped>\n",
       "    .dataframe tbody tr th:only-of-type {\n",
       "        vertical-align: middle;\n",
       "    }\n",
       "\n",
       "    .dataframe tbody tr th {\n",
       "        vertical-align: top;\n",
       "    }\n",
       "\n",
       "    .dataframe thead th {\n",
       "        text-align: right;\n",
       "    }\n",
       "</style>\n",
       "<table border=\"1\" class=\"dataframe\">\n",
       "  <thead>\n",
       "    <tr style=\"text-align: right;\">\n",
       "      <th></th>\n",
       "      <th>player_id</th>\n",
       "      <th>plays</th>\n",
       "    </tr>\n",
       "  </thead>\n",
       "  <tbody>\n",
       "    <tr>\n",
       "      <th>0</th>\n",
       "      <td>192013</td>\n",
       "      <td>right-handed</td>\n",
       "    </tr>\n",
       "    <tr>\n",
       "      <th>0</th>\n",
       "      <td>273680</td>\n",
       "      <td>right-handed</td>\n",
       "    </tr>\n",
       "    <tr>\n",
       "      <th>0</th>\n",
       "      <td>77223</td>\n",
       "      <td>right-handed</td>\n",
       "    </tr>\n",
       "    <tr>\n",
       "      <th>0</th>\n",
       "      <td>88992</td>\n",
       "      <td>right-handed</td>\n",
       "    </tr>\n",
       "    <tr>\n",
       "      <th>0</th>\n",
       "      <td>248846</td>\n",
       "      <td>right-handed</td>\n",
       "    </tr>\n",
       "    <tr>\n",
       "      <th>...</th>\n",
       "      <td>...</td>\n",
       "      <td>...</td>\n",
       "    </tr>\n",
       "    <tr>\n",
       "      <th>0</th>\n",
       "      <td>72324</td>\n",
       "      <td>right-handed</td>\n",
       "    </tr>\n",
       "    <tr>\n",
       "      <th>0</th>\n",
       "      <td>217437</td>\n",
       "      <td>right-handed</td>\n",
       "    </tr>\n",
       "    <tr>\n",
       "      <th>0</th>\n",
       "      <td>108559</td>\n",
       "      <td>right-handed</td>\n",
       "    </tr>\n",
       "    <tr>\n",
       "      <th>0</th>\n",
       "      <td>74679</td>\n",
       "      <td>right-handed</td>\n",
       "    </tr>\n",
       "    <tr>\n",
       "      <th>0</th>\n",
       "      <td>220540</td>\n",
       "      <td>&lt;NA&gt;</td>\n",
       "    </tr>\n",
       "  </tbody>\n",
       "</table>\n",
       "<p>24203 rows × 2 columns</p>\n",
       "</div>"
      ],
      "text/plain": [
       "    player_id         plays\n",
       "0      192013  right-handed\n",
       "0      273680  right-handed\n",
       "0       77223  right-handed\n",
       "0       88992  right-handed\n",
       "0      248846  right-handed\n",
       "..        ...           ...\n",
       "0       72324  right-handed\n",
       "0      217437  right-handed\n",
       "0      108559  right-handed\n",
       "0       74679  right-handed\n",
       "0      220540          <NA>\n",
       "\n",
       "[24203 rows x 2 columns]"
      ]
     },
     "execution_count": 98,
     "metadata": {},
     "output_type": "execute_result"
    }
   ],
   "source": [
    "# Save the result for future convenience.\n",
    "result"
   ]
  },
  {
   "cell_type": "code",
   "execution_count": 5,
   "id": "8c960c76",
   "metadata": {},
   "outputs": [
    {
     "data": {
      "application/vnd.microsoft.datawrangler.viewer.v0+json": {
       "columns": [
        {
         "name": "plays",
         "rawType": "object",
         "type": "string"
        },
        {
         "name": "count",
         "rawType": "int64",
         "type": "integer"
        }
       ],
       "ref": "fdf8215a-4e45-4d39-8ed6-a02221b29d12",
       "rows": [
        [
         "right-handed",
         "1013"
        ],
        [
         "left-handed",
         "133"
        ]
       ],
       "shape": {
        "columns": 1,
        "rows": 2
       }
      },
      "text/plain": [
       "plays\n",
       "right-handed    1013\n",
       "left-handed      133\n",
       "Name: count, dtype: int64"
      ]
     },
     "execution_count": 5,
     "metadata": {},
     "output_type": "execute_result"
    }
   ],
   "source": [
    "# Opening folders and then dropping duplicates.\n",
    "home_df = pd.read_csv(\"CSVs\\\\13_home_df.csv\")\n",
    "away_df = pd.read_csv(\"CSVs\\\\13_away_df.csv\")\n",
    "\n",
    "# Concatenating the dataframes and dropping duplicates.\n",
    "players_hand_df = pd.concat([home_df,away_df])\n",
    "players_hand_df.drop_duplicates(subset=['player_id'],inplace=True)\n",
    "players_hand_df.dropna(inplace=True)\n",
    "\n",
    "# Counting the number of right-handed and left-handed players.\n",
    "hands_df = players_hand_df.plays.value_counts()\n",
    "hands_df"
   ]
  },
  {
   "cell_type": "code",
   "execution_count": null,
   "id": "8bc118c1",
   "metadata": {},
   "outputs": [
    {
     "data": {
      "image/png": "[encoded data removed]",
      "text/plain": [
       "<Figure size 640x480 with 1 Axes>"
      ]
     },
     "metadata": {},
     "output_type": "display_data"
    }
   ],
   "source": [
    "# Plotting the distribution of players by hand.\n",
    "sns.barplot(hands_df.reset_index(),x='plays',y='count')\n",
    "plt.ylabel(\"Number of players\")\n",
    "plt.title(\"Distribution of players by hand\")\n",
    "plt.show()"
   ]
  },
  {
   "cell_type": "markdown",
   "id": "11fb84d3",
   "metadata": {},
   "source": [
    "### 14."
   ]
  },
  {
   "cell_type": "code",
   "execution_count": null,
   "id": "c58e1c5c",
   "metadata": {},
   "outputs": [],
   "source": [
    "# Loading the necessary data with dask.\n",
    "tournament_addresses = render_addresses('match', date_arr = dates_tuple, kind='tournament')\n",
    "\n",
    "# Reading the data.\n",
    "tournament_df = dd.read_parquet(tournament_addresses, columns=['tournament_id','ground_type'])"
   ]
  },
  {
   "cell_type": "code",
   "execution_count": 109,
   "id": "0855f703",
   "metadata": {},
   "outputs": [
    {
     "name": "stdout",
     "output_type": "stream",
     "text": [
      "[########################################] | 100% Completed | 118.09 s\n"
     ]
    }
   ],
   "source": [
    "# Extracting the results into csv for faster manipulation with pandas.\n",
    "with ProgressBar():\n",
    "    result = tournament_df.compute()"
   ]
  },
  {
   "cell_type": "code",
   "execution_count": null,
   "id": "9a908a2a",
   "metadata": {},
   "outputs": [
    {
     "data": {
      "application/vnd.microsoft.datawrangler.viewer.v0+json": {
       "columns": [
        {
         "name": "index",
         "rawType": "int64",
         "type": "integer"
        },
        {
         "name": "tournament_id",
         "rawType": "int64",
         "type": "integer"
        },
        {
         "name": "ground_type",
         "rawType": "string",
         "type": "string"
        }
       ],
       "ref": "45aaa6df-53cb-4c29-962e-71240e246772",
       "rows": [
        [
         "0",
         "70826",
         null
        ],
        [
         "0",
         "70826",
         null
        ],
        [
         "0",
         "126168",
         "Hardcourt indoor"
        ],
        [
         "0",
         "126168",
         "Hardcourt indoor"
        ],
        [
         "0",
         "126168",
         "Hardcourt indoor"
        ],
        [
         "0",
         "126168",
         "Hardcourt indoor"
        ],
        [
         "0",
         "126168",
         "Hardcourt indoor"
        ],
        [
         "0",
         "126168",
         "Hardcourt indoor"
        ],
        [
         "0",
         "126168",
         "Hardcourt indoor"
        ],
        [
         "0",
         "126168",
         "Hardcourt indoor"
        ],
        [
         "0",
         "126168",
         "Hardcourt indoor"
        ],
        [
         "0",
         "126174",
         "Hardcourt outdoor"
        ],
        [
         "0",
         "126174",
         "Hardcourt outdoor"
        ],
        [
         "0",
         "126174",
         "Hardcourt outdoor"
        ],
        [
         "0",
         "126174",
         "Hardcourt outdoor"
        ],
        [
         "0",
         "126174",
         "Hardcourt outdoor"
        ],
        [
         "0",
         "126174",
         "Hardcourt outdoor"
        ],
        [
         "0",
         "126174",
         "Hardcourt outdoor"
        ],
        [
         "0",
         "126174",
         "Hardcourt outdoor"
        ],
        [
         "0",
         "126179",
         "Hardcourt indoor"
        ],
        [
         "0",
         "126179",
         "Hardcourt indoor"
        ],
        [
         "0",
         "126179",
         "Hardcourt indoor"
        ],
        [
         "0",
         "126179",
         "Hardcourt indoor"
        ],
        [
         "0",
         "126179",
         "Hardcourt indoor"
        ],
        [
         "0",
         "126179",
         "Hardcourt indoor"
        ],
        [
         "0",
         "126179",
         "Hardcourt indoor"
        ],
        [
         "0",
         "126179",
         "Hardcourt indoor"
        ],
        [
         "0",
         "126192",
         "Hardcourt indoor"
        ],
        [
         "0",
         "126192",
         "Hardcourt indoor"
        ],
        [
         "0",
         "126192",
         "Hardcourt indoor"
        ],
        [
         "0",
         "126192",
         "Hardcourt indoor"
        ],
        [
         "0",
         "126192",
         "Hardcourt indoor"
        ],
        [
         "0",
         "126192",
         "Hardcourt indoor"
        ],
        [
         "0",
         "126192",
         "Hardcourt indoor"
        ],
        [
         "0",
         "126192",
         "Hardcourt indoor"
        ],
        [
         "0",
         "126192",
         "Hardcourt indoor"
        ],
        [
         "0",
         "126196",
         "Red clay"
        ],
        [
         "0",
         "126196",
         "Red clay"
        ],
        [
         "0",
         "126196",
         "Red clay"
        ],
        [
         "0",
         "126196",
         "Red clay"
        ],
        [
         "0",
         "126196",
         "Red clay"
        ],
        [
         "0",
         "126196",
         "Red clay"
        ],
        [
         "0",
         "126196",
         "Red clay"
        ],
        [
         "0",
         "126196",
         "Red clay"
        ],
        [
         "0",
         "78622",
         null
        ],
        [
         "0",
         "126217",
         "Hardcourt outdoor"
        ],
        [
         "0",
         "126217",
         "Hardcourt outdoor"
        ],
        [
         "0",
         "126217",
         "Hardcourt outdoor"
        ],
        [
         "0",
         "126217",
         "Hardcourt outdoor"
        ],
        [
         "0",
         "126217",
         "Hardcourt outdoor"
        ]
       ],
       "shape": {
        "columns": 2,
        "rows": 35671
       }
      },
      "text/html": [
       "<div>\n",
       "<style scoped>\n",
       "    .dataframe tbody tr th:only-of-type {\n",
       "        vertical-align: middle;\n",
       "    }\n",
       "\n",
       "    .dataframe tbody tr th {\n",
       "        vertical-align: top;\n",
       "    }\n",
       "\n",
       "    .dataframe thead th {\n",
       "        text-align: right;\n",
       "    }\n",
       "</style>\n",
       "<table border=\"1\" class=\"dataframe\">\n",
       "  <thead>\n",
       "    <tr style=\"text-align: right;\">\n",
       "      <th></th>\n",
       "      <th>tournament_id</th>\n",
       "      <th>ground_type</th>\n",
       "    </tr>\n",
       "  </thead>\n",
       "  <tbody>\n",
       "    <tr>\n",
       "      <th>0</th>\n",
       "      <td>70826</td>\n",
       "      <td>&lt;NA&gt;</td>\n",
       "    </tr>\n",
       "    <tr>\n",
       "      <th>0</th>\n",
       "      <td>70826</td>\n",
       "      <td>&lt;NA&gt;</td>\n",
       "    </tr>\n",
       "    <tr>\n",
       "      <th>0</th>\n",
       "      <td>126168</td>\n",
       "      <td>Hardcourt indoor</td>\n",
       "    </tr>\n",
       "    <tr>\n",
       "      <th>0</th>\n",
       "      <td>126168</td>\n",
       "      <td>Hardcourt indoor</td>\n",
       "    </tr>\n",
       "    <tr>\n",
       "      <th>0</th>\n",
       "      <td>126168</td>\n",
       "      <td>Hardcourt indoor</td>\n",
       "    </tr>\n",
       "    <tr>\n",
       "      <th>...</th>\n",
       "      <td>...</td>\n",
       "      <td>...</td>\n",
       "    </tr>\n",
       "    <tr>\n",
       "      <th>0</th>\n",
       "      <td>128420</td>\n",
       "      <td>Red clay</td>\n",
       "    </tr>\n",
       "    <tr>\n",
       "      <th>0</th>\n",
       "      <td>128420</td>\n",
       "      <td>Red clay</td>\n",
       "    </tr>\n",
       "    <tr>\n",
       "      <th>0</th>\n",
       "      <td>128420</td>\n",
       "      <td>Red clay</td>\n",
       "    </tr>\n",
       "    <tr>\n",
       "      <th>0</th>\n",
       "      <td>128420</td>\n",
       "      <td>Red clay</td>\n",
       "    </tr>\n",
       "    <tr>\n",
       "      <th>0</th>\n",
       "      <td>128420</td>\n",
       "      <td>Red clay</td>\n",
       "    </tr>\n",
       "  </tbody>\n",
       "</table>\n",
       "<p>35671 rows × 2 columns</p>\n",
       "</div>"
      ],
      "text/plain": [
       "    tournament_id       ground_type\n",
       "0           70826              <NA>\n",
       "0           70826              <NA>\n",
       "0          126168  Hardcourt indoor\n",
       "0          126168  Hardcourt indoor\n",
       "0          126168  Hardcourt indoor\n",
       "..            ...               ...\n",
       "0          128420          Red clay\n",
       "0          128420          Red clay\n",
       "0          128420          Red clay\n",
       "0          128420          Red clay\n",
       "0          128420          Red clay\n",
       "\n",
       "[35671 rows x 2 columns]"
      ]
     },
     "execution_count": 110,
     "metadata": {},
     "output_type": "execute_result"
    }
   ],
   "source": [
    "# Save the result for future convenience.\n",
    "result"
   ]
  },
  {
   "cell_type": "code",
   "execution_count": null,
   "id": "88ab99f3",
   "metadata": {},
   "outputs": [
    {
     "data": {
      "application/vnd.microsoft.datawrangler.viewer.v0+json": {
       "columns": [
        {
         "name": "ground_type",
         "rawType": "object",
         "type": "string"
        },
        {
         "name": "count",
         "rawType": "int64",
         "type": "integer"
        }
       ],
       "ref": "c874fd55-3934-4c47-94e3-0ec92442fa17",
       "rows": [
        [
         "Hardcourt outdoor",
         "239"
        ],
        [
         "Red clay",
         "187"
        ],
        [
         "Hardcourt indoor",
         "85"
        ],
        [
         "Red clay indoor",
         "8"
        ],
        [
         "Grass",
         "8"
        ],
        [
         "Carpet indoor",
         "5"
        ],
        [
         "Synthetic outdoor",
         "4"
        ],
        [
         "Green clay",
         "1"
        ]
       ],
       "shape": {
        "columns": 1,
        "rows": 8
       }
      },
      "text/plain": [
       "ground_type\n",
       "Hardcourt outdoor    239\n",
       "Red clay             187\n",
       "Hardcourt indoor      85\n",
       "Red clay indoor        8\n",
       "Grass                  8\n",
       "Carpet indoor          5\n",
       "Synthetic outdoor      4\n",
       "Green clay             1\n",
       "Name: count, dtype: int64"
      ]
     },
     "execution_count": 119,
     "metadata": {},
     "output_type": "execute_result"
    }
   ],
   "source": [
    "# Opening folders and then dropping duplicates.\n",
    "tournament_df = pd.read_csv(\"CSVs\\\\14_tournament_df.csv\")\n",
    "tournament_df.drop_duplicates(inplace=True)\n",
    "tournament_df.dropna(inplace=True)\n",
    "tournament_df.ground_type.value_counts()"
   ]
  },
  {
   "cell_type": "code",
   "execution_count": 8,
   "id": "5bcdae89",
   "metadata": {},
   "outputs": [],
   "source": [
    "# The most common type of ground is hardcourt outdoor."
   ]
  },
  {
   "cell_type": "markdown",
   "id": "4ba881f2",
   "metadata": {},
   "source": [
    "### 15."
   ]
  },
  {
   "cell_type": "code",
   "execution_count": null,
   "id": "4aef66dc",
   "metadata": {},
   "outputs": [],
   "source": [
    "# Rendering the addresses for the countries data.\n",
    "venue_country_addresses = render_addresses('match', date_arr = dates_tuple, kind='venue')\n",
    "home_addresses = render_addresses('match', date_arr = dates_tuple, kind='home_team')\n",
    "away_addresses = render_addresses('match', date_arr = dates_tuple, kind='away_team')\n",
    "\n",
    "# Reading the data.\n",
    "venue_country_df = dd.read_parquet(tournament_addresses, columns=['country'])\n",
    "home_country_df = dd.read_parquet(home_addresses, columns=['country'])\n",
    "away_country_df = dd.read_parquet(away_addresses, columns=['country'])"
   ]
  },
  {
   "cell_type": "code",
   "execution_count": 127,
   "id": "ee136bfb",
   "metadata": {},
   "outputs": [
    {
     "name": "stdout",
     "output_type": "stream",
     "text": [
      "[########################################] | 100% Completed | 105.06 s\n"
     ]
    }
   ],
   "source": [
    "# Extracting the results into csv for faster manipulation with pandas.\n",
    "with ProgressBar():\n",
    "    result = away_country_df.compute()"
   ]
  },
  {
   "cell_type": "code",
   "execution_count": null,
   "id": "d01c7d97",
   "metadata": {},
   "outputs": [
    {
     "data": {
      "application/vnd.microsoft.datawrangler.viewer.v0+json": {
       "columns": [
        {
         "name": "index",
         "rawType": "int64",
         "type": "integer"
        },
        {
         "name": "country",
         "rawType": "string",
         "type": "string"
        }
       ],
       "ref": "4c0df955-954e-4a35-8db0-19b81672d0ad",
       "rows": [
        [
         "0",
         "Canada"
        ],
        [
         "0",
         "Italy"
        ],
        [
         "0",
         "Spain"
        ],
        [
         "0",
         "France"
        ],
        [
         "0",
         "France"
        ],
        [
         "0",
         "Kazakhstan"
        ],
        [
         "0",
         "France"
        ],
        [
         "0",
         "Kazakhstan"
        ],
        [
         "0",
         "Spain"
        ],
        [
         "0",
         "Japan"
        ],
        [
         "0",
         "Australia"
        ],
        [
         "0",
         "Australia"
        ],
        [
         "0",
         "Australia"
        ],
        [
         "0",
         "Australia"
        ],
        [
         "0",
         "Australia"
        ],
        [
         "0",
         "Australia"
        ],
        [
         "0",
         "Australia"
        ],
        [
         "0",
         "USA"
        ],
        [
         "0",
         "USA"
        ],
        [
         "0",
         "USA"
        ],
        [
         "0",
         "Germany"
        ],
        [
         "0",
         "USA"
        ],
        [
         "0",
         "Japan"
        ],
        [
         "0",
         "USA"
        ],
        [
         "0",
         "United Kingdom"
        ],
        [
         "0",
         "USA"
        ],
        [
         "0",
         "Germany"
        ],
        [
         "0",
         "Germany"
        ],
        [
         "0",
         "France"
        ],
        [
         "0",
         "France"
        ],
        [
         "0",
         "France"
        ],
        [
         "0",
         "USA"
        ],
        [
         "0",
         "Germany"
        ],
        [
         "0",
         "USA"
        ],
        [
         "0",
         "Argentina"
        ],
        [
         "0",
         "Switzerland"
        ],
        [
         "0",
         "Italy"
        ],
        [
         "0",
         "Italy"
        ],
        [
         "0",
         "Argentina"
        ],
        [
         "0",
         "United Kingdom"
        ],
        [
         "0",
         "Italy"
        ],
        [
         "0",
         "Russia"
        ],
        [
         "0",
         "China"
        ],
        [
         "0",
         "China"
        ],
        [
         "0",
         "Germany"
        ],
        [
         "0",
         "China"
        ],
        [
         "0",
         "Kazakhstan"
        ],
        [
         "0",
         "Russia"
        ],
        [
         "0",
         "Italy"
        ],
        [
         "0",
         "Croatia"
        ]
       ],
       "shape": {
        "columns": 1,
        "rows": 24203
       }
      },
      "text/html": [
       "<div>\n",
       "<style scoped>\n",
       "    .dataframe tbody tr th:only-of-type {\n",
       "        vertical-align: middle;\n",
       "    }\n",
       "\n",
       "    .dataframe tbody tr th {\n",
       "        vertical-align: top;\n",
       "    }\n",
       "\n",
       "    .dataframe thead th {\n",
       "        text-align: right;\n",
       "    }\n",
       "</style>\n",
       "<table border=\"1\" class=\"dataframe\">\n",
       "  <thead>\n",
       "    <tr style=\"text-align: right;\">\n",
       "      <th></th>\n",
       "      <th>country</th>\n",
       "    </tr>\n",
       "  </thead>\n",
       "  <tbody>\n",
       "    <tr>\n",
       "      <th>0</th>\n",
       "      <td>Canada</td>\n",
       "    </tr>\n",
       "    <tr>\n",
       "      <th>0</th>\n",
       "      <td>Italy</td>\n",
       "    </tr>\n",
       "    <tr>\n",
       "      <th>0</th>\n",
       "      <td>Spain</td>\n",
       "    </tr>\n",
       "    <tr>\n",
       "      <th>0</th>\n",
       "      <td>France</td>\n",
       "    </tr>\n",
       "    <tr>\n",
       "      <th>0</th>\n",
       "      <td>France</td>\n",
       "    </tr>\n",
       "    <tr>\n",
       "      <th>...</th>\n",
       "      <td>...</td>\n",
       "    </tr>\n",
       "    <tr>\n",
       "      <th>0</th>\n",
       "      <td>Argentina</td>\n",
       "    </tr>\n",
       "    <tr>\n",
       "      <th>0</th>\n",
       "      <td>Colombia</td>\n",
       "    </tr>\n",
       "    <tr>\n",
       "      <th>0</th>\n",
       "      <td>Spain</td>\n",
       "    </tr>\n",
       "    <tr>\n",
       "      <th>0</th>\n",
       "      <td>Sweden</td>\n",
       "    </tr>\n",
       "    <tr>\n",
       "      <th>0</th>\n",
       "      <td>United Kingdom</td>\n",
       "    </tr>\n",
       "  </tbody>\n",
       "</table>\n",
       "<p>24203 rows × 1 columns</p>\n",
       "</div>"
      ],
      "text/plain": [
       "           country\n",
       "0           Canada\n",
       "0            Italy\n",
       "0            Spain\n",
       "0           France\n",
       "0           France\n",
       "..             ...\n",
       "0        Argentina\n",
       "0         Colombia\n",
       "0            Spain\n",
       "0           Sweden\n",
       "0   United Kingdom\n",
       "\n",
       "[24203 rows x 1 columns]"
      ]
     },
     "execution_count": 129,
     "metadata": {},
     "output_type": "execute_result"
    }
   ],
   "source": [
    "# Save the result for future convenience.\n",
    "result"
   ]
  },
  {
   "cell_type": "code",
   "execution_count": null,
   "id": "08b0915f",
   "metadata": {},
   "outputs": [
    {
     "name": "stdout",
     "output_type": "stream",
     "text": [
      "There are 108 unique countries in the dataset.\n",
      "\n",
      "['Netherlands' 'Lithuania' 'France' 'Australia' 'USA' 'Germany' 'Brazil'\n",
      " 'Egypt' 'Thailand' 'Austria' 'Uzbekistan' 'New Zealand' 'Portugal'\n",
      " 'Turkey' 'Tunisia' 'India' 'China' 'Vietnam' 'Serbia' 'Hungary' 'Finland'\n",
      " 'Sweden' 'Canada' 'Colombia' 'Norway' 'El Salvador' 'Chinese Taipei'\n",
      " 'Hong Kong' 'Cyprus' 'Pakistan' 'Bulgaria' 'Togo' 'Ireland' 'Croatia'\n",
      " 'United Arab Emirates' 'Argentina' 'Romania' 'Czech Republic' 'Greece'\n",
      " 'Bolivia' 'Uruguay' 'Paraguay' 'Chile' 'Jamaica' 'Mexico' 'England'\n",
      " 'Qatar' 'Bahrain' 'Spain' 'Scotland' 'South Africa' 'Italy' 'Malaysia'\n",
      " 'Iran' 'Rwanda' 'Slovakia' 'Switzerland' 'Dominican Republic'\n",
      " 'Kazakhstan' 'Japan' 'Sri Lanka' 'Slovenia' 'Burundi' 'Morocco' 'Denmark'\n",
      " 'Syria' 'Belgium' 'South Korea' 'Russia' 'Ukraine' 'Latvia'\n",
      " 'United Kingdom' 'Belarus' 'Poland' 'Algeria' 'Bosnia & Herzegovina'\n",
      " 'Malta' 'Lebanon' 'Georgia' 'Philippines' 'Venezuela' 'New Caledonia'\n",
      " 'Israel' 'Estonia' 'Nigeria' 'Guadeloupe' 'North Macedonia' 'Senegal'\n",
      " 'Ecuador' 'Jordan' 'Peru' 'Moldova' 'Indonesia' 'Zimbabwe' 'Costa Rica'\n",
      " 'Luxembourg' 'Kyrgyzstan' 'Liechtenstein' 'Haiti' 'Monaco' 'Ivory Coast'\n",
      " 'Singapore' 'Kosovo' 'Andorra' 'Antigua and Barbuda' 'Nepal' 'Barbados'\n",
      " 'Bahamas']\n"
     ]
    }
   ],
   "source": [
    "# Opening folders and then dropping duplicates.\n",
    "venue_df = pd.read_csv(\"CSVs\\\\15_venue_df.csv\")\n",
    "home_df = pd.read_csv(\"CSVs\\\\15_home_df.csv\")\n",
    "away_df = pd.read_csv(\"CSVs\\\\15_away_df.csv\")\n",
    "\n",
    "# Concatenating the dataframes and dropping duplicates.\n",
    "countries_df = pd.concat([venue_df,home_df,away_df])\n",
    "countries_df.dropna(inplace=True)\n",
    "print(f\"There are {countries_df.country.unique().shape[0]} unique countries in the dataset.\\n\")\n",
    "print(countries_df.country.unique())"
   ]
  },
  {
   "cell_type": "markdown",
   "id": "5e0cc557",
   "metadata": {},
   "source": [
    "### 16."
   ]
  },
  {
   "cell_type": "code",
   "execution_count": 6,
   "id": "efeece8d",
   "metadata": {},
   "outputs": [],
   "source": [
    "# Rendering the addresses for the countries data.\n",
    "home_addresses = render_addresses('match', date_arr = dates_tuple, kind='home_team')\n",
    "away_addresses = render_addresses('match', date_arr = dates_tuple, kind='away_team')\n",
    "\n",
    "# Reading the data.\n",
    "home_df = dd.read_parquet(home_addresses, columns=['match_id', 'player_id', 'full_name', 'current_rank'])\n",
    "away_df = dd.read_parquet(away_addresses, columns=['match_id', 'player_id', 'full_name', 'current_rank'])"
   ]
  },
  {
   "cell_type": "code",
   "execution_count": 9,
   "id": "61f2c9a2",
   "metadata": {},
   "outputs": [
    {
     "name": "stdout",
     "output_type": "stream",
     "text": [
      "[########################################] | 100% Completed | 114.83 s\n"
     ]
    }
   ],
   "source": [
    "# Extracting the results into csv for faster manipulation with pandas.\n",
    "with ProgressBar():\n",
    "    result = away_df.compute()"
   ]
  },
  {
   "cell_type": "code",
   "execution_count": 10,
   "id": "f2f4fdfa",
   "metadata": {},
   "outputs": [
    {
     "data": {
      "application/vnd.microsoft.datawrangler.viewer.v0+json": {
       "columns": [
        {
         "name": "index",
         "rawType": "int64",
         "type": "integer"
        },
        {
         "name": "match_id",
         "rawType": "int64",
         "type": "integer"
        },
        {
         "name": "player_id",
         "rawType": "int64",
         "type": "integer"
        },
        {
         "name": "full_name",
         "rawType": "string",
         "type": "string"
        },
        {
         "name": "current_rank",
         "rawType": "object",
         "type": "unknown"
        }
       ],
       "ref": "948273f2-34d2-4df3-8f95-526e24a6fdf8",
       "rows": [
        [
         "0",
         "11998445",
         "192013",
         "Auger-Aliassime, Felix",
         "30"
        ],
        [
         "0",
         "11998446",
         "273680",
         "Flavio Cobolli",
         "69"
        ],
        [
         "0",
         "11998447",
         "77223",
         "Martinez, Pedro",
         "101"
        ],
        [
         "0",
         "11998448",
         "88992",
         "Muller, Alexandre",
         "81"
        ],
        [
         "0",
         "11998449",
         "248846",
         "Mayot, Harold",
         "132"
        ],
        [
         "0",
         "11998450",
         "163480",
         "Bublik, Alexander",
         "23"
        ],
        [
         "0",
         "11998451",
         "67154",
         "Barrere, Gregoire",
         "124"
        ],
        [
         "0",
         "11998456",
         "163480",
         "Bublik, Alexander",
         "23"
        ],
        [
         "0",
         "11998459",
         "264358",
         "Llamas Ruiz, Pablo",
         "151"
        ],
        [
         "0",
         "11998666",
         "66874",
         "Imai, Shintaro",
         "644"
        ],
        [
         "0",
         "11998667",
         "80665",
         "Polmans, Marc",
         "168"
        ],
        [
         "0",
         "11998670",
         "58369",
         "Bolt, Alex",
         "262"
        ],
        [
         "0",
         "11998671",
         "233126",
         "Sweeny, Dane",
         "202"
        ],
        [
         "0",
         "11998672",
         "299481",
         "Sekulic, Philip",
         "265"
        ],
        [
         "0",
         "11998674",
         "387400",
         "Jones, Hayden",
         "1057"
        ],
        [
         "0",
         "11998675",
         "79467",
         "Jasika, Omar",
         "225"
        ],
        [
         "0",
         "11998676",
         "233126",
         "Sweeny, Dane",
         "202"
        ],
        [
         "0",
         "11998772",
         "52276",
         "Krueger, Mitchell",
         "293"
        ],
        [
         "0",
         "11998774",
         "251784",
         "Maloney, Patrick",
         "841"
        ],
        [
         "0",
         "11998780",
         "77007",
         "Kozlov, Stefan",
         "816"
        ],
        [
         "0",
         "11998782",
         "71950",
         "Fanselow, Sebastian",
         "315"
        ],
        [
         "0",
         "11998783",
         "36595",
         "Kudla, Denis",
         "178"
        ],
        [
         "0",
         "11998784",
         "255993",
         "Trotter, James Kent",
         "393"
        ],
        [
         "0",
         "11998785",
         "210490",
         "Kypson, Patrick",
         "150"
        ],
        [
         "0",
         "11998786",
         "386194",
         "Brady, Patrick",
         "730"
        ],
        [
         "0",
         "11999004",
         "235576",
         "Nakashima, Brandon",
         "89"
        ],
        [
         "0",
         "11999005",
         "62404",
         "Otte, Oscar",
         "286"
        ],
        [
         "0",
         "11999007",
         "300293",
         "Rehberg, Max Hans",
         "468"
        ],
        [
         "0",
         "11999009",
         "47767",
         "Lamasine, Tristan",
         "285"
        ],
        [
         "0",
         "11999010",
         "255449",
         "Royer, Valentin",
         "269"
        ],
        [
         "0",
         "11999011",
         "55067",
         "Marie, Jules",
         "205"
        ],
        [
         "0",
         "11999012",
         "51345",
         "Damm Jr, Martin",
         "209"
        ],
        [
         "0",
         "11999013",
         "209103",
         "Molleker, Rudolf",
         "187"
        ],
        [
         "0",
         "11999014",
         "51345",
         "Damm Jr, Martin",
         "209"
        ],
        [
         "0",
         "11999209",
         "196122",
         "Ugo Carabelli, Camilo",
         "127"
        ],
        [
         "0",
         "11999210",
         "377489",
         "Feldbausch, Kilian",
         "410"
        ],
        [
         "0",
         "11999211",
         "69500",
         "Mager, Gianluca",
         "257"
        ],
        [
         "0",
         "11999212",
         "163528",
         "Lavagno, Edoardo",
         "239"
        ],
        [
         "0",
         "11999213",
         "315774",
         "Torres, Juan Bautista",
         "412"
        ],
        [
         "0",
         "11999215",
         "298057",
         "Gill, Felix",
         "334"
        ],
        [
         "0",
         "11999219",
         "144102",
         "Weis, Alexander",
         "301"
        ],
        [
         "0",
         "11999220",
         "76515",
         "Gakhov, Ivan",
         "176"
        ],
        [
         "0",
         "12002040",
         "45584",
         "Zhu, Lin",
         "58"
        ],
        [
         "0",
         "12002041",
         "318574",
         "Bai, Zhuoxuan",
         "84"
        ],
        [
         "0",
         "12002042",
         "19520",
         "Maria, Tatjana",
         "47"
        ],
        [
         "0",
         "12002043",
         "52025",
         "Wang, Yafan",
         "69"
        ],
        [
         "0",
         "12002044",
         "45545",
         "Putintseva, Yulia",
         "80"
        ],
        [
         "0",
         "12002048",
         "67759",
         "Alexandrova, Ekaterina",
         "16"
        ],
        [
         "0",
         "12002049",
         "264980",
         "Cocciaretto, Elisabetta",
         "56"
        ],
        [
         "0",
         "12002050",
         "50641",
         "Vekić, Donna",
         "28"
        ]
       ],
       "shape": {
        "columns": 4,
        "rows": 24203
       }
      },
      "text/html": [
       "<div>\n",
       "<style scoped>\n",
       "    .dataframe tbody tr th:only-of-type {\n",
       "        vertical-align: middle;\n",
       "    }\n",
       "\n",
       "    .dataframe tbody tr th {\n",
       "        vertical-align: top;\n",
       "    }\n",
       "\n",
       "    .dataframe thead th {\n",
       "        text-align: right;\n",
       "    }\n",
       "</style>\n",
       "<table border=\"1\" class=\"dataframe\">\n",
       "  <thead>\n",
       "    <tr style=\"text-align: right;\">\n",
       "      <th></th>\n",
       "      <th>match_id</th>\n",
       "      <th>player_id</th>\n",
       "      <th>full_name</th>\n",
       "      <th>current_rank</th>\n",
       "    </tr>\n",
       "  </thead>\n",
       "  <tbody>\n",
       "    <tr>\n",
       "      <th>0</th>\n",
       "      <td>11998445</td>\n",
       "      <td>192013</td>\n",
       "      <td>Auger-Aliassime, Felix</td>\n",
       "      <td>30</td>\n",
       "    </tr>\n",
       "    <tr>\n",
       "      <th>0</th>\n",
       "      <td>11998446</td>\n",
       "      <td>273680</td>\n",
       "      <td>Flavio Cobolli</td>\n",
       "      <td>69</td>\n",
       "    </tr>\n",
       "    <tr>\n",
       "      <th>0</th>\n",
       "      <td>11998447</td>\n",
       "      <td>77223</td>\n",
       "      <td>Martinez, Pedro</td>\n",
       "      <td>101</td>\n",
       "    </tr>\n",
       "    <tr>\n",
       "      <th>0</th>\n",
       "      <td>11998448</td>\n",
       "      <td>88992</td>\n",
       "      <td>Muller, Alexandre</td>\n",
       "      <td>81</td>\n",
       "    </tr>\n",
       "    <tr>\n",
       "      <th>0</th>\n",
       "      <td>11998449</td>\n",
       "      <td>248846</td>\n",
       "      <td>Mayot, Harold</td>\n",
       "      <td>132</td>\n",
       "    </tr>\n",
       "    <tr>\n",
       "      <th>...</th>\n",
       "      <td>...</td>\n",
       "      <td>...</td>\n",
       "      <td>...</td>\n",
       "      <td>...</td>\n",
       "    </tr>\n",
       "    <tr>\n",
       "      <th>0</th>\n",
       "      <td>12212216</td>\n",
       "      <td>72324</td>\n",
       "      <td>Doria, Luciano</td>\n",
       "      <td>1442</td>\n",
       "    </tr>\n",
       "    <tr>\n",
       "      <th>0</th>\n",
       "      <td>12213156</td>\n",
       "      <td>217437</td>\n",
       "      <td>Soriano Barrera, Adria</td>\n",
       "      <td>465</td>\n",
       "    </tr>\n",
       "    <tr>\n",
       "      <th>0</th>\n",
       "      <td>12213412</td>\n",
       "      <td>108559</td>\n",
       "      <td>Taberner, Carlos</td>\n",
       "      <td>358</td>\n",
       "    </tr>\n",
       "    <tr>\n",
       "      <th>0</th>\n",
       "      <td>12213458</td>\n",
       "      <td>74679</td>\n",
       "      <td>Simonsson, Fred</td>\n",
       "      <td>None</td>\n",
       "    </tr>\n",
       "    <tr>\n",
       "      <th>0</th>\n",
       "      <td>12213459</td>\n",
       "      <td>220540</td>\n",
       "      <td>Lumsden, Ewen</td>\n",
       "      <td>1281</td>\n",
       "    </tr>\n",
       "  </tbody>\n",
       "</table>\n",
       "<p>24203 rows × 4 columns</p>\n",
       "</div>"
      ],
      "text/plain": [
       "    match_id  player_id               full_name current_rank\n",
       "0   11998445     192013  Auger-Aliassime, Felix           30\n",
       "0   11998446     273680          Flavio Cobolli           69\n",
       "0   11998447      77223         Martinez, Pedro          101\n",
       "0   11998448      88992       Muller, Alexandre           81\n",
       "0   11998449     248846           Mayot, Harold          132\n",
       "..       ...        ...                     ...          ...\n",
       "0   12212216      72324          Doria, Luciano         1442\n",
       "0   12213156     217437  Soriano Barrera, Adria          465\n",
       "0   12213412     108559        Taberner, Carlos          358\n",
       "0   12213458      74679         Simonsson, Fred         None\n",
       "0   12213459     220540           Lumsden, Ewen         1281\n",
       "\n",
       "[24203 rows x 4 columns]"
      ]
     },
     "execution_count": 10,
     "metadata": {},
     "output_type": "execute_result"
    }
   ],
   "source": [
    "result"
   ]
  },
  {
   "cell_type": "code",
   "execution_count": 19,
   "id": "425a65b1",
   "metadata": {},
   "outputs": [
    {
     "name": "stdout",
     "output_type": "stream",
     "text": [
      "Player with highest win percentage vs Top 10: Dimitrov, Grigor (ID: 23581)\n",
      "Win percentage: 50.00% (3 wins out of 6 matches)\n"
     ]
    }
   ],
   "source": [
    "# Read the necessary CSV files\n",
    "home_df = pd.read_csv(\"CSVs\\\\16_home_df.csv\")\n",
    "away_df = pd.read_csv(\"CSVs\\\\16_away_df.csv\")\n",
    "event_df = pd.read_csv(\"CSVs\\\\3_match_df.csv\")\n",
    "\n",
    "# Merge home and away data for each match, so each row contains both players' info\n",
    "matches = home_df.merge(away_df, on='match_id', suffixes=('_home', '_away'))\n",
    "matches = matches.merge(event_df, on='match_id')\n",
    "matches.drop_duplicates(subset='match_id', inplace=True)\n",
    "\n",
    "# Create a DataFrame for home players vs away opponents\n",
    "home_matches = matches[['player_id_home', 'full_name_home', 'current_rank_away', 'winner_code']]\n",
    "home_matches['is_win'] = home_matches['winner_code'] == 1\n",
    "home_matches = home_matches.rename(columns={\n",
    "    'player_id_home': 'player_id',\n",
    "    'full_name_home': 'full_name',\n",
    "    'current_rank_away': 'opponent_rank'\n",
    "})\n",
    "\n",
    "# Create a DataFrame for away players vs home opponents\n",
    "away_matches = matches[['player_id_away', 'full_name_away', 'current_rank_home', 'winner_code']]\n",
    "away_matches['is_win'] = away_matches['winner_code'] == 2\n",
    "away_matches = away_matches.rename(columns={\n",
    "    'player_id_away': 'player_id',\n",
    "    'full_name_away': 'full_name',\n",
    "    'current_rank_home': 'opponent_rank'\n",
    "})\n",
    "\n",
    "# Combine both DataFrames to have all player vs opponent records\n",
    "all_matches = pd.concat([home_matches, away_matches], ignore_index=True)\n",
    "\n",
    "# Filter only matches where the opponent's rank is 10 or better (Top 10)\n",
    "top10_matches = all_matches[all_matches['opponent_rank'] <= 10]\n",
    "\n",
    "# Group by player and calculate total matches and wins vs Top 10\n",
    "summary = top10_matches.groupby(['player_id', 'full_name']).agg(\n",
    "    total_vs_top10=('is_win', 'count'),\n",
    "    wins_vs_top10=('is_win', 'sum')\n",
    ")\n",
    "summary['win_pct_vs_top10'] = summary['wins_vs_top10'] / summary['total_vs_top10']\n",
    "\n",
    "# consider players with more than 5 matches vs Top 10 for reliability\n",
    "summary = summary[summary['total_vs_top10'] > 5]\n",
    "\n",
    "# Find the player with the highest win percentage vs Top 10\n",
    "best_player = summary['win_pct_vs_top10'].idxmax()\n",
    "best_row = summary.loc[best_player]\n",
    "\n",
    "print(f\"Player with highest win percentage vs Top 10: {best_row.name[1]} (ID: {best_row.name[0]})\")\n",
    "print(f\"Win percentage: {best_row['win_pct_vs_top10']:.2%} ({int(best_row['wins_vs_top10'])} wins out of {int(best_row['total_vs_top10'])} matches)\")"
   ]
  },
  {
   "cell_type": "markdown",
   "id": "d65df4a9",
   "metadata": {},
   "source": [
    "### 17."
   ]
  },
  {
   "cell_type": "code",
   "execution_count": 29,
   "id": "bb8b7e2f",
   "metadata": {},
   "outputs": [],
   "source": [
    "# Rendering the addresses for the countries data.\n",
    "pbp_addresses = render_addresses('pbp', date_arr = [\"20240201\"])\n",
    "\n",
    "# Reading the data.\n",
    "pbp_df = dd.read_parquet(pbp_addresses)"
   ]
  },
  {
   "cell_type": "code",
   "execution_count": 30,
   "id": "ddd346ef",
   "metadata": {},
   "outputs": [
    {
     "name": "stdout",
     "output_type": "stream",
     "text": [
      "[########################################] | 100% Completed | 1.16 sms\n"
     ]
    }
   ],
   "source": [
    "# Extracting the results into csv for faster manipulation with pandas.\n",
    "with ProgressBar():\n",
    "    result = pbp_df.compute()"
   ]
  },
  {
   "cell_type": "code",
   "execution_count": 31,
   "id": "7600bd0b",
   "metadata": {},
   "outputs": [
    {
     "data": {
      "application/vnd.microsoft.datawrangler.viewer.v0+json": {
       "columns": [
        {
         "name": "index",
         "rawType": "int64",
         "type": "integer"
        },
        {
         "name": "match_id",
         "rawType": "int64",
         "type": "integer"
        },
        {
         "name": "set_id",
         "rawType": "int64",
         "type": "integer"
        },
        {
         "name": "game_id",
         "rawType": "int64",
         "type": "integer"
        },
        {
         "name": "point_id",
         "rawType": "int64",
         "type": "integer"
        },
        {
         "name": "home_point",
         "rawType": "string",
         "type": "string"
        },
        {
         "name": "away_point",
         "rawType": "string",
         "type": "string"
        },
        {
         "name": "point_description",
         "rawType": "int64",
         "type": "integer"
        },
        {
         "name": "home_point_type",
         "rawType": "int64",
         "type": "integer"
        },
        {
         "name": "away_point_type",
         "rawType": "int64",
         "type": "integer"
        },
        {
         "name": "home_score",
         "rawType": "int64",
         "type": "integer"
        },
        {
         "name": "away_score",
         "rawType": "int64",
         "type": "integer"
        },
        {
         "name": "serving",
         "rawType": "int64",
         "type": "integer"
        },
        {
         "name": "scoring",
         "rawType": "int64",
         "type": "integer"
        }
       ],
       "ref": "c6012025-e3b2-45ec-94af-041143548d75",
       "rows": [
        [
         "0",
         "11998445",
         "3",
         "13",
         "0",
         "1",
         "0",
         "0",
         "6",
         "5",
         "6",
         "7",
         "1",
         "2"
        ],
        [
         "1",
         "11998445",
         "3",
         "13",
         "1",
         "1",
         "1",
         "0",
         "5",
         "6",
         "6",
         "7",
         "1",
         "2"
        ],
        [
         "2",
         "11998445",
         "3",
         "13",
         "2",
         "1",
         "2",
         "0",
         "5",
         "6",
         "6",
         "7",
         "1",
         "2"
        ],
        [
         "3",
         "11998445",
         "3",
         "13",
         "3",
         "1",
         "3",
         "0",
         "5",
         "1",
         "6",
         "7",
         "1",
         "2"
        ],
        [
         "4",
         "11998445",
         "3",
         "13",
         "4",
         "1",
         "4",
         "0",
         "5",
         "1",
         "6",
         "7",
         "1",
         "2"
        ],
        [
         "5",
         "11998445",
         "3",
         "13",
         "5",
         "2",
         "4",
         "0",
         "1",
         "5",
         "6",
         "7",
         "1",
         "2"
        ],
        [
         "6",
         "11998445",
         "3",
         "13",
         "6",
         "3",
         "4",
         "0",
         "1",
         "5",
         "6",
         "7",
         "1",
         "2"
        ],
        [
         "7",
         "11998445",
         "3",
         "13",
         "7",
         "3",
         "5",
         "0",
         "5",
         "1",
         "6",
         "7",
         "1",
         "2"
        ],
        [
         "8",
         "11998445",
         "3",
         "13",
         "8",
         "4",
         "5",
         "0",
         "6",
         "5",
         "6",
         "7",
         "1",
         "2"
        ],
        [
         "9",
         "11998445",
         "3",
         "13",
         "9",
         "4",
         "6",
         "0",
         "5",
         "3",
         "6",
         "7",
         "1",
         "2"
        ],
        [
         "10",
         "11998445",
         "3",
         "13",
         "10",
         "4",
         "7",
         "0",
         "5",
         "5",
         "6",
         "7",
         "1",
         "2"
        ],
        [
         "11",
         "11998445",
         "3",
         "12",
         "0",
         "0",
         "15",
         "0",
         "5",
         "1",
         "6",
         "6",
         "1",
         "1"
        ],
        [
         "12",
         "11998445",
         "3",
         "12",
         "1",
         "15",
         "15",
         "1",
         "1",
         "5",
         "6",
         "6",
         "1",
         "1"
        ],
        [
         "13",
         "11998445",
         "3",
         "12",
         "2",
         "30",
         "15",
         "0",
         "1",
         "5",
         "6",
         "6",
         "1",
         "1"
        ],
        [
         "14",
         "11998445",
         "3",
         "12",
         "3",
         "40",
         "15",
         "0",
         "1",
         "5",
         "6",
         "6",
         "1",
         "1"
        ],
        [
         "15",
         "11998445",
         "3",
         "12",
         "4",
         "40",
         "30",
         "0",
         "5",
         "1",
         "6",
         "6",
         "1",
         "1"
        ],
        [
         "16",
         "11998445",
         "3",
         "12",
         "5",
         "40",
         "40",
         "0",
         "5",
         "1",
         "6",
         "6",
         "1",
         "1"
        ],
        [
         "17",
         "11998445",
         "3",
         "12",
         "6",
         "40",
         "A",
         "0",
         "5",
         "3",
         "6",
         "6",
         "1",
         "1"
        ],
        [
         "18",
         "11998445",
         "3",
         "12",
         "7",
         "40",
         "40",
         "0",
         "1",
         "5",
         "6",
         "6",
         "1",
         "1"
        ],
        [
         "19",
         "11998445",
         "3",
         "12",
         "8",
         "A",
         "40",
         "0",
         "1",
         "5",
         "6",
         "6",
         "1",
         "1"
        ],
        [
         "20",
         "11998445",
         "3",
         "11",
         "0",
         "15",
         "0",
         "0",
         "1",
         "5",
         "5",
         "6",
         "2",
         "2"
        ],
        [
         "21",
         "11998445",
         "3",
         "11",
         "1",
         "15",
         "15",
         "0",
         "5",
         "1",
         "5",
         "6",
         "2",
         "2"
        ],
        [
         "22",
         "11998445",
         "3",
         "11",
         "2",
         "30",
         "15",
         "0",
         "1",
         "5",
         "5",
         "6",
         "2",
         "2"
        ],
        [
         "23",
         "11998445",
         "3",
         "11",
         "3",
         "30",
         "30",
         "0",
         "5",
         "1",
         "5",
         "6",
         "2",
         "2"
        ],
        [
         "24",
         "11998445",
         "3",
         "11",
         "4",
         "30",
         "40",
         "0",
         "5",
         "1",
         "5",
         "6",
         "2",
         "2"
        ],
        [
         "25",
         "11998445",
         "3",
         "10",
         "0",
         "0",
         "15",
         "0",
         "5",
         "1",
         "5",
         "5",
         "1",
         "2"
        ],
        [
         "26",
         "11998445",
         "3",
         "10",
         "1",
         "0",
         "30",
         "0",
         "5",
         "1",
         "5",
         "5",
         "1",
         "2"
        ],
        [
         "27",
         "11998445",
         "3",
         "10",
         "2",
         "0",
         "40",
         "0",
         "5",
         "2",
         "5",
         "5",
         "1",
         "2"
        ],
        [
         "28",
         "11998445",
         "3",
         "9",
         "0",
         "15",
         "0",
         "0",
         "1",
         "5",
         "5",
         "4",
         "2",
         "2"
        ],
        [
         "29",
         "11998445",
         "3",
         "9",
         "1",
         "15",
         "15",
         "0",
         "5",
         "1",
         "5",
         "4",
         "2",
         "2"
        ],
        [
         "30",
         "11998445",
         "3",
         "9",
         "2",
         "15",
         "30",
         "0",
         "5",
         "1",
         "5",
         "4",
         "2",
         "2"
        ],
        [
         "31",
         "11998445",
         "3",
         "9",
         "3",
         "15",
         "40",
         "0",
         "5",
         "1",
         "5",
         "4",
         "2",
         "2"
        ],
        [
         "32",
         "11998445",
         "3",
         "8",
         "0",
         "0",
         "15",
         "0",
         "5",
         "1",
         "5",
         "3",
         "1",
         "1"
        ],
        [
         "33",
         "11998445",
         "3",
         "8",
         "1",
         "15",
         "15",
         "0",
         "1",
         "5",
         "5",
         "3",
         "1",
         "1"
        ],
        [
         "34",
         "11998445",
         "3",
         "8",
         "2",
         "15",
         "30",
         "0",
         "5",
         "1",
         "5",
         "3",
         "1",
         "1"
        ],
        [
         "35",
         "11998445",
         "3",
         "8",
         "3",
         "15",
         "40",
         "0",
         "5",
         "2",
         "5",
         "3",
         "1",
         "1"
        ],
        [
         "36",
         "11998445",
         "3",
         "8",
         "4",
         "30",
         "40",
         "0",
         "1",
         "2",
         "5",
         "3",
         "1",
         "1"
        ],
        [
         "37",
         "11998445",
         "3",
         "8",
         "5",
         "40",
         "40",
         "0",
         "1",
         "5",
         "5",
         "3",
         "1",
         "1"
        ],
        [
         "38",
         "11998445",
         "3",
         "8",
         "6",
         "A",
         "40",
         "0",
         "1",
         "5",
         "5",
         "3",
         "1",
         "1"
        ],
        [
         "39",
         "11998445",
         "3",
         "7",
         "0",
         "15",
         "0",
         "0",
         "1",
         "5",
         "4",
         "3",
         "2",
         "1"
        ],
        [
         "40",
         "11998445",
         "3",
         "7",
         "1",
         "30",
         "0",
         "0",
         "1",
         "5",
         "4",
         "3",
         "2",
         "1"
        ],
        [
         "41",
         "11998445",
         "3",
         "7",
         "2",
         "30",
         "15",
         "0",
         "5",
         "1",
         "4",
         "3",
         "2",
         "1"
        ],
        [
         "42",
         "11998445",
         "3",
         "7",
         "3",
         "30",
         "30",
         "0",
         "5",
         "1",
         "4",
         "3",
         "2",
         "1"
        ],
        [
         "43",
         "11998445",
         "3",
         "7",
         "4",
         "40",
         "30",
         "0",
         "2",
         "5",
         "4",
         "3",
         "2",
         "1"
        ],
        [
         "44",
         "11998445",
         "3",
         "6",
         "0",
         "15",
         "0",
         "0",
         "1",
         "5",
         "3",
         "3",
         "1",
         "1"
        ],
        [
         "45",
         "11998445",
         "3",
         "6",
         "1",
         "30",
         "0",
         "0",
         "1",
         "5",
         "3",
         "3",
         "1",
         "1"
        ],
        [
         "46",
         "11998445",
         "3",
         "6",
         "2",
         "40",
         "0",
         "0",
         "1",
         "5",
         "3",
         "3",
         "1",
         "1"
        ],
        [
         "47",
         "11998445",
         "3",
         "5",
         "0",
         "15",
         "0",
         "0",
         "1",
         "5",
         "2",
         "3",
         "2",
         "2"
        ],
        [
         "48",
         "11998445",
         "3",
         "5",
         "1",
         "15",
         "15",
         "0",
         "5",
         "1",
         "2",
         "3",
         "2",
         "2"
        ],
        [
         "49",
         "11998445",
         "3",
         "5",
         "2",
         "15",
         "30",
         "0",
         "5",
         "1",
         "2",
         "3",
         "2",
         "2"
        ]
       ],
       "shape": {
        "columns": 13,
        "rows": 32154
       }
      },
      "text/html": [
       "<div>\n",
       "<style scoped>\n",
       "    .dataframe tbody tr th:only-of-type {\n",
       "        vertical-align: middle;\n",
       "    }\n",
       "\n",
       "    .dataframe tbody tr th {\n",
       "        vertical-align: top;\n",
       "    }\n",
       "\n",
       "    .dataframe thead th {\n",
       "        text-align: right;\n",
       "    }\n",
       "</style>\n",
       "<table border=\"1\" class=\"dataframe\">\n",
       "  <thead>\n",
       "    <tr style=\"text-align: right;\">\n",
       "      <th></th>\n",
       "      <th>match_id</th>\n",
       "      <th>set_id</th>\n",
       "      <th>game_id</th>\n",
       "      <th>point_id</th>\n",
       "      <th>home_point</th>\n",
       "      <th>away_point</th>\n",
       "      <th>point_description</th>\n",
       "      <th>home_point_type</th>\n",
       "      <th>away_point_type</th>\n",
       "      <th>home_score</th>\n",
       "      <th>away_score</th>\n",
       "      <th>serving</th>\n",
       "      <th>scoring</th>\n",
       "    </tr>\n",
       "  </thead>\n",
       "  <tbody>\n",
       "    <tr>\n",
       "      <th>0</th>\n",
       "      <td>11998445</td>\n",
       "      <td>3</td>\n",
       "      <td>13</td>\n",
       "      <td>0</td>\n",
       "      <td>1</td>\n",
       "      <td>0</td>\n",
       "      <td>0</td>\n",
       "      <td>6</td>\n",
       "      <td>5</td>\n",
       "      <td>6</td>\n",
       "      <td>7</td>\n",
       "      <td>1</td>\n",
       "      <td>2</td>\n",
       "    </tr>\n",
       "    <tr>\n",
       "      <th>1</th>\n",
       "      <td>11998445</td>\n",
       "      <td>3</td>\n",
       "      <td>13</td>\n",
       "      <td>1</td>\n",
       "      <td>1</td>\n",
       "      <td>1</td>\n",
       "      <td>0</td>\n",
       "      <td>5</td>\n",
       "      <td>6</td>\n",
       "      <td>6</td>\n",
       "      <td>7</td>\n",
       "      <td>1</td>\n",
       "      <td>2</td>\n",
       "    </tr>\n",
       "    <tr>\n",
       "      <th>2</th>\n",
       "      <td>11998445</td>\n",
       "      <td>3</td>\n",
       "      <td>13</td>\n",
       "      <td>2</td>\n",
       "      <td>1</td>\n",
       "      <td>2</td>\n",
       "      <td>0</td>\n",
       "      <td>5</td>\n",
       "      <td>6</td>\n",
       "      <td>6</td>\n",
       "      <td>7</td>\n",
       "      <td>1</td>\n",
       "      <td>2</td>\n",
       "    </tr>\n",
       "    <tr>\n",
       "      <th>3</th>\n",
       "      <td>11998445</td>\n",
       "      <td>3</td>\n",
       "      <td>13</td>\n",
       "      <td>3</td>\n",
       "      <td>1</td>\n",
       "      <td>3</td>\n",
       "      <td>0</td>\n",
       "      <td>5</td>\n",
       "      <td>1</td>\n",
       "      <td>6</td>\n",
       "      <td>7</td>\n",
       "      <td>1</td>\n",
       "      <td>2</td>\n",
       "    </tr>\n",
       "    <tr>\n",
       "      <th>4</th>\n",
       "      <td>11998445</td>\n",
       "      <td>3</td>\n",
       "      <td>13</td>\n",
       "      <td>4</td>\n",
       "      <td>1</td>\n",
       "      <td>4</td>\n",
       "      <td>0</td>\n",
       "      <td>5</td>\n",
       "      <td>1</td>\n",
       "      <td>6</td>\n",
       "      <td>7</td>\n",
       "      <td>1</td>\n",
       "      <td>2</td>\n",
       "    </tr>\n",
       "    <tr>\n",
       "      <th>...</th>\n",
       "      <td>...</td>\n",
       "      <td>...</td>\n",
       "      <td>...</td>\n",
       "      <td>...</td>\n",
       "      <td>...</td>\n",
       "      <td>...</td>\n",
       "      <td>...</td>\n",
       "      <td>...</td>\n",
       "      <td>...</td>\n",
       "      <td>...</td>\n",
       "      <td>...</td>\n",
       "      <td>...</td>\n",
       "      <td>...</td>\n",
       "    </tr>\n",
       "    <tr>\n",
       "      <th>141</th>\n",
       "      <td>12025672</td>\n",
       "      <td>1</td>\n",
       "      <td>2</td>\n",
       "      <td>2</td>\n",
       "      <td>30</td>\n",
       "      <td>15</td>\n",
       "      <td>2</td>\n",
       "      <td>5</td>\n",
       "      <td>1</td>\n",
       "      <td>1</td>\n",
       "      <td>1</td>\n",
       "      <td>1</td>\n",
       "      <td>1</td>\n",
       "    </tr>\n",
       "    <tr>\n",
       "      <th>142</th>\n",
       "      <td>12025672</td>\n",
       "      <td>1</td>\n",
       "      <td>2</td>\n",
       "      <td>3</td>\n",
       "      <td>40</td>\n",
       "      <td>15</td>\n",
       "      <td>0</td>\n",
       "      <td>1</td>\n",
       "      <td>5</td>\n",
       "      <td>1</td>\n",
       "      <td>1</td>\n",
       "      <td>1</td>\n",
       "      <td>1</td>\n",
       "    </tr>\n",
       "    <tr>\n",
       "      <th>143</th>\n",
       "      <td>12025672</td>\n",
       "      <td>1</td>\n",
       "      <td>1</td>\n",
       "      <td>0</td>\n",
       "      <td>0</td>\n",
       "      <td>15</td>\n",
       "      <td>0</td>\n",
       "      <td>5</td>\n",
       "      <td>1</td>\n",
       "      <td>0</td>\n",
       "      <td>1</td>\n",
       "      <td>2</td>\n",
       "      <td>2</td>\n",
       "    </tr>\n",
       "    <tr>\n",
       "      <th>144</th>\n",
       "      <td>12025672</td>\n",
       "      <td>1</td>\n",
       "      <td>1</td>\n",
       "      <td>1</td>\n",
       "      <td>0</td>\n",
       "      <td>30</td>\n",
       "      <td>0</td>\n",
       "      <td>5</td>\n",
       "      <td>1</td>\n",
       "      <td>0</td>\n",
       "      <td>1</td>\n",
       "      <td>2</td>\n",
       "      <td>2</td>\n",
       "    </tr>\n",
       "    <tr>\n",
       "      <th>145</th>\n",
       "      <td>12025672</td>\n",
       "      <td>1</td>\n",
       "      <td>1</td>\n",
       "      <td>2</td>\n",
       "      <td>0</td>\n",
       "      <td>40</td>\n",
       "      <td>0</td>\n",
       "      <td>5</td>\n",
       "      <td>1</td>\n",
       "      <td>0</td>\n",
       "      <td>1</td>\n",
       "      <td>2</td>\n",
       "      <td>2</td>\n",
       "    </tr>\n",
       "  </tbody>\n",
       "</table>\n",
       "<p>32154 rows × 13 columns</p>\n",
       "</div>"
      ],
      "text/plain": [
       "     match_id  set_id  game_id  point_id home_point away_point  \\\n",
       "0    11998445       3       13         0          1          0   \n",
       "1    11998445       3       13         1          1          1   \n",
       "2    11998445       3       13         2          1          2   \n",
       "3    11998445       3       13         3          1          3   \n",
       "4    11998445       3       13         4          1          4   \n",
       "..        ...     ...      ...       ...        ...        ...   \n",
       "141  12025672       1        2         2         30         15   \n",
       "142  12025672       1        2         3         40         15   \n",
       "143  12025672       1        1         0          0         15   \n",
       "144  12025672       1        1         1          0         30   \n",
       "145  12025672       1        1         2          0         40   \n",
       "\n",
       "     point_description  home_point_type  away_point_type  home_score  \\\n",
       "0                    0                6                5           6   \n",
       "1                    0                5                6           6   \n",
       "2                    0                5                6           6   \n",
       "3                    0                5                1           6   \n",
       "4                    0                5                1           6   \n",
       "..                 ...              ...              ...         ...   \n",
       "141                  2                5                1           1   \n",
       "142                  0                1                5           1   \n",
       "143                  0                5                1           0   \n",
       "144                  0                5                1           0   \n",
       "145                  0                5                1           0   \n",
       "\n",
       "     away_score  serving  scoring  \n",
       "0             7        1        2  \n",
       "1             7        1        2  \n",
       "2             7        1        2  \n",
       "3             7        1        2  \n",
       "4             7        1        2  \n",
       "..          ...      ...      ...  \n",
       "141           1        1        1  \n",
       "142           1        1        1  \n",
       "143           1        2        2  \n",
       "144           1        2        2  \n",
       "145           1        2        2  \n",
       "\n",
       "[32154 rows x 13 columns]"
      ]
     },
     "execution_count": 31,
     "metadata": {},
     "output_type": "execute_result"
    }
   ],
   "source": [
    "result"
   ]
  }
 ],
 "metadata": {
  "kernelspec": {
   "display_name": "base",
   "language": "python",
   "name": "python3"
  },
  "language_info": {
   "codemirror_mode": {
    "name": "ipython",
    "version": 3
   },
   "file_extension": ".py",
   "mimetype": "text/x-python",
   "name": "python",
   "nbconvert_exporter": "python",
   "pygments_lexer": "ipython3",
   "version": "3.12.3"
  }
 },
 "nbformat": 4,
 "nbformat_minor": 5
}
