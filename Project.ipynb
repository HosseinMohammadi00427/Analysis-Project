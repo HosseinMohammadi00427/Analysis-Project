{
 "cells": [
  {
   "cell_type": "code",
   "execution_count": null,
   "id": "f27dcbf6",
   "metadata": {},
   "outputs": [],
   "source": [
    "# Importing necessary files.\n",
    "import numpy as np\n",
    "import pandas as pd\n",
    "import seaborn as sns\n",
    "import glob, os\n",
    "\n",
    "# Added dask to accelerate data handling.\n",
    "import dask.dataframe as dd\n",
    "from dask.diagnostics import ProgressBar\n",
    "import warnings\n",
    "warnings.simplefilter(action='ignore', category=FutureWarning)"
   ]
  },
  {
   "cell_type": "code",
   "execution_count": 2,
   "id": "8f885e42",
   "metadata": {},
   "outputs": [],
   "source": [
    "# Collect all dates in a tuple.\n",
    "dates_tuple = tuple([f'202402'+str(i) if i>=10 else '2024020'+str(i)  for i in range(1,30)] + \n",
    "                    [f'202403'+str(i) if i>=10 else '2024030'+str(i)  for i in range(1,32)])\n",
    "# Define subfolders shorthand.\n",
    "subfolders_dic = {'match':'raw_match_parquet',\n",
    "                  'odds':'raw_odds_parquet',\n",
    "                  'pbp':'raw_point_by_point_parquet',\n",
    "                  'stats':'raw_statistics_parquet',\n",
    "                  'power':'raw_tennis_power_parquet',\n",
    "                  'votes':'raw_votes_parquet'\n",
    "                  }\n",
    "# Define function to render addresses.\n",
    "def render_addresses(subfolder:str, date_arr = None, kind:str = \"\"):\n",
    "    \"\"\"\n",
    "    Function to render addresses.\n",
    "    It takes a subfolder, array of dates and kind of file as inputs.\n",
    "    \"\"\"\n",
    "    result = []\n",
    "    date_arr = dates_tuple if not date_arr else date_arr\n",
    "    if kind:\n",
    "        result = [file for dt in date_arr\n",
    "        for file in glob.glob(f\"Tennis Schema\\\\{dt}\\\\data\\\\raw\\\\{subfolders_dic[subfolder]}\\\\{kind}_[!s]*.parquet\")]\n",
    "    else:\n",
    "        result = [file for dt in date_arr\n",
    "        for file in glob.glob(f\"Tennis Schema\\\\{dt}\\\\data\\\\raw\\\\{subfolders_dic[subfolder]}\\\\*.parquet\")]\n",
    "    return result"
   ]
  },
  {
   "cell_type": "code",
   "execution_count": null,
   "id": "9c52d63c",
   "metadata": {},
   "outputs": [],
   "source": [
    "# How many players are there in the dataset?\n",
    "players_id_df = dd.read_parquet(render_addresses('match', kind='*_team'),columns=['player_id'])"
   ]
  },
  {
   "cell_type": "code",
   "execution_count": 207,
   "id": "bf8e4c58",
   "metadata": {},
   "outputs": [
    {
     "data": {
      "application/vnd.microsoft.datawrangler.viewer.v0+json": {
       "columns": [
        {
         "name": "index",
         "rawType": "int64",
         "type": "integer"
        },
        {
         "name": "player_id",
         "rawType": "int64",
         "type": "integer"
        }
       ],
       "ref": "a4fac212-925a-4b02-bcad-7cf225a37730",
       "rows": [
        [
         "0",
         "192013"
        ],
        [
         "0",
         "273680"
        ],
        [
         "0",
         "77223"
        ],
        [
         "0",
         "88992"
        ],
        [
         "0",
         "248846"
        ],
        [
         "0",
         "163480"
        ],
        [
         "0",
         "67154"
        ],
        [
         "0",
         "163480"
        ],
        [
         "0",
         "264358"
        ],
        [
         "0",
         "66874"
        ],
        [
         "0",
         "80665"
        ],
        [
         "0",
         "58369"
        ],
        [
         "0",
         "233126"
        ],
        [
         "0",
         "299481"
        ],
        [
         "0",
         "387400"
        ],
        [
         "0",
         "79467"
        ],
        [
         "0",
         "233126"
        ],
        [
         "0",
         "52276"
        ],
        [
         "0",
         "251784"
        ],
        [
         "0",
         "77007"
        ],
        [
         "0",
         "71950"
        ],
        [
         "0",
         "36595"
        ],
        [
         "0",
         "255993"
        ],
        [
         "0",
         "210490"
        ],
        [
         "0",
         "386194"
        ],
        [
         "0",
         "235576"
        ],
        [
         "0",
         "62404"
        ],
        [
         "0",
         "300293"
        ],
        [
         "0",
         "47767"
        ],
        [
         "0",
         "255449"
        ],
        [
         "0",
         "55067"
        ],
        [
         "0",
         "51345"
        ],
        [
         "0",
         "209103"
        ],
        [
         "0",
         "51345"
        ],
        [
         "0",
         "196122"
        ],
        [
         "0",
         "377489"
        ],
        [
         "0",
         "69500"
        ],
        [
         "0",
         "163528"
        ],
        [
         "0",
         "315774"
        ],
        [
         "0",
         "298057"
        ],
        [
         "0",
         "144102"
        ],
        [
         "0",
         "76515"
        ],
        [
         "0",
         "45584"
        ],
        [
         "0",
         "318574"
        ],
        [
         "0",
         "19520"
        ],
        [
         "0",
         "52025"
        ],
        [
         "0",
         "45545"
        ],
        [
         "0",
         "67759"
        ],
        [
         "0",
         "264980"
        ],
        [
         "0",
         "50641"
        ]
       ],
       "shape": {
        "columns": 1,
        "rows": 49813
       }
      },
      "text/html": [
       "<div>\n",
       "<style scoped>\n",
       "    .dataframe tbody tr th:only-of-type {\n",
       "        vertical-align: middle;\n",
       "    }\n",
       "\n",
       "    .dataframe tbody tr th {\n",
       "        vertical-align: top;\n",
       "    }\n",
       "\n",
       "    .dataframe thead th {\n",
       "        text-align: right;\n",
       "    }\n",
       "</style>\n",
       "<table border=\"1\" class=\"dataframe\">\n",
       "  <thead>\n",
       "    <tr style=\"text-align: right;\">\n",
       "      <th></th>\n",
       "      <th>player_id</th>\n",
       "    </tr>\n",
       "  </thead>\n",
       "  <tbody>\n",
       "    <tr>\n",
       "      <th>0</th>\n",
       "      <td>192013</td>\n",
       "    </tr>\n",
       "    <tr>\n",
       "      <th>0</th>\n",
       "      <td>273680</td>\n",
       "    </tr>\n",
       "    <tr>\n",
       "      <th>0</th>\n",
       "      <td>77223</td>\n",
       "    </tr>\n",
       "    <tr>\n",
       "      <th>0</th>\n",
       "      <td>88992</td>\n",
       "    </tr>\n",
       "    <tr>\n",
       "      <th>0</th>\n",
       "      <td>248846</td>\n",
       "    </tr>\n",
       "    <tr>\n",
       "      <th>...</th>\n",
       "      <td>...</td>\n",
       "    </tr>\n",
       "    <tr>\n",
       "      <th>0</th>\n",
       "      <td>375214</td>\n",
       "    </tr>\n",
       "    <tr>\n",
       "      <th>0</th>\n",
       "      <td>215205</td>\n",
       "    </tr>\n",
       "    <tr>\n",
       "      <th>0</th>\n",
       "      <td>398073</td>\n",
       "    </tr>\n",
       "    <tr>\n",
       "      <th>0</th>\n",
       "      <td>303293</td>\n",
       "    </tr>\n",
       "    <tr>\n",
       "      <th>0</th>\n",
       "      <td>243670</td>\n",
       "    </tr>\n",
       "  </tbody>\n",
       "</table>\n",
       "<p>49813 rows × 1 columns</p>\n",
       "</div>"
      ],
      "text/plain": [
       "    player_id\n",
       "0      192013\n",
       "0      273680\n",
       "0       77223\n",
       "0       88992\n",
       "0      248846\n",
       "..        ...\n",
       "0      375214\n",
       "0      215205\n",
       "0      398073\n",
       "0      303293\n",
       "0      243670\n",
       "\n",
       "[49813 rows x 1 columns]"
      ]
     },
     "execution_count": 207,
     "metadata": {},
     "output_type": "execute_result"
    }
   ],
   "source": [
    "players_id_df.compute()"
   ]
  },
  {
   "cell_type": "code",
   "execution_count": 217,
   "id": "03fdf222",
   "metadata": {},
   "outputs": [],
   "source": [
    "# The average height of players.\n",
    "players_height_df =dd.read_parquet(render_addresses('match', kind='*_team'),columns=['player_id','height'])"
   ]
  },
  {
   "cell_type": "code",
   "execution_count": 219,
   "id": "070cf908",
   "metadata": {},
   "outputs": [
    {
     "data": {
      "application/vnd.microsoft.datawrangler.viewer.v0+json": {
       "columns": [
        {
         "name": "index",
         "rawType": "int64",
         "type": "integer"
        },
        {
         "name": "player_id",
         "rawType": "int64",
         "type": "integer"
        },
        {
         "name": "height",
         "rawType": "float64",
         "type": "float"
        }
       ],
       "ref": "07d9e0ac-5aa8-4490-880e-c8a6da7bba99",
       "rows": [
        [
         "0",
         "197546",
         "1.85"
        ],
        [
         "0",
         "340741",
         "1.88"
        ],
        [
         "0",
         "17046",
         "1.8"
        ],
        [
         "0",
         "130690",
         null
        ],
        [
         "0",
         "156826",
         "1.85"
        ],
        [
         "0",
         "67322",
         "1.7"
        ],
        [
         "0",
         "318770",
         null
        ],
        [
         "0",
         "188493",
         null
        ],
        [
         "0",
         "377531",
         null
        ],
        [
         "0",
         "196903",
         "1.73"
        ],
        [
         "0",
         "268808",
         null
        ],
        [
         "0",
         "236916",
         null
        ],
        [
         "0",
         "419535",
         null
        ],
        [
         "0",
         "216457",
         null
        ],
        [
         "0",
         "405576",
         null
        ],
        [
         "0",
         "190440",
         null
        ],
        [
         "0",
         "187218",
         "1.83"
        ],
        [
         "0",
         "264982",
         null
        ],
        [
         "0",
         "53789",
         "1.75"
        ],
        [
         "0",
         "277707",
         null
        ],
        [
         "0",
         "96237",
         null
        ],
        [
         "0",
         "407873",
         null
        ],
        [
         "0",
         "411022",
         null
        ],
        [
         "0",
         "396966",
         null
        ],
        [
         "0",
         "166096",
         "1.88"
        ],
        [
         "0",
         "104847",
         "1.91"
        ],
        [
         "0",
         "103913",
         "1.8"
        ],
        [
         "0",
         "384985",
         null
        ],
        [
         "0",
         "37638",
         null
        ],
        [
         "0",
         "128638",
         null
        ],
        [
         "0",
         "207606",
         null
        ],
        [
         "0",
         "138792",
         null
        ],
        [
         "0",
         "275933",
         null
        ],
        [
         "0",
         "280123",
         null
        ],
        [
         "0",
         "51304",
         "1.83"
        ],
        [
         "0",
         "406261",
         null
        ],
        [
         "0",
         "355097",
         "1.83"
        ],
        [
         "0",
         "300296",
         "1.91"
        ],
        [
         "0",
         "401360",
         null
        ],
        [
         "0",
         "215773",
         "1.65"
        ],
        [
         "0",
         "54903",
         "1.91"
        ],
        [
         "0",
         "119496",
         null
        ],
        [
         "0",
         "119118",
         "1.75"
        ],
        [
         "0",
         "138966",
         "1.83"
        ],
        [
         "0",
         "302582",
         "1.88"
        ],
        [
         "0",
         "318257",
         null
        ],
        [
         "0",
         "243878",
         null
        ],
        [
         "0",
         "19704",
         "1.81"
        ],
        [
         "0",
         "289233",
         "1.85"
        ],
        [
         "0",
         "280163",
         null
        ]
       ],
       "shape": {
        "columns": 2,
        "rows": 2644
       }
      },
      "text/html": [
       "<div>\n",
       "<style scoped>\n",
       "    .dataframe tbody tr th:only-of-type {\n",
       "        vertical-align: middle;\n",
       "    }\n",
       "\n",
       "    .dataframe tbody tr th {\n",
       "        vertical-align: top;\n",
       "    }\n",
       "\n",
       "    .dataframe thead th {\n",
       "        text-align: right;\n",
       "    }\n",
       "</style>\n",
       "<table border=\"1\" class=\"dataframe\">\n",
       "  <thead>\n",
       "    <tr style=\"text-align: right;\">\n",
       "      <th></th>\n",
       "      <th>player_id</th>\n",
       "      <th>height</th>\n",
       "    </tr>\n",
       "  </thead>\n",
       "  <tbody>\n",
       "    <tr>\n",
       "      <th>0</th>\n",
       "      <td>197546</td>\n",
       "      <td>1.85</td>\n",
       "    </tr>\n",
       "    <tr>\n",
       "      <th>0</th>\n",
       "      <td>340741</td>\n",
       "      <td>1.88</td>\n",
       "    </tr>\n",
       "    <tr>\n",
       "      <th>0</th>\n",
       "      <td>17046</td>\n",
       "      <td>1.80</td>\n",
       "    </tr>\n",
       "    <tr>\n",
       "      <th>0</th>\n",
       "      <td>130690</td>\n",
       "      <td>NaN</td>\n",
       "    </tr>\n",
       "    <tr>\n",
       "      <th>0</th>\n",
       "      <td>156826</td>\n",
       "      <td>1.85</td>\n",
       "    </tr>\n",
       "    <tr>\n",
       "      <th>...</th>\n",
       "      <td>...</td>\n",
       "      <td>...</td>\n",
       "    </tr>\n",
       "    <tr>\n",
       "      <th>0</th>\n",
       "      <td>46651</td>\n",
       "      <td>1.73</td>\n",
       "    </tr>\n",
       "    <tr>\n",
       "      <th>0</th>\n",
       "      <td>265808</td>\n",
       "      <td>1.75</td>\n",
       "    </tr>\n",
       "    <tr>\n",
       "      <th>0</th>\n",
       "      <td>383458</td>\n",
       "      <td>NaN</td>\n",
       "    </tr>\n",
       "    <tr>\n",
       "      <th>0</th>\n",
       "      <td>383428</td>\n",
       "      <td>NaN</td>\n",
       "    </tr>\n",
       "    <tr>\n",
       "      <th>0</th>\n",
       "      <td>103415</td>\n",
       "      <td>1.80</td>\n",
       "    </tr>\n",
       "  </tbody>\n",
       "</table>\n",
       "<p>2644 rows × 2 columns</p>\n",
       "</div>"
      ],
      "text/plain": [
       "    player_id  height\n",
       "0      197546    1.85\n",
       "0      340741    1.88\n",
       "0       17046    1.80\n",
       "0      130690     NaN\n",
       "0      156826    1.85\n",
       "..        ...     ...\n",
       "0       46651    1.73\n",
       "0      265808    1.75\n",
       "0      383458     NaN\n",
       "0      383428     NaN\n",
       "0      103415    1.80\n",
       "\n",
       "[2644 rows x 2 columns]"
      ]
     },
     "execution_count": 219,
     "metadata": {},
     "output_type": "execute_result"
    }
   ],
   "source": [
    "players_height_df.drop_duplicates(subset='player_id', keep='first').compute()"
   ]
  },
  {
   "cell_type": "code",
   "execution_count": 54,
   "id": "d60dab76",
   "metadata": {},
   "outputs": [],
   "source": [
    "# Extracting the necessary coulumns for the player with highest number of wins.\n",
    "event_addresses = render_addresses('match', date_arr = dates_tuple,kind='event')\n",
    "home_addresses = render_addresses('match', date_arr = dates_tuple, kind='home_team')\n",
    "away_addresses = render_addresses('match', date_arr = dates_tuple, kind='away_team')\n",
    "\n",
    "match_df = dd.read_parquet(event_addresses, columns=['match_id','winner_code'])\n",
    "home_df = dd.read_parquet(home_addresses, columns=['match_id','player_id','full_name'])\n",
    "away_df = dd.read_parquet(away_addresses, columns=['match_id','player_id','full_name'])"
   ]
  },
  {
   "cell_type": "code",
   "execution_count": 61,
   "id": "e28c8bb0",
   "metadata": {},
   "outputs": [
    {
     "name": "stdout",
     "output_type": "stream",
     "text": [
      "[########################################] | 100% Completed | 78.32 s\n"
     ]
    }
   ],
   "source": [
    "# Extracting the results into csv for faster manipulation with pandas.\n",
    "with ProgressBar():\n",
    "    result = away_df.compute()"
   ]
  },
  {
   "cell_type": "code",
   "execution_count": 85,
   "id": "bebb5833",
   "metadata": {},
   "outputs": [],
   "source": [
    "# Opening folders and then dropping duplicates.\n",
    "match_df = pd.read_csv(\"CSVs\\\\3_match_df.csv\")\n",
    "home_df = pd.read_csv(\"CSVs\\\\3_home_df.csv\")\n",
    "away_df = pd.read_csv(\"CSVs\\\\3_away_df.csv\")\n",
    "match_df.drop_duplicates(subset='match_id', inplace=True)\n",
    "home_df.drop_duplicates(subset='match_id', inplace=True)\n",
    "away_df.drop_duplicates(subset='match_id', inplace=True)"
   ]
  },
  {
   "cell_type": "code",
   "execution_count": null,
   "id": "02901395",
   "metadata": {},
   "outputs": [],
   "source": [
    "# Data Wranglign with grouping and filtering.\n",
    "winner_home_df = match_df.query('winner_code == 1').merge(home_df, on='match_id', how='inner')\n",
    "winner_home_df = winner_home_df.drop(columns=['winner_code'])\n",
    "winner_away_df = match_df.query('winner_code == 2').merge(away_df, on='match_id', how='inner')\n",
    "winner_away_df = winner_away_df.drop(columns=['winner_code'])\n",
    "winners_df = pd.concat([winner_home_df,winner_away_df])\n",
    "winners_df = winners_df.dropna().drop_duplicates()\n",
    "winners_df.player_id = winners_df.player_id.astype(int)"
   ]
  },
  {
   "cell_type": "code",
   "execution_count": 97,
   "id": "db260063",
   "metadata": {},
   "outputs": [
    {
     "data": {
      "application/vnd.microsoft.datawrangler.viewer.v0+json": {
       "columns": [
        {
         "name": "player_id",
         "rawType": "int32",
         "type": "integer"
        },
        {
         "name": "matches_won",
         "rawType": "int64",
         "type": "integer"
        },
        {
         "name": "full_name",
         "rawType": "object",
         "type": "string"
        }
       ],
       "ref": "534a0f38-0e38-46c5-8586-c4c551f515a9",
       "rows": [
        [
         "50901",
         "29",
         "Popko, Dmitry"
        ],
        [
         "231620",
         "22",
         "Chidekh, Clement"
        ],
        [
         "202572",
         "21",
         "Gengel, Marek"
        ],
        [
         "230049",
         "21",
         "Jianu, Filip Cristian"
        ],
        [
         "82133",
         "20",
         "Dellien Velasco, Murkel Alejandro"
        ],
        [
         "58369",
         "19",
         "Bolt, Alex"
        ],
        [
         "238867",
         "19",
         "Ovcharenko, Oleksandr"
        ],
        [
         "205282",
         "19",
         "Kužmová, Katarína"
        ],
        [
         "186885",
         "18",
         "Hardt, Nick"
        ],
        [
         "302567",
         "18",
         "Sakellaridis, Stefanos"
        ],
        [
         "338890",
         "18",
         "Merida Aguilar, Daniel"
        ],
        [
         "100093",
         "18",
         "Ferrari, Francesco"
        ],
        [
         "197809",
         "18",
         "Clarke, Jay"
        ],
        [
         "341818",
         "18",
         "Faria, Jaime"
        ],
        [
         "58515",
         "18",
         "Collins, Danielle"
        ],
        [
         "53483",
         "18",
         "Masur, Daniel"
        ],
        [
         "152766",
         "17",
         "Helgo, Malene"
        ],
        [
         "111857",
         "17",
         "Ursu, Vadym"
        ],
        [
         "217447",
         "17",
         "Cekirge, Kuzey"
        ],
        [
         "168420",
         "17",
         "Andrade, Andres"
        ],
        [
         "228272",
         "16",
         "Swiatek, Iga"
        ],
        [
         "250934",
         "16",
         "Sakellaridi, Sapfo"
        ],
        [
         "196122",
         "16",
         "Ugo Carabelli, Camilo"
        ],
        [
         "231597",
         "16",
         "Imamura, Saki"
        ],
        [
         "275105",
         "16",
         "Bouzas Maneiro, Jessica"
        ],
        [
         "52533",
         "16",
         "Jakupovic, Dalila"
        ],
        [
         "16683",
         "16",
         "Kukushkin, Mikhail"
        ],
        [
         "217437",
         "16",
         "Soriano Barrera, Adria"
        ],
        [
         "111149",
         "16",
         "Samir, Sandra"
        ],
        [
         "165866",
         "16",
         "Miyazaki, Yuriko Lily"
        ],
        [
         "229218",
         "15",
         "Virtanen, Otto"
        ],
        [
         "94747",
         "15",
         "Hoang, Antoine"
        ],
        [
         "293708",
         "15",
         "Boisson, Loïs"
        ],
        [
         "337897",
         "15",
         "Crowther, Corban"
        ],
        [
         "108709",
         "15",
         "Majchrzak, Kamil"
        ],
        [
         "69964",
         "15",
         "Estable, Julieta"
        ],
        [
         "276310",
         "15",
         "Zelníčková, Radka"
        ],
        [
         "244423",
         "15",
         "Sato, Naho"
        ],
        [
         "296802",
         "15",
         "Visker, Niels"
        ],
        [
         "51839",
         "15",
         "Alves, Carolina"
        ],
        [
         "165234",
         "15",
         "Vasa, Eero"
        ],
        [
         "207654",
         "15",
         "Tubello, Alice"
        ],
        [
         "221806",
         "15",
         "Baez, Sebastian"
        ],
        [
         "168524",
         "15",
         "Tomescu, Dan Alexandru"
        ],
        [
         "372311",
         "15",
         "Nicod, Jakub"
        ],
        [
         "206570",
         "15",
         "Sinner, Jannik"
        ],
        [
         "217883",
         "15",
         "Decamps, Gabriel"
        ],
        [
         "207575",
         "14",
         "Walton, Adam"
        ],
        [
         "221793",
         "14",
         "Hennemann, Caijsa Wilda"
        ],
        [
         "51309",
         "14",
         "Cid Subervi, Roberto"
        ]
       ],
       "shape": {
        "columns": 2,
        "rows": 2319
       }
      },
      "text/html": [
       "<div>\n",
       "<style scoped>\n",
       "    .dataframe tbody tr th:only-of-type {\n",
       "        vertical-align: middle;\n",
       "    }\n",
       "\n",
       "    .dataframe tbody tr th {\n",
       "        vertical-align: top;\n",
       "    }\n",
       "\n",
       "    .dataframe thead th {\n",
       "        text-align: right;\n",
       "    }\n",
       "</style>\n",
       "<table border=\"1\" class=\"dataframe\">\n",
       "  <thead>\n",
       "    <tr style=\"text-align: right;\">\n",
       "      <th></th>\n",
       "      <th>matches_won</th>\n",
       "      <th>full_name</th>\n",
       "    </tr>\n",
       "    <tr>\n",
       "      <th>player_id</th>\n",
       "      <th></th>\n",
       "      <th></th>\n",
       "    </tr>\n",
       "  </thead>\n",
       "  <tbody>\n",
       "    <tr>\n",
       "      <th>50901</th>\n",
       "      <td>29</td>\n",
       "      <td>Popko, Dmitry</td>\n",
       "    </tr>\n",
       "    <tr>\n",
       "      <th>231620</th>\n",
       "      <td>22</td>\n",
       "      <td>Chidekh, Clement</td>\n",
       "    </tr>\n",
       "    <tr>\n",
       "      <th>202572</th>\n",
       "      <td>21</td>\n",
       "      <td>Gengel, Marek</td>\n",
       "    </tr>\n",
       "    <tr>\n",
       "      <th>230049</th>\n",
       "      <td>21</td>\n",
       "      <td>Jianu, Filip Cristian</td>\n",
       "    </tr>\n",
       "    <tr>\n",
       "      <th>82133</th>\n",
       "      <td>20</td>\n",
       "      <td>Dellien Velasco, Murkel Alejandro</td>\n",
       "    </tr>\n",
       "    <tr>\n",
       "      <th>...</th>\n",
       "      <td>...</td>\n",
       "      <td>...</td>\n",
       "    </tr>\n",
       "    <tr>\n",
       "      <th>175258</th>\n",
       "      <td>1</td>\n",
       "      <td>Benaissa, Amira</td>\n",
       "    </tr>\n",
       "    <tr>\n",
       "      <th>175160</th>\n",
       "      <td>1</td>\n",
       "      <td>Lavino, Irene</td>\n",
       "    </tr>\n",
       "    <tr>\n",
       "      <th>59213</th>\n",
       "      <td>1</td>\n",
       "      <td>Perez Garcia, Maria Paulina</td>\n",
       "    </tr>\n",
       "    <tr>\n",
       "      <th>383459</th>\n",
       "      <td>1</td>\n",
       "      <td>Jang, Gio</td>\n",
       "    </tr>\n",
       "    <tr>\n",
       "      <th>499834</th>\n",
       "      <td>1</td>\n",
       "      <td>Moeller, Elmer</td>\n",
       "    </tr>\n",
       "  </tbody>\n",
       "</table>\n",
       "<p>2319 rows × 2 columns</p>\n",
       "</div>"
      ],
      "text/plain": [
       "           matches_won                          full_name\n",
       "player_id                                                \n",
       "50901               29                      Popko, Dmitry\n",
       "231620              22                   Chidekh, Clement\n",
       "202572              21                      Gengel, Marek\n",
       "230049              21              Jianu, Filip Cristian\n",
       "82133               20  Dellien Velasco, Murkel Alejandro\n",
       "...                ...                                ...\n",
       "175258               1                    Benaissa, Amira\n",
       "175160               1                      Lavino, Irene\n",
       "59213                1        Perez Garcia, Maria Paulina\n",
       "383459               1                          Jang, Gio\n",
       "499834               1                     Moeller, Elmer\n",
       "\n",
       "[2319 rows x 2 columns]"
      ]
     },
     "execution_count": 97,
     "metadata": {},
     "output_type": "execute_result"
    }
   ],
   "source": [
    "winners_df.groupby('player_id').agg({'match_id':'count',\n",
    "                                    'full_name':'min'}).rename(\n",
    "                                    columns={'match_id':'matches_won'}).sort_values(\n",
    "                                    'matches_won',ascending=False)"
   ]
  },
  {
   "cell_type": "code",
   "execution_count": 108,
   "id": "19783f23",
   "metadata": {},
   "outputs": [
    {
     "name": "stdout",
     "output_type": "stream",
     "text": [
      "[########################################] | 100% Completed | 145.17 s\n"
     ]
    }
   ],
   "source": [
    "# Extracting the time results into csv for faster manipulation with pandas.\n",
    "time_df = dd.read_parquet(render_addresses('match', kind='time'))\n",
    "\n",
    "with ProgressBar():\n",
    "    result = time_df.compute()"
   ]
  },
  {
   "cell_type": "code",
   "execution_count": 158,
   "id": "b473d26f",
   "metadata": {},
   "outputs": [
    {
     "data": {
      "application/vnd.microsoft.datawrangler.viewer.v0+json": {
       "columns": [
        {
         "name": "index",
         "rawType": "int64",
         "type": "integer"
        },
        {
         "name": "match_id",
         "rawType": "int64",
         "type": "integer"
        },
        {
         "name": "period_1",
         "rawType": "float64",
         "type": "float"
        },
        {
         "name": "period_2",
         "rawType": "float64",
         "type": "float"
        },
        {
         "name": "period_3",
         "rawType": "float64",
         "type": "float"
        },
        {
         "name": "duration",
         "rawType": "float64",
         "type": "float"
        }
       ],
       "ref": "b91f313a-1222-42be-a6c9-57ef6853e6a8",
       "rows": [
        [
         "5799",
         "12063611",
         "167352.0",
         "169438.0",
         null,
         "5613.17"
        ],
        [
         "5795",
         "12063587",
         "159144.0",
         "161086.0",
         null,
         "5337.17"
        ],
        [
         "30980",
         "12185562",
         "4163.0",
         "84588.0",
         "88380.0",
         "2952.18"
        ],
        [
         "17230",
         "12121829",
         "172605.0",
         "810.0",
         null,
         "2890.25"
        ],
        [
         "3803",
         "12054403",
         "2170.0",
         "80162.0",
         "81551.0",
         "2731.38"
        ],
        [
         "5796",
         "12063588",
         "158918.0",
         "3061.0",
         "1054.0",
         "2717.22"
        ],
        [
         "5793",
         "12063582",
         "157690.0",
         "4654.0",
         null,
         "2705.73"
        ],
        [
         "5797",
         "12063589",
         "159242.0",
         "2155.0",
         "794.0",
         "2703.18"
        ],
        [
         "5800",
         "12063615",
         "158909.0",
         "2897.0",
         null,
         "2696.77"
        ],
        [
         "3791",
         "12053865",
         "76450.0",
         "2620.0",
         "81755.0",
         "2680.42"
        ],
        [
         "5794",
         "12063583",
         "158245.0",
         "2299.0",
         null,
         "2675.73"
        ],
        [
         "24425",
         "12151570",
         "2640.0",
         "78770.0",
         "77023.0",
         "2640.55"
        ],
        [
         "15474",
         "12110886",
         "3275.0",
         "75921.0",
         "77046.0",
         "2604.03"
        ],
        [
         "19971",
         "12130100",
         "5203.0",
         "66023.0",
         "68610.0",
         "2330.6"
        ],
        [
         "7843",
         "12075951",
         "2881.0",
         "130140.0",
         null,
         "2217.02"
        ],
        [
         "22303",
         "12149488",
         "64423.0",
         "63276.0",
         "1126.0",
         "2147.08"
        ],
        [
         "33609",
         "12195781",
         "2542.0",
         "125538.0",
         null,
         "2134.67"
        ],
        [
         "25552",
         "12158261",
         "57969.0",
         "3943.0",
         "65467.0",
         "2122.98"
        ],
        [
         "25554",
         "12158263",
         "4138.0",
         "57883.0",
         "58763.0",
         "2013.07"
        ],
        [
         "23133",
         "12149483",
         "2771.0",
         "83535.0",
         "4220.0",
         "1508.77"
        ],
        [
         "6945",
         "12069269",
         "3769.0",
         "86430.0",
         null,
         "1503.32"
        ],
        [
         "32742",
         "12189039",
         "88279.0",
         "1772.0",
         null,
         "1500.85"
        ],
        [
         "35486",
         "12211566",
         "4333.0",
         "2978.0",
         "81438.0",
         "1479.15"
        ],
        [
         "3799",
         "12054312",
         "86389.0",
         "2069.0",
         null,
         "1474.3"
        ],
        [
         "23132",
         "12149481",
         "1957.0",
         "3066.0",
         "82867.0",
         "1464.83"
        ],
        [
         "20573",
         "12139759",
         "2204.0",
         "85300.0",
         null,
         "1458.4"
        ],
        [
         "3831",
         "12017963",
         "9120.0",
         "1984.0",
         "75136.0",
         "1437.33"
        ],
        [
         "34453",
         "12174397",
         "3017.0",
         "83081.0",
         null,
         "1434.97"
        ],
        [
         "31004",
         "12187030",
         "1504.0",
         "84277.0",
         null,
         "1429.68"
        ],
        [
         "35584",
         "12211950",
         "82640.0",
         "3002.0",
         null,
         "1427.37"
        ],
        [
         "30972",
         "12184920",
         "3322.0",
         "78042.0",
         "3290.0",
         "1410.9"
        ],
        [
         "24427",
         "12151572",
         "4026.0",
         "77764.0",
         null,
         "1363.17"
        ],
        [
         "24485",
         "12152279",
         "2201.0",
         "78894.0",
         null,
         "1351.58"
        ],
        [
         "3800",
         "12054313",
         "1736.0",
         "76899.0",
         "2323.0",
         "1349.3"
        ],
        [
         "20028",
         "12131377",
         "3689.0",
         "76697.0",
         null,
         "1339.77"
        ],
        [
         "15482",
         "12111059",
         "2565.0",
         "76492.0",
         null,
         "1317.62"
        ],
        [
         "19900",
         "12128188",
         "4447.0",
         "74556.0",
         null,
         "1316.72"
        ],
        [
         "19884",
         "12128162",
         "3038.0",
         "75669.0",
         null,
         "1311.78"
        ],
        [
         "18680",
         "12126219",
         "2502.0",
         "3276.0",
         "71637.0",
         "1290.25"
        ],
        [
         "30855",
         "12156313",
         "3864.0",
         "72590.0",
         null,
         "1274.23"
        ],
        [
         "27899",
         "12166947",
         "3700.0",
         "4377.0",
         "67427.0",
         "1258.4"
        ],
        [
         "35278",
         "12209929",
         "2283.0",
         "72585.0",
         null,
         "1247.8"
        ],
        [
         "18461",
         "12121604",
         "2096.0",
         "72126.0",
         null,
         "1237.03"
        ],
        [
         "18681",
         "12126220",
         "2213.0",
         "71632.0",
         null,
         "1230.75"
        ],
        [
         "19998",
         "12130295",
         "4462.0",
         "65561.0",
         "3491.0",
         "1225.23"
        ],
        [
         "15597",
         "12088090",
         "2178.0",
         "70319.0",
         null,
         "1208.28"
        ],
        [
         "29125",
         "12171982",
         "2553.0",
         "11593.0",
         "58093.0",
         "1203.98"
        ],
        [
         "7696",
         "12074772",
         "4557.0",
         "4546.0",
         "62914.0",
         "1200.28"
        ],
        [
         "22308",
         "12149621",
         "5056.0",
         "64993.0",
         "1302.0",
         "1189.18"
        ],
        [
         "15878",
         "12111692",
         "6973.0",
         "63911.0",
         null,
         "1181.4"
        ]
       ],
       "shape": {
        "columns": 5,
        "rows": 10327
       }
      },
      "text/html": [
       "<div>\n",
       "<style scoped>\n",
       "    .dataframe tbody tr th:only-of-type {\n",
       "        vertical-align: middle;\n",
       "    }\n",
       "\n",
       "    .dataframe tbody tr th {\n",
       "        vertical-align: top;\n",
       "    }\n",
       "\n",
       "    .dataframe thead th {\n",
       "        text-align: right;\n",
       "    }\n",
       "</style>\n",
       "<table border=\"1\" class=\"dataframe\">\n",
       "  <thead>\n",
       "    <tr style=\"text-align: right;\">\n",
       "      <th></th>\n",
       "      <th>match_id</th>\n",
       "      <th>period_1</th>\n",
       "      <th>period_2</th>\n",
       "      <th>period_3</th>\n",
       "      <th>duration</th>\n",
       "    </tr>\n",
       "  </thead>\n",
       "  <tbody>\n",
       "    <tr>\n",
       "      <th>5799</th>\n",
       "      <td>12063611</td>\n",
       "      <td>167352.0</td>\n",
       "      <td>169438.0</td>\n",
       "      <td>NaN</td>\n",
       "      <td>5613.17</td>\n",
       "    </tr>\n",
       "    <tr>\n",
       "      <th>5795</th>\n",
       "      <td>12063587</td>\n",
       "      <td>159144.0</td>\n",
       "      <td>161086.0</td>\n",
       "      <td>NaN</td>\n",
       "      <td>5337.17</td>\n",
       "    </tr>\n",
       "    <tr>\n",
       "      <th>30980</th>\n",
       "      <td>12185562</td>\n",
       "      <td>4163.0</td>\n",
       "      <td>84588.0</td>\n",
       "      <td>88380.0</td>\n",
       "      <td>2952.18</td>\n",
       "    </tr>\n",
       "    <tr>\n",
       "      <th>17230</th>\n",
       "      <td>12121829</td>\n",
       "      <td>172605.0</td>\n",
       "      <td>810.0</td>\n",
       "      <td>NaN</td>\n",
       "      <td>2890.25</td>\n",
       "    </tr>\n",
       "    <tr>\n",
       "      <th>3803</th>\n",
       "      <td>12054403</td>\n",
       "      <td>2170.0</td>\n",
       "      <td>80162.0</td>\n",
       "      <td>81551.0</td>\n",
       "      <td>2731.38</td>\n",
       "    </tr>\n",
       "    <tr>\n",
       "      <th>...</th>\n",
       "      <td>...</td>\n",
       "      <td>...</td>\n",
       "      <td>...</td>\n",
       "      <td>...</td>\n",
       "      <td>...</td>\n",
       "    </tr>\n",
       "    <tr>\n",
       "      <th>1026</th>\n",
       "      <td>12039701</td>\n",
       "      <td>77.0</td>\n",
       "      <td>26.0</td>\n",
       "      <td>NaN</td>\n",
       "      <td>1.72</td>\n",
       "    </tr>\n",
       "    <tr>\n",
       "      <th>35668</th>\n",
       "      <td>12213484</td>\n",
       "      <td>3.0</td>\n",
       "      <td>5.0</td>\n",
       "      <td>NaN</td>\n",
       "      <td>0.13</td>\n",
       "    </tr>\n",
       "    <tr>\n",
       "      <th>6344</th>\n",
       "      <td>12064959</td>\n",
       "      <td>2.0</td>\n",
       "      <td>6.0</td>\n",
       "      <td>NaN</td>\n",
       "      <td>0.13</td>\n",
       "    </tr>\n",
       "    <tr>\n",
       "      <th>5853</th>\n",
       "      <td>12063889</td>\n",
       "      <td>4.0</td>\n",
       "      <td>4.0</td>\n",
       "      <td>NaN</td>\n",
       "      <td>0.13</td>\n",
       "    </tr>\n",
       "    <tr>\n",
       "      <th>6398</th>\n",
       "      <td>12066016</td>\n",
       "      <td>2.0</td>\n",
       "      <td>3.0</td>\n",
       "      <td>NaN</td>\n",
       "      <td>0.08</td>\n",
       "    </tr>\n",
       "  </tbody>\n",
       "</table>\n",
       "<p>10327 rows × 5 columns</p>\n",
       "</div>"
      ],
      "text/plain": [
       "       match_id  period_1  period_2  period_3  duration\n",
       "5799   12063611  167352.0  169438.0       NaN   5613.17\n",
       "5795   12063587  159144.0  161086.0       NaN   5337.17\n",
       "30980  12185562    4163.0   84588.0   88380.0   2952.18\n",
       "17230  12121829  172605.0     810.0       NaN   2890.25\n",
       "3803   12054403    2170.0   80162.0   81551.0   2731.38\n",
       "...         ...       ...       ...       ...       ...\n",
       "1026   12039701      77.0      26.0       NaN      1.72\n",
       "35668  12213484       3.0       5.0       NaN      0.13\n",
       "6344   12064959       2.0       6.0       NaN      0.13\n",
       "5853   12063889       4.0       4.0       NaN      0.13\n",
       "6398   12066016       2.0       3.0       NaN      0.08\n",
       "\n",
       "[10327 rows x 5 columns]"
      ]
     },
     "execution_count": 158,
     "metadata": {},
     "output_type": "execute_result"
    }
   ],
   "source": [
    "time_df = pd.read_csv(\"CSVs\\\\4_time_df.csv\")\n",
    "time_df.drop_duplicates(subset='match_id', inplace=True)\n",
    "time_df.dropna(subset=['period_1'], inplace=True)\n",
    "time_df.drop(columns=['period_4','period_5','current_period_start_timestamp'], inplace=True)\n",
    "time_df['duration'] = time_df[['period_1', 'period_2', 'period_3']].sum(axis=1, skipna=True).div(60).round(2)\n",
    "time_df.sort_values(by=['duration'],ascending=False)"
   ]
  },
  {
   "cell_type": "code",
   "execution_count": 146,
   "id": "f92045a7",
   "metadata": {},
   "outputs": [
    {
     "name": "stdout",
     "output_type": "stream",
     "text": [
      "[########################################] | 100% Completed | 170.04 s\n"
     ]
    }
   ],
   "source": [
    "with ProgressBar():\n",
    "    res = dd.read_parquet(render_addresses('match', kind='event')).compute()"
   ]
  },
  {
   "cell_type": "code",
   "execution_count": 163,
   "id": "df8f1dcd",
   "metadata": {},
   "outputs": [
    {
     "data": {
      "application/vnd.microsoft.datawrangler.viewer.v0+json": {
       "columns": [
        {
         "name": "index",
         "rawType": "int64",
         "type": "integer"
        },
        {
         "name": "match_id",
         "rawType": "int64",
         "type": "integer"
        },
        {
         "name": "first_to_serve",
         "rawType": "object",
         "type": "unknown"
        },
        {
         "name": "home_team_seed",
         "rawType": "string",
         "type": "string"
        },
        {
         "name": "away_team_seed",
         "rawType": "string",
         "type": "string"
        },
        {
         "name": "custom_id",
         "rawType": "string",
         "type": "string"
        },
        {
         "name": "winner_code",
         "rawType": "object",
         "type": "unknown"
        },
        {
         "name": "default_period_count",
         "rawType": "int64",
         "type": "integer"
        },
        {
         "name": "start_datetime",
         "rawType": "int64",
         "type": "integer"
        },
        {
         "name": "match_slug",
         "rawType": "string",
         "type": "string"
        },
        {
         "name": "final_result_only",
         "rawType": "bool",
         "type": "boolean"
        }
       ],
       "ref": "c6608e1a-7cc2-4ff6-92c3-8b44a2393fe9",
       "rows": [
        [
         "0",
         "12177252",
         "1",
         null,
         null,
         "kLysfnxc",
         "1",
         "3",
         "1711017000",
         "beckley-caruso",
         "False"
        ],
        [
         "0",
         "12177252",
         "1",
         null,
         null,
         "kLysfnxc",
         "1",
         "3",
         "1711017000",
         "beckley-caruso",
         "False"
        ],
        [
         "0",
         "12177252",
         "1",
         null,
         null,
         "kLysfnxc",
         "1",
         "3",
         "1711017000",
         "beckley-caruso",
         "False"
        ]
       ],
       "shape": {
        "columns": 10,
        "rows": 3
       }
      },
      "text/html": [
       "<div>\n",
       "<style scoped>\n",
       "    .dataframe tbody tr th:only-of-type {\n",
       "        vertical-align: middle;\n",
       "    }\n",
       "\n",
       "    .dataframe tbody tr th {\n",
       "        vertical-align: top;\n",
       "    }\n",
       "\n",
       "    .dataframe thead th {\n",
       "        text-align: right;\n",
       "    }\n",
       "</style>\n",
       "<table border=\"1\" class=\"dataframe\">\n",
       "  <thead>\n",
       "    <tr style=\"text-align: right;\">\n",
       "      <th></th>\n",
       "      <th>match_id</th>\n",
       "      <th>first_to_serve</th>\n",
       "      <th>home_team_seed</th>\n",
       "      <th>away_team_seed</th>\n",
       "      <th>custom_id</th>\n",
       "      <th>winner_code</th>\n",
       "      <th>default_period_count</th>\n",
       "      <th>start_datetime</th>\n",
       "      <th>match_slug</th>\n",
       "      <th>final_result_only</th>\n",
       "    </tr>\n",
       "  </thead>\n",
       "  <tbody>\n",
       "    <tr>\n",
       "      <th>0</th>\n",
       "      <td>12177252</td>\n",
       "      <td>1</td>\n",
       "      <td>&lt;NA&gt;</td>\n",
       "      <td>&lt;NA&gt;</td>\n",
       "      <td>kLysfnxc</td>\n",
       "      <td>1</td>\n",
       "      <td>3</td>\n",
       "      <td>1711017000</td>\n",
       "      <td>beckley-caruso</td>\n",
       "      <td>False</td>\n",
       "    </tr>\n",
       "    <tr>\n",
       "      <th>0</th>\n",
       "      <td>12177252</td>\n",
       "      <td>1</td>\n",
       "      <td>&lt;NA&gt;</td>\n",
       "      <td>&lt;NA&gt;</td>\n",
       "      <td>kLysfnxc</td>\n",
       "      <td>1</td>\n",
       "      <td>3</td>\n",
       "      <td>1711017000</td>\n",
       "      <td>beckley-caruso</td>\n",
       "      <td>False</td>\n",
       "    </tr>\n",
       "    <tr>\n",
       "      <th>0</th>\n",
       "      <td>12177252</td>\n",
       "      <td>1</td>\n",
       "      <td>&lt;NA&gt;</td>\n",
       "      <td>&lt;NA&gt;</td>\n",
       "      <td>kLysfnxc</td>\n",
       "      <td>1</td>\n",
       "      <td>3</td>\n",
       "      <td>1711017000</td>\n",
       "      <td>beckley-caruso</td>\n",
       "      <td>False</td>\n",
       "    </tr>\n",
       "  </tbody>\n",
       "</table>\n",
       "</div>"
      ],
      "text/plain": [
       "   match_id first_to_serve home_team_seed away_team_seed custom_id  \\\n",
       "0  12177252              1           <NA>           <NA>  kLysfnxc   \n",
       "0  12177252              1           <NA>           <NA>  kLysfnxc   \n",
       "0  12177252              1           <NA>           <NA>  kLysfnxc   \n",
       "\n",
       "  winner_code  default_period_count  start_datetime      match_slug  \\\n",
       "0           1                     3      1711017000  beckley-caruso   \n",
       "0           1                     3      1711017000  beckley-caruso   \n",
       "0           1                     3      1711017000  beckley-caruso   \n",
       "\n",
       "   final_result_only  \n",
       "0              False  \n",
       "0              False  \n",
       "0              False  "
      ]
     },
     "execution_count": 163,
     "metadata": {},
     "output_type": "execute_result"
    }
   ],
   "source": [
    "# Data entry might be wrong!\n",
    "# Look at https://www.sofascore.com/fr/tennis/match/o-gavrila-carolina-alves/OLvsnbR\n",
    "res[res.match_id == 12177252]"
   ]
  }
 ],
 "metadata": {
  "kernelspec": {
   "display_name": "base",
   "language": "python",
   "name": "python3"
  },
  "language_info": {
   "codemirror_mode": {
    "name": "ipython",
    "version": 3
   },
   "file_extension": ".py",
   "mimetype": "text/x-python",
   "name": "python",
   "nbconvert_exporter": "python",
   "pygments_lexer": "ipython3",
   "version": "3.12.3"
  }
 },
 "nbformat": 4,
 "nbformat_minor": 5
}
